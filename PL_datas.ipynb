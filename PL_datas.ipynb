{
  "nbformat": 4,
  "nbformat_minor": 0,
  "metadata": {
    "colab": {
      "name": "PL_datas.ipynb",
      "provenance": [],
      "collapsed_sections": [],
      "include_colab_link": true
    },
    "kernelspec": {
      "name": "python3",
      "display_name": "Python 3"
    },
    "accelerator": "GPU",
    "widgets": {
      "application/vnd.jupyter.widget-state+json": {
        "40268cdf0aed4d15a25510e5ce31098f": {
          "model_module": "@jupyter-widgets/controls",
          "model_name": "HBoxModel",
          "state": {
            "_view_name": "HBoxView",
            "_dom_classes": [],
            "_model_name": "HBoxModel",
            "_view_module": "@jupyter-widgets/controls",
            "_model_module_version": "1.5.0",
            "_view_count": null,
            "_view_module_version": "1.5.0",
            "box_style": "",
            "layout": "IPY_MODEL_f0d22c46a57640cdb5fff9d15e62a019",
            "_model_module": "@jupyter-widgets/controls",
            "children": [
              "IPY_MODEL_f7f86dbba47d49baab1b489554bcf5ca",
              "IPY_MODEL_7be42abcb2d1429fb748d6accfb933fb"
            ]
          }
        },
        "f0d22c46a57640cdb5fff9d15e62a019": {
          "model_module": "@jupyter-widgets/base",
          "model_name": "LayoutModel",
          "state": {
            "_view_name": "LayoutView",
            "grid_template_rows": null,
            "right": null,
            "justify_content": null,
            "_view_module": "@jupyter-widgets/base",
            "overflow": null,
            "_model_module_version": "1.2.0",
            "_view_count": null,
            "flex_flow": null,
            "width": null,
            "min_width": null,
            "border": null,
            "align_items": null,
            "bottom": null,
            "_model_module": "@jupyter-widgets/base",
            "top": null,
            "grid_column": null,
            "overflow_y": null,
            "overflow_x": null,
            "grid_auto_flow": null,
            "grid_area": null,
            "grid_template_columns": null,
            "flex": null,
            "_model_name": "LayoutModel",
            "justify_items": null,
            "grid_row": null,
            "max_height": null,
            "align_content": null,
            "visibility": null,
            "align_self": null,
            "height": null,
            "min_height": null,
            "padding": null,
            "grid_auto_rows": null,
            "grid_gap": null,
            "max_width": null,
            "order": null,
            "_view_module_version": "1.2.0",
            "grid_template_areas": null,
            "object_position": null,
            "object_fit": null,
            "grid_auto_columns": null,
            "margin": null,
            "display": null,
            "left": null
          }
        },
        "f7f86dbba47d49baab1b489554bcf5ca": {
          "model_module": "@jupyter-widgets/controls",
          "model_name": "FloatProgressModel",
          "state": {
            "_view_name": "ProgressView",
            "style": "IPY_MODEL_4e90cec0b9fb4819b80f3215c89fb955",
            "_dom_classes": [],
            "description": "Downloading: 100%",
            "_model_name": "FloatProgressModel",
            "bar_style": "success",
            "max": 791656,
            "_view_module": "@jupyter-widgets/controls",
            "_model_module_version": "1.5.0",
            "value": 791656,
            "_view_count": null,
            "_view_module_version": "1.5.0",
            "orientation": "horizontal",
            "min": 0,
            "description_tooltip": null,
            "_model_module": "@jupyter-widgets/controls",
            "layout": "IPY_MODEL_4dc89ad6caaa4abfa95fed07f08e144c"
          }
        },
        "7be42abcb2d1429fb748d6accfb933fb": {
          "model_module": "@jupyter-widgets/controls",
          "model_name": "HTMLModel",
          "state": {
            "_view_name": "HTMLView",
            "style": "IPY_MODEL_3ad9c73b4f934124a63155d333e1f6cf",
            "_dom_classes": [],
            "description": "",
            "_model_name": "HTMLModel",
            "placeholder": "​",
            "_view_module": "@jupyter-widgets/controls",
            "_model_module_version": "1.5.0",
            "value": " 792k/792k [00:01&lt;00:00, 555kB/s]",
            "_view_count": null,
            "_view_module_version": "1.5.0",
            "description_tooltip": null,
            "_model_module": "@jupyter-widgets/controls",
            "layout": "IPY_MODEL_ebc65397d29c482096606fd8b4727b9a"
          }
        },
        "4e90cec0b9fb4819b80f3215c89fb955": {
          "model_module": "@jupyter-widgets/controls",
          "model_name": "ProgressStyleModel",
          "state": {
            "_view_name": "StyleView",
            "_model_name": "ProgressStyleModel",
            "description_width": "initial",
            "_view_module": "@jupyter-widgets/base",
            "_model_module_version": "1.5.0",
            "_view_count": null,
            "_view_module_version": "1.2.0",
            "bar_color": null,
            "_model_module": "@jupyter-widgets/controls"
          }
        },
        "4dc89ad6caaa4abfa95fed07f08e144c": {
          "model_module": "@jupyter-widgets/base",
          "model_name": "LayoutModel",
          "state": {
            "_view_name": "LayoutView",
            "grid_template_rows": null,
            "right": null,
            "justify_content": null,
            "_view_module": "@jupyter-widgets/base",
            "overflow": null,
            "_model_module_version": "1.2.0",
            "_view_count": null,
            "flex_flow": null,
            "width": null,
            "min_width": null,
            "border": null,
            "align_items": null,
            "bottom": null,
            "_model_module": "@jupyter-widgets/base",
            "top": null,
            "grid_column": null,
            "overflow_y": null,
            "overflow_x": null,
            "grid_auto_flow": null,
            "grid_area": null,
            "grid_template_columns": null,
            "flex": null,
            "_model_name": "LayoutModel",
            "justify_items": null,
            "grid_row": null,
            "max_height": null,
            "align_content": null,
            "visibility": null,
            "align_self": null,
            "height": null,
            "min_height": null,
            "padding": null,
            "grid_auto_rows": null,
            "grid_gap": null,
            "max_width": null,
            "order": null,
            "_view_module_version": "1.2.0",
            "grid_template_areas": null,
            "object_position": null,
            "object_fit": null,
            "grid_auto_columns": null,
            "margin": null,
            "display": null,
            "left": null
          }
        },
        "3ad9c73b4f934124a63155d333e1f6cf": {
          "model_module": "@jupyter-widgets/controls",
          "model_name": "DescriptionStyleModel",
          "state": {
            "_view_name": "StyleView",
            "_model_name": "DescriptionStyleModel",
            "description_width": "",
            "_view_module": "@jupyter-widgets/base",
            "_model_module_version": "1.5.0",
            "_view_count": null,
            "_view_module_version": "1.2.0",
            "_model_module": "@jupyter-widgets/controls"
          }
        },
        "ebc65397d29c482096606fd8b4727b9a": {
          "model_module": "@jupyter-widgets/base",
          "model_name": "LayoutModel",
          "state": {
            "_view_name": "LayoutView",
            "grid_template_rows": null,
            "right": null,
            "justify_content": null,
            "_view_module": "@jupyter-widgets/base",
            "overflow": null,
            "_model_module_version": "1.2.0",
            "_view_count": null,
            "flex_flow": null,
            "width": null,
            "min_width": null,
            "border": null,
            "align_items": null,
            "bottom": null,
            "_model_module": "@jupyter-widgets/base",
            "top": null,
            "grid_column": null,
            "overflow_y": null,
            "overflow_x": null,
            "grid_auto_flow": null,
            "grid_area": null,
            "grid_template_columns": null,
            "flex": null,
            "_model_name": "LayoutModel",
            "justify_items": null,
            "grid_row": null,
            "max_height": null,
            "align_content": null,
            "visibility": null,
            "align_self": null,
            "height": null,
            "min_height": null,
            "padding": null,
            "grid_auto_rows": null,
            "grid_gap": null,
            "max_width": null,
            "order": null,
            "_view_module_version": "1.2.0",
            "grid_template_areas": null,
            "object_position": null,
            "object_fit": null,
            "grid_auto_columns": null,
            "margin": null,
            "display": null,
            "left": null
          }
        },
        "ce688c6119774254b546ec501294b052": {
          "model_module": "@jupyter-widgets/controls",
          "model_name": "HBoxModel",
          "state": {
            "_view_name": "HBoxView",
            "_dom_classes": [],
            "_model_name": "HBoxModel",
            "_view_module": "@jupyter-widgets/controls",
            "_model_module_version": "1.5.0",
            "_view_count": null,
            "_view_module_version": "1.5.0",
            "box_style": "",
            "layout": "IPY_MODEL_8aff44868e344f639199fab906a2ce72",
            "_model_module": "@jupyter-widgets/controls",
            "children": [
              "IPY_MODEL_7584c0bfec3b43d0b22ba973c71c0e4b",
              "IPY_MODEL_5b99b7fe2fcb44bf8c5cedf7251f7952"
            ]
          }
        },
        "8aff44868e344f639199fab906a2ce72": {
          "model_module": "@jupyter-widgets/base",
          "model_name": "LayoutModel",
          "state": {
            "_view_name": "LayoutView",
            "grid_template_rows": null,
            "right": null,
            "justify_content": null,
            "_view_module": "@jupyter-widgets/base",
            "overflow": null,
            "_model_module_version": "1.2.0",
            "_view_count": null,
            "flex_flow": null,
            "width": null,
            "min_width": null,
            "border": null,
            "align_items": null,
            "bottom": null,
            "_model_module": "@jupyter-widgets/base",
            "top": null,
            "grid_column": null,
            "overflow_y": null,
            "overflow_x": null,
            "grid_auto_flow": null,
            "grid_area": null,
            "grid_template_columns": null,
            "flex": null,
            "_model_name": "LayoutModel",
            "justify_items": null,
            "grid_row": null,
            "max_height": null,
            "align_content": null,
            "visibility": null,
            "align_self": null,
            "height": null,
            "min_height": null,
            "padding": null,
            "grid_auto_rows": null,
            "grid_gap": null,
            "max_width": null,
            "order": null,
            "_view_module_version": "1.2.0",
            "grid_template_areas": null,
            "object_position": null,
            "object_fit": null,
            "grid_auto_columns": null,
            "margin": null,
            "display": null,
            "left": null
          }
        },
        "7584c0bfec3b43d0b22ba973c71c0e4b": {
          "model_module": "@jupyter-widgets/controls",
          "model_name": "FloatProgressModel",
          "state": {
            "_view_name": "ProgressView",
            "style": "IPY_MODEL_2cc2a1edc2fa407d90820d8b9152df28",
            "_dom_classes": [],
            "description": "Downloading: 100%",
            "_model_name": "FloatProgressModel",
            "bar_style": "success",
            "max": 1197,
            "_view_module": "@jupyter-widgets/controls",
            "_model_module_version": "1.5.0",
            "value": 1197,
            "_view_count": null,
            "_view_module_version": "1.5.0",
            "orientation": "horizontal",
            "min": 0,
            "description_tooltip": null,
            "_model_module": "@jupyter-widgets/controls",
            "layout": "IPY_MODEL_557a947f694c45f1a1c8382ab08cd42d"
          }
        },
        "5b99b7fe2fcb44bf8c5cedf7251f7952": {
          "model_module": "@jupyter-widgets/controls",
          "model_name": "HTMLModel",
          "state": {
            "_view_name": "HTMLView",
            "style": "IPY_MODEL_b69fe0f4e9e24222b6d3de5ad0b27c8c",
            "_dom_classes": [],
            "description": "",
            "_model_name": "HTMLModel",
            "placeholder": "​",
            "_view_module": "@jupyter-widgets/controls",
            "_model_module_version": "1.5.0",
            "value": " 1.20k/1.20k [00:06&lt;00:00, 196B/s]",
            "_view_count": null,
            "_view_module_version": "1.5.0",
            "description_tooltip": null,
            "_model_module": "@jupyter-widgets/controls",
            "layout": "IPY_MODEL_1ad18311b78f4f6e9ec0cdc846934d60"
          }
        },
        "2cc2a1edc2fa407d90820d8b9152df28": {
          "model_module": "@jupyter-widgets/controls",
          "model_name": "ProgressStyleModel",
          "state": {
            "_view_name": "StyleView",
            "_model_name": "ProgressStyleModel",
            "description_width": "initial",
            "_view_module": "@jupyter-widgets/base",
            "_model_module_version": "1.5.0",
            "_view_count": null,
            "_view_module_version": "1.2.0",
            "bar_color": null,
            "_model_module": "@jupyter-widgets/controls"
          }
        },
        "557a947f694c45f1a1c8382ab08cd42d": {
          "model_module": "@jupyter-widgets/base",
          "model_name": "LayoutModel",
          "state": {
            "_view_name": "LayoutView",
            "grid_template_rows": null,
            "right": null,
            "justify_content": null,
            "_view_module": "@jupyter-widgets/base",
            "overflow": null,
            "_model_module_version": "1.2.0",
            "_view_count": null,
            "flex_flow": null,
            "width": null,
            "min_width": null,
            "border": null,
            "align_items": null,
            "bottom": null,
            "_model_module": "@jupyter-widgets/base",
            "top": null,
            "grid_column": null,
            "overflow_y": null,
            "overflow_x": null,
            "grid_auto_flow": null,
            "grid_area": null,
            "grid_template_columns": null,
            "flex": null,
            "_model_name": "LayoutModel",
            "justify_items": null,
            "grid_row": null,
            "max_height": null,
            "align_content": null,
            "visibility": null,
            "align_self": null,
            "height": null,
            "min_height": null,
            "padding": null,
            "grid_auto_rows": null,
            "grid_gap": null,
            "max_width": null,
            "order": null,
            "_view_module_version": "1.2.0",
            "grid_template_areas": null,
            "object_position": null,
            "object_fit": null,
            "grid_auto_columns": null,
            "margin": null,
            "display": null,
            "left": null
          }
        },
        "b69fe0f4e9e24222b6d3de5ad0b27c8c": {
          "model_module": "@jupyter-widgets/controls",
          "model_name": "DescriptionStyleModel",
          "state": {
            "_view_name": "StyleView",
            "_model_name": "DescriptionStyleModel",
            "description_width": "",
            "_view_module": "@jupyter-widgets/base",
            "_model_module_version": "1.5.0",
            "_view_count": null,
            "_view_module_version": "1.2.0",
            "_model_module": "@jupyter-widgets/controls"
          }
        },
        "1ad18311b78f4f6e9ec0cdc846934d60": {
          "model_module": "@jupyter-widgets/base",
          "model_name": "LayoutModel",
          "state": {
            "_view_name": "LayoutView",
            "grid_template_rows": null,
            "right": null,
            "justify_content": null,
            "_view_module": "@jupyter-widgets/base",
            "overflow": null,
            "_model_module_version": "1.2.0",
            "_view_count": null,
            "flex_flow": null,
            "width": null,
            "min_width": null,
            "border": null,
            "align_items": null,
            "bottom": null,
            "_model_module": "@jupyter-widgets/base",
            "top": null,
            "grid_column": null,
            "overflow_y": null,
            "overflow_x": null,
            "grid_auto_flow": null,
            "grid_area": null,
            "grid_template_columns": null,
            "flex": null,
            "_model_name": "LayoutModel",
            "justify_items": null,
            "grid_row": null,
            "max_height": null,
            "align_content": null,
            "visibility": null,
            "align_self": null,
            "height": null,
            "min_height": null,
            "padding": null,
            "grid_auto_rows": null,
            "grid_gap": null,
            "max_width": null,
            "order": null,
            "_view_module_version": "1.2.0",
            "grid_template_areas": null,
            "object_position": null,
            "object_fit": null,
            "grid_auto_columns": null,
            "margin": null,
            "display": null,
            "left": null
          }
        },
        "5f99c4a9d0d6416d92f60c8981e7a79e": {
          "model_module": "@jupyter-widgets/controls",
          "model_name": "HBoxModel",
          "state": {
            "_view_name": "HBoxView",
            "_dom_classes": [],
            "_model_name": "HBoxModel",
            "_view_module": "@jupyter-widgets/controls",
            "_model_module_version": "1.5.0",
            "_view_count": null,
            "_view_module_version": "1.5.0",
            "box_style": "",
            "layout": "IPY_MODEL_e96be4b603a646ab9752ec786ba87ede",
            "_model_module": "@jupyter-widgets/controls",
            "children": [
              "IPY_MODEL_4f30681489864212a53e3fccedc6425b",
              "IPY_MODEL_69c52265e9434eb5acb242fbb39c7fa3"
            ]
          }
        },
        "e96be4b603a646ab9752ec786ba87ede": {
          "model_module": "@jupyter-widgets/base",
          "model_name": "LayoutModel",
          "state": {
            "_view_name": "LayoutView",
            "grid_template_rows": null,
            "right": null,
            "justify_content": null,
            "_view_module": "@jupyter-widgets/base",
            "overflow": null,
            "_model_module_version": "1.2.0",
            "_view_count": null,
            "flex_flow": null,
            "width": null,
            "min_width": null,
            "border": null,
            "align_items": null,
            "bottom": null,
            "_model_module": "@jupyter-widgets/base",
            "top": null,
            "grid_column": null,
            "overflow_y": null,
            "overflow_x": null,
            "grid_auto_flow": null,
            "grid_area": null,
            "grid_template_columns": null,
            "flex": null,
            "_model_name": "LayoutModel",
            "justify_items": null,
            "grid_row": null,
            "max_height": null,
            "align_content": null,
            "visibility": null,
            "align_self": null,
            "height": null,
            "min_height": null,
            "padding": null,
            "grid_auto_rows": null,
            "grid_gap": null,
            "max_width": null,
            "order": null,
            "_view_module_version": "1.2.0",
            "grid_template_areas": null,
            "object_position": null,
            "object_fit": null,
            "grid_auto_columns": null,
            "margin": null,
            "display": null,
            "left": null
          }
        },
        "4f30681489864212a53e3fccedc6425b": {
          "model_module": "@jupyter-widgets/controls",
          "model_name": "FloatProgressModel",
          "state": {
            "_view_name": "ProgressView",
            "style": "IPY_MODEL_ddbde2f6a9314684a7b8d1b0ecd3f4c6",
            "_dom_classes": [],
            "description": "Downloading: 100%",
            "_model_name": "FloatProgressModel",
            "bar_style": "success",
            "max": 242136741,
            "_view_module": "@jupyter-widgets/controls",
            "_model_module_version": "1.5.0",
            "value": 242136741,
            "_view_count": null,
            "_view_module_version": "1.5.0",
            "orientation": "horizontal",
            "min": 0,
            "description_tooltip": null,
            "_model_module": "@jupyter-widgets/controls",
            "layout": "IPY_MODEL_ef544371dbb643c1afc65266225c8d39"
          }
        },
        "69c52265e9434eb5acb242fbb39c7fa3": {
          "model_module": "@jupyter-widgets/controls",
          "model_name": "HTMLModel",
          "state": {
            "_view_name": "HTMLView",
            "style": "IPY_MODEL_6dc4d55c6dcc4bef9f38e3fa0f825a7f",
            "_dom_classes": [],
            "description": "",
            "_model_name": "HTMLModel",
            "placeholder": "​",
            "_view_module": "@jupyter-widgets/controls",
            "_model_module_version": "1.5.0",
            "value": " 242M/242M [00:05&lt;00:00, 43.7MB/s]",
            "_view_count": null,
            "_view_module_version": "1.5.0",
            "description_tooltip": null,
            "_model_module": "@jupyter-widgets/controls",
            "layout": "IPY_MODEL_89b37a6f24e942faa9b41e3e5742be99"
          }
        },
        "ddbde2f6a9314684a7b8d1b0ecd3f4c6": {
          "model_module": "@jupyter-widgets/controls",
          "model_name": "ProgressStyleModel",
          "state": {
            "_view_name": "StyleView",
            "_model_name": "ProgressStyleModel",
            "description_width": "initial",
            "_view_module": "@jupyter-widgets/base",
            "_model_module_version": "1.5.0",
            "_view_count": null,
            "_view_module_version": "1.2.0",
            "bar_color": null,
            "_model_module": "@jupyter-widgets/controls"
          }
        },
        "ef544371dbb643c1afc65266225c8d39": {
          "model_module": "@jupyter-widgets/base",
          "model_name": "LayoutModel",
          "state": {
            "_view_name": "LayoutView",
            "grid_template_rows": null,
            "right": null,
            "justify_content": null,
            "_view_module": "@jupyter-widgets/base",
            "overflow": null,
            "_model_module_version": "1.2.0",
            "_view_count": null,
            "flex_flow": null,
            "width": null,
            "min_width": null,
            "border": null,
            "align_items": null,
            "bottom": null,
            "_model_module": "@jupyter-widgets/base",
            "top": null,
            "grid_column": null,
            "overflow_y": null,
            "overflow_x": null,
            "grid_auto_flow": null,
            "grid_area": null,
            "grid_template_columns": null,
            "flex": null,
            "_model_name": "LayoutModel",
            "justify_items": null,
            "grid_row": null,
            "max_height": null,
            "align_content": null,
            "visibility": null,
            "align_self": null,
            "height": null,
            "min_height": null,
            "padding": null,
            "grid_auto_rows": null,
            "grid_gap": null,
            "max_width": null,
            "order": null,
            "_view_module_version": "1.2.0",
            "grid_template_areas": null,
            "object_position": null,
            "object_fit": null,
            "grid_auto_columns": null,
            "margin": null,
            "display": null,
            "left": null
          }
        },
        "6dc4d55c6dcc4bef9f38e3fa0f825a7f": {
          "model_module": "@jupyter-widgets/controls",
          "model_name": "DescriptionStyleModel",
          "state": {
            "_view_name": "StyleView",
            "_model_name": "DescriptionStyleModel",
            "description_width": "",
            "_view_module": "@jupyter-widgets/base",
            "_model_module_version": "1.5.0",
            "_view_count": null,
            "_view_module_version": "1.2.0",
            "_model_module": "@jupyter-widgets/controls"
          }
        },
        "89b37a6f24e942faa9b41e3e5742be99": {
          "model_module": "@jupyter-widgets/base",
          "model_name": "LayoutModel",
          "state": {
            "_view_name": "LayoutView",
            "grid_template_rows": null,
            "right": null,
            "justify_content": null,
            "_view_module": "@jupyter-widgets/base",
            "overflow": null,
            "_model_module_version": "1.2.0",
            "_view_count": null,
            "flex_flow": null,
            "width": null,
            "min_width": null,
            "border": null,
            "align_items": null,
            "bottom": null,
            "_model_module": "@jupyter-widgets/base",
            "top": null,
            "grid_column": null,
            "overflow_y": null,
            "overflow_x": null,
            "grid_auto_flow": null,
            "grid_area": null,
            "grid_template_columns": null,
            "flex": null,
            "_model_name": "LayoutModel",
            "justify_items": null,
            "grid_row": null,
            "max_height": null,
            "align_content": null,
            "visibility": null,
            "align_self": null,
            "height": null,
            "min_height": null,
            "padding": null,
            "grid_auto_rows": null,
            "grid_gap": null,
            "max_width": null,
            "order": null,
            "_view_module_version": "1.2.0",
            "grid_template_areas": null,
            "object_position": null,
            "object_fit": null,
            "grid_auto_columns": null,
            "margin": null,
            "display": null,
            "left": null
          }
        },
        "5c0e29e0b6d64f6c98e960647dec1773": {
          "model_module": "@jupyter-widgets/controls",
          "model_name": "HBoxModel",
          "state": {
            "_view_name": "HBoxView",
            "_dom_classes": [],
            "_model_name": "HBoxModel",
            "_view_module": "@jupyter-widgets/controls",
            "_model_module_version": "1.5.0",
            "_view_count": null,
            "_view_module_version": "1.5.0",
            "box_style": "",
            "layout": "IPY_MODEL_3f97b727fca34fcb92af591fae474ba2",
            "_model_module": "@jupyter-widgets/controls",
            "children": [
              "IPY_MODEL_78ffbbc4411c4d4eb42236b600917f77",
              "IPY_MODEL_3dceab6915d24f93a76b059efd6485bf"
            ]
          }
        },
        "3f97b727fca34fcb92af591fae474ba2": {
          "model_module": "@jupyter-widgets/base",
          "model_name": "LayoutModel",
          "state": {
            "_view_name": "LayoutView",
            "grid_template_rows": null,
            "right": null,
            "justify_content": null,
            "_view_module": "@jupyter-widgets/base",
            "overflow": null,
            "_model_module_version": "1.2.0",
            "_view_count": null,
            "flex_flow": "row wrap",
            "width": "100%",
            "min_width": null,
            "border": null,
            "align_items": null,
            "bottom": null,
            "_model_module": "@jupyter-widgets/base",
            "top": null,
            "grid_column": null,
            "overflow_y": null,
            "overflow_x": null,
            "grid_auto_flow": null,
            "grid_area": null,
            "grid_template_columns": null,
            "flex": null,
            "_model_name": "LayoutModel",
            "justify_items": null,
            "grid_row": null,
            "max_height": null,
            "align_content": null,
            "visibility": null,
            "align_self": null,
            "height": null,
            "min_height": null,
            "padding": null,
            "grid_auto_rows": null,
            "grid_gap": null,
            "max_width": null,
            "order": null,
            "_view_module_version": "1.2.0",
            "grid_template_areas": null,
            "object_position": null,
            "object_fit": null,
            "grid_auto_columns": null,
            "margin": null,
            "display": "inline-flex",
            "left": null
          }
        },
        "78ffbbc4411c4d4eb42236b600917f77": {
          "model_module": "@jupyter-widgets/controls",
          "model_name": "FloatProgressModel",
          "state": {
            "_view_name": "ProgressView",
            "style": "IPY_MODEL_f78e9b791e4b4658a0583cb5625e2bf1",
            "_dom_classes": [],
            "description": "Epoch 1:   0%",
            "_model_name": "FloatProgressModel",
            "bar_style": "danger",
            "max": 2,
            "_view_module": "@jupyter-widgets/controls",
            "_model_module_version": "1.5.0",
            "value": 0,
            "_view_count": null,
            "_view_module_version": "1.5.0",
            "orientation": "horizontal",
            "min": 0,
            "description_tooltip": null,
            "_model_module": "@jupyter-widgets/controls",
            "layout": "IPY_MODEL_86160e56a2ad48928919ff56a9062b05"
          }
        },
        "3dceab6915d24f93a76b059efd6485bf": {
          "model_module": "@jupyter-widgets/controls",
          "model_name": "HTMLModel",
          "state": {
            "_view_name": "HTMLView",
            "style": "IPY_MODEL_5e39c4f2551a42f497c90b0a7e8bedc8",
            "_dom_classes": [],
            "description": "",
            "_model_name": "HTMLModel",
            "placeholder": "​",
            "_view_module": "@jupyter-widgets/controls",
            "_model_module_version": "1.5.0",
            "value": " 0/2 [00:08&lt;?, ?it/s, loss=10.426, v_num=0]",
            "_view_count": null,
            "_view_module_version": "1.5.0",
            "description_tooltip": null,
            "_model_module": "@jupyter-widgets/controls",
            "layout": "IPY_MODEL_b205997436d34c3bb471c3223c219ad3"
          }
        },
        "f78e9b791e4b4658a0583cb5625e2bf1": {
          "model_module": "@jupyter-widgets/controls",
          "model_name": "ProgressStyleModel",
          "state": {
            "_view_name": "StyleView",
            "_model_name": "ProgressStyleModel",
            "description_width": "initial",
            "_view_module": "@jupyter-widgets/base",
            "_model_module_version": "1.5.0",
            "_view_count": null,
            "_view_module_version": "1.2.0",
            "bar_color": null,
            "_model_module": "@jupyter-widgets/controls"
          }
        },
        "86160e56a2ad48928919ff56a9062b05": {
          "model_module": "@jupyter-widgets/base",
          "model_name": "LayoutModel",
          "state": {
            "_view_name": "LayoutView",
            "grid_template_rows": null,
            "right": null,
            "justify_content": null,
            "_view_module": "@jupyter-widgets/base",
            "overflow": null,
            "_model_module_version": "1.2.0",
            "_view_count": null,
            "flex_flow": null,
            "width": null,
            "min_width": null,
            "border": null,
            "align_items": null,
            "bottom": null,
            "_model_module": "@jupyter-widgets/base",
            "top": null,
            "grid_column": null,
            "overflow_y": null,
            "overflow_x": null,
            "grid_auto_flow": null,
            "grid_area": null,
            "grid_template_columns": null,
            "flex": "2",
            "_model_name": "LayoutModel",
            "justify_items": null,
            "grid_row": null,
            "max_height": null,
            "align_content": null,
            "visibility": null,
            "align_self": null,
            "height": null,
            "min_height": null,
            "padding": null,
            "grid_auto_rows": null,
            "grid_gap": null,
            "max_width": null,
            "order": null,
            "_view_module_version": "1.2.0",
            "grid_template_areas": null,
            "object_position": null,
            "object_fit": null,
            "grid_auto_columns": null,
            "margin": null,
            "display": null,
            "left": null
          }
        },
        "5e39c4f2551a42f497c90b0a7e8bedc8": {
          "model_module": "@jupyter-widgets/controls",
          "model_name": "DescriptionStyleModel",
          "state": {
            "_view_name": "StyleView",
            "_model_name": "DescriptionStyleModel",
            "description_width": "",
            "_view_module": "@jupyter-widgets/base",
            "_model_module_version": "1.5.0",
            "_view_count": null,
            "_view_module_version": "1.2.0",
            "_model_module": "@jupyter-widgets/controls"
          }
        },
        "b205997436d34c3bb471c3223c219ad3": {
          "model_module": "@jupyter-widgets/base",
          "model_name": "LayoutModel",
          "state": {
            "_view_name": "LayoutView",
            "grid_template_rows": null,
            "right": null,
            "justify_content": null,
            "_view_module": "@jupyter-widgets/base",
            "overflow": null,
            "_model_module_version": "1.2.0",
            "_view_count": null,
            "flex_flow": null,
            "width": null,
            "min_width": null,
            "border": null,
            "align_items": null,
            "bottom": null,
            "_model_module": "@jupyter-widgets/base",
            "top": null,
            "grid_column": null,
            "overflow_y": null,
            "overflow_x": null,
            "grid_auto_flow": null,
            "grid_area": null,
            "grid_template_columns": null,
            "flex": null,
            "_model_name": "LayoutModel",
            "justify_items": null,
            "grid_row": null,
            "max_height": null,
            "align_content": null,
            "visibility": null,
            "align_self": null,
            "height": null,
            "min_height": null,
            "padding": null,
            "grid_auto_rows": null,
            "grid_gap": null,
            "max_width": null,
            "order": null,
            "_view_module_version": "1.2.0",
            "grid_template_areas": null,
            "object_position": null,
            "object_fit": null,
            "grid_auto_columns": null,
            "margin": null,
            "display": null,
            "left": null
          }
        },
        "3b6d01d70fe94c3693c581787c9a7d21": {
          "model_module": "@jupyter-widgets/controls",
          "model_name": "HBoxModel",
          "state": {
            "_view_name": "HBoxView",
            "_dom_classes": [],
            "_model_name": "HBoxModel",
            "_view_module": "@jupyter-widgets/controls",
            "_model_module_version": "1.5.0",
            "_view_count": null,
            "_view_module_version": "1.5.0",
            "box_style": "",
            "layout": "IPY_MODEL_746e05cf9a1e4acdacf3ac91dd133ab8",
            "_model_module": "@jupyter-widgets/controls",
            "children": [
              "IPY_MODEL_1c24e03c2f60470e9dfabe18ff2ea5b6",
              "IPY_MODEL_80d380cffb494dc196e4c9d97ad1acb9"
            ]
          }
        },
        "746e05cf9a1e4acdacf3ac91dd133ab8": {
          "model_module": "@jupyter-widgets/base",
          "model_name": "LayoutModel",
          "state": {
            "_view_name": "LayoutView",
            "grid_template_rows": null,
            "right": null,
            "justify_content": null,
            "_view_module": "@jupyter-widgets/base",
            "overflow": null,
            "_model_module_version": "1.2.0",
            "_view_count": null,
            "flex_flow": "row wrap",
            "width": "100%",
            "min_width": null,
            "border": null,
            "align_items": null,
            "bottom": null,
            "_model_module": "@jupyter-widgets/base",
            "top": null,
            "grid_column": null,
            "overflow_y": null,
            "overflow_x": null,
            "grid_auto_flow": null,
            "grid_area": null,
            "grid_template_columns": null,
            "flex": null,
            "_model_name": "LayoutModel",
            "justify_items": null,
            "grid_row": null,
            "max_height": null,
            "align_content": null,
            "visibility": null,
            "align_self": null,
            "height": null,
            "min_height": null,
            "padding": null,
            "grid_auto_rows": null,
            "grid_gap": null,
            "max_width": null,
            "order": null,
            "_view_module_version": "1.2.0",
            "grid_template_areas": null,
            "object_position": null,
            "object_fit": null,
            "grid_auto_columns": null,
            "margin": null,
            "display": "inline-flex",
            "left": null
          }
        },
        "1c24e03c2f60470e9dfabe18ff2ea5b6": {
          "model_module": "@jupyter-widgets/controls",
          "model_name": "FloatProgressModel",
          "state": {
            "_view_name": "ProgressView",
            "style": "IPY_MODEL_974431cdab36455eba7d4e1f5c4cd3cf",
            "_dom_classes": [],
            "description": "Validating:   0%",
            "_model_name": "FloatProgressModel",
            "bar_style": "danger",
            "max": 1,
            "_view_module": "@jupyter-widgets/controls",
            "_model_module_version": "1.5.0",
            "value": 0,
            "_view_count": null,
            "_view_module_version": "1.5.0",
            "orientation": "horizontal",
            "min": 0,
            "description_tooltip": null,
            "_model_module": "@jupyter-widgets/controls",
            "layout": "IPY_MODEL_470f1e9f3fee4dcabf4dea87482a152e"
          }
        },
        "80d380cffb494dc196e4c9d97ad1acb9": {
          "model_module": "@jupyter-widgets/controls",
          "model_name": "HTMLModel",
          "state": {
            "_view_name": "HTMLView",
            "style": "IPY_MODEL_d8da54f1f2654262bb68f5081645341d",
            "_dom_classes": [],
            "description": "",
            "_model_name": "HTMLModel",
            "placeholder": "​",
            "_view_module": "@jupyter-widgets/controls",
            "_model_module_version": "1.5.0",
            "value": " 0/1 [00:07&lt;?, ?it/s]",
            "_view_count": null,
            "_view_module_version": "1.5.0",
            "description_tooltip": null,
            "_model_module": "@jupyter-widgets/controls",
            "layout": "IPY_MODEL_7700123923614a93a1db7f9e96bbcf0f"
          }
        },
        "974431cdab36455eba7d4e1f5c4cd3cf": {
          "model_module": "@jupyter-widgets/controls",
          "model_name": "ProgressStyleModel",
          "state": {
            "_view_name": "StyleView",
            "_model_name": "ProgressStyleModel",
            "description_width": "initial",
            "_view_module": "@jupyter-widgets/base",
            "_model_module_version": "1.5.0",
            "_view_count": null,
            "_view_module_version": "1.2.0",
            "bar_color": null,
            "_model_module": "@jupyter-widgets/controls"
          }
        },
        "470f1e9f3fee4dcabf4dea87482a152e": {
          "model_module": "@jupyter-widgets/base",
          "model_name": "LayoutModel",
          "state": {
            "_view_name": "LayoutView",
            "grid_template_rows": null,
            "right": null,
            "justify_content": null,
            "_view_module": "@jupyter-widgets/base",
            "overflow": null,
            "_model_module_version": "1.2.0",
            "_view_count": null,
            "flex_flow": null,
            "width": null,
            "min_width": null,
            "border": null,
            "align_items": null,
            "bottom": null,
            "_model_module": "@jupyter-widgets/base",
            "top": null,
            "grid_column": null,
            "overflow_y": null,
            "overflow_x": null,
            "grid_auto_flow": null,
            "grid_area": null,
            "grid_template_columns": null,
            "flex": "2",
            "_model_name": "LayoutModel",
            "justify_items": null,
            "grid_row": null,
            "max_height": null,
            "align_content": null,
            "visibility": null,
            "align_self": null,
            "height": null,
            "min_height": null,
            "padding": null,
            "grid_auto_rows": null,
            "grid_gap": null,
            "max_width": null,
            "order": null,
            "_view_module_version": "1.2.0",
            "grid_template_areas": null,
            "object_position": null,
            "object_fit": null,
            "grid_auto_columns": null,
            "margin": null,
            "display": null,
            "left": null
          }
        },
        "d8da54f1f2654262bb68f5081645341d": {
          "model_module": "@jupyter-widgets/controls",
          "model_name": "DescriptionStyleModel",
          "state": {
            "_view_name": "StyleView",
            "_model_name": "DescriptionStyleModel",
            "description_width": "",
            "_view_module": "@jupyter-widgets/base",
            "_model_module_version": "1.5.0",
            "_view_count": null,
            "_view_module_version": "1.2.0",
            "_model_module": "@jupyter-widgets/controls"
          }
        },
        "7700123923614a93a1db7f9e96bbcf0f": {
          "model_module": "@jupyter-widgets/base",
          "model_name": "LayoutModel",
          "state": {
            "_view_name": "LayoutView",
            "grid_template_rows": null,
            "right": null,
            "justify_content": null,
            "_view_module": "@jupyter-widgets/base",
            "overflow": null,
            "_model_module_version": "1.2.0",
            "_view_count": null,
            "flex_flow": null,
            "width": null,
            "min_width": null,
            "border": null,
            "align_items": null,
            "bottom": null,
            "_model_module": "@jupyter-widgets/base",
            "top": null,
            "grid_column": null,
            "overflow_y": null,
            "overflow_x": null,
            "grid_auto_flow": null,
            "grid_area": null,
            "grid_template_columns": null,
            "flex": null,
            "_model_name": "LayoutModel",
            "justify_items": null,
            "grid_row": null,
            "max_height": null,
            "align_content": null,
            "visibility": null,
            "align_self": null,
            "height": null,
            "min_height": null,
            "padding": null,
            "grid_auto_rows": null,
            "grid_gap": null,
            "max_width": null,
            "order": null,
            "_view_module_version": "1.2.0",
            "grid_template_areas": null,
            "object_position": null,
            "object_fit": null,
            "grid_auto_columns": null,
            "margin": null,
            "display": null,
            "left": null
          }
        },
        "82166461819f45c0853cc262139baf26": {
          "model_module": "@jupyter-widgets/controls",
          "model_name": "HBoxModel",
          "state": {
            "_view_name": "HBoxView",
            "_dom_classes": [],
            "_model_name": "HBoxModel",
            "_view_module": "@jupyter-widgets/controls",
            "_model_module_version": "1.5.0",
            "_view_count": null,
            "_view_module_version": "1.5.0",
            "box_style": "",
            "layout": "IPY_MODEL_018adb08d8f9440e973ec45921076025",
            "_model_module": "@jupyter-widgets/controls",
            "children": [
              "IPY_MODEL_2b9f26f0181f45689981490a6d73b0c0",
              "IPY_MODEL_acd9f3c9e8af45a1aa9c10af34f2455d"
            ]
          }
        },
        "018adb08d8f9440e973ec45921076025": {
          "model_module": "@jupyter-widgets/base",
          "model_name": "LayoutModel",
          "state": {
            "_view_name": "LayoutView",
            "grid_template_rows": null,
            "right": null,
            "justify_content": null,
            "_view_module": "@jupyter-widgets/base",
            "overflow": null,
            "_model_module_version": "1.2.0",
            "_view_count": null,
            "flex_flow": "row wrap",
            "width": "100%",
            "min_width": null,
            "border": null,
            "align_items": null,
            "bottom": null,
            "_model_module": "@jupyter-widgets/base",
            "top": null,
            "grid_column": null,
            "overflow_y": null,
            "overflow_x": null,
            "grid_auto_flow": null,
            "grid_area": null,
            "grid_template_columns": null,
            "flex": null,
            "_model_name": "LayoutModel",
            "justify_items": null,
            "grid_row": null,
            "max_height": null,
            "align_content": null,
            "visibility": null,
            "align_self": null,
            "height": null,
            "min_height": null,
            "padding": null,
            "grid_auto_rows": null,
            "grid_gap": null,
            "max_width": null,
            "order": null,
            "_view_module_version": "1.2.0",
            "grid_template_areas": null,
            "object_position": null,
            "object_fit": null,
            "grid_auto_columns": null,
            "margin": null,
            "display": "inline-flex",
            "left": null
          }
        },
        "2b9f26f0181f45689981490a6d73b0c0": {
          "model_module": "@jupyter-widgets/controls",
          "model_name": "FloatProgressModel",
          "state": {
            "_view_name": "ProgressView",
            "style": "IPY_MODEL_2cef8b88d9b7450a96277ee3cdaf8acd",
            "_dom_classes": [],
            "description": "Validation sanity check:   0%",
            "_model_name": "FloatProgressModel",
            "bar_style": "danger",
            "max": 1,
            "_view_module": "@jupyter-widgets/controls",
            "_model_module_version": "1.5.0",
            "value": 0,
            "_view_count": null,
            "_view_module_version": "1.5.0",
            "orientation": "horizontal",
            "min": 0,
            "description_tooltip": null,
            "_model_module": "@jupyter-widgets/controls",
            "layout": "IPY_MODEL_fbe308301ee6491bbc6b31b9c8edb474"
          }
        },
        "acd9f3c9e8af45a1aa9c10af34f2455d": {
          "model_module": "@jupyter-widgets/controls",
          "model_name": "HTMLModel",
          "state": {
            "_view_name": "HTMLView",
            "style": "IPY_MODEL_d06874121ade437680121b8391de77e8",
            "_dom_classes": [],
            "description": "",
            "_model_name": "HTMLModel",
            "placeholder": "​",
            "_view_module": "@jupyter-widgets/controls",
            "_model_module_version": "1.5.0",
            "value": " 0/2 [00:00&lt;?, ?it/s]",
            "_view_count": null,
            "_view_module_version": "1.5.0",
            "description_tooltip": null,
            "_model_module": "@jupyter-widgets/controls",
            "layout": "IPY_MODEL_c46ea333e8ce4ed0b84f0a15f26fcded"
          }
        },
        "2cef8b88d9b7450a96277ee3cdaf8acd": {
          "model_module": "@jupyter-widgets/controls",
          "model_name": "ProgressStyleModel",
          "state": {
            "_view_name": "StyleView",
            "_model_name": "ProgressStyleModel",
            "description_width": "initial",
            "_view_module": "@jupyter-widgets/base",
            "_model_module_version": "1.5.0",
            "_view_count": null,
            "_view_module_version": "1.2.0",
            "bar_color": null,
            "_model_module": "@jupyter-widgets/controls"
          }
        },
        "fbe308301ee6491bbc6b31b9c8edb474": {
          "model_module": "@jupyter-widgets/base",
          "model_name": "LayoutModel",
          "state": {
            "_view_name": "LayoutView",
            "grid_template_rows": null,
            "right": null,
            "justify_content": null,
            "_view_module": "@jupyter-widgets/base",
            "overflow": null,
            "_model_module_version": "1.2.0",
            "_view_count": null,
            "flex_flow": null,
            "width": null,
            "min_width": null,
            "border": null,
            "align_items": null,
            "bottom": null,
            "_model_module": "@jupyter-widgets/base",
            "top": null,
            "grid_column": null,
            "overflow_y": null,
            "overflow_x": null,
            "grid_auto_flow": null,
            "grid_area": null,
            "grid_template_columns": null,
            "flex": "2",
            "_model_name": "LayoutModel",
            "justify_items": null,
            "grid_row": null,
            "max_height": null,
            "align_content": null,
            "visibility": null,
            "align_self": null,
            "height": null,
            "min_height": null,
            "padding": null,
            "grid_auto_rows": null,
            "grid_gap": null,
            "max_width": null,
            "order": null,
            "_view_module_version": "1.2.0",
            "grid_template_areas": null,
            "object_position": null,
            "object_fit": null,
            "grid_auto_columns": null,
            "margin": null,
            "display": null,
            "left": null
          }
        },
        "d06874121ade437680121b8391de77e8": {
          "model_module": "@jupyter-widgets/controls",
          "model_name": "DescriptionStyleModel",
          "state": {
            "_view_name": "StyleView",
            "_model_name": "DescriptionStyleModel",
            "description_width": "",
            "_view_module": "@jupyter-widgets/base",
            "_model_module_version": "1.5.0",
            "_view_count": null,
            "_view_module_version": "1.2.0",
            "_model_module": "@jupyter-widgets/controls"
          }
        },
        "c46ea333e8ce4ed0b84f0a15f26fcded": {
          "model_module": "@jupyter-widgets/base",
          "model_name": "LayoutModel",
          "state": {
            "_view_name": "LayoutView",
            "grid_template_rows": null,
            "right": null,
            "justify_content": null,
            "_view_module": "@jupyter-widgets/base",
            "overflow": null,
            "_model_module_version": "1.2.0",
            "_view_count": null,
            "flex_flow": null,
            "width": null,
            "min_width": null,
            "border": null,
            "align_items": null,
            "bottom": null,
            "_model_module": "@jupyter-widgets/base",
            "top": null,
            "grid_column": null,
            "overflow_y": null,
            "overflow_x": null,
            "grid_auto_flow": null,
            "grid_area": null,
            "grid_template_columns": null,
            "flex": null,
            "_model_name": "LayoutModel",
            "justify_items": null,
            "grid_row": null,
            "max_height": null,
            "align_content": null,
            "visibility": null,
            "align_self": null,
            "height": null,
            "min_height": null,
            "padding": null,
            "grid_auto_rows": null,
            "grid_gap": null,
            "max_width": null,
            "order": null,
            "_view_module_version": "1.2.0",
            "grid_template_areas": null,
            "object_position": null,
            "object_fit": null,
            "grid_auto_columns": null,
            "margin": null,
            "display": null,
            "left": null
          }
        },
        "17fa6d5e9abd42d990d2fca4d9713310": {
          "model_module": "@jupyter-widgets/controls",
          "model_name": "HBoxModel",
          "state": {
            "_view_name": "HBoxView",
            "_dom_classes": [],
            "_model_name": "HBoxModel",
            "_view_module": "@jupyter-widgets/controls",
            "_model_module_version": "1.5.0",
            "_view_count": null,
            "_view_module_version": "1.5.0",
            "box_style": "",
            "layout": "IPY_MODEL_15faa294ee924dbc8b30a6f39e617c38",
            "_model_module": "@jupyter-widgets/controls",
            "children": [
              "IPY_MODEL_d1c855a81ff845c79f1f5aa58ce00f64",
              "IPY_MODEL_e9f0ba780302444d97eb47ec3a15de8c"
            ]
          }
        },
        "15faa294ee924dbc8b30a6f39e617c38": {
          "model_module": "@jupyter-widgets/base",
          "model_name": "LayoutModel",
          "state": {
            "_view_name": "LayoutView",
            "grid_template_rows": null,
            "right": null,
            "justify_content": null,
            "_view_module": "@jupyter-widgets/base",
            "overflow": null,
            "_model_module_version": "1.2.0",
            "_view_count": null,
            "flex_flow": "row wrap",
            "width": "100%",
            "min_width": null,
            "border": null,
            "align_items": null,
            "bottom": null,
            "_model_module": "@jupyter-widgets/base",
            "top": null,
            "grid_column": null,
            "overflow_y": null,
            "overflow_x": null,
            "grid_auto_flow": null,
            "grid_area": null,
            "grid_template_columns": null,
            "flex": null,
            "_model_name": "LayoutModel",
            "justify_items": null,
            "grid_row": null,
            "max_height": null,
            "align_content": null,
            "visibility": null,
            "align_self": null,
            "height": null,
            "min_height": null,
            "padding": null,
            "grid_auto_rows": null,
            "grid_gap": null,
            "max_width": null,
            "order": null,
            "_view_module_version": "1.2.0",
            "grid_template_areas": null,
            "object_position": null,
            "object_fit": null,
            "grid_auto_columns": null,
            "margin": null,
            "display": "inline-flex",
            "left": null
          }
        },
        "d1c855a81ff845c79f1f5aa58ce00f64": {
          "model_module": "@jupyter-widgets/controls",
          "model_name": "FloatProgressModel",
          "state": {
            "_view_name": "ProgressView",
            "style": "IPY_MODEL_ae41842804a240c4a5a6c0cc4e35252d",
            "_dom_classes": [],
            "description": "Epoch 3:  99%",
            "_model_name": "FloatProgressModel",
            "bar_style": "danger",
            "max": 4447,
            "_view_module": "@jupyter-widgets/controls",
            "_model_module_version": "1.5.0",
            "value": 4400,
            "_view_count": null,
            "_view_module_version": "1.5.0",
            "orientation": "horizontal",
            "min": 0,
            "description_tooltip": null,
            "_model_module": "@jupyter-widgets/controls",
            "layout": "IPY_MODEL_f30b15721bb841aa8643238beee39bb4"
          }
        },
        "e9f0ba780302444d97eb47ec3a15de8c": {
          "model_module": "@jupyter-widgets/controls",
          "model_name": "HTMLModel",
          "state": {
            "_view_name": "HTMLView",
            "style": "IPY_MODEL_2516f2e0110b4d68bd82d3b69f54c0ed",
            "_dom_classes": [],
            "description": "",
            "_model_name": "HTMLModel",
            "placeholder": "​",
            "_view_module": "@jupyter-widgets/controls",
            "_model_module_version": "1.5.0",
            "value": " 4400/4447 [11:50&lt;00:07,  6.19it/s, loss=0.003, v_num=1]",
            "_view_count": null,
            "_view_module_version": "1.5.0",
            "description_tooltip": null,
            "_model_module": "@jupyter-widgets/controls",
            "layout": "IPY_MODEL_d2518bee593a41459fd7b499c26af93d"
          }
        },
        "ae41842804a240c4a5a6c0cc4e35252d": {
          "model_module": "@jupyter-widgets/controls",
          "model_name": "ProgressStyleModel",
          "state": {
            "_view_name": "StyleView",
            "_model_name": "ProgressStyleModel",
            "description_width": "initial",
            "_view_module": "@jupyter-widgets/base",
            "_model_module_version": "1.5.0",
            "_view_count": null,
            "_view_module_version": "1.2.0",
            "bar_color": null,
            "_model_module": "@jupyter-widgets/controls"
          }
        },
        "f30b15721bb841aa8643238beee39bb4": {
          "model_module": "@jupyter-widgets/base",
          "model_name": "LayoutModel",
          "state": {
            "_view_name": "LayoutView",
            "grid_template_rows": null,
            "right": null,
            "justify_content": null,
            "_view_module": "@jupyter-widgets/base",
            "overflow": null,
            "_model_module_version": "1.2.0",
            "_view_count": null,
            "flex_flow": null,
            "width": null,
            "min_width": null,
            "border": null,
            "align_items": null,
            "bottom": null,
            "_model_module": "@jupyter-widgets/base",
            "top": null,
            "grid_column": null,
            "overflow_y": null,
            "overflow_x": null,
            "grid_auto_flow": null,
            "grid_area": null,
            "grid_template_columns": null,
            "flex": "2",
            "_model_name": "LayoutModel",
            "justify_items": null,
            "grid_row": null,
            "max_height": null,
            "align_content": null,
            "visibility": null,
            "align_self": null,
            "height": null,
            "min_height": null,
            "padding": null,
            "grid_auto_rows": null,
            "grid_gap": null,
            "max_width": null,
            "order": null,
            "_view_module_version": "1.2.0",
            "grid_template_areas": null,
            "object_position": null,
            "object_fit": null,
            "grid_auto_columns": null,
            "margin": null,
            "display": null,
            "left": null
          }
        },
        "2516f2e0110b4d68bd82d3b69f54c0ed": {
          "model_module": "@jupyter-widgets/controls",
          "model_name": "DescriptionStyleModel",
          "state": {
            "_view_name": "StyleView",
            "_model_name": "DescriptionStyleModel",
            "description_width": "",
            "_view_module": "@jupyter-widgets/base",
            "_model_module_version": "1.5.0",
            "_view_count": null,
            "_view_module_version": "1.2.0",
            "_model_module": "@jupyter-widgets/controls"
          }
        },
        "d2518bee593a41459fd7b499c26af93d": {
          "model_module": "@jupyter-widgets/base",
          "model_name": "LayoutModel",
          "state": {
            "_view_name": "LayoutView",
            "grid_template_rows": null,
            "right": null,
            "justify_content": null,
            "_view_module": "@jupyter-widgets/base",
            "overflow": null,
            "_model_module_version": "1.2.0",
            "_view_count": null,
            "flex_flow": null,
            "width": null,
            "min_width": null,
            "border": null,
            "align_items": null,
            "bottom": null,
            "_model_module": "@jupyter-widgets/base",
            "top": null,
            "grid_column": null,
            "overflow_y": null,
            "overflow_x": null,
            "grid_auto_flow": null,
            "grid_area": null,
            "grid_template_columns": null,
            "flex": null,
            "_model_name": "LayoutModel",
            "justify_items": null,
            "grid_row": null,
            "max_height": null,
            "align_content": null,
            "visibility": null,
            "align_self": null,
            "height": null,
            "min_height": null,
            "padding": null,
            "grid_auto_rows": null,
            "grid_gap": null,
            "max_width": null,
            "order": null,
            "_view_module_version": "1.2.0",
            "grid_template_areas": null,
            "object_position": null,
            "object_fit": null,
            "grid_auto_columns": null,
            "margin": null,
            "display": null,
            "left": null
          }
        },
        "098aba696c70408d8aee1d4c5f764e80": {
          "model_module": "@jupyter-widgets/controls",
          "model_name": "HBoxModel",
          "state": {
            "_view_name": "HBoxView",
            "_dom_classes": [],
            "_model_name": "HBoxModel",
            "_view_module": "@jupyter-widgets/controls",
            "_model_module_version": "1.5.0",
            "_view_count": null,
            "_view_module_version": "1.5.0",
            "box_style": "",
            "layout": "IPY_MODEL_f230b23ddd5941acbcddb281e483f13b",
            "_model_module": "@jupyter-widgets/controls",
            "children": [
              "IPY_MODEL_e1f38c545af1469eb8f929b2a7778ea5",
              "IPY_MODEL_76d638a8ab31479e99eebb0e97652c81"
            ]
          }
        },
        "f230b23ddd5941acbcddb281e483f13b": {
          "model_module": "@jupyter-widgets/base",
          "model_name": "LayoutModel",
          "state": {
            "_view_name": "LayoutView",
            "grid_template_rows": null,
            "right": null,
            "justify_content": null,
            "_view_module": "@jupyter-widgets/base",
            "overflow": null,
            "_model_module_version": "1.2.0",
            "_view_count": null,
            "flex_flow": "row wrap",
            "width": "100%",
            "min_width": null,
            "border": null,
            "align_items": null,
            "bottom": null,
            "_model_module": "@jupyter-widgets/base",
            "top": null,
            "grid_column": null,
            "overflow_y": null,
            "overflow_x": null,
            "grid_auto_flow": null,
            "grid_area": null,
            "grid_template_columns": null,
            "flex": null,
            "_model_name": "LayoutModel",
            "justify_items": null,
            "grid_row": null,
            "max_height": null,
            "align_content": null,
            "visibility": null,
            "align_self": null,
            "height": null,
            "min_height": null,
            "padding": null,
            "grid_auto_rows": null,
            "grid_gap": null,
            "max_width": null,
            "order": null,
            "_view_module_version": "1.2.0",
            "grid_template_areas": null,
            "object_position": null,
            "object_fit": null,
            "grid_auto_columns": null,
            "margin": null,
            "display": "inline-flex",
            "left": null
          }
        },
        "e1f38c545af1469eb8f929b2a7778ea5": {
          "model_module": "@jupyter-widgets/controls",
          "model_name": "FloatProgressModel",
          "state": {
            "_view_name": "ProgressView",
            "style": "IPY_MODEL_4926f8bb4489492ba1b165b290624569",
            "_dom_classes": [],
            "description": "Validating:  99%",
            "_model_name": "FloatProgressModel",
            "bar_style": "danger",
            "max": 1,
            "_view_module": "@jupyter-widgets/controls",
            "_model_module_version": "1.5.0",
            "value": 1,
            "_view_count": null,
            "_view_module_version": "1.5.0",
            "orientation": "horizontal",
            "min": 0,
            "description_tooltip": null,
            "_model_module": "@jupyter-widgets/controls",
            "layout": "IPY_MODEL_51b6b199d46b4afd912441f15cbb13d5"
          }
        },
        "76d638a8ab31479e99eebb0e97652c81": {
          "model_module": "@jupyter-widgets/controls",
          "model_name": "HTMLModel",
          "state": {
            "_view_name": "HTMLView",
            "style": "IPY_MODEL_9eda9b076a894ae3b1e90701e4ac4fed",
            "_dom_classes": [],
            "description": "",
            "_model_name": "HTMLModel",
            "placeholder": "​",
            "_view_module": "@jupyter-widgets/controls",
            "_model_module_version": "1.5.0",
            "value": " 1100/1112 [26:07&lt;00:01,  7.54it/s]",
            "_view_count": null,
            "_view_module_version": "1.5.0",
            "description_tooltip": null,
            "_model_module": "@jupyter-widgets/controls",
            "layout": "IPY_MODEL_9eb7d146fc414709be08f4d1321da796"
          }
        },
        "4926f8bb4489492ba1b165b290624569": {
          "model_module": "@jupyter-widgets/controls",
          "model_name": "ProgressStyleModel",
          "state": {
            "_view_name": "StyleView",
            "_model_name": "ProgressStyleModel",
            "description_width": "initial",
            "_view_module": "@jupyter-widgets/base",
            "_model_module_version": "1.5.0",
            "_view_count": null,
            "_view_module_version": "1.2.0",
            "bar_color": null,
            "_model_module": "@jupyter-widgets/controls"
          }
        },
        "51b6b199d46b4afd912441f15cbb13d5": {
          "model_module": "@jupyter-widgets/base",
          "model_name": "LayoutModel",
          "state": {
            "_view_name": "LayoutView",
            "grid_template_rows": null,
            "right": null,
            "justify_content": null,
            "_view_module": "@jupyter-widgets/base",
            "overflow": null,
            "_model_module_version": "1.2.0",
            "_view_count": null,
            "flex_flow": null,
            "width": null,
            "min_width": null,
            "border": null,
            "align_items": null,
            "bottom": null,
            "_model_module": "@jupyter-widgets/base",
            "top": null,
            "grid_column": null,
            "overflow_y": null,
            "overflow_x": null,
            "grid_auto_flow": null,
            "grid_area": null,
            "grid_template_columns": null,
            "flex": "2",
            "_model_name": "LayoutModel",
            "justify_items": null,
            "grid_row": null,
            "max_height": null,
            "align_content": null,
            "visibility": null,
            "align_self": null,
            "height": null,
            "min_height": null,
            "padding": null,
            "grid_auto_rows": null,
            "grid_gap": null,
            "max_width": null,
            "order": null,
            "_view_module_version": "1.2.0",
            "grid_template_areas": null,
            "object_position": null,
            "object_fit": null,
            "grid_auto_columns": null,
            "margin": null,
            "display": null,
            "left": null
          }
        },
        "9eda9b076a894ae3b1e90701e4ac4fed": {
          "model_module": "@jupyter-widgets/controls",
          "model_name": "DescriptionStyleModel",
          "state": {
            "_view_name": "StyleView",
            "_model_name": "DescriptionStyleModel",
            "description_width": "",
            "_view_module": "@jupyter-widgets/base",
            "_model_module_version": "1.5.0",
            "_view_count": null,
            "_view_module_version": "1.2.0",
            "_model_module": "@jupyter-widgets/controls"
          }
        },
        "9eb7d146fc414709be08f4d1321da796": {
          "model_module": "@jupyter-widgets/base",
          "model_name": "LayoutModel",
          "state": {
            "_view_name": "LayoutView",
            "grid_template_rows": null,
            "right": null,
            "justify_content": null,
            "_view_module": "@jupyter-widgets/base",
            "overflow": null,
            "_model_module_version": "1.2.0",
            "_view_count": null,
            "flex_flow": null,
            "width": null,
            "min_width": null,
            "border": null,
            "align_items": null,
            "bottom": null,
            "_model_module": "@jupyter-widgets/base",
            "top": null,
            "grid_column": null,
            "overflow_y": null,
            "overflow_x": null,
            "grid_auto_flow": null,
            "grid_area": null,
            "grid_template_columns": null,
            "flex": null,
            "_model_name": "LayoutModel",
            "justify_items": null,
            "grid_row": null,
            "max_height": null,
            "align_content": null,
            "visibility": null,
            "align_self": null,
            "height": null,
            "min_height": null,
            "padding": null,
            "grid_auto_rows": null,
            "grid_gap": null,
            "max_width": null,
            "order": null,
            "_view_module_version": "1.2.0",
            "grid_template_areas": null,
            "object_position": null,
            "object_fit": null,
            "grid_auto_columns": null,
            "margin": null,
            "display": null,
            "left": null
          }
        },
        "062b59f77c2f4d2a8b5af8927ace2aa2": {
          "model_module": "@jupyter-widgets/controls",
          "model_name": "HBoxModel",
          "state": {
            "_view_name": "HBoxView",
            "_dom_classes": [],
            "_model_name": "HBoxModel",
            "_view_module": "@jupyter-widgets/controls",
            "_model_module_version": "1.5.0",
            "_view_count": null,
            "_view_module_version": "1.5.0",
            "box_style": "",
            "layout": "IPY_MODEL_1dc3570d8df040c1bd9e27e77e4799f0",
            "_model_module": "@jupyter-widgets/controls",
            "children": [
              "IPY_MODEL_abbf97a8a7cb4b6fb76bea2f0e0012ee",
              "IPY_MODEL_5a7b6390d6ef4359bc51d98ba272db75"
            ]
          }
        },
        "1dc3570d8df040c1bd9e27e77e4799f0": {
          "model_module": "@jupyter-widgets/base",
          "model_name": "LayoutModel",
          "state": {
            "_view_name": "LayoutView",
            "grid_template_rows": null,
            "right": null,
            "justify_content": null,
            "_view_module": "@jupyter-widgets/base",
            "overflow": null,
            "_model_module_version": "1.2.0",
            "_view_count": null,
            "flex_flow": "row wrap",
            "width": "100%",
            "min_width": null,
            "border": null,
            "align_items": null,
            "bottom": null,
            "_model_module": "@jupyter-widgets/base",
            "top": null,
            "grid_column": null,
            "overflow_y": null,
            "overflow_x": null,
            "grid_auto_flow": null,
            "grid_area": null,
            "grid_template_columns": null,
            "flex": null,
            "_model_name": "LayoutModel",
            "justify_items": null,
            "grid_row": null,
            "max_height": null,
            "align_content": null,
            "visibility": null,
            "align_self": null,
            "height": null,
            "min_height": null,
            "padding": null,
            "grid_auto_rows": null,
            "grid_gap": null,
            "max_width": null,
            "order": null,
            "_view_module_version": "1.2.0",
            "grid_template_areas": null,
            "object_position": null,
            "object_fit": null,
            "grid_auto_columns": null,
            "margin": null,
            "display": "inline-flex",
            "left": null
          }
        },
        "abbf97a8a7cb4b6fb76bea2f0e0012ee": {
          "model_module": "@jupyter-widgets/controls",
          "model_name": "FloatProgressModel",
          "state": {
            "_view_name": "ProgressView",
            "style": "IPY_MODEL_a1d0b49d4c6246a4a108a7852cf02320",
            "_dom_classes": [],
            "description": "Validating:  99%",
            "_model_name": "FloatProgressModel",
            "bar_style": "danger",
            "max": 1,
            "_view_module": "@jupyter-widgets/controls",
            "_model_module_version": "1.5.0",
            "value": 1,
            "_view_count": null,
            "_view_module_version": "1.5.0",
            "orientation": "horizontal",
            "min": 0,
            "description_tooltip": null,
            "_model_module": "@jupyter-widgets/controls",
            "layout": "IPY_MODEL_d6c53e951f724027b187a38936881a2d"
          }
        },
        "5a7b6390d6ef4359bc51d98ba272db75": {
          "model_module": "@jupyter-widgets/controls",
          "model_name": "HTMLModel",
          "state": {
            "_view_name": "HTMLView",
            "style": "IPY_MODEL_116bd96c49314d96be3e29ec726ff552",
            "_dom_classes": [],
            "description": "",
            "_model_name": "HTMLModel",
            "placeholder": "​",
            "_view_module": "@jupyter-widgets/controls",
            "_model_module_version": "1.5.0",
            "value": " 1100/1112 [14:16&lt;00:01,  7.53it/s]",
            "_view_count": null,
            "_view_module_version": "1.5.0",
            "description_tooltip": null,
            "_model_module": "@jupyter-widgets/controls",
            "layout": "IPY_MODEL_6af6243f0b5a4d76a5ba1baf02e748c3"
          }
        },
        "a1d0b49d4c6246a4a108a7852cf02320": {
          "model_module": "@jupyter-widgets/controls",
          "model_name": "ProgressStyleModel",
          "state": {
            "_view_name": "StyleView",
            "_model_name": "ProgressStyleModel",
            "description_width": "initial",
            "_view_module": "@jupyter-widgets/base",
            "_model_module_version": "1.5.0",
            "_view_count": null,
            "_view_module_version": "1.2.0",
            "bar_color": null,
            "_model_module": "@jupyter-widgets/controls"
          }
        },
        "d6c53e951f724027b187a38936881a2d": {
          "model_module": "@jupyter-widgets/base",
          "model_name": "LayoutModel",
          "state": {
            "_view_name": "LayoutView",
            "grid_template_rows": null,
            "right": null,
            "justify_content": null,
            "_view_module": "@jupyter-widgets/base",
            "overflow": null,
            "_model_module_version": "1.2.0",
            "_view_count": null,
            "flex_flow": null,
            "width": null,
            "min_width": null,
            "border": null,
            "align_items": null,
            "bottom": null,
            "_model_module": "@jupyter-widgets/base",
            "top": null,
            "grid_column": null,
            "overflow_y": null,
            "overflow_x": null,
            "grid_auto_flow": null,
            "grid_area": null,
            "grid_template_columns": null,
            "flex": "2",
            "_model_name": "LayoutModel",
            "justify_items": null,
            "grid_row": null,
            "max_height": null,
            "align_content": null,
            "visibility": null,
            "align_self": null,
            "height": null,
            "min_height": null,
            "padding": null,
            "grid_auto_rows": null,
            "grid_gap": null,
            "max_width": null,
            "order": null,
            "_view_module_version": "1.2.0",
            "grid_template_areas": null,
            "object_position": null,
            "object_fit": null,
            "grid_auto_columns": null,
            "margin": null,
            "display": null,
            "left": null
          }
        },
        "116bd96c49314d96be3e29ec726ff552": {
          "model_module": "@jupyter-widgets/controls",
          "model_name": "DescriptionStyleModel",
          "state": {
            "_view_name": "StyleView",
            "_model_name": "DescriptionStyleModel",
            "description_width": "",
            "_view_module": "@jupyter-widgets/base",
            "_model_module_version": "1.5.0",
            "_view_count": null,
            "_view_module_version": "1.2.0",
            "_model_module": "@jupyter-widgets/controls"
          }
        },
        "6af6243f0b5a4d76a5ba1baf02e748c3": {
          "model_module": "@jupyter-widgets/base",
          "model_name": "LayoutModel",
          "state": {
            "_view_name": "LayoutView",
            "grid_template_rows": null,
            "right": null,
            "justify_content": null,
            "_view_module": "@jupyter-widgets/base",
            "overflow": null,
            "_model_module_version": "1.2.0",
            "_view_count": null,
            "flex_flow": null,
            "width": null,
            "min_width": null,
            "border": null,
            "align_items": null,
            "bottom": null,
            "_model_module": "@jupyter-widgets/base",
            "top": null,
            "grid_column": null,
            "overflow_y": null,
            "overflow_x": null,
            "grid_auto_flow": null,
            "grid_area": null,
            "grid_template_columns": null,
            "flex": null,
            "_model_name": "LayoutModel",
            "justify_items": null,
            "grid_row": null,
            "max_height": null,
            "align_content": null,
            "visibility": null,
            "align_self": null,
            "height": null,
            "min_height": null,
            "padding": null,
            "grid_auto_rows": null,
            "grid_gap": null,
            "max_width": null,
            "order": null,
            "_view_module_version": "1.2.0",
            "grid_template_areas": null,
            "object_position": null,
            "object_fit": null,
            "grid_auto_columns": null,
            "margin": null,
            "display": null,
            "left": null
          }
        },
        "b9a2966e104f4eaca13f2a781981ce10": {
          "model_module": "@jupyter-widgets/controls",
          "model_name": "HBoxModel",
          "state": {
            "_view_name": "HBoxView",
            "_dom_classes": [],
            "_model_name": "HBoxModel",
            "_view_module": "@jupyter-widgets/controls",
            "_model_module_version": "1.5.0",
            "_view_count": null,
            "_view_module_version": "1.5.0",
            "box_style": "",
            "layout": "IPY_MODEL_5c6acd1a440f4ce299f1598e2da744a4",
            "_model_module": "@jupyter-widgets/controls",
            "children": [
              "IPY_MODEL_8410ac7f16e549688b7b73745d0f4484",
              "IPY_MODEL_6ce149ab0f0340a692ef1ab187017372"
            ]
          }
        },
        "5c6acd1a440f4ce299f1598e2da744a4": {
          "model_module": "@jupyter-widgets/base",
          "model_name": "LayoutModel",
          "state": {
            "_view_name": "LayoutView",
            "grid_template_rows": null,
            "right": null,
            "justify_content": null,
            "_view_module": "@jupyter-widgets/base",
            "overflow": null,
            "_model_module_version": "1.2.0",
            "_view_count": null,
            "flex_flow": "row wrap",
            "width": "100%",
            "min_width": null,
            "border": null,
            "align_items": null,
            "bottom": null,
            "_model_module": "@jupyter-widgets/base",
            "top": null,
            "grid_column": null,
            "overflow_y": null,
            "overflow_x": null,
            "grid_auto_flow": null,
            "grid_area": null,
            "grid_template_columns": null,
            "flex": null,
            "_model_name": "LayoutModel",
            "justify_items": null,
            "grid_row": null,
            "max_height": null,
            "align_content": null,
            "visibility": null,
            "align_self": null,
            "height": null,
            "min_height": null,
            "padding": null,
            "grid_auto_rows": null,
            "grid_gap": null,
            "max_width": null,
            "order": null,
            "_view_module_version": "1.2.0",
            "grid_template_areas": null,
            "object_position": null,
            "object_fit": null,
            "grid_auto_columns": null,
            "margin": null,
            "display": "inline-flex",
            "left": null
          }
        },
        "8410ac7f16e549688b7b73745d0f4484": {
          "model_module": "@jupyter-widgets/controls",
          "model_name": "FloatProgressModel",
          "state": {
            "_view_name": "ProgressView",
            "style": "IPY_MODEL_6066d1a1fc45499bb64a0325ebd1e21d",
            "_dom_classes": [],
            "description": "Validating:  99%",
            "_model_name": "FloatProgressModel",
            "bar_style": "danger",
            "max": 1,
            "_view_module": "@jupyter-widgets/controls",
            "_model_module_version": "1.5.0",
            "value": 1,
            "_view_count": null,
            "_view_module_version": "1.5.0",
            "orientation": "horizontal",
            "min": 0,
            "description_tooltip": null,
            "_model_module": "@jupyter-widgets/controls",
            "layout": "IPY_MODEL_46df10d894f24e01a6773abd03fd5813"
          }
        },
        "6ce149ab0f0340a692ef1ab187017372": {
          "model_module": "@jupyter-widgets/controls",
          "model_name": "HTMLModel",
          "state": {
            "_view_name": "HTMLView",
            "style": "IPY_MODEL_a5880f2d4fa440049830906b50d65cbd",
            "_dom_classes": [],
            "description": "",
            "_model_name": "HTMLModel",
            "placeholder": "​",
            "_view_module": "@jupyter-widgets/controls",
            "_model_module_version": "1.5.0",
            "value": " 1100/1112 [02:29&lt;00:01,  7.59it/s]",
            "_view_count": null,
            "_view_module_version": "1.5.0",
            "description_tooltip": null,
            "_model_module": "@jupyter-widgets/controls",
            "layout": "IPY_MODEL_20104c820afa49b893d1a755354cc4fe"
          }
        },
        "6066d1a1fc45499bb64a0325ebd1e21d": {
          "model_module": "@jupyter-widgets/controls",
          "model_name": "ProgressStyleModel",
          "state": {
            "_view_name": "StyleView",
            "_model_name": "ProgressStyleModel",
            "description_width": "initial",
            "_view_module": "@jupyter-widgets/base",
            "_model_module_version": "1.5.0",
            "_view_count": null,
            "_view_module_version": "1.2.0",
            "bar_color": null,
            "_model_module": "@jupyter-widgets/controls"
          }
        },
        "46df10d894f24e01a6773abd03fd5813": {
          "model_module": "@jupyter-widgets/base",
          "model_name": "LayoutModel",
          "state": {
            "_view_name": "LayoutView",
            "grid_template_rows": null,
            "right": null,
            "justify_content": null,
            "_view_module": "@jupyter-widgets/base",
            "overflow": null,
            "_model_module_version": "1.2.0",
            "_view_count": null,
            "flex_flow": null,
            "width": null,
            "min_width": null,
            "border": null,
            "align_items": null,
            "bottom": null,
            "_model_module": "@jupyter-widgets/base",
            "top": null,
            "grid_column": null,
            "overflow_y": null,
            "overflow_x": null,
            "grid_auto_flow": null,
            "grid_area": null,
            "grid_template_columns": null,
            "flex": "2",
            "_model_name": "LayoutModel",
            "justify_items": null,
            "grid_row": null,
            "max_height": null,
            "align_content": null,
            "visibility": null,
            "align_self": null,
            "height": null,
            "min_height": null,
            "padding": null,
            "grid_auto_rows": null,
            "grid_gap": null,
            "max_width": null,
            "order": null,
            "_view_module_version": "1.2.0",
            "grid_template_areas": null,
            "object_position": null,
            "object_fit": null,
            "grid_auto_columns": null,
            "margin": null,
            "display": null,
            "left": null
          }
        },
        "a5880f2d4fa440049830906b50d65cbd": {
          "model_module": "@jupyter-widgets/controls",
          "model_name": "DescriptionStyleModel",
          "state": {
            "_view_name": "StyleView",
            "_model_name": "DescriptionStyleModel",
            "description_width": "",
            "_view_module": "@jupyter-widgets/base",
            "_model_module_version": "1.5.0",
            "_view_count": null,
            "_view_module_version": "1.2.0",
            "_model_module": "@jupyter-widgets/controls"
          }
        },
        "20104c820afa49b893d1a755354cc4fe": {
          "model_module": "@jupyter-widgets/base",
          "model_name": "LayoutModel",
          "state": {
            "_view_name": "LayoutView",
            "grid_template_rows": null,
            "right": null,
            "justify_content": null,
            "_view_module": "@jupyter-widgets/base",
            "overflow": null,
            "_model_module_version": "1.2.0",
            "_view_count": null,
            "flex_flow": null,
            "width": null,
            "min_width": null,
            "border": null,
            "align_items": null,
            "bottom": null,
            "_model_module": "@jupyter-widgets/base",
            "top": null,
            "grid_column": null,
            "overflow_y": null,
            "overflow_x": null,
            "grid_auto_flow": null,
            "grid_area": null,
            "grid_template_columns": null,
            "flex": null,
            "_model_name": "LayoutModel",
            "justify_items": null,
            "grid_row": null,
            "max_height": null,
            "align_content": null,
            "visibility": null,
            "align_self": null,
            "height": null,
            "min_height": null,
            "padding": null,
            "grid_auto_rows": null,
            "grid_gap": null,
            "max_width": null,
            "order": null,
            "_view_module_version": "1.2.0",
            "grid_template_areas": null,
            "object_position": null,
            "object_fit": null,
            "grid_auto_columns": null,
            "margin": null,
            "display": null,
            "left": null
          }
        },
        "b66e59a3457549eca20349e458db5fac": {
          "model_module": "@jupyter-widgets/controls",
          "model_name": "HBoxModel",
          "state": {
            "_view_name": "HBoxView",
            "_dom_classes": [],
            "_model_name": "HBoxModel",
            "_view_module": "@jupyter-widgets/controls",
            "_model_module_version": "1.5.0",
            "_view_count": null,
            "_view_module_version": "1.5.0",
            "box_style": "",
            "layout": "IPY_MODEL_40a73b8e96804b26bdbbbd459cc58a3b",
            "_model_module": "@jupyter-widgets/controls",
            "children": [
              "IPY_MODEL_654271e133f64d88961679826385cedb",
              "IPY_MODEL_aca69dcc0dc34e8fab06edf2ca193b97"
            ]
          }
        },
        "40a73b8e96804b26bdbbbd459cc58a3b": {
          "model_module": "@jupyter-widgets/base",
          "model_name": "LayoutModel",
          "state": {
            "_view_name": "LayoutView",
            "grid_template_rows": null,
            "right": null,
            "justify_content": null,
            "_view_module": "@jupyter-widgets/base",
            "overflow": null,
            "_model_module_version": "1.2.0",
            "_view_count": null,
            "flex_flow": "row wrap",
            "width": "100%",
            "min_width": null,
            "border": null,
            "align_items": null,
            "bottom": null,
            "_model_module": "@jupyter-widgets/base",
            "top": null,
            "grid_column": null,
            "overflow_y": null,
            "overflow_x": null,
            "grid_auto_flow": null,
            "grid_area": null,
            "grid_template_columns": null,
            "flex": null,
            "_model_name": "LayoutModel",
            "justify_items": null,
            "grid_row": null,
            "max_height": null,
            "align_content": null,
            "visibility": null,
            "align_self": null,
            "height": null,
            "min_height": null,
            "padding": null,
            "grid_auto_rows": null,
            "grid_gap": null,
            "max_width": null,
            "order": null,
            "_view_module_version": "1.2.0",
            "grid_template_areas": null,
            "object_position": null,
            "object_fit": null,
            "grid_auto_columns": null,
            "margin": null,
            "display": "inline-flex",
            "left": null
          }
        },
        "654271e133f64d88961679826385cedb": {
          "model_module": "@jupyter-widgets/controls",
          "model_name": "FloatProgressModel",
          "state": {
            "_view_name": "ProgressView",
            "style": "IPY_MODEL_37357e17eca44f9cb71656a5e62ea3f7",
            "_dom_classes": [],
            "description": "Testing:  93%",
            "_model_name": "FloatProgressModel",
            "bar_style": "danger",
            "max": 1,
            "_view_module": "@jupyter-widgets/controls",
            "_model_module_version": "1.5.0",
            "value": 1,
            "_view_count": null,
            "_view_module_version": "1.5.0",
            "orientation": "horizontal",
            "min": 0,
            "description_tooltip": null,
            "_model_module": "@jupyter-widgets/controls",
            "layout": "IPY_MODEL_5123ff6d7b95404aba89f0f76494b58c"
          }
        },
        "aca69dcc0dc34e8fab06edf2ca193b97": {
          "model_module": "@jupyter-widgets/controls",
          "model_name": "HTMLModel",
          "state": {
            "_view_name": "HTMLView",
            "style": "IPY_MODEL_53018db4717349ac95c16a7aedeb0aa9",
            "_dom_classes": [],
            "description": "",
            "_model_name": "HTMLModel",
            "placeholder": "​",
            "_view_module": "@jupyter-widgets/controls",
            "_model_module_version": "1.5.0",
            "value": " 1200/1292 [02:41&lt;00:12,  7.41it/s]",
            "_view_count": null,
            "_view_module_version": "1.5.0",
            "description_tooltip": null,
            "_model_module": "@jupyter-widgets/controls",
            "layout": "IPY_MODEL_f9f23d0a3e534a39a12ad5ff0fe1c172"
          }
        },
        "37357e17eca44f9cb71656a5e62ea3f7": {
          "model_module": "@jupyter-widgets/controls",
          "model_name": "ProgressStyleModel",
          "state": {
            "_view_name": "StyleView",
            "_model_name": "ProgressStyleModel",
            "description_width": "initial",
            "_view_module": "@jupyter-widgets/base",
            "_model_module_version": "1.5.0",
            "_view_count": null,
            "_view_module_version": "1.2.0",
            "bar_color": null,
            "_model_module": "@jupyter-widgets/controls"
          }
        },
        "5123ff6d7b95404aba89f0f76494b58c": {
          "model_module": "@jupyter-widgets/base",
          "model_name": "LayoutModel",
          "state": {
            "_view_name": "LayoutView",
            "grid_template_rows": null,
            "right": null,
            "justify_content": null,
            "_view_module": "@jupyter-widgets/base",
            "overflow": null,
            "_model_module_version": "1.2.0",
            "_view_count": null,
            "flex_flow": null,
            "width": null,
            "min_width": null,
            "border": null,
            "align_items": null,
            "bottom": null,
            "_model_module": "@jupyter-widgets/base",
            "top": null,
            "grid_column": null,
            "overflow_y": null,
            "overflow_x": null,
            "grid_auto_flow": null,
            "grid_area": null,
            "grid_template_columns": null,
            "flex": "2",
            "_model_name": "LayoutModel",
            "justify_items": null,
            "grid_row": null,
            "max_height": null,
            "align_content": null,
            "visibility": null,
            "align_self": null,
            "height": null,
            "min_height": null,
            "padding": null,
            "grid_auto_rows": null,
            "grid_gap": null,
            "max_width": null,
            "order": null,
            "_view_module_version": "1.2.0",
            "grid_template_areas": null,
            "object_position": null,
            "object_fit": null,
            "grid_auto_columns": null,
            "margin": null,
            "display": null,
            "left": null
          }
        },
        "53018db4717349ac95c16a7aedeb0aa9": {
          "model_module": "@jupyter-widgets/controls",
          "model_name": "DescriptionStyleModel",
          "state": {
            "_view_name": "StyleView",
            "_model_name": "DescriptionStyleModel",
            "description_width": "",
            "_view_module": "@jupyter-widgets/base",
            "_model_module_version": "1.5.0",
            "_view_count": null,
            "_view_module_version": "1.2.0",
            "_model_module": "@jupyter-widgets/controls"
          }
        },
        "f9f23d0a3e534a39a12ad5ff0fe1c172": {
          "model_module": "@jupyter-widgets/base",
          "model_name": "LayoutModel",
          "state": {
            "_view_name": "LayoutView",
            "grid_template_rows": null,
            "right": null,
            "justify_content": null,
            "_view_module": "@jupyter-widgets/base",
            "overflow": null,
            "_model_module_version": "1.2.0",
            "_view_count": null,
            "flex_flow": null,
            "width": null,
            "min_width": null,
            "border": null,
            "align_items": null,
            "bottom": null,
            "_model_module": "@jupyter-widgets/base",
            "top": null,
            "grid_column": null,
            "overflow_y": null,
            "overflow_x": null,
            "grid_auto_flow": null,
            "grid_area": null,
            "grid_template_columns": null,
            "flex": null,
            "_model_name": "LayoutModel",
            "justify_items": null,
            "grid_row": null,
            "max_height": null,
            "align_content": null,
            "visibility": null,
            "align_self": null,
            "height": null,
            "min_height": null,
            "padding": null,
            "grid_auto_rows": null,
            "grid_gap": null,
            "max_width": null,
            "order": null,
            "_view_module_version": "1.2.0",
            "grid_template_areas": null,
            "object_position": null,
            "object_fit": null,
            "grid_auto_columns": null,
            "margin": null,
            "display": null,
            "left": null
          }
        }
      }
    }
  },
  "cells": [
    {
      "cell_type": "markdown",
      "metadata": {
        "id": "view-in-github",
        "colab_type": "text"
      },
      "source": [
        "<a href=\"https://colab.research.google.com/github/textnorms/address_text_norm/blob/master/PL_datas.ipynb\" target=\"_parent\"><img src=\"https://colab.research.google.com/assets/colab-badge.svg\" alt=\"Open In Colab\"/></a>"
      ]
    },
    {
      "cell_type": "code",
      "metadata": {
        "id": "cgsDsRKpA07I",
        "colab_type": "code",
        "colab": {
          "base_uri": "https://localhost:8080/",
          "height": 357
        },
        "outputId": "a7ea778b-7546-499d-de45-00ed7eae1be6"
      },
      "source": [
        "! nvidia-smi"
      ],
      "execution_count": 1,
      "outputs": [
        {
          "output_type": "stream",
          "text": [
            "Mon Jun 29 12:32:32 2020       \n",
            "+-----------------------------------------------------------------------------+\n",
            "| NVIDIA-SMI 450.36.06    Driver Version: 418.67       CUDA Version: 10.1     |\n",
            "|-------------------------------+----------------------+----------------------+\n",
            "| GPU  Name        Persistence-M| Bus-Id        Disp.A | Volatile Uncorr. ECC |\n",
            "| Fan  Temp  Perf  Pwr:Usage/Cap|         Memory-Usage | GPU-Util  Compute M. |\n",
            "|                               |                      |               MIG M. |\n",
            "|===============================+======================+======================|\n",
            "|   0  Tesla K80           Off  | 00000000:00:04.0 Off |                    0 |\n",
            "| N/A   51C    P8    30W / 149W |      0MiB / 11441MiB |      0%      Default |\n",
            "|                               |                      |                 ERR! |\n",
            "+-------------------------------+----------------------+----------------------+\n",
            "                                                                               \n",
            "+-----------------------------------------------------------------------------+\n",
            "| Processes:                                                                  |\n",
            "|  GPU   GI   CI        PID   Type   Process name                  GPU Memory |\n",
            "|        ID   ID                                                   Usage      |\n",
            "|=============================================================================|\n",
            "|  No running processes found                                                 |\n",
            "+-----------------------------------------------------------------------------+\n"
          ],
          "name": "stdout"
        }
      ]
    },
    {
      "cell_type": "code",
      "metadata": {
        "id": "Ova9-njPs8T6",
        "colab_type": "code",
        "colab": {
          "base_uri": "https://localhost:8080/",
          "height": 102
        },
        "outputId": "b6bc541c-1b4c-45f5-a6c8-33b4e7b4aa74"
      },
      "source": [
        "!pip install pytorch-lightning --quiet"
      ],
      "execution_count": 2,
      "outputs": [
        {
          "output_type": "stream",
          "text": [
            "\u001b[K     |████████████████████████████████| 307kB 2.7MB/s \n",
            "\u001b[K     |████████████████████████████████| 829kB 8.4MB/s \n",
            "\u001b[K     |████████████████████████████████| 276kB 16.9MB/s \n",
            "\u001b[?25h  Building wheel for future (setup.py) ... \u001b[?25l\u001b[?25hdone\n",
            "  Building wheel for PyYAML (setup.py) ... \u001b[?25l\u001b[?25hdone\n"
          ],
          "name": "stdout"
        }
      ]
    },
    {
      "cell_type": "markdown",
      "metadata": {
        "id": "tMT-KZQHuzRh",
        "colab_type": "text"
      },
      "source": [
        "# Imports"
      ]
    },
    {
      "cell_type": "code",
      "metadata": {
        "id": "Defk0634BQjy",
        "colab_type": "code",
        "colab": {
          "base_uri": "https://localhost:8080/",
          "height": 119
        },
        "outputId": "07770794-7f13-42c8-ba4e-14dcd071b977"
      },
      "source": [
        "! rm -rf *\n",
        "! git clone -q https://github.com/textnorms/date_text_norm.git\n",
        "! cp -r date_text_norm/syntetic_data/ .\n",
        "\n",
        "! pip install -q num2words transformers"
      ],
      "execution_count": 3,
      "outputs": [
        {
          "output_type": "stream",
          "text": [
            "\u001b[K     |████████████████████████████████| 102kB 2.3MB/s \n",
            "\u001b[K     |████████████████████████████████| 675kB 11.0MB/s \n",
            "\u001b[K     |████████████████████████████████| 1.1MB 9.7MB/s \n",
            "\u001b[K     |████████████████████████████████| 890kB 19.4MB/s \n",
            "\u001b[K     |████████████████████████████████| 3.8MB 25.2MB/s \n",
            "\u001b[?25h  Building wheel for sacremoses (setup.py) ... \u001b[?25l\u001b[?25hdone\n"
          ],
          "name": "stdout"
        }
      ]
    },
    {
      "cell_type": "code",
      "metadata": {
        "id": "xQ-F5jznuLE_",
        "colab_type": "code",
        "colab": {}
      },
      "source": [
        "#Basics\n",
        "from argparse import Namespace\n",
        "import matplotlib.pyplot as plt\n",
        "import random\n",
        "import pandas as pd\n",
        "import numpy as np\n",
        "\n",
        "# Synthetic data generator\n",
        "from syntetic_data import DateTextGenerator\n",
        "from syntetic_data import RelativeDateTextGenerator\n",
        "\n",
        "#Pytorch\n",
        "import torch\n",
        "import torch.nn.functional as F\n",
        "from torch import nn\n",
        "from torch.utils.data import Dataset, DataLoader\n",
        "\n",
        "#Pytorch Lightning\n",
        "import pytorch_lightning as pl\n",
        "from pytorch_lightning import seed_everything\n",
        "\n",
        "\n",
        "# Transformers\n",
        "from transformers import T5Tokenizer, T5ForConditionalGeneration, AdamW\n",
        "\n",
        "# Sklearn\n",
        "from sklearn.model_selection import train_test_split"
      ],
      "execution_count": 4,
      "outputs": []
    },
    {
      "cell_type": "code",
      "metadata": {
        "id": "hYlButNbUH4X",
        "colab_type": "code",
        "colab": {
          "base_uri": "https://localhost:8080/",
          "height": 51
        },
        "outputId": "8b11879c-062a-449c-fe63-0b12c89b7f60"
      },
      "source": [
        "# Assuring reproductibility\n",
        "manual_seed = 2357 # only primes, cuz I like\n",
        "def deterministic(rep=True):\n",
        "    if rep:\n",
        "        np.random.seed(manual_seed)\n",
        "        torch.manual_seed(manual_seed)\n",
        "        if torch.cuda.is_available():\n",
        "            torch.cuda.manual_seed(manual_seed)\n",
        "            torch.cuda.manual_seed_all(manual_seed)\n",
        "        torch.backends.cudnn.enabled = False \n",
        "        torch.backends.cudnn.benchmark = False\n",
        "        torch.backends.cudnn.deterministic = True\n",
        "        print(f'Deterministic experiment, seed: {manual_seed}')\n",
        "    else:\n",
        "        print('Random experiment')\n",
        "\n",
        "deterministic()\n",
        "seed_everything(2357)\n",
        "\n",
        "device = torch.device('cuda' if torch.cuda.is_available() else 'cpu')\n",
        "print(f'Using device: {device}')"
      ],
      "execution_count": 5,
      "outputs": [
        {
          "output_type": "stream",
          "text": [
            "Deterministic experiment, seed: 2357\n",
            "Using device: cuda\n"
          ],
          "name": "stdout"
        }
      ]
    },
    {
      "cell_type": "markdown",
      "metadata": {
        "id": "y2bYrCdMu73V",
        "colab_type": "text"
      },
      "source": [
        "# LightningBase\n",
        "\n"
      ]
    },
    {
      "cell_type": "code",
      "metadata": {
        "id": "xWW5RuD9uy08",
        "colab_type": "code",
        "colab": {}
      },
      "source": [
        "class LightningBase:\n",
        "\n",
        "    '''\n",
        "        hparams needs to contain:\n",
        "            - lr (float)\n",
        "            - optimizer (str)\n",
        "            - optimizer_kwargs (Dict[str,Optional])\n",
        "            - train_batch_size (int)\n",
        "            - val_batch_size (int)\n",
        "            - shuffle_train (bool)\n",
        "            - num_workers (int)\n",
        "        Properties needed:\n",
        "            - train_dataset (Dataset)\n",
        "            - val_dataset (Dataset)\n",
        "            - test_dataset (Dataset)\n",
        "    '''\n",
        "\n",
        "    def _average_key(self, outputs, key):\n",
        "        return torch.stack([o[key] for o in outputs]).float().mean()\n",
        "\n",
        "    def get_dataloader(self, dataset, batch_size, shuffle, num_workers):\n",
        "        return DataLoader(\n",
        "            dataset,\n",
        "            batch_size=batch_size,\n",
        "            shuffle=shuffle,\n",
        "            num_workers=num_workers\n",
        "        )\n",
        "\n",
        "    def get_optimizer(self,):\n",
        "        optimizer_name = self.hparams.optimizer\n",
        "        lr = self.hparams.lr\n",
        "        optimizer_hparams = self.hparams.optimizer_kwargs\n",
        "        optimizer = getattr(torch.optim, optimizer_name)\n",
        "        return optimizer(self.parameters(), lr=lr, **optimizer_hparams)\n",
        "\n",
        "    def train_dataloader(self,):\n",
        "        return self.get_dataloader(\n",
        "            self.train_dataset,\n",
        "            batch_size=self.hparams.train_batch_size,\n",
        "            shuffle=self.hparams.shuffle_train,\n",
        "            num_workers=self.hparams.num_workers\n",
        "        )\n",
        "\n",
        "    def val_dataloader(self,):\n",
        "        return self.get_dataloader(\n",
        "            self.valid_dataset,\n",
        "            batch_size=self.hparams.val_batch_size,\n",
        "            shuffle=False,\n",
        "            num_workers=self.hparams.num_workers\n",
        "        )\n",
        "\n",
        "    def test_dataloader(self,):\n",
        "        return self.get_dataloader(\n",
        "            self.test_dataset,\n",
        "            batch_size=self.hparams.val_batch_size,\n",
        "            shuffle=False,\n",
        "            num_workers=self.hparams.num_workers\n",
        "        )\n",
        "\n",
        "    def configure_optimizers(self):\n",
        "        optimizer = self.get_optimizer()\n",
        "        return optimizer"
      ],
      "execution_count": 6,
      "outputs": []
    },
    {
      "cell_type": "markdown",
      "metadata": {
        "id": "eYcfRkdNvTlE",
        "colab_type": "text"
      },
      "source": [
        "# Dataset"
      ]
    },
    {
      "cell_type": "code",
      "metadata": {
        "id": "4RBoI8QwCASv",
        "colab_type": "code",
        "colab": {
          "base_uri": "https://localhost:8080/",
          "height": 66,
          "referenced_widgets": [
            "40268cdf0aed4d15a25510e5ce31098f",
            "f0d22c46a57640cdb5fff9d15e62a019",
            "f7f86dbba47d49baab1b489554bcf5ca",
            "7be42abcb2d1429fb748d6accfb933fb",
            "4e90cec0b9fb4819b80f3215c89fb955",
            "4dc89ad6caaa4abfa95fed07f08e144c",
            "3ad9c73b4f934124a63155d333e1f6cf",
            "ebc65397d29c482096606fd8b4727b9a"
          ]
        },
        "outputId": "3809abc7-09e7-4a9c-e9e9-d7a811adaf80"
      },
      "source": [
        "# Dataset params\n",
        "LANGUAGE = 'pt'\n",
        "\n",
        "# Model params\n",
        "MODEL_SZ = 't5-small'\n",
        "TOK = T5Tokenizer.from_pretrained(MODEL_SZ)\n",
        "MAX_LEN_SRC  = 48\n",
        "MAX_LEN_TRGT = 12\n",
        "\n",
        "# Train params\n",
        "BATCH_SZ = 16\n",
        "N_EPOCHS = 3\n",
        "WINDOW   = 7"
      ],
      "execution_count": 7,
      "outputs": [
        {
          "output_type": "display_data",
          "data": {
            "application/vnd.jupyter.widget-view+json": {
              "model_id": "40268cdf0aed4d15a25510e5ce31098f",
              "version_minor": 0,
              "version_major": 2
            },
            "text/plain": [
              "HBox(children=(FloatProgress(value=0.0, description='Downloading', max=791656.0, style=ProgressStyle(descripti…"
            ]
          },
          "metadata": {
            "tags": []
          }
        },
        {
          "output_type": "stream",
          "text": [
            "\n"
          ],
          "name": "stdout"
        }
      ]
    },
    {
      "cell_type": "code",
      "metadata": {
        "id": "vq8nFTElYwsA",
        "colab_type": "code",
        "colab": {
          "base_uri": "https://localhost:8080/",
          "height": 51
        },
        "outputId": "d5e573ff-683e-4057-94ff-6a9676e06470"
      },
      "source": [
        "pd.set_option('display.max_rows',70)\n",
        "\n",
        "print('Generating absolute and incomplete dates')\n",
        "dates = DateTextGenerator(start_date='01/01/1921',\n",
        "                          end_date='31/12/2120',\n",
        "                          language=LANGUAGE)\n",
        "\n",
        "print('Generating relative dates')\n",
        "rel_dates = RelativeDateTextGenerator(n_samples=500, text_noise_rate=0.0,\n",
        "                                       max_noise_occurences_per_sample=3,\n",
        "                                       samples_per_method=18,\n",
        "                                       language=LANGUAGE)\n",
        "\n",
        "df = dates.generate_date_dataset()\n",
        "df = df.append(rel_dates.generate_date_dataset(),ignore_index=True)"
      ],
      "execution_count": 8,
      "outputs": [
        {
          "output_type": "stream",
          "text": [
            "Generating absolute and incomplete dates\n",
            "Generating relative dates\n"
          ],
          "name": "stdout"
        }
      ]
    },
    {
      "cell_type": "code",
      "metadata": {
        "id": "BlFUN7vSeai-",
        "colab_type": "code",
        "colab": {
          "base_uri": "https://localhost:8080/",
          "height": 102
        },
        "outputId": "c74da92b-da86-48b5-c83d-1df244b95087"
      },
      "source": [
        "df['Target Format'].value_counts()"
      ],
      "execution_count": 9,
      "outputs": [
        {
          "output_type": "execute_result",
          "data": {
            "text/plain": [
              "DD/MM/YYYY    73049\n",
              "Relative       9000\n",
              "MM/YYYY        7200\n",
              "DD/MM          2562\n",
              "Name: Target Format, dtype: int64"
            ]
          },
          "metadata": {
            "tags": []
          },
          "execution_count": 9
        }
      ]
    },
    {
      "cell_type": "markdown",
      "metadata": {
        "id": "Uif9PsFKRrxI",
        "colab_type": "text"
      },
      "source": [
        "## Function to split the dataset"
      ]
    },
    {
      "cell_type": "code",
      "metadata": {
        "id": "TfBx9nMkQ7Q8",
        "colab_type": "code",
        "colab": {
          "base_uri": "https://localhost:8080/",
          "height": 119
        },
        "outputId": "46a29edb-5948-4c44-cd8d-17244422ba8b"
      },
      "source": [
        "def split_data(df, test_size=0.2, verbose=True):\n",
        "    l = list(set(df['Input Pattern'].values))\n",
        "    num_test = int(len(l)*test_size)\n",
        "    test_methods = [random.randint(1, len(l)) for _ in range(num_test)]\n",
        "    print(test_methods)\n",
        "    df_test = df[df['Input Pattern'].isin(test_methods)]\n",
        "    print(df_test.shape)\n",
        "    x_test = df_test.Input.values\n",
        "    y_test = df_test.Target.values\n",
        "\n",
        "    df_train = df[~df['Input Pattern'].isin(test_methods)]\n",
        "\n",
        "    x_train, x_val, y_train, y_val = train_test_split(\n",
        "        df_train.Input.values,\n",
        "        df_train.Target.values,\n",
        "        shuffle=True, \n",
        "        test_size=test_size,\n",
        "        random_state=2357\n",
        "        )\n",
        "    if verbose:\n",
        "        print(f'Date types of test set: {test_methods} with len: {len(test_methods)}')\n",
        "        print(f'x_train: {len(x_train)}  --  y_train: {len(y_train)}\\n\\\n",
        "x_val:   {len(x_val)}  --  y_val:   {len(y_val)}\\n\\\n",
        "x_test:  {len(x_test)}  --  y_test:  {len(y_test)}')\n",
        "\n",
        "    return x_train, y_train, x_val, y_val, x_test, y_test\n",
        "\n",
        "# creating sets\n",
        "x_train, y_train, x_val, y_val, x_test, y_test = split_data(df, \n",
        "                                                            test_size=0.25, \n",
        "                                                            verbose=True)"
      ],
      "execution_count": 10,
      "outputs": [
        {
          "output_type": "stream",
          "text": [
            "[41, 8, 15, 15, 2, 26, 24, 36, 6, 20, 25]\n",
            "(20667, 5)\n",
            "Date types of test set: [41, 8, 15, 15, 2, 26, 24, 36, 6, 20, 25] with len: 11\n",
            "x_train: 53358  --  y_train: 53358\n",
            "x_val:   17786  --  y_val:   17786\n",
            "x_test:  20667  --  y_test:  20667\n"
          ],
          "name": "stdout"
        }
      ]
    },
    {
      "cell_type": "code",
      "metadata": {
        "id": "i5ej9mFEZoS3",
        "colab_type": "code",
        "colab": {}
      },
      "source": [
        "class DateDataset(Dataset):\n",
        "    def __init__(self, data, label, tokenizer, source_max_length, target_max_length):\n",
        "        self.tokenizer = tokenizer\n",
        "        self.data = data\n",
        "        self.label = label\n",
        "        self.source_max_length = source_max_length\n",
        "        self.target_max_length = target_max_length\n",
        "        \n",
        "    def __len__(self):\n",
        "        return len(self.data)\n",
        "    \n",
        "    def __getitem__(self, idx):\n",
        "        source = self.data[idx]\n",
        "        target = self.label[idx]\n",
        "\n",
        "        source_tokenized = self.tokenizer.encode_plus(\n",
        "            f'{source} {self.tokenizer.eos_token}',\n",
        "            max_length=self.source_max_length,\n",
        "            pad_to_max_length=True,\n",
        "            return_tensors='pt')\n",
        "\n",
        "        target_tokenized = self.tokenizer.encode_plus(\n",
        "            f'{target} {self.tokenizer.eos_token}',\n",
        "            max_length=self.target_max_length,\n",
        "            pad_to_max_length=True,\n",
        "            return_tensors='pt')\n",
        "\n",
        "        source_token_ids = source_tokenized['input_ids'].squeeze()\n",
        "        source_mask = source_tokenized['attention_mask'].squeeze()\n",
        "        target_token_ids = target_tokenized['input_ids'].squeeze()\n",
        "        \n",
        "        return source_token_ids, source_mask, target_token_ids"
      ],
      "execution_count": 11,
      "outputs": []
    },
    {
      "cell_type": "code",
      "metadata": {
        "id": "O9yQ5DJYvUyQ",
        "colab_type": "code",
        "colab": {}
      },
      "source": [
        "class DateBase(LightningBase):\n",
        "\n",
        "    ## AS FUNÇÕES ABAIXO SÃO NECESSÁRIAS PARA O PYTORCH LIGHTNING ##\n",
        "    \n",
        "    ## O único método exigido nesta classe é prepare_data\n",
        "    ## outros métodos podem auxiliares podem ser criados acima\n",
        "\n",
        "    def prepare_data(self):\n",
        "        '''\n",
        "            O dataset deve ser preparado utilizando este método.\n",
        "            Ao final da execução devemos ter declarado as seguinte variáveis\n",
        "                - self.train_dataset\n",
        "                - self.valid_dataset\n",
        "                - self.test_dataset\n",
        "        '''\n",
        "        self.train_dataset = DateDataset(x_train, y_train, TOK, MAX_LEN_SRC, MAX_LEN_TRGT)\n",
        "        self.valid_dataset = DateDataset(x_val, y_val, TOK, MAX_LEN_SRC, MAX_LEN_TRGT)\n",
        "        self.test_dataset  = DateDataset(x_test, y_test, TOK, MAX_LEN_SRC, MAX_LEN_TRGT)"
      ],
      "execution_count": 12,
      "outputs": []
    },
    {
      "cell_type": "markdown",
      "metadata": {
        "id": "VisCOOVtA_Gl",
        "colab_type": "text"
      },
      "source": [
        "# Model"
      ]
    },
    {
      "cell_type": "code",
      "metadata": {
        "colab_type": "code",
        "id": "1k7JUjXRt3Dq",
        "colab": {}
      },
      "source": [
        "class DateNet(torch.nn.Module):\n",
        "    def __init__(self):\n",
        "        super(DateNet, self).__init__()\n",
        "        self.model = T5ForConditionalGeneration.from_pretrained(MODEL_SZ)\n",
        "        self.tokenizer = TOK\n",
        "    \n",
        "    def forward(self, source_token_ids, source_mask, target_token_ids=None,\n",
        "                target_mask=None):\n",
        "\n",
        "        if self.training:\n",
        "            # Calcular a loss dado os target_token_ids\n",
        "\n",
        "            loss = self.model.forward(\n",
        "                input_ids = source_token_ids,\n",
        "                attention_mask = source_mask,\n",
        "                lm_labels  = target_token_ids\n",
        "                )[0]\n",
        "            \n",
        "            return loss\n",
        "\n",
        "        else:\n",
        "\n",
        "            predicted_token_ids = model.generate(\n",
        "            source_token_ids.to(device), \n",
        "            source_mask.to(device),\n",
        "            MAX_LEN_TRGT\n",
        "            )\n",
        "            \n",
        "            return predicted_token_ids\n",
        " \n",
        "    @torch.no_grad()    \n",
        "    def generate(self, token_ids, att_mask, max_len_target):\n",
        "        predict = self.model.generate(\n",
        "            input_ids=token_ids, \n",
        "            attention_mask=att_mask,\n",
        "            max_length=max_len_target\n",
        "            )\n",
        "        return predict\n",
        "    \n",
        "    @torch.no_grad()  \n",
        "    def generate_example(self, text_input, tokenizer, max_len_source=MAX_LEN_SRC):\n",
        "\n",
        "        self.model.eval()\n",
        "        \n",
        "        example_tokenized = tokenizer.encode_plus(\n",
        "            f'{text_input} {tokenizer.eos_token}',\n",
        "            max_length=max_len_source,\n",
        "            pad_to_max_length=True,\n",
        "            return_tensors='pt')\n",
        "            \n",
        "        example_token_ids = example_tokenized['input_ids']\n",
        "        example_mask = example_tokenized['attention_mask']\n",
        "\n",
        "        predicted_example = self.model.generate(\n",
        "            input_ids=example_token_ids.to(device), \n",
        "            attention_mask=example_mask.to(device),\n",
        "            max_length=MAX_LEN_TRGT\n",
        "            )\n",
        "\n",
        "        self.model.train()\n",
        "\n",
        "        out_text = [tokenizer.decode(text) for text in predicted_example]\n",
        "        \n",
        "        return out_text"
      ],
      "execution_count": 13,
      "outputs": []
    },
    {
      "cell_type": "markdown",
      "metadata": {
        "id": "d7bwr5WMBSi4",
        "colab_type": "text"
      },
      "source": [
        "# Pytorch Lightning"
      ]
    },
    {
      "cell_type": "code",
      "metadata": {
        "id": "HCZ_4joLBUBf",
        "colab_type": "code",
        "colab": {}
      },
      "source": [
        "class DatePL(DateNet, pl.LightningModule):\n",
        "\n",
        "    def _handle_batch(self, batch):\n",
        "        source_token_ids, source_mask, target_token_ids = batch\n",
        "        loss = self(source_token_ids, \n",
        "                    source_mask, \n",
        "                    target_token_ids\n",
        "                    )\n",
        "        return loss\n",
        "\n",
        "    def _handle_eval_batch(self, batch):\n",
        "        outputs = self._handle_batch(batch)\n",
        "\n",
        "        return outputs\n",
        "\n",
        "    def _handle_eval_epoch_end(self, outputs, phase):\n",
        "        loss_avg = self._average_key(outputs, f'{phase}_loss')\n",
        "        return loss_avg\n",
        "\n",
        "    ## AS FUNÇÕES ABAIXO SÃO NECESSÁRIAS PARA O PYTORCH LIGHTNING ##\n",
        "\n",
        "    def training_step(self, batch, batch_idx):\n",
        "        outputs = self._handle_batch(batch)\n",
        "        return {'loss': outputs}\n",
        "\n",
        "    def validation_step(self, batch, batch_idx):\n",
        "\n",
        "        source_token_ids = batch[0]\n",
        "        source_mask = batch[1]\n",
        "        target_token_ids = batch[2]\n",
        "\n",
        "        predicted_token_ids = self.forward(source_token_ids, source_mask)\n",
        "\n",
        "        predicted = [self.tokenizer.decode(token_ids) \n",
        "                     for token_ids in predicted_token_ids]\n",
        "\n",
        "        target = [self.tokenizer.decode(token_ids) \n",
        "                     for token_ids in target_token_ids]\n",
        "\n",
        "        correct_preds = np.sum(np.array(predicted) == np.array(target))\n",
        "\n",
        "        if batch_idx % 100 == 0:\n",
        "          print('pred:',predicted)\n",
        "          print('target:',target)\n",
        "\n",
        "        return {'val_correct_preds': correct_preds}\n",
        "\n",
        "    def test_step(self, batch, batch_idx):\n",
        "        source_token_ids = batch[0]\n",
        "        source_mask = batch[1]\n",
        "        target_token_ids = batch[2]\n",
        "\n",
        "        predicted_token_ids = self.forward(source_token_ids, source_mask)\n",
        "\n",
        "        predicted = [self.tokenizer.decode(token_ids) \n",
        "                     for token_ids in predicted_token_ids]\n",
        "\n",
        "        target = [self.tokenizer.decode(token_ids) \n",
        "                     for token_ids in target_token_ids]\n",
        "\n",
        "        correct_preds = np.sum(np.array(predicted) == np.array(target))\n",
        "\n",
        "        if batch_idx % 100 == 0:\n",
        "          print('pred:',predicted)\n",
        "          print('target:',target)\n",
        "\n",
        "        return {'test_correct_preds': correct_preds}\n",
        "\n",
        "    def validation_epoch_end(self, outputs):\n",
        "\n",
        "        acc = sum([x['val_correct_preds'] for x in outputs]) / len(self.valid_dataset)\n",
        "        \n",
        "        print(f'validation accuracy: {acc}')\n",
        "        return {'avg_acc_val': acc}\n",
        "\n",
        "    def test_epoch_end(self, outputs):\n",
        "        acc = sum([x['test_correct_preds'] for x in outputs]) / len(self.test_dataset)\n",
        "        return {'avg_acc_test': acc}\n"
      ],
      "execution_count": 14,
      "outputs": []
    },
    {
      "cell_type": "markdown",
      "metadata": {
        "id": "XmU4qBHxBsAI",
        "colab_type": "text"
      },
      "source": [
        "# Final Class"
      ]
    },
    {
      "cell_type": "code",
      "metadata": {
        "id": "FFmCk5TuBrIk",
        "colab_type": "code",
        "colab": {}
      },
      "source": [
        "class DateTuner(DateBase, DatePL):\n",
        "\n",
        "    '''\n",
        "        Classe final responsável por controlar os hiper parâmetros e\n",
        "        combinar as classes do modelo e dataset;\n",
        "\n",
        "        default_hparams deve conter sugestões de todos hiper parâmetros\n",
        "        necessários para se criar o modelo\n",
        "    '''\n",
        "\n",
        "    default_hparams = {\n",
        "        \"lr\": 5e-4,\n",
        "        \"optimizer\": 'Adam',\n",
        "        \"optimizer_kwargs\": {},\n",
        "        \"train_batch_size\": 16,\n",
        "        \"val_batch_size\": 16,\n",
        "        \"shuffle_train\": True,\n",
        "        \"num_workers\": 4,\n",
        "        \"deterministic\": True,\n",
        "        \"seed\": 2357,\n",
        "    }\n",
        "\n",
        "    def __init__(self, hparams=None):\n",
        "        super(DatePL, self).__init__()\n",
        "        self.hparams = self._construct_hparams(hparams)\n",
        "\n",
        "    def _construct_hparams(self, hparams):\n",
        "        default_hparams = self.default_hparams.copy()\n",
        "        if hparams is not None:\n",
        "            default_hparams.update(hparams)\n",
        "\n",
        "        if default_hparams['deterministic']:\n",
        "            pl.seed_everything(default_hparams['seed'])\n",
        "\n",
        "        return Namespace(**default_hparams)"
      ],
      "execution_count": 15,
      "outputs": []
    },
    {
      "cell_type": "markdown",
      "metadata": {
        "id": "ClllFY38DAA8",
        "colab_type": "text"
      },
      "source": [
        "# Training"
      ]
    },
    {
      "cell_type": "code",
      "metadata": {
        "id": "pLUg9PDhDEz8",
        "colab_type": "code",
        "colab": {}
      },
      "source": [
        "# hiper parametros que serão utilizados pelas classes acima\n",
        "hparams = {\n",
        "    \"train_batch_size\": 16,\n",
        "    \"val_batch_size\": 16,\n",
        "    \"deterministic\": True,\n",
        "    \"seed\": 2357\n",
        "}\n",
        "\n",
        "# hiper parametros que serão utilizados pela class Trainer do Lightning\n",
        "trainer_hparams = {\n",
        "    \"gpus\": 1,\n",
        "    \"max_epochs\": N_EPOCHS, \n",
        "    \"progress_bar_refresh_rate\":100,\n",
        "}\n",
        "\n",
        "# atualizamos o primeiro com o segundo para que todos fiquem salvos no arquivo\n",
        "# de hiper parametros hparams.yaml\n",
        "hparams.update(trainer_hparams)"
      ],
      "execution_count": 16,
      "outputs": []
    },
    {
      "cell_type": "code",
      "metadata": {
        "id": "sXJKnmK7C_A3",
        "colab_type": "code",
        "colab": {
          "base_uri": "https://localhost:8080/",
          "height": 132,
          "referenced_widgets": [
            "ce688c6119774254b546ec501294b052",
            "8aff44868e344f639199fab906a2ce72",
            "7584c0bfec3b43d0b22ba973c71c0e4b",
            "5b99b7fe2fcb44bf8c5cedf7251f7952",
            "2cc2a1edc2fa407d90820d8b9152df28",
            "557a947f694c45f1a1c8382ab08cd42d",
            "b69fe0f4e9e24222b6d3de5ad0b27c8c",
            "1ad18311b78f4f6e9ec0cdc846934d60",
            "5f99c4a9d0d6416d92f60c8981e7a79e",
            "e96be4b603a646ab9752ec786ba87ede",
            "4f30681489864212a53e3fccedc6425b",
            "69c52265e9434eb5acb242fbb39c7fa3",
            "ddbde2f6a9314684a7b8d1b0ecd3f4c6",
            "ef544371dbb643c1afc65266225c8d39",
            "6dc4d55c6dcc4bef9f38e3fa0f825a7f",
            "89b37a6f24e942faa9b41e3e5742be99"
          ]
        },
        "outputId": "ccb554a2-be5f-4655-9785-d470dc750664"
      },
      "source": [
        "try:\n",
        "  del model\n",
        "except:\n",
        "  print('Model already erased, starting a new one!')\n",
        "\n",
        "model = DateTuner()"
      ],
      "execution_count": 17,
      "outputs": [
        {
          "output_type": "stream",
          "text": [
            "Model already erased, starting a new one!\n"
          ],
          "name": "stdout"
        },
        {
          "output_type": "display_data",
          "data": {
            "application/vnd.jupyter.widget-view+json": {
              "model_id": "ce688c6119774254b546ec501294b052",
              "version_minor": 0,
              "version_major": 2
            },
            "text/plain": [
              "HBox(children=(FloatProgress(value=0.0, description='Downloading', max=1197.0, style=ProgressStyle(description…"
            ]
          },
          "metadata": {
            "tags": []
          }
        },
        {
          "output_type": "stream",
          "text": [
            "\n"
          ],
          "name": "stdout"
        },
        {
          "output_type": "display_data",
          "data": {
            "application/vnd.jupyter.widget-view+json": {
              "model_id": "5f99c4a9d0d6416d92f60c8981e7a79e",
              "version_minor": 0,
              "version_major": 2
            },
            "text/plain": [
              "HBox(children=(FloatProgress(value=0.0, description='Downloading', max=242136741.0, style=ProgressStyle(descri…"
            ]
          },
          "metadata": {
            "tags": []
          }
        },
        {
          "output_type": "stream",
          "text": [
            "\n"
          ],
          "name": "stdout"
        }
      ]
    },
    {
      "cell_type": "markdown",
      "metadata": {
        "id": "RNlKtbYeGHKO",
        "colab_type": "text"
      },
      "source": [
        "## Dev Run\n",
        "\n",
        "Primeiramente fazemos *fast_dev_run* para ter certeza que não erros no códigos.\n",
        "\n",
        "O *fast_dev_run* irá rodar um *step* de cada fase: treino, validação e teste."
      ]
    },
    {
      "cell_type": "code",
      "metadata": {
        "id": "Kywgvzq1Dkqg",
        "colab_type": "code",
        "colab": {
          "base_uri": "https://localhost:8080/",
          "height": 305,
          "referenced_widgets": [
            "5c0e29e0b6d64f6c98e960647dec1773",
            "3f97b727fca34fcb92af591fae474ba2",
            "78ffbbc4411c4d4eb42236b600917f77",
            "3dceab6915d24f93a76b059efd6485bf",
            "f78e9b791e4b4658a0583cb5625e2bf1",
            "86160e56a2ad48928919ff56a9062b05",
            "5e39c4f2551a42f497c90b0a7e8bedc8",
            "b205997436d34c3bb471c3223c219ad3",
            "3b6d01d70fe94c3693c581787c9a7d21",
            "746e05cf9a1e4acdacf3ac91dd133ab8",
            "1c24e03c2f60470e9dfabe18ff2ea5b6",
            "80d380cffb494dc196e4c9d97ad1acb9",
            "974431cdab36455eba7d4e1f5c4cd3cf",
            "470f1e9f3fee4dcabf4dea87482a152e",
            "d8da54f1f2654262bb68f5081645341d",
            "7700123923614a93a1db7f9e96bbcf0f"
          ]
        },
        "outputId": "fb292e9a-e3d0-43c1-e40e-82b2b6097596"
      },
      "source": [
        "dev_run = True\n",
        "\n",
        "if dev_run:\n",
        "    trainer = pl.Trainer(fast_dev_run=True, **trainer_hparams)\n",
        "    trainer.fit(model)"
      ],
      "execution_count": 18,
      "outputs": [
        {
          "output_type": "stream",
          "text": [
            "Running in fast_dev_run mode: will run a full train, val and test loop using a single batch\n",
            "GPU available: True, used: True\n",
            "TPU available: False, using: 0 TPU cores\n",
            "CUDA_VISIBLE_DEVICES: [0]\n",
            "\n",
            "  | Name  | Type                       | Params\n",
            "-----------------------------------------------------\n",
            "0 | model | T5ForConditionalGeneration | 60 M  \n"
          ],
          "name": "stderr"
        },
        {
          "output_type": "display_data",
          "data": {
            "application/vnd.jupyter.widget-view+json": {
              "model_id": "5c0e29e0b6d64f6c98e960647dec1773",
              "version_minor": 0,
              "version_major": 2
            },
            "text/plain": [
              "HBox(children=(FloatProgress(value=1.0, bar_style='info', description='Training', layout=Layout(flex='2'), max…"
            ]
          },
          "metadata": {
            "tags": []
          }
        },
        {
          "output_type": "display_data",
          "data": {
            "application/vnd.jupyter.widget-view+json": {
              "model_id": "3b6d01d70fe94c3693c581787c9a7d21",
              "version_minor": 0,
              "version_major": 2
            },
            "text/plain": [
              "HBox(children=(FloatProgress(value=1.0, bar_style='info', description='Validating', layout=Layout(flex='2'), m…"
            ]
          },
          "metadata": {
            "tags": []
          }
        },
        {
          "output_type": "stream",
          "text": [
            "pred: ['11 do mês dez de 2023', '26 - julho - 1966', '15 15 - 8 - 2104', '01 01 / 12 / 2114', '12-7-1953', '1 / 11 / 1972', '3 / mai / 1973', '27. 2. 2066', 'janeiro dois mil mil e novent', '1925', '04 04. 11. 2026', 'jun-2049', 'trinta de janeiro de dois', '12. 01. 1996', '1929', '27/12/2056']\n",
            "target: ['11/10/2023', '26/07/1966', '15/08/2104', '01/12/2114', '12/07/1953', '01/11/1972', '03/05/1973', '27/02/2066', '01/2090', '13/10/1925', '04/11/2026', '06/2049', '30/01/2030', '12/01/1996', '02/1929', '27/12/2056']\n",
            "validation accuracy: 5.622399640166423e-05\n",
            "\n"
          ],
          "name": "stdout"
        }
      ]
    },
    {
      "cell_type": "markdown",
      "metadata": {
        "id": "TquD7epOGa7j",
        "colab_type": "text"
      },
      "source": [
        "## Fit\n",
        "\n",
        "Por fim fazemos *fit* no dataset inteiro"
      ]
    },
    {
      "cell_type": "code",
      "metadata": {
        "id": "jcIakrJ7GcGQ",
        "colab_type": "code",
        "colab": {
          "base_uri": "https://localhost:8080/",
          "height": 68
        },
        "outputId": "576da942-95f9-451d-bb0f-f9731aabfe01"
      },
      "source": [
        "trainer = pl.Trainer(**trainer_hparams)"
      ],
      "execution_count": 19,
      "outputs": [
        {
          "output_type": "stream",
          "text": [
            "GPU available: True, used: True\n",
            "TPU available: False, using: 0 TPU cores\n",
            "CUDA_VISIBLE_DEVICES: [0]\n"
          ],
          "name": "stderr"
        }
      ]
    },
    {
      "cell_type": "code",
      "metadata": {
        "id": "c7TfqBe8GgX5",
        "colab_type": "code",
        "colab": {
          "base_uri": "https://localhost:8080/",
          "height": 1000,
          "referenced_widgets": [
            "82166461819f45c0853cc262139baf26",
            "018adb08d8f9440e973ec45921076025",
            "2b9f26f0181f45689981490a6d73b0c0",
            "acd9f3c9e8af45a1aa9c10af34f2455d",
            "2cef8b88d9b7450a96277ee3cdaf8acd",
            "fbe308301ee6491bbc6b31b9c8edb474",
            "d06874121ade437680121b8391de77e8",
            "c46ea333e8ce4ed0b84f0a15f26fcded",
            "17fa6d5e9abd42d990d2fca4d9713310",
            "15faa294ee924dbc8b30a6f39e617c38",
            "d1c855a81ff845c79f1f5aa58ce00f64",
            "e9f0ba780302444d97eb47ec3a15de8c",
            "ae41842804a240c4a5a6c0cc4e35252d",
            "f30b15721bb841aa8643238beee39bb4",
            "2516f2e0110b4d68bd82d3b69f54c0ed",
            "d2518bee593a41459fd7b499c26af93d",
            "098aba696c70408d8aee1d4c5f764e80",
            "f230b23ddd5941acbcddb281e483f13b",
            "e1f38c545af1469eb8f929b2a7778ea5",
            "76d638a8ab31479e99eebb0e97652c81",
            "4926f8bb4489492ba1b165b290624569",
            "51b6b199d46b4afd912441f15cbb13d5",
            "9eda9b076a894ae3b1e90701e4ac4fed",
            "9eb7d146fc414709be08f4d1321da796",
            "062b59f77c2f4d2a8b5af8927ace2aa2",
            "1dc3570d8df040c1bd9e27e77e4799f0",
            "abbf97a8a7cb4b6fb76bea2f0e0012ee",
            "5a7b6390d6ef4359bc51d98ba272db75",
            "a1d0b49d4c6246a4a108a7852cf02320",
            "d6c53e951f724027b187a38936881a2d",
            "116bd96c49314d96be3e29ec726ff552",
            "6af6243f0b5a4d76a5ba1baf02e748c3",
            "b9a2966e104f4eaca13f2a781981ce10",
            "5c6acd1a440f4ce299f1598e2da744a4",
            "8410ac7f16e549688b7b73745d0f4484",
            "6ce149ab0f0340a692ef1ab187017372",
            "6066d1a1fc45499bb64a0325ebd1e21d",
            "46df10d894f24e01a6773abd03fd5813",
            "a5880f2d4fa440049830906b50d65cbd",
            "20104c820afa49b893d1a755354cc4fe"
          ]
        },
        "outputId": "8f77549e-85d0-475a-afe5-221eb9aec02c"
      },
      "source": [
        "trainer.fit(model)"
      ],
      "execution_count": 20,
      "outputs": [
        {
          "output_type": "stream",
          "text": [
            "\n",
            "  | Name  | Type                       | Params\n",
            "-----------------------------------------------------\n",
            "0 | model | T5ForConditionalGeneration | 60 M  \n"
          ],
          "name": "stderr"
        },
        {
          "output_type": "display_data",
          "data": {
            "application/vnd.jupyter.widget-view+json": {
              "model_id": "82166461819f45c0853cc262139baf26",
              "version_minor": 0,
              "version_major": 2
            },
            "text/plain": [
              "HBox(children=(FloatProgress(value=1.0, bar_style='info', description='Validation sanity check', layout=Layout…"
            ]
          },
          "metadata": {
            "tags": []
          }
        },
        {
          "output_type": "stream",
          "text": [
            "pred: ['11 do mês dez de 2023', '26 - julho - 1966', '15 15 - 8 - 2104', '01 01 / 12 / 2114', '12-7-1953', '1 / 11 / 1972', '3 / mai / 1973', '27. 2. 2066', 'janeiro dois mil mil e novent', '1925', '04 04. 11. 2026', 'jun-2049', 'trinta de janeiro de dois', '12. 01. 1996', '1929', '27/12/2056']\n",
            "target: ['11/10/2023', '26/07/1966', '15/08/2104', '01/12/2114', '12/07/1953', '01/11/1972', '03/05/1973', '27/02/2066', '01/2090', '13/10/1925', '04/11/2026', '06/2049', '30/01/2030', '12/01/1996', '02/1929', '27/12/2056']\n",
            "validation accuracy: 5.622399640166423e-05\n"
          ],
          "name": "stdout"
        },
        {
          "output_type": "display_data",
          "data": {
            "application/vnd.jupyter.widget-view+json": {
              "model_id": "17fa6d5e9abd42d990d2fca4d9713310",
              "version_minor": 0,
              "version_major": 2
            },
            "text/plain": [
              "HBox(children=(FloatProgress(value=1.0, bar_style='info', description='Training', layout=Layout(flex='2'), max…"
            ]
          },
          "metadata": {
            "tags": []
          }
        },
        {
          "output_type": "display_data",
          "data": {
            "application/vnd.jupyter.widget-view+json": {
              "model_id": "098aba696c70408d8aee1d4c5f764e80",
              "version_minor": 0,
              "version_major": 2
            },
            "text/plain": [
              "HBox(children=(FloatProgress(value=1.0, bar_style='info', description='Validating', layout=Layout(flex='2'), m…"
            ]
          },
          "metadata": {
            "tags": []
          }
        },
        {
          "output_type": "stream",
          "text": [
            "pred: ['11/10/2023', '26/07/1966', '15/08/2104', '01/12/2114', '12/07/1953', '01/11/1972', '03/05/1973', '27/02/2066', '01/2090', '13/10/1925', '04/11/2026', '06/2049', '30/01/2030', '12/01/1996', '02/1929', '27/12/2056']\n",
            "target: ['11/10/2023', '26/07/1966', '15/08/2104', '01/12/2114', '12/07/1953', '01/11/1972', '03/05/1973', '27/02/2066', '01/2090', '13/10/1925', '04/11/2026', '06/2049', '30/01/2030', '12/01/1996', '02/1929', '27/12/2056']\n",
            "pred: ['25/11/2011', '20/08/2102', '-465d', '05/2073', '18d', '04/03/1932', '15/08/1937', '28/10/1932', '21/11/2019', '29/09/2007', '24/01/1976', '30/04/2026', '08/12/1926', '18/04/2052', '15/01/2010', '18/04/1991']\n",
            "target: ['25/11/2011', '20/08/2102', '-465d', '05/2073', '18d', '04/03/1932', '15/08/1937', '28/10/1932', '21/11/2019', '29/09/2007', '24/01/1976', '30/04/2026', '08/12/1926', '18/04/2052', '15/01/2010', '18/04/1991']\n",
            "pred: ['12/06/1937', '10/05/1924', '11/08/2055', '22/03/2001', '02/02/1980', '04/12/2007', '27/07/2074', '20/08/2090', '18/05', '10/04/1936', '22/06/2108', '-294d', '11/11/1981', '25/11/1946', '01/06/1987', '24/11/2002']\n",
            "target: ['12/06/1937', '10/05/1924', '11/08/2055', '22/03/2001', '02/02/1980', '04/12/2007', '27/07/2074', '20/08/2090', '18/05', '10/04/1936', '22/06/2108', '-294d', '11/11/1981', '25/11/1946', '01/06/1987', '24/11/2002']\n",
            "pred: ['07/1990', '19/08/2056', '07/05/1964', '-172d', '20/12/2081', '05/08/2005', '309d', '25/11/1991', '64m', '29/01/2027', '01/2069', '7y', '04/11/1948', '05/1965', '11/03/2063', '05/08/1937']\n",
            "target: ['07/1990', '19/08/2056', '07/05/1964', '-172d', '20/12/2081', '05/08/2005', '39d', '25/11/1991', '64m', '29/01/2027', '01/2069', '7y', '04/11/1948', '05/1965', '11/03/2063', '05/08/1937']\n",
            "pred: ['01/03/2107', '15/03/1922', '09/08/2046', '09/1954', '12/01/2096', '21/11/1982', '05/03/2119', '16/05/2040', '03/04/2047', '03/10/2046', '19/05/1990', '337d', '03/2000', '09/06/2024', '10/10/1970', '01/12/1943']\n",
            "target: ['01/03/2107', '15/03/1922', '09/08/2046', '09/1954', '12/01/2096', '21/11/1982', '05/03/2119', '16/05/2040', '03/04/2047', '03/10/2046', '19/05/1990', '337d', '03/2000', '09/06/2024', '10/10/1970', '01/12/1943']\n",
            "pred: ['-458m', '08/08/2088', '26/08/1967', '21/08/2027', '07/08/2008', '24/02/2038', '08/2088', '06/01/1964', '15/04/1945', '05/11/1984', '-360m', '20/08/2005', '28/05/2006', '18/05/1983', '21/11/2023', '05/02/1942']\n",
            "target: ['-458m', '08/08/2088', '26/08/1967', '21/08/2027', '07/08/2008', '24/02/2038', '08/2088', '06/01/1964', '15/04/1945', '05/11/1984', '-360m', '20/08/2005', '28/05/2006', '18/05/1983', '21/11/2023', '05/02/1942']\n",
            "pred: ['18/03/2083', '01/03/1951', '18/09/2058', '15/11/2047', '06/04/1922', '12/05/2031', '17/02/2079', '15/04/2002', '24/10/1997', '24/10/1923', '31/10/2093', '03/02/2095', '20/02/1943', '04/03/1938', '05/08/2120', '08/1926']\n",
            "target: ['18/03/2083', '01/03/1951', '18/09/2058', '15/11/2047', '06/04/1922', '12/05/2031', '17/02/2079', '15/04/2002', '24/10/1997', '24/10/1923', '31/10/2093', '03/02/2095', '20/02/1943', '04/03/1938', '05/08/2120', '08/1926']\n",
            "pred: ['05/2064', '01/09/2095', '06/03/2061', '04/12/2030', '24/06/2002', '26/10/2048', '06/06/1939', '05/01/1987', '01/2032', '11/02/2059', '30/09/2071', '06/11', '-357d', '26/11/2031', '05/04/2010', '484y']\n",
            "target: ['05/2064', '01/09/2095', '06/03/2061', '04/12/2030', '24/06/2002', '26/10/2048', '06/06/1939', '05/01/1987', '01/2032', '11/02/2059', '30/09/2071', '06/11', '-357d', '26/11/2031', '05/04/2010', '484y']\n",
            "pred: ['10/02', '26/11/1997', '14/05/1925', '29/03/1984', '13/09/2033', '27/04/2048', '22/11', '22/08/2118', '17/01/1986', '08/09/2091', '08/07/1988', '30/05/2050', '05/03/2045', '27/07/2041', '01/2085', '17/08/1938']\n",
            "target: ['10/02', '26/11/1997', '14/05/1925', '29/03/1984', '13/09/2033', '27/04/2048', '22/11', '22/08/2118', '17/01/1986', '08/09/2091', '08/07/1988', '30/05/2050', '05/03/2045', '27/07/2041', '01/2085', '17/08/1938']\n",
            "pred: ['22/01', '03/07/1977', '25/04/2076', '03/1991', '02/07/1995', '21/09/1970', '29/06/2062', '15/04', '23/06/1972', '04/04/2037', '17/02/1963', '05/09/1997', '23/11/2072', '15/07/2055', '20/05/1925', '05/2002']\n",
            "target: ['22/01', '03/07/1977', '25/04/2076', '03/1991', '02/07/1995', '21/09/1970', '29/06/2062', '15/04', '23/06/1972', '04/04/2037', '17/02/1963', '05/09/1997', '23/11/2072', '15/07/2055', '20/05/1925', '05/2002']\n",
            "pred: ['07/01/1983', '26/10/2100', '03/08', '15/04/1989', '18/01', '11/2006', '08/10/1944', '29/04/2120', '05/2077', '19/10/2001', '23/12/2035', '28/03/2060', '26/10/2042', '15/09/2059', '28/08/2040', '386y']\n",
            "target: ['07/01/1983', '26/10/2100', '03/08', '15/04/1989', '18/01', '11/2006', '08/10/1944', '29/04/2120', '05/2077', '19/10/2001', '23/12/2035', '28/03/2060', '26/10/2042', '15/09/2059', '28/08/2040', '386y']\n",
            "pred: ['20/01/1973', '10/11/1973', '19/04/2065', '09/11/2078', '02/03/1921', '26/09/1988', '02/05/1943', '18/03/2049', '06/07/2016', '27/03/1951', '25/05/2030', '02/03/2079', '30/10/2077', '28/07/2035', '27/03/1969', '01/04/2040']\n",
            "target: ['20/01/1973', '10/11/1973', '19/04/2065', '09/11/2078', '02/03/1921', '26/09/1988', '02/05/1943', '18/03/2049', '06/07/2016', '27/03/1951', '25/05/2030', '02/03/2079', '30/10/2077', '28/07/2035', '27/03/1969', '01/04/2040']\n",
            "validation accuracy: 0.9856628809175756\n"
          ],
          "name": "stdout"
        },
        {
          "output_type": "display_data",
          "data": {
            "application/vnd.jupyter.widget-view+json": {
              "model_id": "062b59f77c2f4d2a8b5af8927ace2aa2",
              "version_minor": 0,
              "version_major": 2
            },
            "text/plain": [
              "HBox(children=(FloatProgress(value=1.0, bar_style='info', description='Validating', layout=Layout(flex='2'), m…"
            ]
          },
          "metadata": {
            "tags": []
          }
        },
        {
          "output_type": "stream",
          "text": [
            "pred: ['11/10/2023', '26/07/1966', '15/08/2104', '01/12/2114', '12/07/1953', '01/11/1972', '03/05/1973', '27/02/2066', '01/2090', '13/10/1925', '04/11/2026', '06/2049', '30/01/2030', '12/01/1996', '02/1929', '27/12/2056']\n",
            "target: ['11/10/2023', '26/07/1966', '15/08/2104', '01/12/2114', '12/07/1953', '01/11/1972', '03/05/1973', '27/02/2066', '01/2090', '13/10/1925', '04/11/2026', '06/2049', '30/01/2030', '12/01/1996', '02/1929', '27/12/2056']\n",
            "pred: ['25/11/2011', '20/08/2102', '-465d', '05/2073', '18d', '04/03/1932', '15/08/1937', '28/10/1932', '21/11/2019', '29/09/2007', '24/01/1976', '30/04/2026', '08/12/1926', '18/04/2052', '15/01/2010', '18/04/1991']\n",
            "target: ['25/11/2011', '20/08/2102', '-465d', '05/2073', '18d', '04/03/1932', '15/08/1937', '28/10/1932', '21/11/2019', '29/09/2007', '24/01/1976', '30/04/2026', '08/12/1926', '18/04/2052', '15/01/2010', '18/04/1991']\n",
            "pred: ['12/06/1937', '10/05/1924', '11/08/2055', '22/03/2001', '02/02/1980', '04/12/2007', '27/07/2074', '20/08/2090', '18/05', '10/04/1936', '22/06/2108', '-294d', '11/11/1981', '25/11/1946', '01/06/1987', '24/11/2002']\n",
            "target: ['12/06/1937', '10/05/1924', '11/08/2055', '22/03/2001', '02/02/1980', '04/12/2007', '27/07/2074', '20/08/2090', '18/05', '10/04/1936', '22/06/2108', '-294d', '11/11/1981', '25/11/1946', '01/06/1987', '24/11/2002']\n",
            "pred: ['07/1990', '19/08/2056', '07/05/1964', '-172d', '20/12/2081', '05/08/2005', '39d', '25/11/1991', '64m', '29/01/2027', '01/2069', '7y', '04/11/1948', '05/1965', '11/03/2063', '05/08/1937']\n",
            "target: ['07/1990', '19/08/2056', '07/05/1964', '-172d', '20/12/2081', '05/08/2005', '39d', '25/11/1991', '64m', '29/01/2027', '01/2069', '7y', '04/11/1948', '05/1965', '11/03/2063', '05/08/1937']\n",
            "pred: ['01/03/2107', '15/03/1922', '09/08/2046', '09/1954', '12/01/2096', '21/11/1982', '05/03/2119', '16/05/2040', '03/04/2047', '03/10/2046', '19/05/1990', '337d', '03/2000', '09/06/2024', '10/10/1970', '01/12/1943']\n",
            "target: ['01/03/2107', '15/03/1922', '09/08/2046', '09/1954', '12/01/2096', '21/11/1982', '05/03/2119', '16/05/2040', '03/04/2047', '03/10/2046', '19/05/1990', '337d', '03/2000', '09/06/2024', '10/10/1970', '01/12/1943']\n",
            "pred: ['-458m', '08/08/2088', '26/08/1967', '21/08/2027', '07/08/2008', '24/02/2038', '08/2088', '06/01/1964', '15/04/1945', '05/11/1984', '-360m', '20/08/2005', '28/05/2006', '18/05/1983', '21/11/2023', '05/02/1942']\n",
            "target: ['-458m', '08/08/2088', '26/08/1967', '21/08/2027', '07/08/2008', '24/02/2038', '08/2088', '06/01/1964', '15/04/1945', '05/11/1984', '-360m', '20/08/2005', '28/05/2006', '18/05/1983', '21/11/2023', '05/02/1942']\n",
            "pred: ['18/03/2083', '01/03/1951', '18/09/2058', '15/11/2047', '06/04/1922', '12/05/2031', '17/02/2079', '15/04/2002', '24/10/1997', '24/10/1923', '31/10/2093', '03/02/2095', '20/02/1943', '04/03/1938', '05/08/2120', '08/1926']\n",
            "target: ['18/03/2083', '01/03/1951', '18/09/2058', '15/11/2047', '06/04/1922', '12/05/2031', '17/02/2079', '15/04/2002', '24/10/1997', '24/10/1923', '31/10/2093', '03/02/2095', '20/02/1943', '04/03/1938', '05/08/2120', '08/1926']\n",
            "pred: ['05/2064', '01/09/2095', '06/03/2061', '04/12/2030', '24/06/2002', '26/10/2048', '06/06/1939', '05/01/1987', '01/2032', '11/02/2059', '30/09/2071', '06/11', '-357d', '26/11/2031', '05/04/2010', '484y']\n",
            "target: ['05/2064', '01/09/2095', '06/03/2061', '04/12/2030', '24/06/2002', '26/10/2048', '06/06/1939', '05/01/1987', '01/2032', '11/02/2059', '30/09/2071', '06/11', '-357d', '26/11/2031', '05/04/2010', '484y']\n",
            "pred: ['10/02', '26/11/1997', '14/05/1925', '29/03/1984', '13/09/2033', '27/04/2048', '22/11', '22/08/2118', '17/01/1986', '08/09/2091', '08/07/1988', '30/05/2050', '05/03/2045', '27/07/2041', '01/2085', '17/08/1938']\n",
            "target: ['10/02', '26/11/1997', '14/05/1925', '29/03/1984', '13/09/2033', '27/04/2048', '22/11', '22/08/2118', '17/01/1986', '08/09/2091', '08/07/1988', '30/05/2050', '05/03/2045', '27/07/2041', '01/2085', '17/08/1938']\n",
            "pred: ['22/01', '03/07/1977', '25/04/2076', '03/1991', '02/07/1995', '21/09/1970', '29/06/2062', '15/04', '23/06/1972', '04/04/2037', '17/02/1963', '05/09/1997', '23/11/2072', '15/07/2055', '20/05/1925', '05/2002']\n",
            "target: ['22/01', '03/07/1977', '25/04/2076', '03/1991', '02/07/1995', '21/09/1970', '29/06/2062', '15/04', '23/06/1972', '04/04/2037', '17/02/1963', '05/09/1997', '23/11/2072', '15/07/2055', '20/05/1925', '05/2002']\n",
            "pred: ['07/01/1983', '26/10/2100', '03/08', '15/04/1989', '18/01', '11/2006', '08/10/1944', '29/04/2120', '05/2077', '19/10/2001', '23/12/2035', '28/03/2060', '26/10/2042', '15/09/2059', '28/08/2040', '386y']\n",
            "target: ['07/01/1983', '26/10/2100', '03/08', '15/04/1989', '18/01', '11/2006', '08/10/1944', '29/04/2120', '05/2077', '19/10/2001', '23/12/2035', '28/03/2060', '26/10/2042', '15/09/2059', '28/08/2040', '386y']\n",
            "pred: ['20/01/1973', '10/11/1973', '19/04/2065', '09/11/2078', '02/03/1921', '26/09/1988', '02/05/1943', '18/03/2049', '06/07/2016', '27/03/1951', '25/05/2030', '02/03/2079', '30/10/2077', '28/07/2035', '27/03/1969', '01/04/2040']\n",
            "target: ['20/01/1973', '10/11/1973', '19/04/2065', '09/11/2078', '02/03/1921', '26/09/1988', '02/05/1943', '18/03/2049', '06/07/2016', '27/03/1951', '25/05/2030', '02/03/2079', '30/10/2077', '28/07/2035', '27/03/1969', '01/04/2040']\n",
            "validation accuracy: 0.9885303047340604\n"
          ],
          "name": "stdout"
        },
        {
          "output_type": "display_data",
          "data": {
            "application/vnd.jupyter.widget-view+json": {
              "model_id": "b9a2966e104f4eaca13f2a781981ce10",
              "version_minor": 0,
              "version_major": 2
            },
            "text/plain": [
              "HBox(children=(FloatProgress(value=1.0, bar_style='info', description='Validating', layout=Layout(flex='2'), m…"
            ]
          },
          "metadata": {
            "tags": []
          }
        },
        {
          "output_type": "stream",
          "text": [
            "pred: ['11/10/2023', '26/07/1966', '15/08/2104', '01/12/2114', '12/07/1953', '01/11/1972', '03/05/1973', '27/02/2066', '01/2090', '13/10/1925', '04/11/2026', '06/2049', '30/01/2030', '12/01/1996', '02/1929', '27/12/2056']\n",
            "target: ['11/10/2023', '26/07/1966', '15/08/2104', '01/12/2114', '12/07/1953', '01/11/1972', '03/05/1973', '27/02/2066', '01/2090', '13/10/1925', '04/11/2026', '06/2049', '30/01/2030', '12/01/1996', '02/1929', '27/12/2056']\n",
            "pred: ['25/11/2011', '20/08/2102', '-465d', '05/2073', '18d', '04/03/1932', '15/08/1937', '28/10/1932', '21/11/2019', '29/09/2007', '24/01/1976', '30/04/2026', '08/12/1926', '18/04/2052', '15/01/2010', '18/04/1991']\n",
            "target: ['25/11/2011', '20/08/2102', '-465d', '05/2073', '18d', '04/03/1932', '15/08/1937', '28/10/1932', '21/11/2019', '29/09/2007', '24/01/1976', '30/04/2026', '08/12/1926', '18/04/2052', '15/01/2010', '18/04/1991']\n",
            "pred: ['12/06/1937', '10/05/1924', '11/08/2055', '22/03/2001', '02/02/1980', '04/12/2007', '27/07/2074', '20/08/2090', '18/05', '10/04/1936', '22/06/2108', '-294d', '11/11/1981', '25/11/1946', '01/06/1987', '24/11/2002']\n",
            "target: ['12/06/1937', '10/05/1924', '11/08/2055', '22/03/2001', '02/02/1980', '04/12/2007', '27/07/2074', '20/08/2090', '18/05', '10/04/1936', '22/06/2108', '-294d', '11/11/1981', '25/11/1946', '01/06/1987', '24/11/2002']\n",
            "pred: ['07/1990', '19/08/2056', '07/05/1964', '-172d', '20/12/2081', '05/08/2005', '39d', '25/11/1991', '64m', '29/01/2027', '01/2069', '7y', '04/11/1948', '05/1965', '11/03/2063', '05/08/1937']\n",
            "target: ['07/1990', '19/08/2056', '07/05/1964', '-172d', '20/12/2081', '05/08/2005', '39d', '25/11/1991', '64m', '29/01/2027', '01/2069', '7y', '04/11/1948', '05/1965', '11/03/2063', '05/08/1937']\n",
            "pred: ['01/03/2107', '15/03/1922', '09/08/2046', '09/1954', '12/01/2096', '21/11/1982', '05/03/2119', '16/05/2040', '03/04/2047', '03/10/2046', '19/05/1990', '337d', '03/2000', '09/06/2024', '10/10/1970', '01/12/1943']\n",
            "target: ['01/03/2107', '15/03/1922', '09/08/2046', '09/1954', '12/01/2096', '21/11/1982', '05/03/2119', '16/05/2040', '03/04/2047', '03/10/2046', '19/05/1990', '337d', '03/2000', '09/06/2024', '10/10/1970', '01/12/1943']\n",
            "pred: ['-458m', '08/08/2088', '26/08/1967', '21/08/2027', '07/08/2008', '24/02/2038', '08/2088', '06/01/1964', '15/04/1945', '05/11/1984', '-360m', '20/08/2005', '28/05/2006', '18/05/1983', '21/11/2023', '05/02/1942']\n",
            "target: ['-458m', '08/08/2088', '26/08/1967', '21/08/2027', '07/08/2008', '24/02/2038', '08/2088', '06/01/1964', '15/04/1945', '05/11/1984', '-360m', '20/08/2005', '28/05/2006', '18/05/1983', '21/11/2023', '05/02/1942']\n",
            "pred: ['18/03/2083', '01/03/1951', '18/09/2058', '15/11/2047', '06/04/1922', '12/05/2031', '17/02/2079', '15/04/2002', '24/10/1997', '24/10/1923', '31/10/2093', '03/02/2095', '20/02/1943', '04/03/1938', '05/08/2120', '08/1926']\n",
            "target: ['18/03/2083', '01/03/1951', '18/09/2058', '15/11/2047', '06/04/1922', '12/05/2031', '17/02/2079', '15/04/2002', '24/10/1997', '24/10/1923', '31/10/2093', '03/02/2095', '20/02/1943', '04/03/1938', '05/08/2120', '08/1926']\n",
            "pred: ['05/2064', '01/09/2095', '06/03/2061', '04/12/2030', '24/06/2002', '26/10/2048', '06/06/1939', '05/01/1987', '01/2032', '11/02/2059', '30/09/2071', '06/11', '-357d', '26/11/2031', '05/04/2010', '484y']\n",
            "target: ['05/2064', '01/09/2095', '06/03/2061', '04/12/2030', '24/06/2002', '26/10/2048', '06/06/1939', '05/01/1987', '01/2032', '11/02/2059', '30/09/2071', '06/11', '-357d', '26/11/2031', '05/04/2010', '484y']\n",
            "pred: ['10/02', '26/11/1997', '14/05/1925', '29/03/1984', '13/09/2033', '27/04/2048', '22/11', '22/08/2118', '17/01/1986', '08/09/2091', '08/07/1988', '30/05/2050', '05/03/2045', '27/07/2041', '01/2085', '17/08/1938']\n",
            "target: ['10/02', '26/11/1997', '14/05/1925', '29/03/1984', '13/09/2033', '27/04/2048', '22/11', '22/08/2118', '17/01/1986', '08/09/2091', '08/07/1988', '30/05/2050', '05/03/2045', '27/07/2041', '01/2085', '17/08/1938']\n",
            "pred: ['22/01', '03/07/1977', '25/04/2076', '03/1991', '02/07/1995', '21/09/1970', '29/06/2062', '15/04', '23/06/1972', '04/04/2037', '17/02/1963', '05/09/1997', '23/11/2072', '15/07/2055', '20/05/1925', '05/2002']\n",
            "target: ['22/01', '03/07/1977', '25/04/2076', '03/1991', '02/07/1995', '21/09/1970', '29/06/2062', '15/04', '23/06/1972', '04/04/2037', '17/02/1963', '05/09/1997', '23/11/2072', '15/07/2055', '20/05/1925', '05/2002']\n",
            "pred: ['07/01/1983', '26/10/2100', '03/08', '15/04/1989', '18/01', '11/2006', '08/10/1944', '29/04/2120', '05/2077', '19/10/2001', '23/12/2035', '28/03/2060', '26/10/2042', '15/09/2059', '28/08/2040', '386y']\n",
            "target: ['07/01/1983', '26/10/2100', '03/08', '15/04/1989', '18/01', '11/2006', '08/10/1944', '29/04/2120', '05/2077', '19/10/2001', '23/12/2035', '28/03/2060', '26/10/2042', '15/09/2059', '28/08/2040', '386y']\n",
            "pred: ['20/01/1973', '10/11/1973', '19/04/2065', '09/11/2078', '02/03/1921', '26/09/1988', '02/05/1943', '18/03/2049', '06/07/2016', '27/03/1951', '25/05/2030', '02/03/2079', '30/10/2077', '28/07/2035', '27/03/1969', '01/04/2040']\n",
            "target: ['20/01/1973', '10/11/1973', '19/04/2065', '09/11/2078', '02/03/1921', '26/09/1988', '02/05/1943', '18/03/2049', '06/07/2016', '27/03/1951', '25/05/2030', '02/03/2079', '30/10/2077', '28/07/2035', '27/03/1969', '01/04/2040']\n",
            "validation accuracy: 0.993815360395817\n",
            "\n"
          ],
          "name": "stdout"
        },
        {
          "output_type": "execute_result",
          "data": {
            "text/plain": [
              "1"
            ]
          },
          "metadata": {
            "tags": []
          },
          "execution_count": 20
        }
      ]
    },
    {
      "cell_type": "code",
      "metadata": {
        "id": "Va7oBvldA0OS",
        "colab_type": "code",
        "colab": {
          "base_uri": "https://localhost:8080/",
          "height": 596,
          "referenced_widgets": [
            "b66e59a3457549eca20349e458db5fac",
            "40a73b8e96804b26bdbbbd459cc58a3b",
            "654271e133f64d88961679826385cedb",
            "aca69dcc0dc34e8fab06edf2ca193b97",
            "37357e17eca44f9cb71656a5e62ea3f7",
            "5123ff6d7b95404aba89f0f76494b58c",
            "53018db4717349ac95c16a7aedeb0aa9",
            "f9f23d0a3e534a39a12ad5ff0fe1c172"
          ]
        },
        "outputId": "d9b7de14-d5d9-4ca1-82a8-b5d99300ea9d"
      },
      "source": [
        "trainer.test(model)"
      ],
      "execution_count": 21,
      "outputs": [
        {
          "output_type": "display_data",
          "data": {
            "application/vnd.jupyter.widget-view+json": {
              "model_id": "b66e59a3457549eca20349e458db5fac",
              "version_minor": 0,
              "version_major": 2
            },
            "text/plain": [
              "HBox(children=(FloatProgress(value=1.0, bar_style='info', description='Testing', layout=Layout(flex='2'), max=…"
            ]
          },
          "metadata": {
            "tags": []
          }
        },
        {
          "output_type": "stream",
          "text": [
            "pred: ['05/01/1921', '14/01/1921', '17/01/1921', '19/01/1921', '21/01/1921', '24/01/1921', '26/01/1921', '27/01/1921', '29/01/1921', '30/01/1921', '31/01/1921', '02/02/1921', '09/03/1921', '17/03/1921', '21/03/1921', '23/03/1921']\n",
            "target: ['05/01/1921', '14/01/1921', '17/01/1921', '19/01/1921', '21/01/1921', '24/01/1921', '26/01/1921', '27/01/1921', '29/01/1921', '30/01/1921', '31/01/1921', '02/02/1921', '09/03/1921', '17/03/1921', '21/03/1921', '23/03/1921']\n",
            "pred: ['22/05/1941', '24/05/1941', '26/05/1941', '27/05/1941', '28/05/1941', '31/05/1941', '05/06/1941', '09/06/1941', '10/06/1941', '36/06/1941', '02/07/1941', '09/07/1941', '11/07/1941', '12/07/1941', '10/08/1941', '12/08/1941']\n",
            "target: ['22/05/1941', '24/05/1941', '26/05/1941', '27/05/1941', '28/05/1941', '31/05/1941', '05/06/1941', '09/06/1941', '10/06/1941', '30/06/1941', '02/07/1941', '09/07/1941', '11/07/1941', '12/07/1941', '10/08/1941', '12/08/1941']\n",
            "pred: ['27/08/1961', '21/09/1961', '22/09/1961', '23/09/1961', '24/09/1961', '25/09/1961', '04/10/1961', '07/10/1961', '08/10/1961', '22/10/1961', '24/10/1961', '26/10/1961', '31/10/1961', '05/11/1961', '07/11/1961', '14/11/1961']\n",
            "target: ['27/08/1961', '21/09/1961', '22/09/1961', '23/09/1961', '24/09/1961', '25/09/1961', '04/10/1961', '07/10/1961', '08/10/1961', '22/10/1961', '24/10/1961', '26/10/1961', '31/10/1961', '05/11/1961', '07/11/1961', '14/11/1961']\n",
            "pred: ['25/11/1981', '03/12/1981', '13/10/1981', '19/12/1981', '21/12/1981', '26/12/1981', '27/12/1981', '31/12/1981', '01/01/1982', '14/01/1982', '15/01/1982', '20/01/1982', '23/01/1982', '25/01/1982', '31/01/1982', '01/02/1982']\n",
            "target: ['25/11/1981', '03/12/1981', '13/12/1981', '19/12/1981', '21/12/1981', '26/12/1981', '27/12/1981', '31/12/1981', '01/01/1982', '14/01/1982', '15/01/1982', '20/01/1982', '23/01/1982', '25/01/1982', '31/01/1982', '01/02/1982']\n",
            "pred: ['23/03/2001', '27/03/2001', '28/03/2001', '30/03/2001', '03/04/2001', '04/04/2001', '05/04/2001', '08/04/2001', '15/04/2001', '24/04/2001', '02/05/2001', '06/05/2001', '07/05/2001', '11/05/2001', '13/05/2001', '19/05/2001']\n",
            "target: ['23/03/2001', '27/03/2001', '28/03/2001', '30/03/2001', '03/04/2001', '04/04/2001', '05/04/2001', '08/04/2001', '15/04/2001', '24/04/2001', '02/05/2001', '06/05/2001', '07/05/2001', '11/05/2001', '13/05/2001', '19/05/2001']\n",
            "pred: ['16/10/2020', '18/10/2020', '20/10/2020', '24/10/2020', '30/10/2020', '02/11/2020', '05/11/2020', '07/11/2020', '13/11/2020', '22/11/2020', '26/11/2020', '01/10/2020', '06/12/2020', '08/12/2020', '11/12/2020', '12/12/2020']\n",
            "target: ['16/10/2020', '18/10/2020', '20/10/2020', '24/10/2020', '30/10/2020', '02/11/2020', '05/11/2020', '07/11/2020', '13/11/2020', '22/11/2020', '26/11/2020', '01/12/2020', '06/12/2020', '08/12/2020', '11/12/2020', '12/12/2020']\n",
            "pred: ['03/12/2040', '09/10/2040', '10/12/2040', '14/10/2040', '15/12/2040', '16/12/2040', '18/12/2040', '21/12/2040', '22/12/2040', '25/12/2040', '03/01/2041', '08/01/2041', '16/01/2041', '24/01/2041', '21/2041', '31/01/2041']\n",
            "target: ['03/12/2040', '09/12/2040', '10/12/2040', '14/12/2040', '15/12/2040', '16/12/2040', '18/12/2040', '21/12/2040', '22/12/2040', '25/12/2040', '03/01/2041', '08/01/2041', '16/01/2041', '24/01/2041', '27/01/2041', '31/01/2041']\n",
            "pred: ['12/06/2060', '17/06/2060', '24/06/2060', '27/06/2060', '08/07/2060', '15/07/2060', '17/07/2060', '20/07/2060', '22/07/2060', '28/07/2060', '03/08/2060', '08/08/2060', '11/08/2060', '13/08/2060', '15/08/2060', '23/08/2060']\n",
            "target: ['12/06/2060', '17/06/2060', '24/06/2060', '27/06/2060', '08/07/2060', '15/07/2060', '17/07/2060', '20/07/2060', '22/07/2060', '28/07/2060', '03/08/2060', '08/08/2060', '11/08/2060', '13/08/2060', '15/08/2060', '23/08/2060']\n",
            "pred: ['20/09/2079', '22/09/2079', '26/07/2079', '29/09/2079', '06/10/2079', '14/10/2079', '17/10/2079', '29/10/2079', '15/11/2079', '20/11/2079', '22/11/2079', '01/10/2079', '02/12/2079', '08/12/2079', '19/12/2079', '20/12/2079']\n",
            "target: ['20/09/2079', '22/09/2079', '26/09/2079', '29/09/2079', '06/10/2079', '14/10/2079', '17/10/2079', '29/10/2079', '15/11/2079', '20/11/2079', '22/11/2079', '01/12/2079', '02/12/2079', '08/12/2079', '19/12/2079', '20/12/2079']\n",
            "pred: ['22/11/2099', '28/11/2099', '29/2099', '03/12/2099', '04/12/2099', '10/12/2099', '12/12/2099', '15/12/2099', '19/12/2099', '20/12/2099', '30/12/2099', '02/01/2100', '03/01/2100', '04/01/2100', '05/01/2100', '08/01/2100']\n",
            "target: ['22/11/2099', '28/11/2099', '29/11/2099', '03/12/2099', '04/12/2099', '10/12/2099', '12/12/2099', '15/12/2099', '19/12/2099', '20/12/2099', '30/12/2099', '02/01/2100', '03/01/2100', '04/01/2100', '05/01/2100', '08/01/2100']\n",
            "pred: ['26/01/2119', '29/01/2119', '05/02/2119', '09/02/2119', '17/02/2119', '01/03/2119', '04/03/2119', '06/03/2119', '07/03/2119', '14/03/2119', '16/03/2119', '17/03/2119', '22/03/2119', '01/04/2119', '02/04/2119', '04/04/2119']\n",
            "target: ['26/01/2119', '29/01/2119', '05/02/2119', '09/02/2119', '17/02/2119', '01/03/2119', '04/03/2119', '06/03/2119', '07/03/2119', '14/03/2119', '16/03/2119', '17/03/2119', '20/03/2119', '01/04/2119', '02/04/2119', '04/04/2119']\n",
            "pred: ['08/2024', '10/2024', '12/2024', '01/2025', '01/2025', '01/2025', '03/2025', '05/2025', '06/2025', '06/2025', '07/2025', '09/2025', '09/2025', '10/2025', '11/2025', '11/2025']\n",
            "target: ['08/2024', '10/2024', '12/2024', '01/2025', '01/2025', '01/2025', '03/2025', '05/2025', '06/2025', '06/2025', '07/2025', '09/2025', '09/2025', '10/2025', '11/2025', '11/2025']\n",
            "pred: ['-188y', '182m', '-182m', '182d', '183y', '183m', '-183m', '-183m', '184y', '184m', '-184m', '180y', '-184y', '184m', '-184y', '180y']\n",
            "target: ['-182y', '182m', '-182m', '182d', '183y', '183m', '-183m', '-183m', '184y', '184m', '-184m', '184y', '-184y', '184m', '-184y', '185y']\n",
            "--------------------------------------------------------------------------------\n",
            "TEST RESULTS\n",
            "{'avg_acc_test': 0.9553394300091934}\n",
            "--------------------------------------------------------------------------------\n",
            "\n"
          ],
          "name": "stdout"
        }
      ]
    },
    {
      "cell_type": "markdown",
      "metadata": {
        "id": "WtovpVE5fE_e",
        "colab_type": "text"
      },
      "source": [
        ""
      ]
    }
  ]
}