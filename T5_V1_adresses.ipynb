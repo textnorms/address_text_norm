{
  "nbformat": 4,
  "nbformat_minor": 0,
  "metadata": {
    "colab": {
      "name": "T5: V1 adresses.ipynb",
      "provenance": [],
      "collapsed_sections": [],
      "include_colab_link": true
    },
    "kernelspec": {
      "name": "python3",
      "display_name": "Python 3"
    },
    "accelerator": "GPU"
  },
  "cells": [
    {
      "cell_type": "markdown",
      "metadata": {
        "id": "view-in-github",
        "colab_type": "text"
      },
      "source": [
        "<a href=\"https://colab.research.google.com/github/textnorms/address_text_norm/blob/master/T5_V1_adresses.ipynb\" target=\"_parent\"><img src=\"https://colab.research.google.com/assets/colab-badge.svg\" alt=\"Open In Colab\"/></a>"
      ]
    },
    {
      "cell_type": "code",
      "metadata": {
        "id": "PcMfqlK-0HLY",
        "colab_type": "code",
        "colab": {
          "base_uri": "https://localhost:8080/",
          "height": 357
        },
        "outputId": "ba004a22-a081-4a7d-bf27-7aa6087cac04"
      },
      "source": [
        "! nvidia-smi"
      ],
      "execution_count": 1,
      "outputs": [
        {
          "output_type": "stream",
          "text": [
            "Sun Jun 21 15:49:12 2020       \n",
            "+-----------------------------------------------------------------------------+\n",
            "| NVIDIA-SMI 450.36.06    Driver Version: 418.67       CUDA Version: 10.1     |\n",
            "|-------------------------------+----------------------+----------------------+\n",
            "| GPU  Name        Persistence-M| Bus-Id        Disp.A | Volatile Uncorr. ECC |\n",
            "| Fan  Temp  Perf  Pwr:Usage/Cap|         Memory-Usage | GPU-Util  Compute M. |\n",
            "|                               |                      |               MIG M. |\n",
            "|===============================+======================+======================|\n",
            "|   0  Tesla K80           Off  | 00000000:00:04.0 Off |                    0 |\n",
            "| N/A   70C    P8    31W / 149W |      0MiB / 11441MiB |      0%      Default |\n",
            "|                               |                      |                 ERR! |\n",
            "+-------------------------------+----------------------+----------------------+\n",
            "                                                                               \n",
            "+-----------------------------------------------------------------------------+\n",
            "| Processes:                                                                  |\n",
            "|  GPU   GI   CI        PID   Type   Process name                  GPU Memory |\n",
            "|        ID   ID                                                   Usage      |\n",
            "|=============================================================================|\n",
            "|  No running processes found                                                 |\n",
            "+-----------------------------------------------------------------------------+\n"
          ],
          "name": "stdout"
        }
      ]
    },
    {
      "cell_type": "code",
      "metadata": {
        "id": "c-1Lmkfv6g2j",
        "colab_type": "code",
        "colab": {
          "base_uri": "https://localhost:8080/",
          "height": 119
        },
        "outputId": "b3198d72-b763-4c81-c130-59d85ac0334f"
      },
      "source": [
        "! rm -rf address*\n",
        "! git clone https://github.com/textnorms/address_text_norm.git\n",
        "! cp -r address_text_norm/syntetic_data/ .\n",
        "\n",
        "! pip install -q num2words transformers\n",
        "! pip install -q transformers"
      ],
      "execution_count": null,
      "outputs": [
        {
          "output_type": "stream",
          "text": [
            "Cloning into 'address_text_norm'...\n",
            "remote: Enumerating objects: 53, done.\u001b[K\n",
            "remote: Counting objects:   1% (1/53)\u001b[K\rremote: Counting objects:   3% (2/53)\u001b[K\rremote: Counting objects:   5% (3/53)\u001b[K\rremote: Counting objects:   7% (4/53)\u001b[K\rremote: Counting objects:   9% (5/53)\u001b[K\rremote: Counting objects:  11% (6/53)\u001b[K\rremote: Counting objects:  13% (7/53)\u001b[K\rremote: Counting objects:  15% (8/53)\u001b[K\rremote: Counting objects:  16% (9/53)\u001b[K\rremote: Counting objects:  18% (10/53)\u001b[K\rremote: Counting objects:  20% (11/53)\u001b[K\rremote: Counting objects:  22% (12/53)\u001b[K\rremote: Counting objects:  24% (13/53)\u001b[K\rremote: Counting objects:  26% (14/53)\u001b[K\rremote: Counting objects:  28% (15/53)\u001b[K\rremote: Counting objects:  30% (16/53)\u001b[K\rremote: Counting objects:  32% (17/53)\u001b[K\rremote: Counting objects:  33% (18/53)\u001b[K\rremote: Counting objects:  35% (19/53)\u001b[K\rremote: Counting objects:  37% (20/53)\u001b[K\rremote: Counting objects:  39% (21/53)\u001b[K\rremote: Counting objects:  41% (22/53)\u001b[K\rremote: Counting objects:  43% (23/53)\u001b[K\rremote: Counting objects:  45% (24/53)\u001b[K\rremote: Counting objects:  47% (25/53)\u001b[K\rremote: Counting objects:  49% (26/53)\u001b[K\rremote: Counting objects:  50% (27/53)\u001b[K\rremote: Counting objects:  52% (28/53)\u001b[K\rremote: Counting objects:  54% (29/53)\u001b[K\rremote: Counting objects:  56% (30/53)\u001b[K\rremote: Counting objects:  58% (31/53)\u001b[K\rremote: Counting objects:  60% (32/53)\u001b[K\rremote: Counting objects:  62% (33/53)\u001b[K\rremote: Counting objects:  64% (34/53)\u001b[K\rremote: Counting objects:  66% (35/53)\u001b[K\rremote: Counting objects:  67% (36/53)\u001b[K\rremote: Counting objects:  69% (37/53)\u001b[K\rremote: Counting objects:  71% (38/53)\u001b[K\rremote: Counting objects:  73% (39/53)\u001b[K\rremote: Counting objects:  75% (40/53)\u001b[K\rremote: Counting objects:  77% (41/53)\u001b[K\rremote: Counting objects:  79% (42/53)\u001b[K\rremote: Counting objects:  81% (43/53)\u001b[K\rremote: Counting objects:  83% (44/53)\u001b[K\rremote: Counting objects:  84% (45/53)\u001b[K\rremote: Counting objects:  86% (46/53)\u001b[K\rremote: Counting objects:  88% (47/53)\u001b[K\rremote: Counting objects:  90% (48/53)\u001b[K\rremote: Counting objects:  92% (49/53)\u001b[K\rremote: Counting objects:  94% (50/53)\u001b[K\rremote: Counting objects:  96% (51/53)\u001b[K\rremote: Counting objects:  98% (52/53)\u001b[K\rremote: Counting objects: 100% (53/53)\u001b[K\rremote: Counting objects: 100% (53/53), done.\u001b[K\n",
            "remote: Compressing objects:   2% (1/39)\u001b[K\rremote: Compressing objects:   5% (2/39)\u001b[K\rremote: Compressing objects:   7% (3/39)\u001b[K\rremote: Compressing objects:  10% (4/39)\u001b[K\rremote: Compressing objects:  12% (5/39)\u001b[K\rremote: Compressing objects:  15% (6/39)\u001b[K\rremote: Compressing objects:  17% (7/39)\u001b[K\rremote: Compressing objects:  20% (8/39)\u001b[K\rremote: Compressing objects:  23% (9/39)\u001b[K\rremote: Compressing objects:  25% (10/39)\u001b[K\rremote: Compressing objects:  28% (11/39)\u001b[K\rremote: Compressing objects:  30% (12/39)\u001b[K\rremote: Compressing objects:  33% (13/39)\u001b[K\rremote: Compressing objects:  35% (14/39)\u001b[K\rremote: Compressing objects:  38% (15/39)\u001b[K\rremote: Compressing objects:  41% (16/39)\u001b[K\rremote: Compressing objects:  43% (17/39)\u001b[K\rremote: Compressing objects:  46% (18/39)\u001b[K\rremote: Compressing objects:  48% (19/39)\u001b[K\rremote: Compressing objects:  51% (20/39)\u001b[K\rremote: Compressing objects:  53% (21/39)\u001b[K\rremote: Compressing objects:  56% (22/39)\u001b[K\rremote: Compressing objects:  58% (23/39)\u001b[K\rremote: Compressing objects:  61% (24/39)\u001b[K\rremote: Compressing objects:  64% (25/39)\u001b[K\rremote: Compressing objects:  66% (26/39)\u001b[K\rremote: Compressing objects:  69% (27/39)\u001b[K\rremote: Compressing objects:  71% (28/39)\u001b[K\rremote: Compressing objects:  74% (29/39)\u001b[K\rremote: Compressing objects:  76% (30/39)\u001b[K\rremote: Compressing objects:  79% (31/39)\u001b[K\rremote: Compressing objects:  82% (32/39)\u001b[K\rremote: Compressing objects:  84% (33/39)\u001b[K\rremote: Compressing objects:  87% (34/39)\u001b[K\rremote: Compressing objects:  89% (35/39)\u001b[K\rremote: Compressing objects:  92% (36/39)\u001b[K\rremote: Compressing objects:  94% (37/39)\u001b[K\rremote: Compressing objects:  97% (38/39)\u001b[K\rremote: Compressing objects: 100% (39/39)\u001b[K\rremote: Compressing objects: 100% (39/39), done.\u001b[K\n",
            "remote: Total 53 (delta 20), reused 41 (delta 13), pack-reused 0\u001b[K\n",
            "Unpacking objects:   1% (1/53)   \rUnpacking objects:   3% (2/53)   \rUnpacking objects:   5% (3/53)   \rUnpacking objects:   7% (4/53)   \rUnpacking objects:   9% (5/53)   \rUnpacking objects:  11% (6/53)   \rUnpacking objects:  13% (7/53)   \rUnpacking objects:  15% (8/53)   \rUnpacking objects:  16% (9/53)   \rUnpacking objects:  18% (10/53)   \rUnpacking objects:  20% (11/53)   \rUnpacking objects:  22% (12/53)   \rUnpacking objects:  24% (13/53)   \rUnpacking objects:  26% (14/53)   \rUnpacking objects:  28% (15/53)   \rUnpacking objects:  30% (16/53)   \rUnpacking objects:  32% (17/53)   \rUnpacking objects:  33% (18/53)   \rUnpacking objects:  35% (19/53)   \rUnpacking objects:  37% (20/53)   \rUnpacking objects:  39% (21/53)   \rUnpacking objects:  41% (22/53)   \rUnpacking objects:  43% (23/53)   \rUnpacking objects:  45% (24/53)   \rUnpacking objects:  47% (25/53)   \rUnpacking objects:  49% (26/53)   \rUnpacking objects:  50% (27/53)   \rUnpacking objects:  52% (28/53)   \rUnpacking objects:  54% (29/53)   \rUnpacking objects:  56% (30/53)   \rUnpacking objects:  58% (31/53)   \rUnpacking objects:  60% (32/53)   \rUnpacking objects:  62% (33/53)   \rUnpacking objects:  64% (34/53)   \rUnpacking objects:  66% (35/53)   \rUnpacking objects:  67% (36/53)   \rUnpacking objects:  69% (37/53)   \rUnpacking objects:  71% (38/53)   \rUnpacking objects:  73% (39/53)   \rUnpacking objects:  75% (40/53)   \rUnpacking objects:  77% (41/53)   \rUnpacking objects:  79% (42/53)   \rUnpacking objects:  81% (43/53)   \rUnpacking objects:  83% (44/53)   \rUnpacking objects:  84% (45/53)   \rUnpacking objects:  86% (46/53)   \rUnpacking objects:  88% (47/53)   \rUnpacking objects:  90% (48/53)   \rUnpacking objects:  92% (49/53)   \rUnpacking objects:  94% (50/53)   \rUnpacking objects:  96% (51/53)   \rUnpacking objects:  98% (52/53)   \rUnpacking objects: 100% (53/53)   \rUnpacking objects: 100% (53/53), done.\n"
          ],
          "name": "stdout"
        }
      ]
    },
    {
      "cell_type": "code",
      "metadata": {
        "id": "PgAIYdb3BzRz",
        "colab_type": "code",
        "colab": {
          "base_uri": "https://localhost:8080/",
          "height": 34
        },
        "outputId": "e2fd2a76-98d1-4467-ccc6-041e667f4132"
      },
      "source": [
        "from google.colab import drive\n",
        "drive.mount('/gdrive')"
      ],
      "execution_count": null,
      "outputs": [
        {
          "output_type": "stream",
          "text": [
            "Drive already mounted at /gdrive; to attempt to forcibly remount, call drive.mount(\"/gdrive\", force_remount=True).\n"
          ],
          "name": "stdout"
        }
      ]
    },
    {
      "cell_type": "code",
      "metadata": {
        "id": "Sb_PnnuSCDqU",
        "colab_type": "code",
        "colab": {}
      },
      "source": [
        "addresss_db_path = '/gdrive/My Drive/12 Semestre/IA376/IA376 - Atividades/Projeto Final/address_db.csv'\n",
        "\n",
        "!cp '/gdrive/My Drive/12 Semestre/IA376/IA376 - Atividades/Projeto Final/address_db.csv' ./syntetic_data/address_csv/br_address_db.csv"
      ],
      "execution_count": null,
      "outputs": []
    },
    {
      "cell_type": "markdown",
      "metadata": {
        "id": "hAYiZO6Teo-y",
        "colab_type": "text"
      },
      "source": [
        "# Libs"
      ]
    },
    {
      "cell_type": "code",
      "metadata": {
        "id": "Nok2mtt_1021",
        "colab_type": "code",
        "colab": {}
      },
      "source": [
        "# Basics\n",
        "import numpy as np\n",
        "import pandas as pd\n",
        "import random\n",
        "\n",
        "# Synthetic data generator\n",
        "from syntetic_data import AddressTextGenerator\n",
        "\n",
        "# PyTorch\n",
        "import torch \n",
        "import torch.nn.functional as F\n",
        "from torch.utils.data import Dataset, DataLoader\n",
        "\n",
        "# Sklearn\n",
        "from sklearn.model_selection import train_test_split\n",
        "\n",
        "# Transformers\n",
        "from transformers import T5Tokenizer, T5ForConditionalGeneration, AdamW\n",
        "\n",
        "# Matplot lib\n",
        "import matplotlib.pyplot as plt"
      ],
      "execution_count": null,
      "outputs": []
    },
    {
      "cell_type": "markdown",
      "metadata": {
        "id": "HhdTvVgiYBw0",
        "colab_type": "text"
      },
      "source": [
        "### Deterministic experiments"
      ]
    },
    {
      "cell_type": "code",
      "metadata": {
        "id": "zm7tAsiUYMOU",
        "colab_type": "code",
        "colab": {
          "base_uri": "https://localhost:8080/",
          "height": 51
        },
        "outputId": "9c3d78ad-42c2-440b-b30f-bd97f78eacbd"
      },
      "source": [
        "manual_seed = 2357 # only primes, cuz I like\n",
        "def deterministic(rep=True):\n",
        "    if rep:\n",
        "        np.random.seed(manual_seed)\n",
        "        torch.manual_seed(manual_seed)\n",
        "        if torch.cuda.is_available():\n",
        "            torch.cuda.manual_seed(manual_seed)\n",
        "            torch.cuda.manual_seed_all(manual_seed)\n",
        "        torch.backends.cudnn.enabled = False \n",
        "        torch.backends.cudnn.benchmark = False\n",
        "        torch.backends.cudnn.deterministic = True\n",
        "        print(f'Deterministic experiment, seed: {manual_seed}')\n",
        "    else:\n",
        "        print('Random experiment')\n",
        "\n",
        "deterministic()\n",
        "\n",
        "device = torch.device('cuda' if torch.cuda.is_available() else 'cpu')\n",
        "print(f'Using device: {device}')"
      ],
      "execution_count": null,
      "outputs": [
        {
          "output_type": "stream",
          "text": [
            "Deterministic experiment, seed: 2357\n",
            "Using device: cuda\n"
          ],
          "name": "stdout"
        }
      ]
    },
    {
      "cell_type": "markdown",
      "metadata": {
        "id": "BFHYoyzwOHDO",
        "colab_type": "text"
      },
      "source": [
        "# Config constants"
      ]
    },
    {
      "cell_type": "code",
      "metadata": {
        "id": "8r8O913HOK9F",
        "colab_type": "code",
        "colab": {}
      },
      "source": [
        "# Dataset params\n",
        "LANGUAGE = 'br'\n",
        "\n",
        "# Model params\n",
        "MODEL_SZ = 't5-small' # 't5-base'\n",
        "TOK = T5Tokenizer.from_pretrained(MODEL_SZ)\n",
        "MAX_LEN_SRC  = 128\n",
        "MAX_LEN_TRGT = 128\n",
        "\n",
        "\n",
        "# Train params\n",
        "BATCH_SZ = 16\n",
        "N_EPOCHS = 50\n",
        "WINDOW   = 7\n",
        "NOISE    = 0.0"
      ],
      "execution_count": null,
      "outputs": []
    },
    {
      "cell_type": "markdown",
      "metadata": {
        "colab_type": "text",
        "id": "5PCSz3bMZzcn"
      },
      "source": [
        "# Dataset"
      ]
    },
    {
      "cell_type": "code",
      "metadata": {
        "colab_type": "code",
        "id": "nOGHeQlGZzcs",
        "colab": {
          "base_uri": "https://localhost:8080/",
          "height": 34
        },
        "outputId": "69c87b47-fd92-4570-dc4b-6382dfd790ca"
      },
      "source": [
        "pd.set_option('display.max_rows',70)\n",
        "\n",
        "print('Generating addresses dataset')\n",
        "addresses_gen = AddressTextGenerator(occurences_per_sample=10,\n",
        "                                     text_noise_rate=NOISE,\n",
        "                                     max_noise_occurences_per_sample=10,\n",
        "                                     language=LANGUAGE)\n",
        "\n",
        "df = addresses_gen.generate_address_dataset()"
      ],
      "execution_count": null,
      "outputs": [
        {
          "output_type": "stream",
          "text": [
            "Generating addresses dataset\n"
          ],
          "name": "stdout"
        }
      ]
    },
    {
      "cell_type": "code",
      "metadata": {
        "colab_type": "code",
        "id": "OjOeDC5dZzc-",
        "colab": {
          "base_uri": "https://localhost:8080/",
          "height": 204
        },
        "outputId": "d128e1b7-4c3c-4905-8b2f-0381715445d2"
      },
      "source": [
        "df.tail()"
      ],
      "execution_count": null,
      "outputs": [
        {
          "output_type": "execute_result",
          "data": {
            "text/html": [
              "<div>\n",
              "<style scoped>\n",
              "    .dataframe tbody tr th:only-of-type {\n",
              "        vertical-align: middle;\n",
              "    }\n",
              "\n",
              "    .dataframe tbody tr th {\n",
              "        vertical-align: top;\n",
              "    }\n",
              "\n",
              "    .dataframe thead th {\n",
              "        text-align: right;\n",
              "    }\n",
              "</style>\n",
              "<table border=\"1\" class=\"dataframe\">\n",
              "  <thead>\n",
              "    <tr style=\"text-align: right;\">\n",
              "      <th></th>\n",
              "      <th>Input Pattern</th>\n",
              "      <th>Noise Type</th>\n",
              "      <th>Input</th>\n",
              "      <th>Target</th>\n",
              "    </tr>\n",
              "  </thead>\n",
              "  <tbody>\n",
              "    <tr>\n",
              "      <th>13985</th>\n",
              "      <td>14</td>\n",
              "      <td>N/A</td>\n",
              "      <td>Box 65 na altura do 7049 na Rua das Matas no R...</td>\n",
              "      <td>Rua das Matas, 7049, Box 65, Residencial Norte...</td>\n",
              "    </tr>\n",
              "    <tr>\n",
              "      <th>13986</th>\n",
              "      <td>2</td>\n",
              "      <td>N/A</td>\n",
              "      <td>Rua das Matas, 7049, Residencial Norte Sul, Ap...</td>\n",
              "      <td>Rua das Matas, 7049, Residencial Norte Sul, Ap...</td>\n",
              "    </tr>\n",
              "    <tr>\n",
              "      <th>13987</th>\n",
              "      <td>18</td>\n",
              "      <td>N/A</td>\n",
              "      <td>GO, Aparecida de Goiânia, Residencial Norte Su...</td>\n",
              "      <td>Rua das Matas, 7049, Hangar 15 ,Residencial No...</td>\n",
              "    </tr>\n",
              "    <tr>\n",
              "      <th>13988</th>\n",
              "      <td>12</td>\n",
              "      <td>N/A</td>\n",
              "      <td>7049, Rua das Matas, Bloco 13 - Sala 193, Resi...</td>\n",
              "      <td>Rua das Matas, 7049, Bloco 13 - Sala 193, Resi...</td>\n",
              "    </tr>\n",
              "    <tr>\n",
              "      <th>13989</th>\n",
              "      <td>17</td>\n",
              "      <td>N/A</td>\n",
              "      <td>Box 65 número 7049 da Rua das Matas no Residen...</td>\n",
              "      <td>Rua das Matas, 7049, Box 65, Residencial Norte...</td>\n",
              "    </tr>\n",
              "  </tbody>\n",
              "</table>\n",
              "</div>"
            ],
            "text/plain": [
              "       Input Pattern  ...                                             Target\n",
              "13985             14  ...  Rua das Matas, 7049, Box 65, Residencial Norte...\n",
              "13986              2  ...  Rua das Matas, 7049, Residencial Norte Sul, Ap...\n",
              "13987             18  ...  Rua das Matas, 7049, Hangar 15 ,Residencial No...\n",
              "13988             12  ...  Rua das Matas, 7049, Bloco 13 - Sala 193, Resi...\n",
              "13989             17  ...  Rua das Matas, 7049, Box 65, Residencial Norte...\n",
              "\n",
              "[5 rows x 4 columns]"
            ]
          },
          "metadata": {
            "tags": []
          },
          "execution_count": 36
        }
      ]
    },
    {
      "cell_type": "code",
      "metadata": {
        "colab_type": "code",
        "id": "NLFG10ioZzdG",
        "colab": {
          "base_uri": "https://localhost:8080/",
          "height": 408
        },
        "outputId": "e16f5742-495a-48a0-9e84-b276ff97033d"
      },
      "source": [
        "df['Input Pattern'].value_counts()"
      ],
      "execution_count": null,
      "outputs": [
        {
          "output_type": "execute_result",
          "data": {
            "text/plain": [
              "10    674\n",
              "15    662\n",
              "3     655\n",
              "4     654\n",
              "19    653\n",
              "16    652\n",
              "1     650\n",
              "20    644\n",
              "18    642\n",
              "22    640\n",
              "14    637\n",
              "8     634\n",
              "13    632\n",
              "6     629\n",
              "17    627\n",
              "12    624\n",
              "11    619\n",
              "7     617\n",
              "2     616\n",
              "21    616\n",
              "9     614\n",
              "5     599\n",
              "Name: Input Pattern, dtype: int64"
            ]
          },
          "metadata": {
            "tags": []
          },
          "execution_count": 37
        }
      ]
    },
    {
      "cell_type": "code",
      "metadata": {
        "id": "8t6fSj8fyyya",
        "colab_type": "code",
        "colab": {
          "base_uri": "https://localhost:8080/",
          "height": 204
        },
        "outputId": "7c1cea31-7aaa-46c4-86e1-50e61efdbefe"
      },
      "source": [
        "# Inspecting the relative dates dataset\n",
        "df.head()"
      ],
      "execution_count": null,
      "outputs": [
        {
          "output_type": "execute_result",
          "data": {
            "text/html": [
              "<div>\n",
              "<style scoped>\n",
              "    .dataframe tbody tr th:only-of-type {\n",
              "        vertical-align: middle;\n",
              "    }\n",
              "\n",
              "    .dataframe tbody tr th {\n",
              "        vertical-align: top;\n",
              "    }\n",
              "\n",
              "    .dataframe thead th {\n",
              "        text-align: right;\n",
              "    }\n",
              "</style>\n",
              "<table border=\"1\" class=\"dataframe\">\n",
              "  <thead>\n",
              "    <tr style=\"text-align: right;\">\n",
              "      <th></th>\n",
              "      <th>Input Pattern</th>\n",
              "      <th>Noise Type</th>\n",
              "      <th>Input</th>\n",
              "      <th>Target</th>\n",
              "    </tr>\n",
              "  </thead>\n",
              "  <tbody>\n",
              "    <tr>\n",
              "      <th>0</th>\n",
              "      <td>20</td>\n",
              "      <td>N/A</td>\n",
              "      <td>Logradouro: Rua Rio Branco, Número: 5571, Comp...</td>\n",
              "      <td>Rua Rio Branco, 5571, Torre 4 - Apartamento 12...</td>\n",
              "    </tr>\n",
              "    <tr>\n",
              "      <th>1</th>\n",
              "      <td>16</td>\n",
              "      <td>N/A</td>\n",
              "      <td>Rua Rio Branco, 5571, Bloco 13 - Sala 193, Lar...</td>\n",
              "      <td>Rua Rio Branco, 5571, Bloco 13 - Sala 193, Lar...</td>\n",
              "    </tr>\n",
              "    <tr>\n",
              "      <th>2</th>\n",
              "      <td>15</td>\n",
              "      <td>N/A</td>\n",
              "      <td>Rua Rio Branco, 5571, Hangar 15, Laranjeiras, ...</td>\n",
              "      <td>Rua Rio Branco, 5571, Hangar 15, Laranjeiras, ...</td>\n",
              "    </tr>\n",
              "    <tr>\n",
              "      <th>3</th>\n",
              "      <td>10</td>\n",
              "      <td>N/A</td>\n",
              "      <td>Rua Rio Branco, Sem número, Laranjeiras, Betim...</td>\n",
              "      <td>Rua Rio Branco, S/N, Laranjeiras, Betim, MG</td>\n",
              "    </tr>\n",
              "    <tr>\n",
              "      <th>4</th>\n",
              "      <td>13</td>\n",
              "      <td>N/A</td>\n",
              "      <td>Rua Rio Branco, 5571, Torre 4 - Sala 180, Lara...</td>\n",
              "      <td>Rua Rio Branco, 5571, Torre 4 - Sala 180, Lara...</td>\n",
              "    </tr>\n",
              "  </tbody>\n",
              "</table>\n",
              "</div>"
            ],
            "text/plain": [
              "   Input Pattern  ...                                             Target\n",
              "0             20  ...  Rua Rio Branco, 5571, Torre 4 - Apartamento 12...\n",
              "1             16  ...  Rua Rio Branco, 5571, Bloco 13 - Sala 193, Lar...\n",
              "2             15  ...  Rua Rio Branco, 5571, Hangar 15, Laranjeiras, ...\n",
              "3             10  ...        Rua Rio Branco, S/N, Laranjeiras, Betim, MG\n",
              "4             13  ...  Rua Rio Branco, 5571, Torre 4 - Sala 180, Lara...\n",
              "\n",
              "[5 rows x 4 columns]"
            ]
          },
          "metadata": {
            "tags": []
          },
          "execution_count": 38
        }
      ]
    },
    {
      "cell_type": "markdown",
      "metadata": {
        "colab_type": "text",
        "id": "8rm65Ob5Zzdc"
      },
      "source": [
        "## Function to split the dataset"
      ]
    },
    {
      "cell_type": "code",
      "metadata": {
        "colab_type": "code",
        "id": "x0vA5VORZzdc",
        "colab": {
          "base_uri": "https://localhost:8080/",
          "height": 119
        },
        "outputId": "82c7b038-fded-45e7-d41b-c958ef2fdc68"
      },
      "source": [
        "def split_data(df, test_size=0.2, verbose=True):\n",
        "    l = list(set(df['Input Pattern'].values))\n",
        "    num_test = int(len(l)*test_size)\n",
        "    test_methods = [random.randint(1, len(l)) for _ in range(num_test)]\n",
        "    print(test_methods)\n",
        "    df_test = df[df['Input Pattern'].isin(test_methods)]\n",
        "    print(df_test.shape)\n",
        "    x_test = df_test.Input.values\n",
        "    y_test = df_test.Target.values\n",
        "\n",
        "    df_train = df[~df['Input Pattern'].isin(test_methods)]\n",
        "\n",
        "    x_train, x_val, y_train, y_val = train_test_split(\n",
        "        df_train.Input.values,\n",
        "        df_train.Target.values,\n",
        "        shuffle=True, \n",
        "        test_size=test_size,\n",
        "        random_state=manual_seed\n",
        "        )\n",
        "    if verbose:\n",
        "        print(f'Address types of test set: {test_methods} with len: {len(test_methods)}')\n",
        "        print(f'x_train: {len(x_train)}  --  y_train: {len(y_train)}\\n\\\n",
        "x_val:   {len(x_val)}  --  y_val:   {len(y_val)}\\n\\\n",
        "x_test:  {len(x_test)}  --  y_test:  {len(y_test)}')\n",
        "\n",
        "    return x_train, y_train, x_val, y_val, x_test, y_test\n",
        "\n",
        "# creating sets\n",
        "x_train, y_train, x_val, y_val, x_test, y_test = split_data(df, \n",
        "                                                            test_size=0.25, \n",
        "                                                            verbose=True)"
      ],
      "execution_count": null,
      "outputs": [
        {
          "output_type": "stream",
          "text": [
            "[16, 2, 22, 16, 14]\n",
            "(2545, 4)\n",
            "Address types of test set: [16, 2, 22, 16, 14] with len: 5\n",
            "x_train: 8583  --  y_train: 8583\n",
            "x_val:   2862  --  y_val:   2862\n",
            "x_test:  2545  --  y_test:  2545\n"
          ],
          "name": "stdout"
        }
      ]
    },
    {
      "cell_type": "code",
      "metadata": {
        "colab_type": "code",
        "id": "4tnqxS3aZzdf",
        "colab": {}
      },
      "source": [
        "class AddressDataset(Dataset):\n",
        "    def __init__(self, data, label, tokenizer, source_max_length, target_max_length):\n",
        "        self.tokenizer = tokenizer\n",
        "        self.data = data\n",
        "        self.label = label\n",
        "        self.source_max_length = source_max_length\n",
        "        self.target_max_length = target_max_length\n",
        "        \n",
        "    def __len__(self):\n",
        "        return len(self.data)\n",
        "    \n",
        "    def __getitem__(self, idx):\n",
        "        source = self.data[idx]\n",
        "        target = self.label[idx]\n",
        "\n",
        "        source_tokenized = self.tokenizer.encode_plus(\n",
        "            f'{source} {self.tokenizer.eos_token}',\n",
        "            max_length=self.source_max_length,\n",
        "            pad_to_max_length=True,\n",
        "            return_tensors='pt')\n",
        "\n",
        "        target_tokenized = self.tokenizer.encode_plus(\n",
        "            f'{target} {self.tokenizer.eos_token}',\n",
        "            max_length=self.target_max_length,\n",
        "            pad_to_max_length=True,\n",
        "            return_tensors='pt')\n",
        "\n",
        "        source_token_ids = source_tokenized['input_ids'].squeeze()\n",
        "        source_mask = source_tokenized['attention_mask'].squeeze()\n",
        "        target_token_ids = target_tokenized['input_ids'].squeeze()\n",
        "        \n",
        "        return source_token_ids, source_mask, target_token_ids"
      ],
      "execution_count": null,
      "outputs": []
    },
    {
      "cell_type": "markdown",
      "metadata": {
        "colab_type": "text",
        "id": "dc1nEnWqZzdh"
      },
      "source": [
        "## Checking the AddressDataset class"
      ]
    },
    {
      "cell_type": "code",
      "metadata": {
        "colab_type": "code",
        "id": "Cjt5RmALZzdi",
        "colab": {
          "base_uri": "https://localhost:8080/",
          "height": 612
        },
        "outputId": "21212a52-0fde-4897-e07e-26820c26eb53"
      },
      "source": [
        "dataset_debug = AddressDataset(\n",
        "    x_train, \n",
        "    y_train,\n",
        "    TOK,\n",
        "    MAX_LEN_SRC,\n",
        "    MAX_LEN_TRGT,\n",
        "    )\n",
        "\n",
        "dataloader_checking = DataLoader(\n",
        "    dataset_debug, \n",
        "    batch_size=1, \n",
        "    shuffle=True, \n",
        "    num_workers=0\n",
        "    )\n",
        "\n",
        "source_token_ids, source_mask, target_token_ids = next(iter(dataloader_checking))\n",
        "print(f'source_token_ids:\\n {source_token_ids} --- shape:{source_token_ids.shape}')\n",
        "print(f'source_mask:\\n {source_mask} --- shape:{source_mask.shape}')\n",
        "print(f'target_token_ids:\\n {target_token_ids} --- shape:{target_token_ids.shape}')"
      ],
      "execution_count": null,
      "outputs": [
        {
          "output_type": "stream",
          "text": [
            "source_token_ids:\n",
            " tensor([[  220,     9,  3083,   162,     7,     7,     9,   970,   835,    20,\n",
            "          1336, 19838,     7,     6,   679,    51,     3,    29,     2,   935,\n",
            "            32,     6, 21340,     9, 25504,    41,   188,    29,  1927,   836,\n",
            "         12899,     9,   201,   180,     2,    32,  2318,     2,     7,     6,\n",
            "          4800,     1,     0,     0,     0,     0,     0,     0,     0,     0,\n",
            "             0,     0,     0,     0,     0,     0,     0,     0,     0,     0,\n",
            "             0,     0,     0,     0,     0,     0,     0,     0,     0,     0,\n",
            "             0,     0,     0,     0,     0,     0,     0,     0,     0,     0,\n",
            "             0,     0,     0,     0,     0,     0,     0,     0,     0,     0,\n",
            "             0,     0,     0,     0,     0,     0,     0,     0,     0,     0,\n",
            "             0,     0,     0,     0,     0,     0,     0,     0,     0,     0,\n",
            "             0,     0,     0,     0,     0,     0,     0,     0,     0,     0,\n",
            "             0,     0,     0,     0,     0,     0,     0,     0]]) --- shape:torch.Size([1, 128])\n",
            "source_mask:\n",
            " tensor([[1, 1, 1, 1, 1, 1, 1, 1, 1, 1, 1, 1, 1, 1, 1, 1, 1, 1, 1, 1, 1, 1, 1, 1,\n",
            "         1, 1, 1, 1, 1, 1, 1, 1, 1, 1, 1, 1, 1, 1, 1, 1, 1, 1, 0, 0, 0, 0, 0, 0,\n",
            "         0, 0, 0, 0, 0, 0, 0, 0, 0, 0, 0, 0, 0, 0, 0, 0, 0, 0, 0, 0, 0, 0, 0, 0,\n",
            "         0, 0, 0, 0, 0, 0, 0, 0, 0, 0, 0, 0, 0, 0, 0, 0, 0, 0, 0, 0, 0, 0, 0, 0,\n",
            "         0, 0, 0, 0, 0, 0, 0, 0, 0, 0, 0, 0, 0, 0, 0, 0, 0, 0, 0, 0, 0, 0, 0, 0,\n",
            "         0, 0, 0, 0, 0, 0, 0, 0]]) --- shape:torch.Size([1, 128])\n",
            "target_token_ids:\n",
            " tensor([[  220,     9,  3083,   162,     7,     7,     9,   970,   835,    20,\n",
            "          1336, 19838,     7,     6,   180,    87,   567,     6, 21340,     9,\n",
            "         25504,    41,   188,    29,  1927,   836, 12899,     9,   201,   180,\n",
            "             2,    32,  2318,     2,     7,     6,  4800,     1,     0,     0,\n",
            "             0,     0,     0,     0,     0,     0,     0,     0,     0,     0,\n",
            "             0,     0,     0,     0,     0,     0,     0,     0,     0,     0,\n",
            "             0,     0,     0,     0,     0,     0,     0,     0,     0,     0,\n",
            "             0,     0,     0,     0,     0,     0,     0,     0,     0,     0,\n",
            "             0,     0,     0,     0,     0,     0,     0,     0,     0,     0,\n",
            "             0,     0,     0,     0,     0,     0,     0,     0,     0,     0,\n",
            "             0,     0,     0,     0,     0,     0,     0,     0,     0,     0,\n",
            "             0,     0,     0,     0,     0,     0,     0,     0,     0,     0,\n",
            "             0,     0,     0,     0,     0,     0,     0,     0]]) --- shape:torch.Size([1, 128])\n"
          ],
          "name": "stdout"
        }
      ]
    },
    {
      "cell_type": "markdown",
      "metadata": {
        "colab_type": "text",
        "id": "Td3PsULnZzdl"
      },
      "source": [
        "## Datasets e Dataloaders"
      ]
    },
    {
      "cell_type": "code",
      "metadata": {
        "colab_type": "code",
        "id": "CEsPIIRAZzdl",
        "colab": {
          "base_uri": "https://localhost:8080/",
          "height": 153
        },
        "outputId": "2133aa8a-d29b-493d-8af0-14d5aa2a1eb9"
      },
      "source": [
        "# datasets\n",
        "ds_debug = AddressDataset(x_train[:BATCH_SZ], y_train[:BATCH_SZ], TOK, MAX_LEN_SRC, MAX_LEN_TRGT)\n",
        "ds_train = AddressDataset(x_train, y_train, TOK, MAX_LEN_SRC, MAX_LEN_TRGT)\n",
        "ds_valid = AddressDataset(x_val, y_val, TOK, MAX_LEN_SRC, MAX_LEN_TRGT)\n",
        "ds_test  = AddressDataset(x_test, y_test, TOK, MAX_LEN_SRC, MAX_LEN_TRGT)\n",
        "\n",
        "print('Datasets len:')\n",
        "print(f'len ds_debug: {len(ds_debug)}')\n",
        "print(f'len ds_train: {len(ds_train)}')\n",
        "print(f'len ds_valid: {len(ds_valid)}')\n",
        "print(f'len ds_test:  {len(ds_test)}')\n",
        "\n",
        "# dataloaders\n",
        "dataloaders = {\n",
        "    'debug': DataLoader(\n",
        "         ds_debug,\n",
        "         batch_size=BATCH_SZ,\n",
        "         shuffle=True,\n",
        "         num_workers=2,\n",
        "         pin_memory=True),\n",
        "    'train': DataLoader(\n",
        "         ds_train,\n",
        "         batch_size=BATCH_SZ,\n",
        "         shuffle=True,\n",
        "         num_workers=2,\n",
        "         pin_memory=True),\n",
        "    'valid': DataLoader(\n",
        "         ds_valid,\n",
        "         batch_size=BATCH_SZ,\n",
        "         shuffle=False,\n",
        "         num_workers=2,\n",
        "         pin_memory=True),\n",
        "    'test': DataLoader(\n",
        "         ds_test,\n",
        "         batch_size=BATCH_SZ,\n",
        "         shuffle=False,\n",
        "         num_workers=2,\n",
        "         pin_memory=True),\n",
        "               }\n",
        "# sanity check\n",
        "print('\\nDataloaders len (in batch):')\n",
        "dl_sizes = {x: len(dataloaders[x]) for x in dataloaders.keys()}; dl_sizes"
      ],
      "execution_count": null,
      "outputs": [
        {
          "output_type": "stream",
          "text": [
            "Datasets len:\n",
            "len ds_debug: 16\n",
            "len ds_train: 8583\n",
            "len ds_valid: 2862\n",
            "len ds_test:  2545\n",
            "\n",
            "Dataloaders len (in batch):\n"
          ],
          "name": "stdout"
        },
        {
          "output_type": "execute_result",
          "data": {
            "text/plain": [
              "{'debug': 1, 'test': 160, 'train': 537, 'valid': 179}"
            ]
          },
          "metadata": {
            "tags": []
          },
          "execution_count": 42
        }
      ]
    },
    {
      "cell_type": "code",
      "metadata": {
        "colab_type": "code",
        "id": "mEvROK8GZzdp",
        "colab": {}
      },
      "source": [
        "# testando o dataloader \n",
        "source_token_ids, source_mask, target_token_ids = next(iter(dataloaders['debug']))"
      ],
      "execution_count": null,
      "outputs": []
    },
    {
      "cell_type": "code",
      "metadata": {
        "colab_type": "code",
        "id": "rctzy_PpZzdr",
        "colab": {}
      },
      "source": [
        "class Net(torch.nn.Module):\n",
        "    def __init__(self):\n",
        "        super(Net, self).__init__()\n",
        "        self.model = T5ForConditionalGeneration.from_pretrained(MODEL_SZ)\n",
        "    \n",
        "    def forward(self, token_ids, att_mask, labels):\n",
        "        outputs = self.model.forward(\n",
        "            input_ids=token_ids, \n",
        "            attention_mask=att_mask,\n",
        "            lm_labels=labels\n",
        "            )\n",
        "        return outputs[0] # loss\n",
        "    \n",
        "    @torch.no_grad()    \n",
        "    def generate(self, token_ids, att_mask, max_len_target):\n",
        "        predict = self.model.generate(\n",
        "            input_ids=token_ids, \n",
        "            attention_mask=att_mask,\n",
        "            max_length=max_len_target\n",
        "            )\n",
        "        return predict\n",
        "    \n",
        "    @torch.no_grad()  \n",
        "    def generate_example(self, text_input, tokenizer, max_len_source=MAX_LEN_SRC):\n",
        "\n",
        "        self.model.eval()\n",
        "        \n",
        "        example_tokenized = tokenizer.encode_plus(\n",
        "            f'{text_input} {tokenizer.eos_token}',\n",
        "            max_length=max_len_source,\n",
        "            pad_to_max_length=True,\n",
        "            return_tensors='pt')\n",
        "            \n",
        "        example_token_ids = example_tokenized['input_ids']\n",
        "        example_mask = example_tokenized['attention_mask']\n",
        "\n",
        "        predicted_example = self.model.generate(\n",
        "            input_ids=example_token_ids.to(device), \n",
        "            attention_mask=example_mask.to(device),\n",
        "            max_length=MAX_LEN_TRGT\n",
        "            )\n",
        "\n",
        "        self.model.train()\n",
        "\n",
        "        out_text = [tokenizer.decode(text) for text in predicted_example]\n",
        "        \n",
        "        return out_text"
      ],
      "execution_count": null,
      "outputs": []
    },
    {
      "cell_type": "markdown",
      "metadata": {
        "colab_type": "text",
        "id": "UDxVhVf6Zzdu"
      },
      "source": [
        "## Train and evaluation functions"
      ]
    },
    {
      "cell_type": "code",
      "metadata": {
        "colab_type": "code",
        "id": "c2gYbLX8Zzdu",
        "colab": {}
      },
      "source": [
        "# acc metric for text inputs\n",
        "def acc_in_text(trues, preds): \n",
        "    acc = []\n",
        "    for d in zip(trues, preds):\n",
        "        if d[0] == d[1]:\n",
        "            acc.append(1)\n",
        "        else:\n",
        "            acc.append(0)\n",
        "    return acc # bool\n",
        "\n",
        "def train(model, device, train_loader, optimizer):\n",
        "    loss_train = []\n",
        "    model.train()\n",
        "    for source_token_ids, source_mask, target_token_ids in train_loader:\n",
        "        optimizer.zero_grad()\n",
        "        loss = model(\n",
        "            source_token_ids.to(device), \n",
        "            source_mask.to(device), \n",
        "            target_token_ids.to(device)\n",
        "            )\n",
        "        \n",
        "        loss_train.append(loss.item())\n",
        "        loss.backward()\n",
        "        optimizer.step()\n",
        "    \n",
        "    train_losses = sum(loss_train) / len(loss_train)\n",
        "  \n",
        "    return train_losses\n",
        "\n",
        "def evaluate_fn(model, device, val_loader, max_len=MAX_LEN_TRGT):\n",
        "    loss_val, all_acc, all_preds, all_trues = [], [], [], []\n",
        "    model.eval()\n",
        "    for source_token_ids, source_mask, target_token_ids in val_loader:\n",
        "        predicted_ids = model.generate(\n",
        "            source_token_ids.to(device), \n",
        "            source_mask.to(device),\n",
        "            max_len\n",
        "            )\n",
        "        \n",
        "        preds = [TOK.decode(t) for t in predicted_ids]\n",
        "        trues = [TOK.decode(t) for t in target_token_ids]\n",
        "        acc = acc_in_text(trues, preds)\n",
        "        all_acc.extend(acc)\n",
        "        all_trues.extend(trues)\n",
        "        all_preds.extend(preds)\n",
        "        \n",
        "        # val loss   \n",
        "        loss = model(\n",
        "        source_token_ids.to(device), \n",
        "        source_mask.to(device), \n",
        "        target_token_ids.to(device)\n",
        "        )\n",
        "        loss_val.append(loss.item())\n",
        "    \n",
        "    val_losses = sum(loss_val) / len(loss_val)\n",
        "    \n",
        "    return val_losses, np.array(all_acc).mean(), all_trues, all_preds"
      ],
      "execution_count": null,
      "outputs": []
    },
    {
      "cell_type": "markdown",
      "metadata": {
        "colab_type": "text",
        "id": "tk7ggKPKZzdw"
      },
      "source": [
        "# Overfit in one batch \n",
        "- dataloader debug"
      ]
    },
    {
      "cell_type": "code",
      "metadata": {
        "colab_type": "code",
        "id": "xUOJOmyFZzdx",
        "colab": {
          "base_uri": "https://localhost:8080/",
          "height": 411
        },
        "outputId": "b0a8133a-5bbb-47b5-9228-fc518c6799d6"
      },
      "source": [
        "overfit = False\n",
        "\n",
        "if overfit:\n",
        "\n",
        "    start = torch.cuda.Event(enable_timing=True)\n",
        "    end = torch.cuda.Event(enable_timing=True)\n",
        "    deterministic() \n",
        "\n",
        "    model = Net().to(device)\n",
        "    optimizer = torch.optim.AdamW(model.parameters(), lr=5e-5)\n",
        "    \n",
        "    # -----------------------------------------------------------------------------\n",
        "    start.record()\n",
        "    for step in range(1, 1001):\n",
        "        samp = random.randint(0, BATCH_SZ-WINDOW) # to show random trues and preds\n",
        "        loss_t = train(model, device, dataloaders['debug'], optimizer)\n",
        "        loss,acc, trues, preds = evaluate_fn(model, device, dataloaders['debug'])\n",
        "        if step == 1:\n",
        "            print(f'[Epoch: {step}/{1000}] |', end=' ')\n",
        "            print(f'Train Loss: {loss_t:.3f} -- Acc: {acc:.3f}')\n",
        "        if step % 100 == 0:\n",
        "            print(f'[Epoch: {step}/{1000}] |', end=' ')\n",
        "            print(f'Train Loss: {loss_t:.3f} -- Acc: {acc:.3f}')\n",
        "            print(f'  Trues: {trues[samp:samp+WINDOW]}\\n  Preds: {preds[samp:samp+WINDOW]}')\n",
        "        if acc>= 0.99:\n",
        "          print('The model has overfitted! Breaking the loop :)')\n",
        "          break\n",
        "    end.record()\n",
        "    torch.cuda.synchronize()    \n",
        "    # -----------------------------------------------------------------------------\n",
        "\n",
        "    print(f'Training time: {start.elapsed_time(end)/1000/60 :.3f} min.')\n",
        "    del model"
      ],
      "execution_count": null,
      "outputs": [
        {
          "output_type": "stream",
          "text": [
            "Deterministic experiment, seed: 2357\n",
            "[Epoch: 1/1000] | Train Loss: 11.065 -- Acc: 0.000\n",
            "[Epoch: 100/1000] | Train Loss: 0.543 -- Acc: 0.000\n",
            "  Trues: ['Avenida Doutor Belmino Correia 480, S/N, Torre 4 - Sala 180,Bairro Novo do Carmelo, Camaragibe, PE', 'Vila Catarina, 7968, Serrinha, Fortaleza', 'Rua Luiz Milani, 1543, Jardim Luiza, Franca, SP', 'Rua Urandi, 2716, Box 65, Brejo de Beberibe, Recife, PE', 'Rua Abrolhos, 6342, Santa Mônica, Guarapari, ES', 'Rua Leonesa Pereira Motta, 4733, Sala 157, Nova Esperança, Balneário Cambori ⁇ ', 'Estrada da Boiuna, 5290, Sala 157, Taquara, Rio de Janeiro']\n",
            "  Preds: ['', '', '', '', '', '', '']\n",
            "[Epoch: 200/1000] | Train Loss: 0.231 -- Acc: 0.000\n",
            "  Trues: ['Vila Catarina, 7968, Serrinha, Fortaleza', 'Estrada da Boiuna, 5290, Sala 157, Taquara, Rio de Janeiro', 'Avenida Doutor Belmino Correia 480, S/N, Torre 4 - Sala 180,Bairro Novo do Carmelo, Camaragibe, PE', 'Rua Antônio Garcia, S/N, Vila Santa Tereza, Bauru, SP', 'Rua Agenor Cruz, S/N, Jardim Residencial Mont Blanc, Sorocaba, SP', 'Rua José Américo Baratela, 8181, Jardim Santa Rosa, Sert ⁇ ozinho, SP', 'Avenida Sérgio de Moura Pinto, S/N, Torre 4 - Apartamento 12,Parque Tietê, S ⁇ o Jo ⁇ o de Meriti, RJ']\n",
            "  Preds: ['', '', '', '', '', '', '']\n",
            "[Epoch: 300/1000] | Train Loss: 0.153 -- Acc: 0.000\n",
            "  Trues: ['Avenida Sérgio de Moura Pinto, S/N, Torre 4 - Apartamento 12,Parque Tietê, S ⁇ o Jo ⁇ o de Meriti, RJ', 'Rua Abrolhos, 6342, Santa Mônica, Guarapari, ES', 'Rua José Américo Baratela, 8181, Jardim Santa Rosa, Sert ⁇ ozinho, SP', 'Rua Leonesa Pereira Motta, 4733, Sala 157, Nova Esperança, Balneário Cambori ⁇ ', 'Rua Urandi, 2716, Box 65, Brejo de Beberibe, Recife, PE', 'Avenida Doutor Belmino Correia 480, S/N, Torre 4 - Sala 180,Bairro Novo do Carmelo, Camaragibe, PE', 'Vila Catarina, 7968, Serrinha, Fortaleza']\n",
            "  Preds: ['', '', '', '', '', '', '']\n",
            "[Epoch: 400/1000] | Train Loss: 0.063 -- Acc: 0.375\n",
            "  Trues: ['Rua Luiz Milani, 1543, Jardim Luiza, Franca, SP', 'Estrada da Boiuna, 5290, Sala 157, Taquara, Rio de Janeiro', 'Rua José Américo Baratela, 8181, Jardim Santa Rosa, Sert ⁇ ozinho, SP', 'Rua Antônio Garcia, S/N, Vila Santa Tereza, Bauru, SP', 'Rua Agenor Cruz, S/N, Jardim Residencial Mont Blanc, Sorocaba, SP', 'Avenida Doutor Belmino Correia 480, S/N, Torre 4 - Sala 180,Bairro Novo do Carmelo, Camaragibe, PE', 'Avenida Sérgio de Moura Pinto, S/N, Torre 4 - Apartamento 12,Parque Tietê, S ⁇ o Jo ⁇ o de Meriti, RJ']\n",
            "  Preds: ['Rua Luiz Milani, 1543, Jardim Luiza, Franca, SP', '', '', 'Rua Antônio Garcia, Santa Tereza, Bauru, SP', 'Rua Agenor Cruz, S/N, Jardim Residencial Mont Blanc, Sorocaba, SP', 'Avenida Doutor Belmino Correia 480, S/N, Torre 4 - Sala 180, Bairro Novo do Carmelo, Camaragibe, PE', 'Avenida Sérgio de Moura Pinto, S/N, Torre 4 - Apartamento 12,Parque Tietê, S ⁇ o Jo ⁇ o de Meriti, RJ']\n",
            "[Epoch: 500/1000] | Train Loss: 0.030 -- Acc: 0.938\n",
            "  Trues: ['Rua Newton Fonseca Arantes, S/N, Daniel Fonseca, Uberlândia, MG', 'Rua Leonesa Pereira Motta, 4733, Sala 157, Nova Esperança, Balneário Cambori ⁇ ', 'Rua José Américo Baratela, 8181, Jardim Santa Rosa, Sert ⁇ ozinho, SP', 'Rua Juruna, 7289, Sala 157, Patamares, Salvador, BA, 41680220', 'Rua Abrolhos, 6342, Santa Mônica, Guarapari, ES', 'Rodovia BR, 2021, Vila Redenç ⁇ o, Goiânia, GO', 'Travessa Pedro José Grunewald, 8840, Santa Catarina, Juiz de Fora']\n",
            "  Preds: ['Rua Newton Fonseca Arantes, S/N, Daniel Fonseca, Uberlândia, MG', 'Rua Leonesa Pereira Motta, 4733, Sala 157, Nova Esperança, Balneário Cambori ⁇ ', 'Rua José Américo Baratela, 8181, Jardim Santa Rosa, Sert ⁇ ozinho, S ⁇ o Paulo, Sert ⁇ ozinho, Santa Rosa, Jardim Santa Rosa, Sert ⁇ ozinho, 8181, Rua José Américo Baratela', 'Rua Juruna, 7289, Sala 157, Patamares, Salvador, BA, 41680220', 'Rua Abrolhos, 6342, Santa Mônica, Guarapari, ES', 'Rodovia BR, 2021, Vila Redenç ⁇ o, Goiânia, GO', 'Travessa Pedro José Grunewald, 8840, Santa Catarina, Juiz de Fora']\n",
            "[Epoch: 600/1000] | Train Loss: 0.014 -- Acc: 0.938\n",
            "  Trues: ['Rua Juruna, 7289, Sala 157, Patamares, Salvador, BA, 41680220', 'Rua José Américo Baratela, 8181, Jardim Santa Rosa, Sert ⁇ ozinho, SP', 'Travessa Pedro José Grunewald, 8840, Santa Catarina, Juiz de Fora', 'Rua Leonesa Pereira Motta, 4733, Sala 157, Nova Esperança, Balneário Cambori ⁇ ', 'Beco 17 de Julho, S/N, Hangar 15,Novo Israel, Manaus, AM', 'Rua Antônio Garcia, S/N, Vila Santa Tereza, Bauru, SP', 'Avenida Sérgio de Moura Pinto, S/N, Torre 4 - Apartamento 12,Parque Tietê, S ⁇ o Jo ⁇ o de Meriti, RJ']\n",
            "  Preds: ['Rua Juruna, 7289, Sala 157, Patamares, Salvador, BA, 41680220', 'Rua José Américo Baratela, 8181, Jardim Santa Rosa, Sert ⁇ ozinho, Santa Rosa, Sert ⁇ ozinho, Santa Rosa, Jardim Santa Rosa, Sert ⁇ ozinho, SP', 'Travessa Pedro José Grunewald, 8840, Santa Catarina, Juiz de Fora', 'Rua Leonesa Pereira Motta, 4733, Sala 157, Nova Esperança, Balneário Cambori ⁇ ', 'Beco 17 de Julho, S/N, Hangar 15,Novo Israel, Manaus, AM', 'Rua Antônio Garcia, S/N, Vila Santa Tereza, Bauru, SP', 'Avenida Sérgio de Moura Pinto, S/N, Torre 4 - Apartamento 12,Parque Tietê, S ⁇ o Jo ⁇ o de Meriti, RJ']\n",
            "The model has overfitted! Breaking the loop :)\n",
            "Training time: 33.114 min.\n"
          ],
          "name": "stdout"
        }
      ]
    },
    {
      "cell_type": "markdown",
      "metadata": {
        "colab_type": "text",
        "id": "KVZ9sPKlZzdz"
      },
      "source": [
        "# Training "
      ]
    },
    {
      "cell_type": "code",
      "metadata": {
        "colab_type": "code",
        "id": "jP4cqi0QZzdz",
        "colab": {
          "base_uri": "https://localhost:8080/",
          "height": 241
        },
        "outputId": "2fc47077-4d2c-44aa-f914-0538f1354813"
      },
      "source": [
        "try:\n",
        "  del model\n",
        "except:\n",
        "  print('Model already erased, starting a new one!')\n",
        "  \n",
        "start = torch.cuda.Event(enable_timing=True)\n",
        "end = torch.cuda.Event(enable_timing=True)\n",
        "deterministic() \n",
        "\n",
        "model = Net().to(device)\n",
        "optimizer = torch.optim.AdamW(model.parameters(), lr=5e-5)\n",
        "\n",
        "N_EPOCHS = 3\n",
        "\n",
        "# ---------------------------------------------------------------------------------\n",
        "start.record()\n",
        "for step in range(1, N_EPOCHS+1):\n",
        "    samp = random.randint(0, BATCH_SZ-WINDOW) # to show random trues and preds\n",
        "    loss_t = train(model, device, dataloaders['train'], optimizer)\n",
        "    loss_v, acc, trues, preds = evaluate_fn(model, device, dataloaders['valid'])\n",
        "    print(f'[Epoch: {step}/{N_EPOCHS}] |', end=' ')\n",
        "    print(f'Train Loss: {loss_t:.3f} -- Valid Loss: {loss_v:.3f} -- Acc: {acc:.3f}')\n",
        "    print(f'  Trues: {trues[samp:samp+WINDOW]}\\n  Preds: {preds[samp:samp+WINDOW]}')\n",
        "\n",
        "end.record()\n",
        "torch.cuda.synchronize()    \n",
        "# ---------------------------------------------------------------------------------\n",
        "\n",
        "print(f'Training time: {start.elapsed_time(end)/1000/60 :.3f} min.')"
      ],
      "execution_count": null,
      "outputs": [
        {
          "output_type": "stream",
          "text": [
            "Model already erased, starting a new one!\n",
            "Deterministic experiment, seed: 2357\n",
            "[Epoch: 1/3] | Train Loss: 0.591 -- Valid Loss: 0.056 -- Acc: 0.226\n",
            "  Trues: ['Rua Quatro, 737, Cézar de Souza, Mogi das Cruzes', 'Rua Walter Forster, S/N, Box 65,Ajuda, Macaé, RJ', 'Vila Sobral, 6232, Pedreira, Belém, PA', 'Travessa Doutor Mateus Cruz, 7721, Sala 157, Amaralina, Salvador, BA', 'Rua Pira ⁇ ba, 7852, Lagoa, Porto Velho', 'Rua dos Buiucus, S/N, Bairro da Cimba, Aragua ⁇ na, TO', 'Quadra 54 Conjunto A, 7583, Parque da Barragem Setor 01,  ⁇ guas Lindas de Goiás, GO, 72911226']\n",
            "  Preds: ['', 'Rua Walter Forster, Box 65, Ajuda, Macaé, RJ', 'Vila Sobral, 6232, Pedreira, Belém, Pará', '', '', 'Rua dos Buiucus, Bairro da Cimba, Aragua ⁇ na, TO', '']\n",
            "[Epoch: 2/3] | Train Loss: 0.063 -- Valid Loss: 0.020 -- Acc: 0.586\n",
            "  Trues: ['1a Travessa Nossa Senhora de Lourdes, S/N, Praia Grande, Salvador, BA', 'Praça Nosso Lar, 3113, Bloco 13 - Sala 193, S ⁇ o Judas Tadeu, Montes Claros', 'Rua Quatro, 737, Cézar de Souza, Mogi das Cruzes', 'Rua Walter Forster, S/N, Box 65,Ajuda, Macaé, RJ', 'Vila Sobral, 6232, Pedreira, Belém, PA', 'Travessa Doutor Mateus Cruz, 7721, Sala 157, Amaralina, Salvador, BA', 'Rua Pira ⁇ ba, 7852, Lagoa, Porto Velho']\n",
            "  Preds: ['Travessa Nossa Senhora de Lourdes, 1a, Praia Grande, Salvador, BA', 'Praça Nosso Lar, 3113, Bloco 13 - Sala 193, S ⁇ o Judas Tadeu, Montes Claros', 'Rua Quatro, 737, Cézar, Souza, Mogi das Cruzes', 'Rua Walter Forster, S/N, Box 65, Ajuda, Macaé, RJ', 'Vila Sobral, 6232, Pedreira, Belém, PE', 'Travessa Doutor Mateus Cruz, 7721, Sala 157, Amaralina, Salvador, BA', 'Rua Pira ⁇ ba, 7852, Lagoa, Porto Velho']\n",
            "[Epoch: 3/3] | Train Loss: 0.032 -- Valid Loss: 0.011 -- Acc: 0.749\n",
            "  Trues: ['Rua Durval Fernandes Chaves, 9662, Jardim Santo Elias, S ⁇ o Paulo, SP', 'Rua Monte Castelo, 2097, Bloco 13 - Sala 193, Ititioca, Niterói, RJ, 24315310', '1a Travessa Nossa Senhora de Lourdes, S/N, Praia Grande, Salvador, BA', 'Praça Nosso Lar, 3113, Bloco 13 - Sala 193, S ⁇ o Judas Tadeu, Montes Claros', 'Rua Quatro, 737, Cézar de Souza, Mogi das Cruzes', 'Rua Walter Forster, S/N, Box 65,Ajuda, Macaé, RJ', 'Vila Sobral, 6232, Pedreira, Belém, PA']\n",
            "  Preds: ['Rua Durval Fernandes Chaves, 9662, Jardim Santo Elias, S ⁇ o Paulo, SP', 'Rua Monte Castelo, 2097, Bloco 13 - Sala 193, Ititioca, Niterói, RJ, 24315310', 'Travessa Nossa Senhora de Lourdes, 1a, Praia Grande, Salvador, BA', 'Praça Nosso Lar, 3113, Bloco 13 - Sala 193, S ⁇ o Judas Tadeu, Montes Claros', 'Rua Quatro, 737, Cézar, Souza de Mogi das Cruzes', 'Rua Walter Forster, S/N, Box 65, Ajuda, Macaé, RJ', 'Vila Sobral, 6232, Pedreira, Belém, PA']\n",
            "Training time: 29.641 min.\n"
          ],
          "name": "stdout"
        }
      ]
    },
    {
      "cell_type": "markdown",
      "metadata": {
        "colab_type": "text",
        "id": "h-YQ8OKPZzd2"
      },
      "source": [
        "# Test"
      ]
    },
    {
      "cell_type": "code",
      "metadata": {
        "colab_type": "code",
        "id": "EaZERxo7Zzd3",
        "colab": {
          "base_uri": "https://localhost:8080/",
          "height": 105
        },
        "outputId": "4c0a2b54-7c62-4f5a-ce7a-3d839acbed6e"
      },
      "source": [
        "# ---------------------------------------------------------------------------------\n",
        "start.record()\n",
        "\n",
        "samp = random.randint(0, BATCH_SZ-WINDOW) # to show random trues and preds\n",
        "loss, acc, trues, preds = evaluate_fn(model, device, dataloaders['test'])\n",
        "print(f'Loss: {loss:.3f} -- Acc: {acc:.3f}')\n",
        "print(f' Trues: {trues[samp:samp+WINDOW]}\\n  Preds: {preds[samp:samp+WINDOW]}')\n",
        "\n",
        "end.record()\n",
        "torch.cuda.synchronize()    \n",
        "# ---------------------------------------------------------------------------------\n",
        "\n",
        "print(f'Test time: {start.elapsed_time(end)/1000/60 :.3f} min.')"
      ],
      "execution_count": null,
      "outputs": [
        {
          "output_type": "stream",
          "text": [
            "Loss: 0.009 -- Acc: 0.761\n",
            " Trues: ['Travessa Poço Verde, 9430, Zona de Expans ⁇ o (Robalo), Aracaju, SE, 49004589', 'Rua Waldemar Gardenghi, 8879, Hangar 15, Chácara Santo Antônio (Zona Leste), S ⁇ o Paulo, SP', 'Rua Waldemar Gardenghi, S/N, Apartamento 15,Chácara Santo Antônio (Zona Leste), S ⁇ o Paulo, SP', 'Rua Professora Maria das Graças Pinto, 9852, Box 65, Bosque da Sa ⁇ de, Cuiabá, MT', 'Rua Professora Maria das Graças Pinto, 9852, Bosque da Sa ⁇ de, Cuiabá, MT, 78050184', 'Avenida Borges de Medeiros, 7665, Loja 20, Centro Histórico, Porto Alegre', 'Avenida Borges de Medeiros, 7665, Bloco 13 - Sala 193, Centro Histórico, Porto Alegre, RS']\n",
            "  Preds: ['Travessa Poço Verde, 9430, Zona de Expans ⁇ o (Robalo), Aracaju, SE, 49004589', 'Rua Waldemar Gardenghi, 8879, Hangar 15, Chácara Santo Antônio (Zona Leste), S ⁇ o Paulo, SP', 'Rua Waldemar Gardenghi, S/N, Apartamento 15,Chácara Santo Antônio (Zona Leste), S ⁇ o Paulo, SP', 'Rua Professora Maria das Graças Pinto, 9852, Box 65, Bosque da Sa ⁇ de, Cuiabá, MM', 'Rua Professora Maria das Graças Pinto, 9852, Bosque da Sa ⁇ de, Cuiabá, MT, 78050184', 'Avenida Borges de Medeiros, 7665, Loja 20, Centro Histórico, Porto Alegre', 'Avenida Borges de Medeiros, 7665, Bloco 13 - Sala 193, Centro Histórico, Porto Alegre, SP']\n",
            "Test time: 2.558 min.\n"
          ],
          "name": "stdout"
        }
      ]
    },
    {
      "cell_type": "markdown",
      "metadata": {
        "id": "CzVjYAkNGVxJ",
        "colab_type": "text"
      },
      "source": [
        "# IGNORE FROM BELOW HERE ------ Evaluating types for a same date\n",
        "\n",
        "Given a sample date, this section evaluates wich is the accuracy.\n",
        "\n",
        "\n"
      ]
    },
    {
      "cell_type": "code",
      "metadata": {
        "id": "DixMx530hPg5",
        "colab_type": "code",
        "colab": {}
      },
      "source": [
        "def evaluate_for_a_same_date(date, format, model=model,tokenizer=TOK,verbose=True):\n",
        "  '''\n",
        "    Given a specific date, returns the accuracy in all evalueated types.\n",
        "    Also prints results per sample.\n",
        "  '''\n",
        "\n",
        "  results = []\n",
        "  \n",
        "#   examples = dates.generate_demo(date=date)\n",
        "  examples = dates.generate_demo(date,'DD/MM/YYYY')\n",
        "\n",
        "\n",
        "  for x,target in zip(examples['Generated Text'],examples['Origin Sample']):\n",
        "\n",
        "    prediction = model.generate_example(x,TOK)[0]\n",
        "\n",
        "    results.append(prediction == target)\n",
        "\n",
        "    if verbose:\n",
        "      print(f'Entrada: {x} -- Target: {target} --- Previsto: {prediction} --- {prediction == target}')\n",
        "\n",
        "  if verbose:\n",
        "    print(f'Total accuracy: {np.mean(results)}')\n",
        "\n",
        "  return np.mean(results)"
      ],
      "execution_count": null,
      "outputs": []
    },
    {
      "cell_type": "code",
      "metadata": {
        "id": "hlmH30k9iBKC",
        "colab_type": "code",
        "colab": {
          "base_uri": "https://localhost:8080/",
          "height": 816
        },
        "outputId": "2237684f-8d1f-4ff8-f012-5f951d29bd4f"
      },
      "source": [
        "'''\n",
        "  A date in the century with more dates occuring\n",
        "'''\n",
        "evaluate_for_a_same_date('11/07/1988','DD/MM/YYYY')"
      ],
      "execution_count": null,
      "outputs": [
        {
          "output_type": "stream",
          "text": [
            "Entrada: onze de julho de 1988 -- Target: 11/07/1988 --- Previsto: 11/07/1988 --- True\n",
            "Entrada: onze de jul de mil, novecentos e oitenta e oito -- Target: 11/07/1988 --- Previsto: 11/07/1988 --- True\n",
            "Entrada: onze de julho de mil, novecentos e oitenta e oito -- Target: 11/07/1988 --- Previsto: 11/07/1988 --- True\n",
            "Entrada: décimo primeiro dia do mês sete de mil, novecentos e oitenta e oito -- Target: 11/07/1988 --- Previsto: 20/01/1988 --- False\n",
            "Entrada: 11 de Julho de 1988 -- Target: 11/07/1988 --- Previsto: 11/07/1988 --- True\n",
            "Entrada: 11 de julho de mil, novecentos e oitenta e oito -- Target: 11/07/1988 --- Previsto: 11/07/1988 --- True\n",
            "Entrada: 11-07 de mil, novecentos e oitenta e oito -- Target: 11/07/1988 --- Previsto: 11/07/1988 --- True\n",
            "Entrada: onze - 07 - 1988 -- Target: 11/07/1988 --- Previsto: 11/07/1988 --- True\n",
            "Entrada: onze de julho - 1988 -- Target: 11/07/1988 --- Previsto: 11/07/1988 --- True\n",
            "Entrada: 11º de julho de 1988 -- Target: 11/07/1988 --- Previsto: 11/07/1988 --- True\n",
            "Entrada: 11º - 07 - 1988 -- Target: 11/07/1988 --- Previsto: 11/07/1988 --- True\n",
            "Entrada: 11º / 07 / 1988 -- Target: 11/07/1988 --- Previsto: 11/07/1988 --- True\n",
            "Entrada: 11º / Julho / 1988 -- Target: 11/07/1988 --- Previsto: 11/07/1988 --- True\n",
            "Entrada: 11 / julho / 1988 -- Target: 11/07/1988 --- Previsto: 11/07/1988 --- True\n",
            "Entrada: onze julho mil, novecentos e oitenta e oito -- Target: 11/07/1988 --- Previsto: 11/07/1988 --- True\n",
            "Entrada: 11 julho mil, novecentos e oitenta e oito -- Target: 11/07/1988 --- Previsto: 11/07/1988 --- True\n",
            "Entrada: 11/07 mil, novecentos e oitenta e oito -- Target: 11/07/1988 --- Previsto: 11/07/1988 --- True\n",
            "Entrada: 11.07 mil, novecentos e oitenta e oito -- Target: 11/07/1988 --- Previsto: 11/07/1988 --- True\n",
            "Entrada: 11-07 mil, novecentos e oitenta e oito -- Target: 11/07/1988 --- Previsto: 11/07/1988 --- True\n",
            "Entrada: onze/julho/mil, novecentos e oitenta e oito -- Target: 11/07/1988 --- Previsto: 11/07/1988 --- True\n",
            "Entrada: 11 do mês sete de 1988 -- Target: 11/07/1988 --- Previsto: 11/07/1988 --- True\n",
            "Entrada: 11-7-1988 -- Target: 11/07/1988 --- Previsto: 11/07/1988 --- True\n",
            "Entrada: 11 - 7 - 1988 -- Target: 11/07/1988 --- Previsto: 11/07/1988 --- True\n",
            "Entrada: 11-07-1988 -- Target: 11/07/1988 --- Previsto: 11/07/1988 --- True\n",
            "Entrada: 11 - 07 - 1988 -- Target: 11/07/1988 --- Previsto: 11/07/1988 --- True\n",
            "Entrada: 11-julho-1988 -- Target: 11/07/1988 --- Previsto: 11/07/1988 --- True\n",
            "Entrada: 11 - julho - 1988 -- Target: 11/07/1988 --- Previsto: 11/07/1988 --- True\n",
            "Entrada: 11-jul-1988 -- Target: 11/07/1988 --- Previsto: 11/07/1988 --- True\n",
            "Entrada: 11 - jul - 1988 -- Target: 11/07/1988 --- Previsto: 11/07/1988 --- True\n",
            "Entrada: 11.7.1988 -- Target: 11/07/1988 --- Previsto: 11/07/1988 --- True\n",
            "Entrada: 11 . 7 . 1988 -- Target: 11/07/1988 --- Previsto: 11/07/1988 --- True\n",
            "Entrada: 11.07.1988 -- Target: 11/07/1988 --- Previsto: 11/07/1988 --- True\n",
            "Entrada: 11 . 07 . 1988 -- Target: 11/07/1988 --- Previsto: 11/07/1988 --- True\n",
            "Entrada: 11.julho.1988 -- Target: 11/07/1988 --- Previsto: 11/07/1988 --- True\n",
            "Entrada: 11 . julho . 1988 -- Target: 11/07/1988 --- Previsto: 11/07/1988 --- True\n",
            "Entrada: 11.jul.1988 -- Target: 11/07/1988 --- Previsto: 11/07/1988 --- True\n",
            "Entrada: 11 . jul . 1988 -- Target: 11/07/1988 --- Previsto: 11/07/1988 --- True\n",
            "Entrada: 11/07/1988 -- Target: 11/07/1988 --- Previsto: 11/07/1988 --- True\n",
            "Entrada: 11 / 07 / 1988 -- Target: 11/07/1988 --- Previsto: 11/07/1988 --- True\n",
            "Entrada: 11/julho/1988 -- Target: 11/07/1988 --- Previsto: 11/07/1988 --- True\n",
            "Entrada: 11 / julho / 1988 -- Target: 11/07/1988 --- Previsto: 11/07/1988 --- True\n",
            "Entrada: 11/jul/1988 -- Target: 11/07/1988 --- Previsto: 11/07/1988 --- True\n",
            "Entrada: 11 / jul / 1988 -- Target: 11/07/1988 --- Previsto: 11/07/1988 --- True\n",
            "Entrada: 11/7/1988 -- Target: 11/07/1988 --- Previsto: 11/07/1988 --- True\n",
            "Entrada: 11 / 7 / 1988 -- Target: 11/07/1988 --- Previsto: 11/07/1988 --- True\n",
            "Total accuracy: 0.9777777777777777\n"
          ],
          "name": "stdout"
        },
        {
          "output_type": "execute_result",
          "data": {
            "text/plain": [
              "0.9777777777777777"
            ]
          },
          "metadata": {
            "tags": []
          },
          "execution_count": 351
        }
      ]
    },
    {
      "cell_type": "code",
      "metadata": {
        "id": "qZr2RlmzcjLV",
        "colab_type": "code",
        "colab": {
          "base_uri": "https://localhost:8080/",
          "height": 816
        },
        "outputId": "4035c86a-c64b-4bf6-83da-500cd9f5246b"
      },
      "source": [
        "'''\n",
        "  A date in a century with less dates occurring, but that is inside the\n",
        "  generated dataset\n",
        "'''\n",
        "evaluate_for_a_same_date('20/12/2015','DD/MM/YYYY')"
      ],
      "execution_count": null,
      "outputs": [
        {
          "output_type": "stream",
          "text": [
            "Entrada: vinte de dezembro de 2015 -- Target: 20/12/2015 --- Previsto: 20/12/2015 --- True\n",
            "Entrada: vinte de dez de dois mil e quinze -- Target: 20/12/2015 --- Previsto: 20/12/2015 --- True\n",
            "Entrada: vinte de dezembro de dois mil e quinze -- Target: 20/12/2015 --- Previsto: 20/12/2015 --- True\n",
            "Entrada: vigésimo dia do mês doze de dois mil e quinze -- Target: 20/12/2015 --- Previsto: 22/12/2015 --- False\n",
            "Entrada: 20 de Dezembro de 2015 -- Target: 20/12/2015 --- Previsto: 20/12/2015 --- True\n",
            "Entrada: 20 de dezembro de dois mil e quinze -- Target: 20/12/2015 --- Previsto: 20/12/2015 --- True\n",
            "Entrada: 20-12 de dois mil e quinze -- Target: 20/12/2015 --- Previsto: 20/12/2015 --- True\n",
            "Entrada: vinte - 12 - 2015 -- Target: 20/12/2015 --- Previsto: 20/12/2015 --- True\n",
            "Entrada: vinte de dezembro - 2015 -- Target: 20/12/2015 --- Previsto: 20/12/2015 --- True\n",
            "Entrada: 20º de dezembro de 2015 -- Target: 20/12/2015 --- Previsto: 20/12/2015 --- True\n",
            "Entrada: 20º - 12 - 2015 -- Target: 20/12/2015 --- Previsto: 20/12/2015 --- True\n",
            "Entrada: 20º / 12 / 2015 -- Target: 20/12/2015 --- Previsto: 20/12/2015 --- True\n",
            "Entrada: 20º / Dezembro / 2015 -- Target: 20/12/2015 --- Previsto: 20/12/2015 --- True\n",
            "Entrada: 20 / dezembro / 2015 -- Target: 20/12/2015 --- Previsto: 20/12/2015 --- True\n",
            "Entrada: vinte dezembro dois mil e quinze -- Target: 20/12/2015 --- Previsto: 20/12/2015 --- True\n",
            "Entrada: 20 dezembro dois mil e quinze -- Target: 20/12/2015 --- Previsto: 20/12/2015 --- True\n",
            "Entrada: 20/12 dois mil e quinze -- Target: 20/12/2015 --- Previsto: 20/12/2015 --- True\n",
            "Entrada: 20.12 dois mil e quinze -- Target: 20/12/2015 --- Previsto: 20/12/2015 --- True\n",
            "Entrada: 20-12 dois mil e quinze -- Target: 20/12/2015 --- Previsto: 20/12/2015 --- True\n",
            "Entrada: vinte/dezembro/dois mil e quinze -- Target: 20/12/2015 --- Previsto: 20/12/2015 --- True\n",
            "Entrada: 20 do mês doze de 2015 -- Target: 20/12/2015 --- Previsto: 20/12/2015 --- True\n",
            "Entrada: 20-12-2015 -- Target: 20/12/2015 --- Previsto: 20/12/2015 --- True\n",
            "Entrada: 20 - 12 - 2015 -- Target: 20/12/2015 --- Previsto: 20/12/2015 --- True\n",
            "Entrada: 20-12-2015 -- Target: 20/12/2015 --- Previsto: 20/12/2015 --- True\n",
            "Entrada: 20 - 12 - 2015 -- Target: 20/12/2015 --- Previsto: 20/12/2015 --- True\n",
            "Entrada: 20-dezembro-2015 -- Target: 20/12/2015 --- Previsto: 20/12/2015 --- True\n",
            "Entrada: 20 - dezembro - 2015 -- Target: 20/12/2015 --- Previsto: 20/12/2015 --- True\n",
            "Entrada: 20-dez-2015 -- Target: 20/12/2015 --- Previsto: 20/12/2015 --- True\n",
            "Entrada: 20 - dez - 2015 -- Target: 20/12/2015 --- Previsto: 20/12/2015 --- True\n",
            "Entrada: 20.12.2015 -- Target: 20/12/2015 --- Previsto: 20/12/2015 --- True\n",
            "Entrada: 20 . 12 . 2015 -- Target: 20/12/2015 --- Previsto: 20/12/2015 --- True\n",
            "Entrada: 20.12.2015 -- Target: 20/12/2015 --- Previsto: 20/12/2015 --- True\n",
            "Entrada: 20 . 12 . 2015 -- Target: 20/12/2015 --- Previsto: 20/12/2015 --- True\n",
            "Entrada: 20.dezembro.2015 -- Target: 20/12/2015 --- Previsto: 20/12/2015 --- True\n",
            "Entrada: 20 . dezembro . 2015 -- Target: 20/12/2015 --- Previsto: 20/12/2015 --- True\n",
            "Entrada: 20.dez.2015 -- Target: 20/12/2015 --- Previsto: 20/12/2015 --- True\n",
            "Entrada: 20 . dez . 2015 -- Target: 20/12/2015 --- Previsto: 20/12/2015 --- True\n",
            "Entrada: 20/12/2015 -- Target: 20/12/2015 --- Previsto: 20/12/2015 --- True\n",
            "Entrada: 20 / 12 / 2015 -- Target: 20/12/2015 --- Previsto: 20/12/2015 --- True\n",
            "Entrada: 20/dezembro/2015 -- Target: 20/12/2015 --- Previsto: 20/12/2015 --- True\n",
            "Entrada: 20 / dezembro / 2015 -- Target: 20/12/2015 --- Previsto: 20/12/2015 --- True\n",
            "Entrada: 20/dez/2015 -- Target: 20/12/2015 --- Previsto: 20/12/2015 --- True\n",
            "Entrada: 20 / dez / 2015 -- Target: 20/12/2015 --- Previsto: 20/12/2015 --- True\n",
            "Entrada: 20/12/2015 -- Target: 20/12/2015 --- Previsto: 20/12/2015 --- True\n",
            "Entrada: 20 / 12 / 2015 -- Target: 20/12/2015 --- Previsto: 20/12/2015 --- True\n",
            "Total accuracy: 0.9777777777777777\n"
          ],
          "name": "stdout"
        },
        {
          "output_type": "execute_result",
          "data": {
            "text/plain": [
              "0.9777777777777777"
            ]
          },
          "metadata": {
            "tags": []
          },
          "execution_count": 352
        }
      ]
    },
    {
      "cell_type": "code",
      "metadata": {
        "id": "aqonQb-kcjUY",
        "colab_type": "code",
        "colab": {
          "base_uri": "https://localhost:8080/",
          "height": 816
        },
        "outputId": "de1f02b2-9b10-4db1-e8df-b33cce55a2cf"
      },
      "source": [
        "'''\n",
        "  Evaluating for a date in a century out of the training range gives the worst\n",
        "  acc possible. (0)\n",
        "'''\n",
        "evaluate_for_a_same_date('25/12/2151','DD/MM/YYYY')"
      ],
      "execution_count": null,
      "outputs": [
        {
          "output_type": "stream",
          "text": [
            "Entrada: vinte e cinco de dezembro de 2151 -- Target: 25/12/2151 --- Previsto: 25/12/251 --- False\n",
            "Entrada: vinte e cinco de dez de dois mil, cento e cinquenta e um -- Target: 25/12/2151 --- Previsto: 25/12/2101 --- False\n",
            "Entrada: vinte e cinco de dezembro de dois mil, cento e cinquenta e um -- Target: 25/12/2151 --- Previsto: 25/12/2101 --- False\n",
            "Entrada: vigésimo quinto dia do mês doze de dois mil, cento e cinquenta e um -- Target: 25/12/2151 --- Previsto: 20/12/2101 --- False\n",
            "Entrada: 25 de Dezembro de 2151 -- Target: 25/12/2151 --- Previsto: 25/12/251 --- False\n",
            "Entrada: 25 de dezembro de dois mil, cento e cinquenta e um -- Target: 25/12/2151 --- Previsto: 25/12/2101 --- False\n",
            "Entrada: 25-12 de dois mil, cento e cinquenta e um -- Target: 25/12/2151 --- Previsto: 25/12/2101 --- False\n",
            "Entrada: vinte e cinco - 12 - 2151 -- Target: 25/12/2151 --- Previsto: 25/12/251 --- False\n",
            "Entrada: vinte e cinco de dezembro - 2151 -- Target: 25/12/2151 --- Previsto: 25/12/251 --- False\n",
            "Entrada: 25º de dezembro de 2151 -- Target: 25/12/2151 --- Previsto: 25/12/251 --- False\n",
            "Entrada: 25º - 12 - 2151 -- Target: 25/12/2151 --- Previsto: 25/12/251 --- False\n",
            "Entrada: 25º / 12 / 2151 -- Target: 25/12/2151 --- Previsto: 25/12/251 --- False\n",
            "Entrada: 25º / Dezembro / 2151 -- Target: 25/12/2151 --- Previsto: 25/12/251 --- False\n",
            "Entrada: 25 / dezembro / 2151 -- Target: 25/12/2151 --- Previsto: 25/12/251 --- False\n",
            "Entrada: vinte e cinco dezembro dois mil, cento e cinquenta e um -- Target: 25/12/2151 --- Previsto: 25/12/2101 --- False\n",
            "Entrada: 25 dezembro dois mil, cento e cinquenta e um -- Target: 25/12/2151 --- Previsto: 25/12/2101 --- False\n",
            "Entrada: 25/12 dois mil, cento e cinquenta e um -- Target: 25/12/2151 --- Previsto: 25/12/2101 --- False\n",
            "Entrada: 25.12 dois mil, cento e cinquenta e um -- Target: 25/12/2151 --- Previsto: 25/12/2101 --- False\n",
            "Entrada: 25-12 dois mil, cento e cinquenta e um -- Target: 25/12/2151 --- Previsto: 25/12/2101 --- False\n",
            "Entrada: vinte e cinco/dezembro/dois mil, cento e cinquenta e um -- Target: 25/12/2151 --- Previsto: 25/12/2101 --- False\n",
            "Entrada: 25 do mês doze de 2151 -- Target: 25/12/2151 --- Previsto: 25/12/251 --- False\n",
            "Entrada: 25-12-2151 -- Target: 25/12/2151 --- Previsto: 25/12/251 --- False\n",
            "Entrada: 25 - 12 - 2151 -- Target: 25/12/2151 --- Previsto: 25/12/251 --- False\n",
            "Entrada: 25-12-2151 -- Target: 25/12/2151 --- Previsto: 25/12/251 --- False\n",
            "Entrada: 25 - 12 - 2151 -- Target: 25/12/2151 --- Previsto: 25/12/251 --- False\n",
            "Entrada: 25-dezembro-2151 -- Target: 25/12/2151 --- Previsto: 25/12/251 --- False\n",
            "Entrada: 25 - dezembro - 2151 -- Target: 25/12/2151 --- Previsto: 25/12/251 --- False\n",
            "Entrada: 25-dez-2151 -- Target: 25/12/2151 --- Previsto: 25/12/251 --- False\n",
            "Entrada: 25 - dez - 2151 -- Target: 25/12/2151 --- Previsto: 25/12/251 --- False\n",
            "Entrada: 25.12.2151 -- Target: 25/12/2151 --- Previsto: 25/12/2151 --- True\n",
            "Entrada: 25 . 12 . 2151 -- Target: 25/12/2151 --- Previsto: 25/12/251 --- False\n",
            "Entrada: 25.12.2151 -- Target: 25/12/2151 --- Previsto: 25/12/2151 --- True\n",
            "Entrada: 25 . 12 . 2151 -- Target: 25/12/2151 --- Previsto: 25/12/251 --- False\n",
            "Entrada: 25.dezembro.2151 -- Target: 25/12/2151 --- Previsto: 25/12/251 --- False\n",
            "Entrada: 25 . dezembro . 2151 -- Target: 25/12/2151 --- Previsto: 25/12/251 --- False\n",
            "Entrada: 25.dez.2151 -- Target: 25/12/2151 --- Previsto: 25/12/251 --- False\n",
            "Entrada: 25 . dez . 2151 -- Target: 25/12/2151 --- Previsto: 25/12/251 --- False\n",
            "Entrada: 25/12/2151 -- Target: 25/12/2151 --- Previsto: 25/12/2151 --- True\n",
            "Entrada: 25 / 12 / 2151 -- Target: 25/12/2151 --- Previsto: 25/12/251 --- False\n",
            "Entrada: 25/dezembro/2151 -- Target: 25/12/2151 --- Previsto: 25/12/2151 --- True\n",
            "Entrada: 25 / dezembro / 2151 -- Target: 25/12/2151 --- Previsto: 25/12/251 --- False\n",
            "Entrada: 25/dez/2151 -- Target: 25/12/2151 --- Previsto: 25/12/2151 --- True\n",
            "Entrada: 25 / dez / 2151 -- Target: 25/12/2151 --- Previsto: 25/12/251 --- False\n",
            "Entrada: 25/12/2151 -- Target: 25/12/2151 --- Previsto: 25/12/2151 --- True\n",
            "Entrada: 25 / 12 / 2151 -- Target: 25/12/2151 --- Previsto: 25/12/251 --- False\n",
            "Total accuracy: 0.13333333333333333\n"
          ],
          "name": "stdout"
        },
        {
          "output_type": "execute_result",
          "data": {
            "text/plain": [
              "0.13333333333333333"
            ]
          },
          "metadata": {
            "tags": []
          },
          "execution_count": 353
        }
      ]
    },
    {
      "cell_type": "code",
      "metadata": {
        "id": "UMnT5Sm-IPMt",
        "colab_type": "code",
        "colab": {
          "base_uri": "https://localhost:8080/",
          "height": 816
        },
        "outputId": "02a78a82-1115-4c08-8bf8-653e85eb7b72"
      },
      "source": [
        "'''\n",
        "  An earlier date than the beggining of the generated dataset\n",
        "'''\n",
        "evaluate_for_a_same_date('27/05/1919','DD/MM/YYYY')"
      ],
      "execution_count": null,
      "outputs": [
        {
          "output_type": "stream",
          "text": [
            "Entrada: vinte e sete de maio de 1919 -- Target: 27/05/1919 --- Previsto: 27/05/1919 --- True\n",
            "Entrada: vinte e sete de mai de mil, novecentos e dezenove -- Target: 27/05/1919 --- Previsto: 27/05/1919 --- True\n",
            "Entrada: vinte e sete de maio de mil, novecentos e dezenove -- Target: 27/05/1919 --- Previsto: 27/05/1919 --- True\n",
            "Entrada: vigésimo sétimo dia do mês cinco de mil, novecentos e dezenove -- Target: 27/05/1919 --- Previsto: 20/05/1919 --- False\n",
            "Entrada: 27 de Maio de 1919 -- Target: 27/05/1919 --- Previsto: 27/05/1919 --- True\n",
            "Entrada: 27 de maio de mil, novecentos e dezenove -- Target: 27/05/1919 --- Previsto: 27/05/1919 --- True\n",
            "Entrada: 27-05 de mil, novecentos e dezenove -- Target: 27/05/1919 --- Previsto: 27/05/1919 --- True\n",
            "Entrada: vinte e sete - 05 - 1919 -- Target: 27/05/1919 --- Previsto: 27/05/1919 --- True\n",
            "Entrada: vinte e sete de maio - 1919 -- Target: 27/05/1919 --- Previsto: 27/05/1919 --- True\n",
            "Entrada: 27º de maio de 1919 -- Target: 27/05/1919 --- Previsto: 27/05/1919 --- True\n",
            "Entrada: 27º - 05 - 1919 -- Target: 27/05/1919 --- Previsto: 27/05/1919 --- True\n",
            "Entrada: 27º / 05 / 1919 -- Target: 27/05/1919 --- Previsto: 27/05/1919 --- True\n",
            "Entrada: 27º / Maio / 1919 -- Target: 27/05/1919 --- Previsto: 27/05/1919 --- True\n",
            "Entrada: 27 / maio / 1919 -- Target: 27/05/1919 --- Previsto: 27/05/1919 --- True\n",
            "Entrada: vinte e sete maio mil, novecentos e dezenove -- Target: 27/05/1919 --- Previsto: 27/05/1919 --- True\n",
            "Entrada: 27 maio mil, novecentos e dezenove -- Target: 27/05/1919 --- Previsto: 27/05/1919 --- True\n",
            "Entrada: 27/05 mil, novecentos e dezenove -- Target: 27/05/1919 --- Previsto: 27/05/1919 --- True\n",
            "Entrada: 27.05 mil, novecentos e dezenove -- Target: 27/05/1919 --- Previsto: 27/05/1919 --- True\n",
            "Entrada: 27-05 mil, novecentos e dezenove -- Target: 27/05/1919 --- Previsto: 27/05/1919 --- True\n",
            "Entrada: vinte e sete/maio/mil, novecentos e dezenove -- Target: 27/05/1919 --- Previsto: 27/05/1919 --- True\n",
            "Entrada: 27 do mês cinco de 1919 -- Target: 27/05/1919 --- Previsto: 27/05/1925 --- False\n",
            "Entrada: 27-5-1919 -- Target: 27/05/1919 --- Previsto: 27/05/1919 --- True\n",
            "Entrada: 27 - 5 - 1919 -- Target: 27/05/1919 --- Previsto: 27/05/1919 --- True\n",
            "Entrada: 27-05-1919 -- Target: 27/05/1919 --- Previsto: 27/05/1919 --- True\n",
            "Entrada: 27 - 05 - 1919 -- Target: 27/05/1919 --- Previsto: 27/05/1919 --- True\n",
            "Entrada: 27-maio-1919 -- Target: 27/05/1919 --- Previsto: 27/05/1919 --- True\n",
            "Entrada: 27 - maio - 1919 -- Target: 27/05/1919 --- Previsto: 27/05/1919 --- True\n",
            "Entrada: 27-mai-1919 -- Target: 27/05/1919 --- Previsto: 27/05/1919 --- True\n",
            "Entrada: 27 - mai - 1919 -- Target: 27/05/1919 --- Previsto: 27/05/1919 --- True\n",
            "Entrada: 27.5.1919 -- Target: 27/05/1919 --- Previsto: 27/05/1919 --- True\n",
            "Entrada: 27 . 5 . 1919 -- Target: 27/05/1919 --- Previsto: 27/05/1919 --- True\n",
            "Entrada: 27.05.1919 -- Target: 27/05/1919 --- Previsto: 27/05/1919 --- True\n",
            "Entrada: 27 . 05 . 1919 -- Target: 27/05/1919 --- Previsto: 27/05/1919 --- True\n",
            "Entrada: 27.maio.1919 -- Target: 27/05/1919 --- Previsto: 27/05/1919 --- True\n",
            "Entrada: 27 . maio . 1919 -- Target: 27/05/1919 --- Previsto: 27/05/1919 --- True\n",
            "Entrada: 27.mai.1919 -- Target: 27/05/1919 --- Previsto: 27/05/1919 --- True\n",
            "Entrada: 27 . mai . 1919 -- Target: 27/05/1919 --- Previsto: 27/05/1919 --- True\n",
            "Entrada: 27/05/1919 -- Target: 27/05/1919 --- Previsto: 27/05/1919 --- True\n",
            "Entrada: 27 / 05 / 1919 -- Target: 27/05/1919 --- Previsto: 27/05/1919 --- True\n",
            "Entrada: 27/maio/1919 -- Target: 27/05/1919 --- Previsto: 27/05/1919 --- True\n",
            "Entrada: 27 / maio / 1919 -- Target: 27/05/1919 --- Previsto: 27/05/1919 --- True\n",
            "Entrada: 27/mai/1919 -- Target: 27/05/1919 --- Previsto: 27/05/1919 --- True\n",
            "Entrada: 27 / mai / 1919 -- Target: 27/05/1919 --- Previsto: 27/05/1919 --- True\n",
            "Entrada: 27/5/1919 -- Target: 27/05/1919 --- Previsto: 27/05/1919 --- True\n",
            "Entrada: 27 / 5 / 1919 -- Target: 27/05/1919 --- Previsto: 27/05/1919 --- True\n",
            "Total accuracy: 0.9555555555555556\n"
          ],
          "name": "stdout"
        },
        {
          "output_type": "execute_result",
          "data": {
            "text/plain": [
              "0.9555555555555556"
            ]
          },
          "metadata": {
            "tags": []
          },
          "execution_count": 354
        }
      ]
    },
    {
      "cell_type": "markdown",
      "metadata": {
        "id": "d0jwndLKmxpX",
        "colab_type": "text"
      },
      "source": [
        "# Accuracy in dataset dates"
      ]
    },
    {
      "cell_type": "markdown",
      "metadata": {
        "id": "Dpd5akZyAXyz",
        "colab_type": "text"
      },
      "source": [
        "## Inside dataset\n",
        "\n",
        "Dates into the interval that was used to built the synthetic dataset used for test and eval."
      ]
    },
    {
      "cell_type": "code",
      "metadata": {
        "id": "lfHmTxgDm19i",
        "colab_type": "code",
        "colab": {
          "base_uri": "https://localhost:8080/",
          "height": 54
        },
        "outputId": "0dc80fdf-350b-4155-dfa3-40a44251851d"
      },
      "source": [
        "accs = []\n",
        "dates_ = []\n",
        "\n",
        "sampled_test_ = random.sample(df.loc[df['Target Format'] == 'DD/MM/YYYY'].Target.to_list(),50)\n",
        "\n",
        "print('acc test set: ',sampled_test_)\n",
        "\n",
        "for date_sample in sampled_test_:\n",
        "    accs.append(evaluate_for_a_same_date(date_sample,'DD/MM/YYYY', model=model,tokenizer=TOK, verbose=False))\n",
        "    dates_.append(date_sample)"
      ],
      "execution_count": null,
      "outputs": [
        {
          "output_type": "stream",
          "text": [
            "acc test set:  ['07/04/1933', '05/10/1950', '08/04/2099', '19/06/2058', '22/06/1971', '24/07/2094', '01/04/1982', '10/02/2106', '25/03/2063', '24/02/2081', '02/06/1933', '23/05/1956', '13/12/1936', '13/11/2108', '08/06/2003', '24/04/1959', '09/04/2054', '27/05/2093', '15/11/1929', '09/01/2035', '24/10/2066', '25/09/1936', '09/06/2029', '25/03/2027', '14/12/2001', '03/12/2091', '13/11/2011', '07/05/2003', '08/08/2082', '14/04/1965', '25/12/2110', '27/08/1935', '14/02/2084', '04/09/2068', '17/03/1977', '30/08/1921', '30/09/2050', '07/12/1981', '31/10/1962', '07/06/1996', '09/09/1938', '08/05/2084', '01/12/1967', '11/05/1969', '17/05/1965', '28/01/1986', '15/04/2057', '22/05/1929', '07/04/2114', '03/04/1965']\n"
          ],
          "name": "stdout"
        }
      ]
    },
    {
      "cell_type": "code",
      "metadata": {
        "id": "dxzyKeRQoBTR",
        "colab_type": "code",
        "colab": {
          "base_uri": "https://localhost:8080/",
          "height": 350
        },
        "outputId": "b96b34f0-ff9a-47a4-b408-0e22986b3ba8"
      },
      "source": [
        "plt.plot(dates_,accs)\n",
        "plt.xticks(rotation=45)\n",
        "plt.grid()\n",
        "plt.ylim([0.8, 1.01])\n",
        "plt.ylabel('Average accuracy on 45 formats')\n",
        "plt.xlabel('Canonical target')\n",
        "plt.title('Average accuracy on dates inside synthetic training dataset')\n",
        "print('Average of average accuracies: ',np.mean(accs))"
      ],
      "execution_count": null,
      "outputs": [
        {
          "output_type": "stream",
          "text": [
            "Average of average accuracies:  0.9813333333333334\n"
          ],
          "name": "stdout"
        },
        {
          "output_type": "display_data",
          "data": {
            "image/png": "[encoded data removed]",
            "text/plain": [
              "<Figure size 432x288 with 1 Axes>"
            ]
          },
          "metadata": {
            "tags": [],
            "needs_background": "light"
          }
        }
      ]
    },
    {
      "cell_type": "markdown",
      "metadata": {
        "id": "ePEpzTU5A0Rx",
        "colab_type": "text"
      },
      "source": [
        "## Below dataset\n",
        "\n",
        "Dates lower than the synthetic dataset used for test and eval."
      ]
    },
    {
      "cell_type": "code",
      "metadata": {
        "id": "Dlh7Yj67URaM",
        "colab_type": "code",
        "colab": {
          "base_uri": "https://localhost:8080/",
          "height": 54
        },
        "outputId": "77586bf2-a3dd-4486-93ca-36222e532c0e"
      },
      "source": [
        "accs = []\n",
        "dates_ = []\n",
        "\n",
        "new_dataset = DateTextGenerator(start_date='01/01/1900',\n",
        "                                end_date='31/12/1920',\n",
        "                                text_noise_rate=NOISE,\n",
        "                                language=LANGUAGE\n",
        "                                )\n",
        "new_df = new_dataset.generate_date_dataset()\n",
        "\n",
        "sampled_test_ = random.sample(new_df.loc[new_df['Target Format'] == 'DD/MM/YYYY'].Target.to_list(),50)\n",
        "\n",
        "print('acc test set: ',sampled_test_)\n",
        "\n",
        "for date_sample in sampled_test_:\n",
        "    accs.append(evaluate_for_a_same_date(date_sample,'DD/MM/YYYY', model=model,tokenizer=TOK, verbose=False))\n",
        "    dates_.append(date_sample)"
      ],
      "execution_count": null,
      "outputs": [
        {
          "output_type": "stream",
          "text": [
            "acc test set:  ['13/12/1907', '06/09/1909', '24/01/1911', '21/04/1913', '18/09/1906', '19/04/1918', '11/09/1913', '28/02/1905', '10/06/1917', '26/11/1909', '15/02/1917', '12/03/1916', '07/10/1917', '31/10/1911', '26/08/1913', '02/06/1917', '27/08/1919', '23/12/1920', '21/06/1903', '29/06/1900', '24/08/1911', '02/08/1911', '15/09/1902', '03/12/1912', '01/10/1909', '15/04/1914', '01/02/1916', '03/10/1906', '14/12/1918', '28/10/1918', '13/04/1907', '11/02/1920', '01/06/1908', '28/06/1908', '05/10/1912', '05/01/1906', '22/12/1901', '11/03/1900', '08/04/1910', '17/11/1916', '07/06/1920', '30/08/1920', '29/11/1909', '13/04/1906', '15/09/1914', '01/10/1906', '29/07/1903', '13/08/1907', '22/05/1903', '12/07/1909']\n"
          ],
          "name": "stdout"
        }
      ]
    },
    {
      "cell_type": "code",
      "metadata": {
        "colab_type": "code",
        "id": "4DFUtHoUA2c4",
        "colab": {
          "base_uri": "https://localhost:8080/",
          "height": 350
        },
        "outputId": "24346801-38d9-4195-d227-cb258a876947"
      },
      "source": [
        "plt.plot(dates_,accs)\n",
        "plt.xticks(rotation=45)\n",
        "plt.grid()\n",
        "plt.ylim([-0.01, 1.01])\n",
        "plt.ylabel('Average accuracy on 45 formats')\n",
        "plt.xlabel('Canonical target')\n",
        "plt.title('Average accuracy on dates below synthetic training dataset')\n",
        "print('Average of average accuracies: ',np.mean(accs))"
      ],
      "execution_count": null,
      "outputs": [
        {
          "output_type": "stream",
          "text": [
            "Average of average accuracies:  0.804\n"
          ],
          "name": "stdout"
        },
        {
          "output_type": "display_data",
          "data": {
            "image/png": "[encoded data removed]",
            "text/plain": [
              "<Figure size 432x288 with 1 Axes>"
            ]
          },
          "metadata": {
            "tags": [],
            "needs_background": "light"
          }
        }
      ]
    },
    {
      "cell_type": "markdown",
      "metadata": {
        "colab_type": "text",
        "id": "H0BR5SlBCCEr"
      },
      "source": [
        "## Above dataset\n",
        "\n",
        "Dates greater than the synthetic dataset used for test and eval."
      ]
    },
    {
      "cell_type": "code",
      "metadata": {
        "id": "GnxqUGchUp1y",
        "colab_type": "code",
        "colab": {
          "base_uri": "https://localhost:8080/",
          "height": 54
        },
        "outputId": "8f198b1b-7ac6-42ab-f7a1-93bfe948bab6"
      },
      "source": [
        "accs = []\n",
        "dates_ = []\n",
        "\n",
        "new_dataset = DateTextGenerator(start_date='01/01/2121',\n",
        "                                end_date='31/12/2140',\n",
        "                                text_noise_rate=NOISE,\n",
        "                                language=LANGUAGE\n",
        "                                )\n",
        "\n",
        "new_df = new_dataset.generate_date_dataset()\n",
        "\n",
        "sampled_test_ = random.sample(new_df.loc[new_df['Target Format'] == 'DD/MM/YYYY'].Target.to_list(),50)\n",
        "\n",
        "print('acc test set: ',sampled_test_)\n",
        "\n",
        "for date_sample in sampled_test_:\n",
        "    accs.append(evaluate_for_a_same_date(date_sample,'DD/MM/YYYY', model=model,tokenizer=TOK, verbose=False))\n",
        "    dates_.append(date_sample)"
      ],
      "execution_count": null,
      "outputs": [
        {
          "output_type": "stream",
          "text": [
            "acc test set:  ['11/10/2129', '09/08/2133', '14/12/2127', '27/10/2133', '20/06/2129', '15/05/2133', '28/03/2131', '31/07/2135', '29/06/2131', '04/06/2124', '18/11/2129', '25/07/2134', '28/12/2137', '27/10/2121', '13/09/2124', '19/11/2127', '17/07/2126', '15/04/2136', '04/09/2136', '08/09/2126', '25/02/2129', '30/08/2133', '12/04/2134', '29/07/2136', '21/09/2123', '04/03/2130', '09/01/2130', '24/05/2125', '18/06/2126', '04/09/2134', '15/04/2127', '22/05/2127', '23/03/2131', '24/11/2131', '25/03/2138', '30/01/2127', '04/01/2129', '14/03/2128', '07/09/2137', '05/08/2122', '17/03/2132', '17/02/2124', '09/02/2138', '12/11/2122', '31/12/2129', '03/05/2126', '14/01/2132', '15/09/2123', '23/09/2126', '12/03/2124']\n"
          ],
          "name": "stdout"
        }
      ]
    },
    {
      "cell_type": "code",
      "metadata": {
        "colab_type": "code",
        "id": "J2SP31YSCCFG",
        "colab": {
          "base_uri": "https://localhost:8080/",
          "height": 350
        },
        "outputId": "a8bf6a6b-cf69-439e-a0c8-7ca9455a7624"
      },
      "source": [
        "plt.plot(dates_,accs)\n",
        "plt.xticks(rotation=45)\n",
        "plt.grid()\n",
        "plt.ylim([-0.01, 1.01])\n",
        "plt.ylabel('Average accuracy on 45 formats')\n",
        "plt.xlabel('Canonical target')\n",
        "plt.title('Average accuracy on dates above synthetic training dataset')\n",
        "print('Average of average accuracies: ',np.mean(accs))"
      ],
      "execution_count": null,
      "outputs": [
        {
          "output_type": "stream",
          "text": [
            "Average of average accuracies:  0.6204444444444445\n"
          ],
          "name": "stdout"
        },
        {
          "output_type": "display_data",
          "data": {
            "image/png": "[encoded data removed]",
            "text/plain": [
              "<Figure size 432x288 with 1 Axes>"
            ]
          },
          "metadata": {
            "tags": [],
            "needs_background": "light"
          }
        }
      ]
    },
    {
      "cell_type": "markdown",
      "metadata": {
        "id": "5bvkIIgMNASY",
        "colab_type": "text"
      },
      "source": [
        "# The End"
      ]
    }
  ]
}