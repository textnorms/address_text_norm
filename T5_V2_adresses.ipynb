{
  "nbformat": 4,
  "nbformat_minor": 0,
  "metadata": {
    "colab": {
      "name": "T5: V1 adresses.ipynb",
      "provenance": [],
      "collapsed_sections": [],
      "include_colab_link": true
    },
    "kernelspec": {
      "name": "python3",
      "display_name": "Python 3"
    },
    "accelerator": "GPU"
  },
  "cells": [
    {
      "cell_type": "markdown",
      "metadata": {
        "id": "view-in-github",
        "colab_type": "text"
      },
      "source": [
        "<a href=\"https://colab.research.google.com/github/textnorms/address_text_norm/blob/master/T5_V2_adresses.ipynb\" target=\"_parent\"><img src=\"https://colab.research.google.com/assets/colab-badge.svg\" alt=\"Open In Colab\"/></a>"
      ]
    },
    {
      "cell_type": "code",
      "metadata": {
        "id": "PcMfqlK-0HLY",
        "colab_type": "code",
        "colab": {
          "base_uri": "https://localhost:8080/",
          "height": 357
        },
        "outputId": "b80bf45d-f5c1-4a5f-9ed2-dc722b1e9271"
      },
      "source": [
        "! nvidia-smi"
      ],
      "execution_count": 65,
      "outputs": [
        {
          "output_type": "stream",
          "text": [
            "Sun Jun 21 18:00:54 2020       \n",
            "+-----------------------------------------------------------------------------+\n",
            "| NVIDIA-SMI 450.36.06    Driver Version: 418.67       CUDA Version: 10.1     |\n",
            "|-------------------------------+----------------------+----------------------+\n",
            "| GPU  Name        Persistence-M| Bus-Id        Disp.A | Volatile Uncorr. ECC |\n",
            "| Fan  Temp  Perf  Pwr:Usage/Cap|         Memory-Usage | GPU-Util  Compute M. |\n",
            "|                               |                      |               MIG M. |\n",
            "|===============================+======================+======================|\n",
            "|   0  Tesla P100-PCIE...  Off  | 00000000:00:04.0 Off |                    0 |\n",
            "| N/A   58C    P0    39W / 250W |  12103MiB / 16280MiB |      0%      Default |\n",
            "|                               |                      |                 ERR! |\n",
            "+-------------------------------+----------------------+----------------------+\n",
            "                                                                               \n",
            "+-----------------------------------------------------------------------------+\n",
            "| Processes:                                                                  |\n",
            "|  GPU   GI   CI        PID   Type   Process name                  GPU Memory |\n",
            "|        ID   ID                                                   Usage      |\n",
            "|=============================================================================|\n",
            "|  No running processes found                                                 |\n",
            "+-----------------------------------------------------------------------------+\n"
          ],
          "name": "stdout"
        }
      ]
    },
    {
      "cell_type": "code",
      "metadata": {
        "id": "c-1Lmkfv6g2j",
        "colab_type": "code",
        "colab": {
          "base_uri": "https://localhost:8080/",
          "height": 119
        },
        "outputId": "700c2e85-0788-447a-d74e-1d2a76e00f1f"
      },
      "source": [
        "! rm -rf address*\n",
        "! git clone https://github.com/textnorms/address_text_norm.git\n",
        "! cp -r address_text_norm/syntetic_data/ .\n",
        "\n",
        "! pip install -q num2words transformers\n",
        "! pip install -q transformers"
      ],
      "execution_count": 66,
      "outputs": [
        {
          "output_type": "stream",
          "text": [
            "Cloning into 'address_text_norm'...\n",
            "remote: Enumerating objects: 56, done.\u001b[K\n",
            "remote: Counting objects:   1% (1/56)\u001b[K\rremote: Counting objects:   3% (2/56)\u001b[K\rremote: Counting objects:   5% (3/56)\u001b[K\rremote: Counting objects:   7% (4/56)\u001b[K\rremote: Counting objects:   8% (5/56)\u001b[K\rremote: Counting objects:  10% (6/56)\u001b[K\rremote: Counting objects:  12% (7/56)\u001b[K\rremote: Counting objects:  14% (8/56)\u001b[K\rremote: Counting objects:  16% (9/56)\u001b[K\rremote: Counting objects:  17% (10/56)\u001b[K\rremote: Counting objects:  19% (11/56)\u001b[K\rremote: Counting objects:  21% (12/56)\u001b[K\rremote: Counting objects:  23% (13/56)\u001b[K\rremote: Counting objects:  25% (14/56)\u001b[K\rremote: Counting objects:  26% (15/56)\u001b[K\rremote: Counting objects:  28% (16/56)\u001b[K\rremote: Counting objects:  30% (17/56)\u001b[K\rremote: Counting objects:  32% (18/56)\u001b[K\rremote: Counting objects:  33% (19/56)\u001b[K\rremote: Counting objects:  35% (20/56)\u001b[K\rremote: Counting objects:  37% (21/56)\u001b[K\rremote: Counting objects:  39% (22/56)\u001b[K\rremote: Counting objects:  41% (23/56)\u001b[K\rremote: Counting objects:  42% (24/56)\u001b[K\rremote: Counting objects:  44% (25/56)\u001b[K\rremote: Counting objects:  46% (26/56)\u001b[K\rremote: Counting objects:  48% (27/56)\u001b[K\rremote: Counting objects:  50% (28/56)\u001b[K\rremote: Counting objects:  51% (29/56)\u001b[K\rremote: Counting objects:  53% (30/56)\u001b[K\rremote: Counting objects:  55% (31/56)\u001b[K\rremote: Counting objects:  57% (32/56)\u001b[K\rremote: Counting objects:  58% (33/56)\u001b[K\rremote: Counting objects:  60% (34/56)\u001b[K\rremote: Counting objects:  62% (35/56)\u001b[K\rremote: Counting objects:  64% (36/56)\u001b[K\rremote: Counting objects:  66% (37/56)\u001b[K\rremote: Counting objects:  67% (38/56)\u001b[K\rremote: Counting objects:  69% (39/56)\u001b[K\rremote: Counting objects:  71% (40/56)\u001b[K\rremote: Counting objects:  73% (41/56)\u001b[K\rremote: Counting objects:  75% (42/56)\u001b[K\rremote: Counting objects:  76% (43/56)\u001b[K\rremote: Counting objects:  78% (44/56)\u001b[K\rremote: Counting objects:  80% (45/56)\u001b[K\rremote: Counting objects:  82% (46/56)\u001b[K\rremote: Counting objects:  83% (47/56)\u001b[K\rremote: Counting objects:  85% (48/56)\u001b[K\rremote: Counting objects:  87% (49/56)\u001b[K\rremote: Counting objects:  89% (50/56)\u001b[K\rremote: Counting objects:  91% (51/56)\u001b[K\rremote: Counting objects:  92% (52/56)\u001b[K\rremote: Counting objects:  94% (53/56)\u001b[K\rremote: Counting objects:  96% (54/56)\u001b[K\rremote: Counting objects:  98% (55/56)\u001b[K\rremote: Counting objects: 100% (56/56)\u001b[K\rremote: Counting objects: 100% (56/56), done.\u001b[K\n",
            "remote: Compressing objects: 100% (44/44), done.\u001b[K\n",
            "remote: Total 56 (delta 20), reused 39 (delta 11), pack-reused 0\u001b[K\n",
            "Unpacking objects: 100% (56/56), done.\n"
          ],
          "name": "stdout"
        }
      ]
    },
    {
      "cell_type": "code",
      "metadata": {
        "id": "PgAIYdb3BzRz",
        "colab_type": "code",
        "colab": {
          "base_uri": "https://localhost:8080/",
          "height": 34
        },
        "outputId": "b936114a-1996-4f40-ce27-f0f108796f0d"
      },
      "source": [
        "from google.colab import drive\n",
        "drive.mount('/gdrive')"
      ],
      "execution_count": 67,
      "outputs": [
        {
          "output_type": "stream",
          "text": [
            "Drive already mounted at /gdrive; to attempt to forcibly remount, call drive.mount(\"/gdrive\", force_remount=True).\n"
          ],
          "name": "stdout"
        }
      ]
    },
    {
      "cell_type": "code",
      "metadata": {
        "id": "Sb_PnnuSCDqU",
        "colab_type": "code",
        "colab": {}
      },
      "source": [
        "addresss_db_path = '/gdrive/My Drive/12 Semestre/IA376/IA376 - Atividades/Projeto Final/address_db.csv'\n",
        "\n",
        "!cp '/gdrive/My Drive/12 Semestre/IA376/IA376 - Atividades/Projeto Final/address_db.csv' ./syntetic_data/address_csv/br_address_db.csv"
      ],
      "execution_count": 68,
      "outputs": []
    },
    {
      "cell_type": "markdown",
      "metadata": {
        "id": "hAYiZO6Teo-y",
        "colab_type": "text"
      },
      "source": [
        "# Libs"
      ]
    },
    {
      "cell_type": "code",
      "metadata": {
        "id": "Nok2mtt_1021",
        "colab_type": "code",
        "colab": {}
      },
      "source": [
        "# Basics\n",
        "import numpy as np\n",
        "import pandas as pd\n",
        "import random\n",
        "\n",
        "# Synthetic data generator\n",
        "from syntetic_data import AddressTextGenerator\n",
        "\n",
        "# PyTorch\n",
        "import torch \n",
        "import torch.nn.functional as F\n",
        "from torch.utils.data import Dataset, DataLoader\n",
        "\n",
        "# Sklearn\n",
        "from sklearn.model_selection import train_test_split\n",
        "\n",
        "# Transformers\n",
        "from transformers import T5Tokenizer, T5ForConditionalGeneration, AdamW\n",
        "\n",
        "# Matplot lib\n",
        "import matplotlib.pyplot as plt\n",
        "\n",
        "\n",
        "import unicodedata"
      ],
      "execution_count": 70,
      "outputs": []
    },
    {
      "cell_type": "markdown",
      "metadata": {
        "id": "HhdTvVgiYBw0",
        "colab_type": "text"
      },
      "source": [
        "### Deterministic experiments"
      ]
    },
    {
      "cell_type": "code",
      "metadata": {
        "id": "zm7tAsiUYMOU",
        "colab_type": "code",
        "colab": {
          "base_uri": "https://localhost:8080/",
          "height": 51
        },
        "outputId": "52682d09-5bab-4795-cb22-b40b61d21404"
      },
      "source": [
        "manual_seed = 2357 # only primes, cuz I like\n",
        "def deterministic(rep=True):\n",
        "    if rep:\n",
        "        np.random.seed(manual_seed)\n",
        "        torch.manual_seed(manual_seed)\n",
        "        if torch.cuda.is_available():\n",
        "            torch.cuda.manual_seed(manual_seed)\n",
        "            torch.cuda.manual_seed_all(manual_seed)\n",
        "        torch.backends.cudnn.enabled = False \n",
        "        torch.backends.cudnn.benchmark = False\n",
        "        torch.backends.cudnn.deterministic = True\n",
        "        print(f'Deterministic experiment, seed: {manual_seed}')\n",
        "    else:\n",
        "        print('Random experiment')\n",
        "\n",
        "deterministic()\n",
        "\n",
        "device = torch.device('cuda' if torch.cuda.is_available() else 'cpu')\n",
        "print(f'Using device: {device}')"
      ],
      "execution_count": 71,
      "outputs": [
        {
          "output_type": "stream",
          "text": [
            "Deterministic experiment, seed: 2357\n",
            "Using device: cuda\n"
          ],
          "name": "stdout"
        }
      ]
    },
    {
      "cell_type": "markdown",
      "metadata": {
        "id": "BFHYoyzwOHDO",
        "colab_type": "text"
      },
      "source": [
        "# Config constants"
      ]
    },
    {
      "cell_type": "code",
      "metadata": {
        "id": "8r8O913HOK9F",
        "colab_type": "code",
        "colab": {}
      },
      "source": [
        "# Dataset params\n",
        "LANGUAGE = 'br'\n",
        "\n",
        "# Model params\n",
        "MODEL_SZ = 't5-small' # 't5-base'\n",
        "TOK = T5Tokenizer.from_pretrained(MODEL_SZ)\n",
        "MAX_LEN_SRC  = 150\n",
        "MAX_LEN_TRGT = 150\n",
        "\n",
        "\n",
        "# Train params\n",
        "BATCH_SZ = 16\n",
        "N_EPOCHS = 50\n",
        "WINDOW   = 7\n",
        "NOISE    = 0.0"
      ],
      "execution_count": 80,
      "outputs": []
    },
    {
      "cell_type": "markdown",
      "metadata": {
        "colab_type": "text",
        "id": "5PCSz3bMZzcn"
      },
      "source": [
        "# Dataset"
      ]
    },
    {
      "cell_type": "code",
      "metadata": {
        "colab_type": "code",
        "id": "nOGHeQlGZzcs",
        "colab": {
          "base_uri": "https://localhost:8080/",
          "height": 34
        },
        "outputId": "12343758-2d06-4ffa-f4f8-8a3e040968e1"
      },
      "source": [
        "pd.set_option('display.max_rows',70)\n",
        "\n",
        "print('Generating addresses dataset')\n",
        "addresses_gen = AddressTextGenerator(occurences_per_sample=10,\n",
        "                                     text_noise_rate=NOISE,\n",
        "                                     max_noise_occurences_per_sample=10,\n",
        "                                     language=LANGUAGE)\n",
        "\n",
        "df = addresses_gen.generate_address_dataset()"
      ],
      "execution_count": 81,
      "outputs": [
        {
          "output_type": "stream",
          "text": [
            "Generating addresses dataset\n"
          ],
          "name": "stdout"
        }
      ]
    },
    {
      "cell_type": "code",
      "metadata": {
        "colab_type": "code",
        "id": "OjOeDC5dZzc-",
        "colab": {
          "base_uri": "https://localhost:8080/",
          "height": 204
        },
        "outputId": "36ab4573-fa98-4b33-875c-22a01c1f607f"
      },
      "source": [
        "df.tail()"
      ],
      "execution_count": 82,
      "outputs": [
        {
          "output_type": "execute_result",
          "data": {
            "text/html": [
              "<div>\n",
              "<style scoped>\n",
              "    .dataframe tbody tr th:only-of-type {\n",
              "        vertical-align: middle;\n",
              "    }\n",
              "\n",
              "    .dataframe tbody tr th {\n",
              "        vertical-align: top;\n",
              "    }\n",
              "\n",
              "    .dataframe thead th {\n",
              "        text-align: right;\n",
              "    }\n",
              "</style>\n",
              "<table border=\"1\" class=\"dataframe\">\n",
              "  <thead>\n",
              "    <tr style=\"text-align: right;\">\n",
              "      <th></th>\n",
              "      <th>Input Pattern</th>\n",
              "      <th>Noise Type</th>\n",
              "      <th>Input</th>\n",
              "      <th>Target</th>\n",
              "    </tr>\n",
              "  </thead>\n",
              "  <tbody>\n",
              "    <tr>\n",
              "      <th>16935</th>\n",
              "      <td>17</td>\n",
              "      <td>N/A</td>\n",
              "      <td>Torre 2 número 3839 da Rua das Matas no Reside...</td>\n",
              "      <td>Rua das Matas, 3839, Torre 2, Residencial Nort...</td>\n",
              "    </tr>\n",
              "    <tr>\n",
              "      <th>16936</th>\n",
              "      <td>22</td>\n",
              "      <td>N/A</td>\n",
              "      <td>Rua das Matas, Bloco 9 - Sala 2,Residencial No...</td>\n",
              "      <td>Rua das Matas, S/N, Bloco 9 - Sala 2,Residenci...</td>\n",
              "    </tr>\n",
              "    <tr>\n",
              "      <th>16937</th>\n",
              "      <td>1</td>\n",
              "      <td>N/A</td>\n",
              "      <td>3839, Rua das Matas, Residencial Norte Sul, Ap...</td>\n",
              "      <td>Rua das Matas, 3839, Residencial Norte Sul, Ap...</td>\n",
              "    </tr>\n",
              "    <tr>\n",
              "      <th>16938</th>\n",
              "      <td>19</td>\n",
              "      <td>N/A</td>\n",
              "      <td>Goiás, Aparecida de Goiânia, Residencial Norte...</td>\n",
              "      <td>Rua das Matas, 3839, Residencial Norte Sul, Ap...</td>\n",
              "    </tr>\n",
              "    <tr>\n",
              "      <th>16939</th>\n",
              "      <td>15</td>\n",
              "      <td>N/A</td>\n",
              "      <td>Rua das Matas, 3839, Torre 2, Residencial Nort...</td>\n",
              "      <td>Rua das Matas, 3839, Torre 2, Residencial Nort...</td>\n",
              "    </tr>\n",
              "  </tbody>\n",
              "</table>\n",
              "</div>"
            ],
            "text/plain": [
              "       Input Pattern  ...                                             Target\n",
              "16935             17  ...  Rua das Matas, 3839, Torre 2, Residencial Nort...\n",
              "16936             22  ...  Rua das Matas, S/N, Bloco 9 - Sala 2,Residenci...\n",
              "16937              1  ...  Rua das Matas, 3839, Residencial Norte Sul, Ap...\n",
              "16938             19  ...  Rua das Matas, 3839, Residencial Norte Sul, Ap...\n",
              "16939             15  ...  Rua das Matas, 3839, Torre 2, Residencial Nort...\n",
              "\n",
              "[5 rows x 4 columns]"
            ]
          },
          "metadata": {
            "tags": []
          },
          "execution_count": 82
        }
      ]
    },
    {
      "cell_type": "code",
      "metadata": {
        "colab_type": "code",
        "id": "NLFG10ioZzdG",
        "colab": {
          "base_uri": "https://localhost:8080/",
          "height": 408
        },
        "outputId": "50577cb9-8fa6-40e4-a33a-bac193abf57d"
      },
      "source": [
        "df['Input Pattern'].value_counts()"
      ],
      "execution_count": 83,
      "outputs": [
        {
          "output_type": "execute_result",
          "data": {
            "text/plain": [
              "22    801\n",
              "15    800\n",
              "18    792\n",
              "20    789\n",
              "19    788\n",
              "13    787\n",
              "5     787\n",
              "1     780\n",
              "16    775\n",
              "9     775\n",
              "11    774\n",
              "10    770\n",
              "2     769\n",
              "17    767\n",
              "7     761\n",
              "12    761\n",
              "4     760\n",
              "6     751\n",
              "3     751\n",
              "8     750\n",
              "14    737\n",
              "21    715\n",
              "Name: Input Pattern, dtype: int64"
            ]
          },
          "metadata": {
            "tags": []
          },
          "execution_count": 83
        }
      ]
    },
    {
      "cell_type": "code",
      "metadata": {
        "id": "8t6fSj8fyyya",
        "colab_type": "code",
        "colab": {
          "base_uri": "https://localhost:8080/",
          "height": 204
        },
        "outputId": "1de535e8-38f7-4740-fe7c-7ed1e3133cc0"
      },
      "source": [
        "# Inspecting the relative dates dataset\n",
        "df.head()"
      ],
      "execution_count": 84,
      "outputs": [
        {
          "output_type": "execute_result",
          "data": {
            "text/html": [
              "<div>\n",
              "<style scoped>\n",
              "    .dataframe tbody tr th:only-of-type {\n",
              "        vertical-align: middle;\n",
              "    }\n",
              "\n",
              "    .dataframe tbody tr th {\n",
              "        vertical-align: top;\n",
              "    }\n",
              "\n",
              "    .dataframe thead th {\n",
              "        text-align: right;\n",
              "    }\n",
              "</style>\n",
              "<table border=\"1\" class=\"dataframe\">\n",
              "  <thead>\n",
              "    <tr style=\"text-align: right;\">\n",
              "      <th></th>\n",
              "      <th>Input Pattern</th>\n",
              "      <th>Noise Type</th>\n",
              "      <th>Input</th>\n",
              "      <th>Target</th>\n",
              "    </tr>\n",
              "  </thead>\n",
              "  <tbody>\n",
              "    <tr>\n",
              "      <th>0</th>\n",
              "      <td>19</td>\n",
              "      <td>N/A</td>\n",
              "      <td>Amazonas, Manaus, Coroado, Avenida Rodrigo Otá...</td>\n",
              "      <td>Avenida Rodrigo Otávio 6200, 4757, Coroado, Ma...</td>\n",
              "    </tr>\n",
              "    <tr>\n",
              "      <th>1</th>\n",
              "      <td>2</td>\n",
              "      <td>N/A</td>\n",
              "      <td>Avenida Rodrigo Otávio 6200, 4757, Coroado, Ma...</td>\n",
              "      <td>Avenida Rodrigo Otávio 6200, 4757, Coroado, Ma...</td>\n",
              "    </tr>\n",
              "    <tr>\n",
              "      <th>2</th>\n",
              "      <td>14</td>\n",
              "      <td>N/A</td>\n",
              "      <td>Bloco 9 - Sala 2 na altura do 4757 na Avenida ...</td>\n",
              "      <td>Avenida Rodrigo Otávio 6200, 4757, Bloco 9 - S...</td>\n",
              "    </tr>\n",
              "    <tr>\n",
              "      <th>3</th>\n",
              "      <td>4</td>\n",
              "      <td>N/A</td>\n",
              "      <td>Avenida Rodrigo Otávio 6200, 4757, Coroado, Ma...</td>\n",
              "      <td>Avenida Rodrigo Otávio 6200, 4757, Coroado, Ma...</td>\n",
              "    </tr>\n",
              "    <tr>\n",
              "      <th>4</th>\n",
              "      <td>5</td>\n",
              "      <td>N/A</td>\n",
              "      <td>Avenida Rodrigo Otávio 6200, 4757, Coroado, Ma...</td>\n",
              "      <td>Avenida Rodrigo Otávio 6200, 4757, Coroado, Ma...</td>\n",
              "    </tr>\n",
              "  </tbody>\n",
              "</table>\n",
              "</div>"
            ],
            "text/plain": [
              "   Input Pattern  ...                                             Target\n",
              "0             19  ...  Avenida Rodrigo Otávio 6200, 4757, Coroado, Ma...\n",
              "1              2  ...  Avenida Rodrigo Otávio 6200, 4757, Coroado, Ma...\n",
              "2             14  ...  Avenida Rodrigo Otávio 6200, 4757, Bloco 9 - S...\n",
              "3              4  ...  Avenida Rodrigo Otávio 6200, 4757, Coroado, Ma...\n",
              "4              5  ...  Avenida Rodrigo Otávio 6200, 4757, Coroado, Ma...\n",
              "\n",
              "[5 rows x 4 columns]"
            ]
          },
          "metadata": {
            "tags": []
          },
          "execution_count": 84
        }
      ]
    },
    {
      "cell_type": "markdown",
      "metadata": {
        "colab_type": "text",
        "id": "8rm65Ob5Zzdc"
      },
      "source": [
        "## Function to split the dataset"
      ]
    },
    {
      "cell_type": "code",
      "metadata": {
        "colab_type": "code",
        "id": "x0vA5VORZzdc",
        "colab": {
          "base_uri": "https://localhost:8080/",
          "height": 119
        },
        "outputId": "d565489c-fd05-4683-c4f4-026b90b2f905"
      },
      "source": [
        "def split_data(df, test_size=0.2, verbose=True):\n",
        "    l = list(set(df['Input Pattern'].values))\n",
        "    num_test = int(len(l)*test_size)\n",
        "    test_methods = [random.randint(1, len(l)) for _ in range(num_test)]\n",
        "    print(test_methods)\n",
        "    df_test = df[df['Input Pattern'].isin(test_methods)]\n",
        "    print(df_test.shape)\n",
        "    x_test = df_test.Input.values\n",
        "    y_test = df_test.Target.values\n",
        "\n",
        "    df_train = df[~df['Input Pattern'].isin(test_methods)]\n",
        "\n",
        "    x_train, x_val, y_train, y_val = train_test_split(\n",
        "        df_train.Input.values,\n",
        "        df_train.Target.values,\n",
        "        shuffle=True, \n",
        "        test_size=test_size,\n",
        "        random_state=manual_seed\n",
        "        )\n",
        "    if verbose:\n",
        "        print(f'Address types of test set: {test_methods} with len: {len(test_methods)}')\n",
        "        print(f'x_train: {len(x_train)}  --  y_train: {len(y_train)}\\n\\\n",
        "x_val:   {len(x_val)}  --  y_val:   {len(y_val)}\\n\\\n",
        "x_test:  {len(x_test)}  --  y_test:  {len(y_test)}')\n",
        "\n",
        "    return x_train, y_train, x_val, y_val, x_test, y_test\n",
        "\n",
        "# creating sets\n",
        "x_train, y_train, x_val, y_val, x_test, y_test = split_data(df, \n",
        "                                                            test_size=0.25, \n",
        "                                                            verbose=True)"
      ],
      "execution_count": 85,
      "outputs": [
        {
          "output_type": "stream",
          "text": [
            "[8, 5, 1, 18, 14]\n",
            "(3846, 4)\n",
            "Address types of test set: [8, 5, 1, 18, 14] with len: 5\n",
            "x_train: 9820  --  y_train: 9820\n",
            "x_val:   3274  --  y_val:   3274\n",
            "x_test:  3846  --  y_test:  3846\n"
          ],
          "name": "stdout"
        }
      ]
    },
    {
      "cell_type": "code",
      "metadata": {
        "colab_type": "code",
        "id": "4tnqxS3aZzdf",
        "colab": {}
      },
      "source": [
        "class AddressDataset(Dataset):\n",
        "    def __init__(self, data, label, tokenizer, source_max_length, target_max_length):\n",
        "        self.tokenizer = tokenizer\n",
        "        self.data = data\n",
        "        self.label = label\n",
        "        self.source_max_length = source_max_length\n",
        "        self.target_max_length = target_max_length\n",
        "        \n",
        "    def __len__(self):\n",
        "        return len(self.data)\n",
        "    \n",
        "    def __getitem__(self, idx):\n",
        "        source = self.data[idx]\n",
        "        target = self.label[idx]\n",
        "\n",
        "        source = unicodedata.normalize('NFD', source).encode('latin-1', 'xmlcharrefreplace').decode('latin-1')\n",
        "        target = unicodedata.normalize('NFD', target).encode('latin-1', 'xmlcharrefreplace').decode('latin-1')\n",
        "\n",
        "\n",
        "        source_tokenized = self.tokenizer.encode_plus(\n",
        "            f'{source} {self.tokenizer.eos_token}',\n",
        "            max_length=self.source_max_length,\n",
        "            pad_to_max_length=True,\n",
        "            return_tensors='pt')\n",
        "\n",
        "        target_tokenized = self.tokenizer.encode_plus(\n",
        "            f'{target} {self.tokenizer.eos_token}',\n",
        "            max_length=self.target_max_length,\n",
        "            pad_to_max_length=True,\n",
        "            return_tensors='pt')\n",
        "\n",
        "        source_token_ids = source_tokenized['input_ids'].squeeze()\n",
        "        source_mask = source_tokenized['attention_mask'].squeeze()\n",
        "        target_token_ids = target_tokenized['input_ids'].squeeze()\n",
        "        \n",
        "        return source_token_ids, source_mask, target_token_ids"
      ],
      "execution_count": 86,
      "outputs": []
    },
    {
      "cell_type": "markdown",
      "metadata": {
        "colab_type": "text",
        "id": "dc1nEnWqZzdh"
      },
      "source": [
        "## Checking the AddressDataset class"
      ]
    },
    {
      "cell_type": "code",
      "metadata": {
        "colab_type": "code",
        "id": "Cjt5RmALZzdi",
        "colab": {
          "base_uri": "https://localhost:8080/",
          "height": 697
        },
        "outputId": "6c1bf2f4-d170-429b-badc-dac857cfa849"
      },
      "source": [
        "dataset_debug = AddressDataset(\n",
        "    x_train, \n",
        "    y_train,\n",
        "    TOK,\n",
        "    MAX_LEN_SRC,\n",
        "    MAX_LEN_TRGT,\n",
        "    )\n",
        "\n",
        "dataloader_checking = DataLoader(\n",
        "    dataset_debug, \n",
        "    batch_size=1, \n",
        "    shuffle=True, \n",
        "    num_workers=0\n",
        "    )\n",
        "\n",
        "source_token_ids, source_mask, target_token_ids = next(iter(dataloader_checking))\n",
        "print(f'source_token_ids:\\n {source_token_ids} --- shape:{source_token_ids.shape}')\n",
        "print(f'source_mask:\\n {source_mask} --- shape:{source_mask.shape}')\n",
        "print(f'target_token_ids:\\n {target_token_ids} --- shape:{target_token_ids.shape}')"
      ],
      "execution_count": 87,
      "outputs": [
        {
          "output_type": "stream",
          "text": [
            "source_token_ids:\n",
            " tensor([[  901,     9,  2726,     9,   211,  2740,  7446,     9,     7,     6,\n",
            "          9668,  3959,     6,   205, 15644,    15,  2766,     6,   242, 11686,\n",
            "          1629,     6,  1064,  2551,   184,  4663,   940,  3951,   117,     6,\n",
            "          1640, 11776, 16975,     1,     0,     0,     0,     0,     0,     0,\n",
            "             0,     0,     0,     0,     0,     0,     0,     0,     0,     0,\n",
            "             0,     0,     0,     0,     0,     0,     0,     0,     0,     0,\n",
            "             0,     0,     0,     0,     0,     0,     0,     0,     0,     0,\n",
            "             0,     0,     0,     0,     0,     0,     0,     0,     0,     0,\n",
            "             0,     0,     0,     0,     0,     0,     0,     0,     0,     0,\n",
            "             0,     0,     0,     0,     0,     0,     0,     0,     0,     0,\n",
            "             0,     0,     0,     0,     0,     0,     0,     0,     0,     0,\n",
            "             0,     0,     0,     0,     0,     0,     0,     0,     0,     0,\n",
            "             0,     0,     0,     0,     0,     0,     0,     0,     0,     0,\n",
            "             0,     0,     0,     0,     0,     0,     0,     0,     0,     0,\n",
            "             0,     0,     0,     0,     0,     0,     0,     0,     0,     0]]) --- shape:torch.Size([1, 150])\n",
            "source_mask:\n",
            " tensor([[1, 1, 1, 1, 1, 1, 1, 1, 1, 1, 1, 1, 1, 1, 1, 1, 1, 1, 1, 1, 1, 1, 1, 1,\n",
            "         1, 1, 1, 1, 1, 1, 1, 1, 1, 1, 0, 0, 0, 0, 0, 0, 0, 0, 0, 0, 0, 0, 0, 0,\n",
            "         0, 0, 0, 0, 0, 0, 0, 0, 0, 0, 0, 0, 0, 0, 0, 0, 0, 0, 0, 0, 0, 0, 0, 0,\n",
            "         0, 0, 0, 0, 0, 0, 0, 0, 0, 0, 0, 0, 0, 0, 0, 0, 0, 0, 0, 0, 0, 0, 0, 0,\n",
            "         0, 0, 0, 0, 0, 0, 0, 0, 0, 0, 0, 0, 0, 0, 0, 0, 0, 0, 0, 0, 0, 0, 0, 0,\n",
            "         0, 0, 0, 0, 0, 0, 0, 0, 0, 0, 0, 0, 0, 0, 0, 0, 0, 0, 0, 0, 0, 0, 0, 0,\n",
            "         0, 0, 0, 0, 0, 0]]) --- shape:torch.Size([1, 150])\n",
            "target_token_ids:\n",
            " tensor([[  901,     9,  2726,     9,   211,  2740,  7446,     9,     7,     6,\n",
            "          9668,  3959,     6,   205, 15644,    15,  2766,     6,   242, 11686,\n",
            "          1629,     6,  9265,     6,  1640, 11776, 16975,     1,     0,     0,\n",
            "             0,     0,     0,     0,     0,     0,     0,     0,     0,     0,\n",
            "             0,     0,     0,     0,     0,     0,     0,     0,     0,     0,\n",
            "             0,     0,     0,     0,     0,     0,     0,     0,     0,     0,\n",
            "             0,     0,     0,     0,     0,     0,     0,     0,     0,     0,\n",
            "             0,     0,     0,     0,     0,     0,     0,     0,     0,     0,\n",
            "             0,     0,     0,     0,     0,     0,     0,     0,     0,     0,\n",
            "             0,     0,     0,     0,     0,     0,     0,     0,     0,     0,\n",
            "             0,     0,     0,     0,     0,     0,     0,     0,     0,     0,\n",
            "             0,     0,     0,     0,     0,     0,     0,     0,     0,     0,\n",
            "             0,     0,     0,     0,     0,     0,     0,     0,     0,     0,\n",
            "             0,     0,     0,     0,     0,     0,     0,     0,     0,     0,\n",
            "             0,     0,     0,     0,     0,     0,     0,     0,     0,     0]]) --- shape:torch.Size([1, 150])\n"
          ],
          "name": "stdout"
        }
      ]
    },
    {
      "cell_type": "markdown",
      "metadata": {
        "colab_type": "text",
        "id": "Td3PsULnZzdl"
      },
      "source": [
        "## Datasets e Dataloaders"
      ]
    },
    {
      "cell_type": "code",
      "metadata": {
        "colab_type": "code",
        "id": "CEsPIIRAZzdl",
        "colab": {
          "base_uri": "https://localhost:8080/",
          "height": 153
        },
        "outputId": "8c7314f7-a3da-4274-8a2b-2cec2e764853"
      },
      "source": [
        "# datasets\n",
        "ds_debug = AddressDataset(x_train[:BATCH_SZ], y_train[:BATCH_SZ], TOK, MAX_LEN_SRC, MAX_LEN_TRGT)\n",
        "ds_train = AddressDataset(x_train, y_train, TOK, MAX_LEN_SRC, MAX_LEN_TRGT)\n",
        "ds_valid = AddressDataset(x_val, y_val, TOK, MAX_LEN_SRC, MAX_LEN_TRGT)\n",
        "ds_test  = AddressDataset(x_test, y_test, TOK, MAX_LEN_SRC, MAX_LEN_TRGT)\n",
        "\n",
        "print('Datasets len:')\n",
        "print(f'len ds_debug: {len(ds_debug)}')\n",
        "print(f'len ds_train: {len(ds_train)}')\n",
        "print(f'len ds_valid: {len(ds_valid)}')\n",
        "print(f'len ds_test:  {len(ds_test)}')\n",
        "\n",
        "# dataloaders\n",
        "dataloaders = {\n",
        "    'debug': DataLoader(\n",
        "         ds_debug,\n",
        "         batch_size=BATCH_SZ,\n",
        "         shuffle=True,\n",
        "         num_workers=2,\n",
        "         pin_memory=True),\n",
        "    'train': DataLoader(\n",
        "         ds_train,\n",
        "         batch_size=BATCH_SZ,\n",
        "         shuffle=True,\n",
        "         num_workers=2,\n",
        "         pin_memory=True),\n",
        "    'valid': DataLoader(\n",
        "         ds_valid,\n",
        "         batch_size=BATCH_SZ,\n",
        "         shuffle=False,\n",
        "         num_workers=2,\n",
        "         pin_memory=True),\n",
        "    'test': DataLoader(\n",
        "         ds_test,\n",
        "         batch_size=BATCH_SZ,\n",
        "         shuffle=False,\n",
        "         num_workers=2,\n",
        "         pin_memory=True),\n",
        "               }\n",
        "# sanity check\n",
        "print('\\nDataloaders len (in batch):')\n",
        "dl_sizes = {x: len(dataloaders[x]) for x in dataloaders.keys()}; dl_sizes"
      ],
      "execution_count": 88,
      "outputs": [
        {
          "output_type": "stream",
          "text": [
            "Datasets len:\n",
            "len ds_debug: 16\n",
            "len ds_train: 9820\n",
            "len ds_valid: 3274\n",
            "len ds_test:  3846\n",
            "\n",
            "Dataloaders len (in batch):\n"
          ],
          "name": "stdout"
        },
        {
          "output_type": "execute_result",
          "data": {
            "text/plain": [
              "{'debug': 1, 'test': 241, 'train': 614, 'valid': 205}"
            ]
          },
          "metadata": {
            "tags": []
          },
          "execution_count": 88
        }
      ]
    },
    {
      "cell_type": "code",
      "metadata": {
        "colab_type": "code",
        "id": "mEvROK8GZzdp",
        "colab": {}
      },
      "source": [
        "# testando o dataloader \n",
        "source_token_ids, source_mask, target_token_ids = next(iter(dataloaders['debug']))"
      ],
      "execution_count": 89,
      "outputs": []
    },
    {
      "cell_type": "code",
      "metadata": {
        "colab_type": "code",
        "id": "rctzy_PpZzdr",
        "colab": {}
      },
      "source": [
        "class Net(torch.nn.Module):\n",
        "    def __init__(self):\n",
        "        super(Net, self).__init__()\n",
        "        self.model = T5ForConditionalGeneration.from_pretrained(MODEL_SZ)\n",
        "    \n",
        "    def forward(self, token_ids, att_mask, labels):\n",
        "        outputs = self.model.forward(\n",
        "            input_ids=token_ids, \n",
        "            attention_mask=att_mask,\n",
        "            lm_labels=labels\n",
        "            )\n",
        "        return outputs[0] # loss\n",
        "    \n",
        "    @torch.no_grad()    \n",
        "    def generate(self, token_ids, att_mask, max_len_target):\n",
        "        predict = self.model.generate(\n",
        "            input_ids=token_ids, \n",
        "            attention_mask=att_mask,\n",
        "            max_length=max_len_target\n",
        "            )\n",
        "        return predict\n",
        "    \n",
        "    @torch.no_grad()  \n",
        "    def generate_example(self, text_input, tokenizer, max_len_source=MAX_LEN_SRC):\n",
        "\n",
        "        self.model.eval()\n",
        "        \n",
        "        example_tokenized = tokenizer.encode_plus(\n",
        "            f'{text_input} {tokenizer.eos_token}',\n",
        "            max_length=max_len_source,\n",
        "            pad_to_max_length=True,\n",
        "            return_tensors='pt')\n",
        "            \n",
        "        example_token_ids = example_tokenized['input_ids']\n",
        "        example_mask = example_tokenized['attention_mask']\n",
        "\n",
        "        predicted_example = self.model.generate(\n",
        "            input_ids=example_token_ids.to(device), \n",
        "            attention_mask=example_mask.to(device),\n",
        "            max_length=MAX_LEN_TRGT\n",
        "            )\n",
        "\n",
        "        self.model.train()\n",
        "\n",
        "        out_text = [tokenizer.decode(text) for text in predicted_example]\n",
        "        \n",
        "        return out_text"
      ],
      "execution_count": 90,
      "outputs": []
    },
    {
      "cell_type": "markdown",
      "metadata": {
        "colab_type": "text",
        "id": "UDxVhVf6Zzdu"
      },
      "source": [
        "## Train and evaluation functions"
      ]
    },
    {
      "cell_type": "code",
      "metadata": {
        "colab_type": "code",
        "id": "c2gYbLX8Zzdu",
        "colab": {}
      },
      "source": [
        "# acc metric for text inputs\n",
        "def acc_in_text(trues, preds): \n",
        "    acc = []\n",
        "    for d in zip(trues, preds):\n",
        "        if d[0] == d[1]:\n",
        "            acc.append(1)\n",
        "        else:\n",
        "            acc.append(0)\n",
        "    return acc # bool\n",
        "\n",
        "def train(model, device, train_loader, optimizer):\n",
        "    loss_train = []\n",
        "    model.train()\n",
        "    for source_token_ids, source_mask, target_token_ids in train_loader:\n",
        "        optimizer.zero_grad()\n",
        "        loss = model(\n",
        "            source_token_ids.to(device), \n",
        "            source_mask.to(device), \n",
        "            target_token_ids.to(device)\n",
        "            )\n",
        "        \n",
        "        loss_train.append(loss.item())\n",
        "        loss.backward()\n",
        "        optimizer.step()\n",
        "    \n",
        "    train_losses = sum(loss_train) / len(loss_train)\n",
        "  \n",
        "    return train_losses\n",
        "\n",
        "def evaluate_fn(model, device, val_loader, max_len=MAX_LEN_TRGT):\n",
        "    loss_val, all_acc, all_preds, all_trues = [], [], [], []\n",
        "    model.eval()\n",
        "    for source_token_ids, source_mask, target_token_ids in val_loader:\n",
        "        predicted_ids = model.generate(\n",
        "            source_token_ids.to(device), \n",
        "            source_mask.to(device),\n",
        "            max_len\n",
        "            )\n",
        "        \n",
        "        preds = [TOK.decode(t) for t in predicted_ids]\n",
        "        trues = [TOK.decode(t) for t in target_token_ids]\n",
        "        acc = acc_in_text(trues, preds)\n",
        "        all_acc.extend(acc)\n",
        "        all_trues.extend(trues)\n",
        "        all_preds.extend(preds)\n",
        "        \n",
        "        # val loss   \n",
        "        loss = model(\n",
        "        source_token_ids.to(device), \n",
        "        source_mask.to(device), \n",
        "        target_token_ids.to(device)\n",
        "        )\n",
        "        loss_val.append(loss.item())\n",
        "    \n",
        "    val_losses = sum(loss_val) / len(loss_val)\n",
        "    \n",
        "    return val_losses, np.array(all_acc).mean(), all_trues, all_preds"
      ],
      "execution_count": 91,
      "outputs": []
    },
    {
      "cell_type": "markdown",
      "metadata": {
        "colab_type": "text",
        "id": "tk7ggKPKZzdw"
      },
      "source": [
        "# Overfit in one batch \n",
        "- dataloader debug"
      ]
    },
    {
      "cell_type": "code",
      "metadata": {
        "colab_type": "code",
        "id": "xUOJOmyFZzdx",
        "colab": {
          "base_uri": "https://localhost:8080/",
          "height": 411
        },
        "outputId": "f0d74228-d424-4e9e-a069-7fc2692c19ba"
      },
      "source": [
        "overfit = True\n",
        "\n",
        "if overfit:\n",
        "\n",
        "    start = torch.cuda.Event(enable_timing=True)\n",
        "    end = torch.cuda.Event(enable_timing=True)\n",
        "    deterministic() \n",
        "\n",
        "    model = Net().to(device)\n",
        "    optimizer = torch.optim.AdamW(model.parameters(), lr=5e-5)\n",
        "    \n",
        "    # -----------------------------------------------------------------------------\n",
        "    start.record()\n",
        "    for step in range(1, 1001):\n",
        "        samp = random.randint(0, BATCH_SZ-WINDOW) # to show random trues and preds\n",
        "        loss_t = train(model, device, dataloaders['debug'], optimizer)\n",
        "        loss,acc, trues, preds = evaluate_fn(model, device, dataloaders['debug'])\n",
        "        if step == 1:\n",
        "            print(f'[Epoch: {step}/{1000}] |', end=' ')\n",
        "            print(f'Train Loss: {loss_t:.3f} -- Acc: {acc:.3f}')\n",
        "        if step % 100 == 0:\n",
        "            print(f'[Epoch: {step}/{1000}] |', end=' ')\n",
        "            print(f'Train Loss: {loss_t:.3f} -- Acc: {acc:.3f}')\n",
        "            print(f'  Trues: {trues[samp:samp+WINDOW]}\\n  Preds: {preds[samp:samp+WINDOW]}')\n",
        "        if acc>= 0.99:\n",
        "          print('The model has overfitted! Breaking the loop :)')\n",
        "          break\n",
        "    end.record()\n",
        "    torch.cuda.synchronize()    \n",
        "    # -----------------------------------------------------------------------------\n",
        "\n",
        "    print(f'Training time: {start.elapsed_time(end)/1000/60 :.3f} min.')\n",
        "    del model"
      ],
      "execution_count": 92,
      "outputs": [
        {
          "output_type": "stream",
          "text": [
            "Deterministic experiment, seed: 2357\n",
            "[Epoch: 1/1000] | Train Loss: 10.578 -- Acc: 0.062\n",
            "[Epoch: 100/1000] | Train Loss: 0.407 -- Acc: 0.000\n",
            "  Trues: ['Rua 12A, 1056, Apartamento 100, Jardim Ame&#769;rica Prolongamento A, Rio Verde', 'Viela Alfredo Soares da Silva, 1036, Box 80, Parque Residencial Francisco Belo Galindo, Presidente Prudente, SP, 19097608', 'Avenida Senador Ati&#769;lio Fontana, S/N, Distrito Industrial, Rondono&#769;polis, MT', 'Rua Sa&#771;o Urbano, 5135, Sala 60, Vila Yara, Sa&#771;o Paulo, SP', 'Rua Duas Irma&#771;s, 8679, Jardim Almeida, Sa&#771;o Paulo, SP', 'Rua Jose&#769; Rodrigues de Oliveira, 6087, Bloco 9 - Sala 2, do Quadro, Vito&#769;ria, ES', 'Rua Sa&#771;o Pedro, 6312, Vila Merce&#770;s, Carapicui&#769;ba, SP, 6380170']\n",
            "  Preds: ['', '', '', '', '', '', '']\n",
            "[Epoch: 200/1000] | Train Loss: 0.208 -- Acc: 0.000\n",
            "  Trues: ['Avenida Senador Ati&#769;lio Fontana, S/N, Distrito Industrial, Rondono&#769;polis, MT', 'Rua Maria Adelaide Vieira, 1435, Bloco 9 - Sala 2, Peixinhos, Olinda, PE, 53230300', 'Viela Alfredo Soares da Silva, 1036, Box 80, Parque Residencial Francisco Belo Galindo, Presidente Prudente, SP, 19097608', 'Rua Arac&#807;atuba, S/N, Apartamento 100,Novo Horizonte, Cuiaba&#769;, MT', 'Rua Jose&#769; de Oliveira, 7899, Jardim Jose&#769; Ometto II, Araras, SP', 'Rua Heitor Peixoto, S/N, Cambuci, Sa&#771;o Paulo, SP', 'Avenida Ina&#769;cio Tosta Filho, S/N, Apartamento 100,Centro, Itabuna, BA']\n",
            "  Preds: ['', '', '', '', '', '', '']\n",
            "[Epoch: 300/1000] | Train Loss: 0.133 -- Acc: 0.000\n",
            "  Trues: ['Avenida Dois, 3891, Loja 79, Alterosa, Sa&#771;o Lui&#769;s, MA, 65073139', 'Rua Wildomar Ferreira Duarte, 3427, Fortuna, Sapucaia do Sul, RS, 93212152', 'Rua Sa&#771;o Francisco Xavier, 5909, Torre 2, Granjas Rurais Presidente Vargas, Salvador, BA', 'Rua Sa&#771;o Urbano, 5135, Sala 60, Vila Yara, Sa&#771;o Paulo, SP', 'Rua 12A, 1056, Apartamento 100, Jardim Ame&#769;rica Prolongamento A, Rio Verde', 'Rua Jose&#769; de Oliveira, 7899, Jardim Jose&#769; Ometto II, Araras, SP', 'Rua Vinte e Oito, 9177, Torre 2, Joa&#771;o Crevelaro, Birigu&#776;i, SP']\n",
            "  Preds: ['', '', '', '', '', '', '']\n",
            "[Epoch: 400/1000] | Train Loss: 0.048 -- Acc: 0.438\n",
            "  Trues: ['Rua 12A, 1056, Apartamento 100, Jardim Ame&#769;rica Prolongamento A, Rio Verde', 'Rua Sa&#771;o Francisco Xavier, 5909, Torre 2, Granjas Rurais Presidente Vargas, Salvador, BA', 'Rua Duas Irma&#771;s, 8679, Jardim Almeida, Sa&#771;o Paulo, SP', 'Rua Jose&#769; Rodrigues de Oliveira, 6087, Bloco 9 - Sala 2, do Quadro, Vito&#769;ria, ES', 'Rua Wildomar Ferreira Duarte, 3427, Fortuna, Sapucaia do Sul, RS, 93212152', 'Avenida Senador Ati&#769;lio Fontana, S/N, Distrito Industrial, Rondono&#769;polis, MT', 'Rua Sa&#771;o Pedro, 6312, Vila Merce&#770;s, Carapicui&#769;ba, SP, 6380170']\n",
            "  Preds: ['', 'Rua Sa&#771;o Francisco Xavier, 5909, Torre 2, Granjas Rurais Presidente Vargas, Salvador, BA', 'Rua Duas Irma&#771;s, 8679, Jardim Almeida, Sa&#771;o Paulo, SP', 'Rua Jose&#769; Rodrigues de Oliveira, 6087, Boloco 9 - Sala 2, do Quadro, Vito&#769;ria, ES', 'Rua Wildomar Ferreira Duarte, 3427, Fortuna, Sapucaia do Sul, RS, 93212152', '', 'Rua Sa&#771;o Pedro, 6312, Vila Merce&#770;s, Carapicui&#769;ba, SP, 6380170']\n",
            "[Epoch: 500/1000] | Train Loss: 0.038 -- Acc: 0.875\n",
            "  Trues: ['Avenida Senador Ati&#769;lio Fontana, S/N, Distrito Industrial, Rondono&#769;polis, MT', 'Avenida Ina&#769;cio Tosta Filho, S/N, Apartamento 100,Centro, Itabuna, BA', 'Viela Alfredo Soares da Silva, 1036, Box 80, Parque Residencial Francisco Belo Galindo, Presidente Prudente, SP, 19097608', 'Rua Sa&#771;o Urbano, 5135, Sala 60, Vila Yara, Sa&#771;o Paulo, SP', 'Rua Duas Irma&#771;s, 8679, Jardim Almeida, Sa&#771;o Paulo, SP', 'Rua Jose&#769; de Oliveira, 7899, Jardim Jose&#769; Ometto II, Araras, SP', 'Rua Maria Adelaide Vieira, 1435, Bloco 9 - Sala 2, Peixinhos, Olinda, PE, 53230300']\n",
            "  Preds: ['Avenida Senador Ati&#769;lio Fontana, S/N, Distrito Industrial, Rondono&#769;polis, MT', 'Avenida Ina&#769;cio Tosta Filho, S/N, Apartamento 100,Centro, Itabuna, BA', 'Viela Alfredo Soares da Silva, 1036, Box 80, Parque Residencial Francisco Belo Galindo, Presidente Prudente, SP, 19097608', 'Rua Sa&#771;o Urbano, 5135, Sala 60, Vila Yara, Sa&#771;o Paulo, SP', 'Rua Duas Irma&#771;s, 8679, Jardim Almeida, Sa&#771;o Paulo, SP', '', 'Rua Maria Adelaide Vieira, 1435, Bloco 9 - Sala 2, Peixinhos, Olinda, PE, 53230300']\n",
            "[Epoch: 600/1000] | Train Loss: 0.024 -- Acc: 0.875\n",
            "  Trues: ['Rua Vinte e Oito, 9177, Torre 2, Joa&#771;o Crevelaro, Birigu&#776;i, SP', 'Rua 12A, 1056, Apartamento 100, Jardim Ame&#769;rica Prolongamento A, Rio Verde', 'Rua Heitor Peixoto, S/N, Cambuci, Sa&#771;o Paulo, SP', 'Rua Sa&#771;o Francisco Xavier, 5909, Torre 2, Granjas Rurais Presidente Vargas, Salvador, BA', 'Rua Sa&#771;o Pedro, 6312, Vila Merce&#770;s, Carapicui&#769;ba, SP, 6380170', 'Rua Wildomar Ferreira Duarte, 3427, Fortuna, Sapucaia do Sul, RS, 93212152', 'Rua Arac&#807;atuba, S/N, Apartamento 100,Novo Horizonte, Cuiaba&#769;, MT']\n",
            "  Preds: ['Rua Vinte e Oito, 9177, Torre 2, Joa&#771;o Crevelaro, Birigu&#776;i, SP', '', 'Rua Heitor Peixoto, S/N, Cambuci, Sa&#771;o Paulo, SP', 'Rua Sa&#771;o Francisco Xavier, 5909, Torre 2, Granjas Rurais Presidente Vargas, Salvador, BA', 'Rua Sa&#771;o Pedro, 6312, Vila Merce&#770;s, Carapicui&#769;ba, SP, 6380170', 'Rua Wildomar Ferreira Duarte, 3427, Fortuna, Sapucaia do Sul, RS, 93212152', 'Rua Arac&#807;atuba, S/N, Apartamento 100,Novo Horizonte, Cuiaba&#769;, MT']\n",
            "The model has overfitted! Breaking the loop :)\n",
            "Training time: 25.113 min.\n"
          ],
          "name": "stdout"
        }
      ]
    },
    {
      "cell_type": "markdown",
      "metadata": {
        "colab_type": "text",
        "id": "KVZ9sPKlZzdz"
      },
      "source": [
        "# Training "
      ]
    },
    {
      "cell_type": "code",
      "metadata": {
        "colab_type": "code",
        "id": "jP4cqi0QZzdz",
        "colab": {
          "base_uri": "https://localhost:8080/",
          "height": 598
        },
        "outputId": "0ee4a055-47c5-4e74-af1f-bceda6ab38b5"
      },
      "source": [
        "try:\n",
        "  del model\n",
        "except:\n",
        "  print('Model already erased, starting a new one!')\n",
        "  \n",
        "start = torch.cuda.Event(enable_timing=True)\n",
        "end = torch.cuda.Event(enable_timing=True)\n",
        "deterministic() \n",
        "\n",
        "model = Net().to(device)\n",
        "optimizer = torch.optim.AdamW(model.parameters(), lr=5e-5)\n",
        "\n",
        "N_EPOCHS = 10\n",
        "\n",
        "# ---------------------------------------------------------------------------------\n",
        "start.record()\n",
        "for step in range(1, N_EPOCHS+1):\n",
        "    samp = random.randint(0, BATCH_SZ-WINDOW) # to show random trues and preds\n",
        "    loss_t = train(model, device, dataloaders['train'], optimizer)\n",
        "    loss_v, acc, trues, preds = evaluate_fn(model, device, dataloaders['valid'])\n",
        "    print(f'[Epoch: {step}/{N_EPOCHS}] |', end=' ')\n",
        "    print(f'Train Loss: {loss_t:.3f} -- Valid Loss: {loss_v:.3f} -- Acc: {acc:.3f}')\n",
        "    print(f'  Trues: {trues[samp:samp+WINDOW]}\\n  Preds: {preds[samp:samp+WINDOW]}')\n",
        "\n",
        "end.record()\n",
        "torch.cuda.synchronize()    \n",
        "# ---------------------------------------------------------------------------------\n",
        "\n",
        "print(f'Training time: {start.elapsed_time(end)/1000/60 :.3f} min.')"
      ],
      "execution_count": 93,
      "outputs": [
        {
          "output_type": "stream",
          "text": [
            "Model already erased, starting a new one!\n",
            "Deterministic experiment, seed: 2357\n",
            "[Epoch: 1/10] | Train Loss: 0.460 -- Valid Loss: 0.041 -- Acc: 0.346\n",
            "  Trues: ['Rua Santa Cruz, 1027, Bom Sucesso, Gravatai&#769;, RS', 'Rua Professor Eduardo de Martini, 7508, Torre 6 - Sala 192, Nu&#769;cleo Residencial Castelo Branco, Sa&#771;o Carlos, SP, 13571100', 'Rua Francisco de Souza Pinheiro, S/N, Torre 2,Parai&#769;so, Cataguases, MG', \"Rua da Borracha, S/N, Box 80,Jardim Pe&#769;rola, Santa Ba&#769;rbara D'Oeste, SP\", 'Rua Dezesseis, 9697, Cidade Oli&#769;mpica, Sa&#771;o Lui&#769;s, MA, 65058536', 'Estrada Silvio Pelicer Filho, 2013, Sala 60, Cha&#769;cara Jockey Club (Zona Rural), Sa&#771;o Jose&#769; do Rio Preto, SP', 'Rua Serra da Mantiqueira, 9914, Torre 2, Parque Ponte Grande, Mogi das Cruzes, SP']\n",
            "  Preds: ['Rua Santa Cruz, 1027, Gravatai&#769;, Bom Sucesso, Gravatai&#769;, Gravatai&#769;, Gravatai&#769;, Gravatai&#769;, Gravatai&#', 'Rua Professor Eduardo de Martini, 7508, Torre 6 - Sala 192, Nu&#769;cleo Residencial Castelo Branco, Sa&#771;o Carlos, SP, 13571100', 'Rua Francisco de Souza Pinheiro, S/N, Torre 2, Parai&#769;so, Cataguases, MG', \"Rua da Borracha, S/N, Box 80, Jardim Pe&#769;rola, Santa Ba&#769;rbara D'Oeste, SP\", 'Rua Dezesseis, 9697, Cidade Oli&#769;mpica, Sa&#771;o Lui&#769;s, Maranha&#771;o, 65058536', 'Estrada Silvio Pelicer Filho, S/N, 2013, Cha&#769;cara Jockey Club (Zona Rural), Sa&#771;o Jose&#769; do Rio Preto, SP', 'Rua Serra da Mantiqueira, 9914, Torre 2, Parque Ponte Grande, Mogi das Cruzes, SP']\n",
            "[Epoch: 2/10] | Train Loss: 0.047 -- Valid Loss: 0.015 -- Acc: 0.666\n",
            "  Trues: ['Rua Professor Eduardo de Martini, 7508, Torre 6 - Sala 192, Nu&#769;cleo Residencial Castelo Branco, Sa&#771;o Carlos, SP, 13571100', 'Rua Francisco de Souza Pinheiro, S/N, Torre 2,Parai&#769;so, Cataguases, MG', \"Rua da Borracha, S/N, Box 80,Jardim Pe&#769;rola, Santa Ba&#769;rbara D'Oeste, SP\", 'Rua Dezesseis, 9697, Cidade Oli&#769;mpica, Sa&#771;o Lui&#769;s, MA, 65058536', 'Estrada Silvio Pelicer Filho, 2013, Sala 60, Cha&#769;cara Jockey Club (Zona Rural), Sa&#771;o Jose&#769; do Rio Preto, SP', 'Rua Serra da Mantiqueira, 9914, Torre 2, Parque Ponte Grande, Mogi das Cruzes, SP', 'Quadra 141, S/N, Morada das Garc&#807;as, Cidade Ocidental, GO']\n",
            "  Preds: ['Rua Professor Eduardo de Martini, 7508, Torre 6 - Sala 192, Nu&#769;cleo Residencial Castelo Branco, Sa&#771;o Carlos, SP, 13571100', 'Rua Francisco de Souza Pinheiro, S/N, Torre 2, Parai&#769;so, Cataguases, MG', \"Rua da Borracha, S/N, Box 80, Jardim Pe&#769;rola, Santa Ba&#769;rbara D'Oeste, SP\", 'Rua Dezesseis, 9697, Cidade Oli&#769;mpica, Sa&#771;o Lui&#769;s, Maranha&#771;o, 65058536', 'Estrada Silvio Pelicer Filho, S/N, 2013, S/N, Cha&#769;cara Jockey Club (Zona Rural), Sa&#771;o Jose&#769; do Rio Preto, SP', 'Rua Serra da Mantiqueira, 9914, Torre 2, Parque Ponte Grande, Mogi das Cruzes, SP', 'Quadra 141, GO, Morada das Garc&#807;as, Cidade Ocidental, GO']\n",
            "[Epoch: 3/10] | Train Loss: 0.024 -- Valid Loss: 0.008 -- Acc: 0.783\n",
            "  Trues: ['Rua Maria Francisca da Conceic&#807;a&#771;o, 5954, Duque de Caxias, Santa Maria, RS, 97070520', 'Quadra 115, S/N, Parque Desportivo Brasi&#769;lia (Roosevelt), Luzia&#770;nia, GO', 'Rua Santa Cruz, 1027, Bom Sucesso, Gravatai&#769;, RS', 'Rua Professor Eduardo de Martini, 7508, Torre 6 - Sala 192, Nu&#769;cleo Residencial Castelo Branco, Sa&#771;o Carlos, SP, 13571100', 'Rua Francisco de Souza Pinheiro, S/N, Torre 2,Parai&#769;so, Cataguases, MG', \"Rua da Borracha, S/N, Box 80,Jardim Pe&#769;rola, Santa Ba&#769;rbara D'Oeste, SP\", 'Rua Dezesseis, 9697, Cidade Oli&#769;mpica, Sa&#771;o Lui&#769;s, MA, 65058536']\n",
            "  Preds: ['Rua Maria Francisca da Conceic&#807;a&#771;o, 5954, Duque de Caxias, Santa Maria, RS, 97070520', 'Quadra 115, GO, Parque Desportivo Brasi&#769;lia (Roosevelt), Luzia&#770;nia, GO', 'Rua Santa Cruz, 1027, Bom Sucesso, Gravatai&#769;, RS', 'Rua Professor Eduardo de Martini, 7508, Torre 6 - Sala 192, Nu&#769;cleo Residencial Castelo Branco, Sa&#771;o Carlos, SP, 13571100', 'Rua Francisco de Souza Pinheiro, S/N, Torre 2, Parai&#769;so, Cataguases, MG', \"Rua da Borracha, S/N, Box 80, Jardim Pe&#769;rola, Santa Ba&#769;rbara D'Oeste, SP\", 'Rua Dezesseis, 9697, Cidade Oli&#769;mpica, Sa&#771;o Lui&#769;s, Maranha&#771;o, 65058536']\n",
            "[Epoch: 4/10] | Train Loss: 0.014 -- Valid Loss: 0.004 -- Acc: 0.888\n",
            "  Trues: ['Rua Manoel Antunes Teixeira, S/N, Box 80,Centro, Tubara&#771;o, SC', 'Rua Almeida Garret, 7668, Apartamento 100, Itaigara, Salvador, BA, 41815320', 'Rua Maria Francisca da Conceic&#807;a&#771;o, 5954, Duque de Caxias, Santa Maria, RS, 97070520', 'Quadra 115, S/N, Parque Desportivo Brasi&#769;lia (Roosevelt), Luzia&#770;nia, GO', 'Rua Santa Cruz, 1027, Bom Sucesso, Gravatai&#769;, RS', 'Rua Professor Eduardo de Martini, 7508, Torre 6 - Sala 192, Nu&#769;cleo Residencial Castelo Branco, Sa&#771;o Carlos, SP, 13571100', 'Rua Francisco de Souza Pinheiro, S/N, Torre 2,Parai&#769;so, Cataguases, MG']\n",
            "  Preds: ['Rua Manoel Antunes Teixeira, S/N, Box 80,Centro, Tubara&#771;o, SC', 'Rua Almeida Garret, 7668, Apartamento 100, Itaigara, Salvador, BA, 41815320', 'Rua Maria Francisca da Conceic&#807;a&#771;o, 5954, Duque de Caxias, Santa Maria, RS, 97070520', 'Quadra 115, GO, Parque Desportivo Brasi&#769;lia (Roosevelt), Luzia&#770;nia, GO', 'Rua Santa Cruz, 1027, Bom Sucesso, Gravatai&#769;, RS', 'Rua Professor Eduardo de Martini, 7508, Torre 6 - Sala 192, Nu&#769;cleo Residencial Castelo Branco, Sa&#771;o Carlos, SP, 13571100', 'Rua Francisco de Souza Pinheiro, S/N, Torre 2,Parai&#769;so, Cataguases, MG']\n",
            "[Epoch: 5/10] | Train Loss: 0.009 -- Valid Loss: 0.003 -- Acc: 0.938\n",
            "  Trues: ['Rua Almeida Garret, 7668, Apartamento 100, Itaigara, Salvador, BA, 41815320', 'Rua Maria Francisca da Conceic&#807;a&#771;o, 5954, Duque de Caxias, Santa Maria, RS, 97070520', 'Quadra 115, S/N, Parque Desportivo Brasi&#769;lia (Roosevelt), Luzia&#770;nia, GO', 'Rua Santa Cruz, 1027, Bom Sucesso, Gravatai&#769;, RS', 'Rua Professor Eduardo de Martini, 7508, Torre 6 - Sala 192, Nu&#769;cleo Residencial Castelo Branco, Sa&#771;o Carlos, SP, 13571100', 'Rua Francisco de Souza Pinheiro, S/N, Torre 2,Parai&#769;so, Cataguases, MG', \"Rua da Borracha, S/N, Box 80,Jardim Pe&#769;rola, Santa Ba&#769;rbara D'Oeste, SP\"]\n",
            "  Preds: ['Rua Almeida Garret, 7668, Apartamento 100, Itaigara, Salvador, BA, 41815320', 'Rua Maria Francisca da Conceic&#807;a&#771;o, 5954, Duque de Caxias, Santa Maria, RS, 97070520', 'Quadra 115, S/N, Parque Desportivo Brasi&#769;lia (Roosevelt), Luzia&#770;nia, GO', 'Rua Santa Cruz, 1027, Bom Sucesso, Gravatai&#769;, RS', 'Rua Professor Eduardo de Martini, 7508, Torre 6 - Sala 192, Nu&#769;cleo Residencial Castelo Branco, Sa&#771;o Carlos, SP, 13571100', 'Rua Francisco de Souza Pinheiro, S/N, Torre 2,Parai&#769;so, Cataguases, MG', \"Rua da Borracha, S/N, Box 80,Jardim Pe&#769;rola, Santa Ba&#769;rbara D'Oeste, SP\"]\n",
            "[Epoch: 6/10] | Train Loss: 0.007 -- Valid Loss: 0.002 -- Acc: 0.952\n",
            "  Trues: ['Rua Dezesseis, 9697, Cidade Oli&#769;mpica, Sa&#771;o Lui&#769;s, MA, 65058536', 'Estrada Silvio Pelicer Filho, 2013, Sala 60, Cha&#769;cara Jockey Club (Zona Rural), Sa&#771;o Jose&#769; do Rio Preto, SP', 'Rua Serra da Mantiqueira, 9914, Torre 2, Parque Ponte Grande, Mogi das Cruzes, SP', 'Quadra 141, S/N, Morada das Garc&#807;as, Cidade Ocidental, GO', 'Rua Escritor Jose&#769; Lins do Rego, S/N, Torre 2,Belvedere, Ribeira&#771;o das Neves, MG', 'Rua Dolores Ribeiro Fagundes, 7809, Jardim Viena, Londrina, PR', 'Rua Serra Grande, S/N, Cataratas, Cascavel, PR']\n",
            "  Preds: ['Rua Dezesseis, 9697, Cidade Oli&#769;mpica, Sa&#771;o Lui&#769;s, MA, 65058536', 'Estrada Silvio Pelicer Filho, 2013, Sala 60, Cha&#769;cara Jockey Club (Zona Rural), Sa&#771;o Jose&#769; do Rio Preto, SP', 'Rua Serra da Mantiqueira, 9914, Torre 2, Parque Ponte Grande, Mogi das Cruzes, SP', 'Quadra 141, S/N, Morada das Garc&#807;as, Cidade Ocidental, GO', 'Rua Escritor Jose&#769; Lins do Rego, S/N, Torre 2,Belvedere, Ribeira&#771;o das Neves, MG', 'Rua Dolores Ribeiro Fagundes, 7809, Jardim Viena, Londrina, PR', 'Rua Serra Grande, S/N, Cataratas, Cascavel, PR']\n",
            "[Epoch: 7/10] | Train Loss: 0.005 -- Valid Loss: 0.002 -- Acc: 0.964\n",
            "  Trues: ['Rua Francisco de Souza Pinheiro, S/N, Torre 2,Parai&#769;so, Cataguases, MG', \"Rua da Borracha, S/N, Box 80,Jardim Pe&#769;rola, Santa Ba&#769;rbara D'Oeste, SP\", 'Rua Dezesseis, 9697, Cidade Oli&#769;mpica, Sa&#771;o Lui&#769;s, MA, 65058536', 'Estrada Silvio Pelicer Filho, 2013, Sala 60, Cha&#769;cara Jockey Club (Zona Rural), Sa&#771;o Jose&#769; do Rio Preto, SP', 'Rua Serra da Mantiqueira, 9914, Torre 2, Parque Ponte Grande, Mogi das Cruzes, SP', 'Quadra 141, S/N, Morada das Garc&#807;as, Cidade Ocidental, GO', 'Rua Escritor Jose&#769; Lins do Rego, S/N, Torre 2,Belvedere, Ribeira&#771;o das Neves, MG']\n",
            "  Preds: ['Rua Francisco de Souza Pinheiro, S/N, Torre 2,Parai&#769;so, Cataguases, MG', \"Rua da Borracha, S/N, Box 80,Jardim Pe&#769;rola, Santa Ba&#769;rbara D'Oeste, SP\", 'Rua Dezesseis, 9697, Cidade Oli&#769;mpica, Sa&#771;o Lui&#769;s, MA, 65058536', 'Estrada Silvio Pelicer Filho, 2013, Sala 60, Cha&#769;cara Jockey Club (Zona Rural), Sa&#771;o Jose&#769; do Rio Preto, SP', 'Rua Serra da Mantiqueira, 9914, Torre 2, Parque Ponte Grande, Mogi das Cruzes, SP', 'Quadra 141, S/N, Morada das Garc&#807;as, Cidade Ocidental, GO', 'Rua Escritor Jose&#769; Lins do Rego, S/N, Torre 2,Belvedere, Ribeira&#771;o das Neves, MG']\n",
            "[Epoch: 8/10] | Train Loss: 0.004 -- Valid Loss: 0.001 -- Acc: 0.969\n",
            "  Trues: ['Rua Almeida Garret, 7668, Apartamento 100, Itaigara, Salvador, BA, 41815320', 'Rua Maria Francisca da Conceic&#807;a&#771;o, 5954, Duque de Caxias, Santa Maria, RS, 97070520', 'Quadra 115, S/N, Parque Desportivo Brasi&#769;lia (Roosevelt), Luzia&#770;nia, GO', 'Rua Santa Cruz, 1027, Bom Sucesso, Gravatai&#769;, RS', 'Rua Professor Eduardo de Martini, 7508, Torre 6 - Sala 192, Nu&#769;cleo Residencial Castelo Branco, Sa&#771;o Carlos, SP, 13571100', 'Rua Francisco de Souza Pinheiro, S/N, Torre 2,Parai&#769;so, Cataguases, MG', \"Rua da Borracha, S/N, Box 80,Jardim Pe&#769;rola, Santa Ba&#769;rbara D'Oeste, SP\"]\n",
            "  Preds: ['Rua Almeida Garret, 7668, Apartamento 100, Itaigara, Salvador, BA, 41815320', 'Rua Maria Francisca da Conceic&#807;a&#771;o, 5954, Duque de Caxias, Santa Maria, RS, 97070520', 'Quadra 115, S/N, Parque Desportivo Brasi&#769;lia (Roosevelt), Luzia&#770;nia, GO', 'Rua Santa Cruz, 1027, Bom Sucesso, Gravatai&#769;, RS', 'Rua Professor Eduardo de Martini, 7508, Torre 6 - Sala 192, Nu&#769;cleo Residencial Castelo Branco, Sa&#771;o Carlos, SP, 13571100', 'Rua Francisco de Souza Pinheiro, S/N, Torre 2,Parai&#769;so, Cataguases, MG', \"Rua da Borracha, S/N, Box 80,Jardim Pe&#769;rola, Santa Ba&#769;rbara D'Oeste, SP\"]\n",
            "[Epoch: 9/10] | Train Loss: 0.003 -- Valid Loss: 0.001 -- Acc: 0.977\n",
            "  Trues: [\"Rua da Borracha, S/N, Box 80,Jardim Pe&#769;rola, Santa Ba&#769;rbara D'Oeste, SP\", 'Rua Dezesseis, 9697, Cidade Oli&#769;mpica, Sa&#771;o Lui&#769;s, MA, 65058536', 'Estrada Silvio Pelicer Filho, 2013, Sala 60, Cha&#769;cara Jockey Club (Zona Rural), Sa&#771;o Jose&#769; do Rio Preto, SP', 'Rua Serra da Mantiqueira, 9914, Torre 2, Parque Ponte Grande, Mogi das Cruzes, SP', 'Quadra 141, S/N, Morada das Garc&#807;as, Cidade Ocidental, GO', 'Rua Escritor Jose&#769; Lins do Rego, S/N, Torre 2,Belvedere, Ribeira&#771;o das Neves, MG', 'Rua Dolores Ribeiro Fagundes, 7809, Jardim Viena, Londrina, PR']\n",
            "  Preds: [\"Rua da Borracha, S/N, Box 80,Jardim Pe&#769;rola, Santa Ba&#769;rbara D'Oeste, SP\", 'Rua Dezesseis, 9697, Cidade Oli&#769;mpica, Sa&#771;o Lui&#769;s, MA, 65058536', 'Estrada Silvio Pelicer Filho, 2013, Sala 60, Cha&#769;cara Jockey Club (Zona Rural), Sa&#771;o Jose&#769; do Rio Preto, SP', 'Rua Serra da Mantiqueira, 9914, Torre 2, Parque Ponte Grande, Mogi das Cruzes, SP', 'Quadra 141, S/N, Morada das Garc&#807;as, Cidade Ocidental, GO', 'Rua Escritor Jose&#769; Lins do Rego, S/N, Torre 2,Belvedere, Ribeira&#771;o das Neves, MG', 'Rua Dolores Ribeiro Fagundes, 7809, Jardim Viena, Londrina, PR']\n",
            "[Epoch: 10/10] | Train Loss: 0.003 -- Valid Loss: 0.001 -- Acc: 0.977\n",
            "  Trues: ['Quadra 115, S/N, Parque Desportivo Brasi&#769;lia (Roosevelt), Luzia&#770;nia, GO', 'Rua Santa Cruz, 1027, Bom Sucesso, Gravatai&#769;, RS', 'Rua Professor Eduardo de Martini, 7508, Torre 6 - Sala 192, Nu&#769;cleo Residencial Castelo Branco, Sa&#771;o Carlos, SP, 13571100', 'Rua Francisco de Souza Pinheiro, S/N, Torre 2,Parai&#769;so, Cataguases, MG', \"Rua da Borracha, S/N, Box 80,Jardim Pe&#769;rola, Santa Ba&#769;rbara D'Oeste, SP\", 'Rua Dezesseis, 9697, Cidade Oli&#769;mpica, Sa&#771;o Lui&#769;s, MA, 65058536', 'Estrada Silvio Pelicer Filho, 2013, Sala 60, Cha&#769;cara Jockey Club (Zona Rural), Sa&#771;o Jose&#769; do Rio Preto, SP']\n",
            "  Preds: ['Quadra 115, S/N, Parque Desportivo Brasi&#769;lia (Roosevelt), Luzia&#770;nia, GO', 'Rua Santa Cruz, 1027, Bom Sucesso, Gravatai&#769;, RS', 'Rua Professor Eduardo de Martini, 7508, Torre 6 - Sala 192, Nu&#769;cleo Residencial Castelo Branco, Sa&#771;o Carlos, SP, 13571100', 'Rua Francisco de Souza Pinheiro, S/N, Torre 2,Parai&#769;so, Cataguases, MG', \"Rua da Borracha, S/N, Box 80,Jardim Pe&#769;rola, Santa Ba&#769;rbara D'Oeste, SP\", 'Rua Dezesseis, 9697, Cidade Oli&#769;mpica, Sa&#771;o Lui&#769;s, MA, 65058536', 'Estrada Silvio Pelicer Filho, 2013, Sala 60, Cha&#769;cara Jockey Club (Zona Rural), Sa&#771;o Jose&#769; do Rio Preto, SP']\n",
            "Training time: 47.119 min.\n"
          ],
          "name": "stdout"
        }
      ]
    },
    {
      "cell_type": "markdown",
      "metadata": {
        "colab_type": "text",
        "id": "h-YQ8OKPZzd2"
      },
      "source": [
        "# Test"
      ]
    },
    {
      "cell_type": "code",
      "metadata": {
        "colab_type": "code",
        "id": "EaZERxo7Zzd3",
        "colab": {
          "base_uri": "https://localhost:8080/",
          "height": 105
        },
        "outputId": "45e91b75-f751-4479-a677-372ab3cb9f79"
      },
      "source": [
        "# ---------------------------------------------------------------------------------\n",
        "start.record()\n",
        "\n",
        "samp = random.randint(0, BATCH_SZ-WINDOW) # to show random trues and preds\n",
        "loss, acc, trues, preds = evaluate_fn(model, device, dataloaders['test'])\n",
        "print(f'Loss: {loss:.3f} -- Acc: {acc:.3f}')\n",
        "print(f' Trues: {trues[samp:samp+WINDOW]}\\n  Preds: {preds[samp:samp+WINDOW]}')\n",
        "\n",
        "end.record()\n",
        "torch.cuda.synchronize()    \n",
        "# ---------------------------------------------------------------------------------\n",
        "\n",
        "print(f'Test time: {start.elapsed_time(end)/1000/60 :.3f} min.')"
      ],
      "execution_count": 94,
      "outputs": [
        {
          "output_type": "stream",
          "text": [
            "Loss: 0.061 -- Acc: 0.774\n",
            " Trues: ['Rua Jose&#769; Raunheitti, 4364, Parque Horizonte, Nova Iguac&#807;u, RJ', 'Estrada do Gentil, 6412, Itaipava, Petro&#769;polis, RJ', 'Estrada do Gentil, 6412, Itaipava, Petro&#769;polis, RJ', 'Estrada do Gentil, 6412, Itaipava, Petro&#769;polis, RJ, 25745010', 'Estrada do Gentil, 6412, Torre 8 - Apartamento 107,Itaipava, Petro&#769;polis, RJ', 'Avenida Alberto Giovannini, 130, Betha&#770;nia, Ipatinga, MG', 'Quadra 726, 6751, Loja 79,Parque Estrela Dalva X, Luzia&#770;nia, GO']\n",
            "  Preds: ['Rua Jose&#769; Raunheitti, 4364, Parque Horizonte, Nova Iguac&#807;u, RJ', 'Estrada do Gentil, 6412, Itaipava, Petro&#769;polis, RJ', 'Estrada do Gentil, 6412, Itaipava, Petro&#769;polis, RJ', 'Estrada do Gentil, 6412, Itaipava, Petro&#769;polis, RJ, 25745010', 'Estrada do Gentil, 6412, Itaipava, Petro&#769;polis, RJ', 'Avenida Alberto Giovannini, 130, Betha&#770;nia, Ipatinga, MG', 'Quadra 726, 6751, Parque Estrela Dalva X, Luzia&#770;nia, GO']\n",
            "Test time: 2.469 min.\n"
          ],
          "name": "stdout"
        }
      ]
    },
    {
      "cell_type": "markdown",
      "metadata": {
        "id": "CzVjYAkNGVxJ",
        "colab_type": "text"
      },
      "source": [
        "# Evaluating types for a same address\n",
        "\n",
        "Given a sample address, this section evaluates wich is the accuracy considering all the formats.\n",
        "\n",
        "\n"
      ]
    },
    {
      "cell_type": "code",
      "metadata": {
        "id": "DixMx530hPg5",
        "colab_type": "code",
        "colab": {}
      },
      "source": [
        "def evaluate_for_a_same_address(logradouro,numero,complemento,\n",
        "                bairro,cidade,uf,cep, model=model,tokenizer=TOK,\n",
        "                verbose=True):\n",
        "  '''\n",
        "    Given a specific address, returns the accuracy in all evaluated types.\n",
        "    Also prints results per sample.\n",
        "  '''\n",
        "\n",
        "  results = []\n",
        "  \n",
        "  examples = addresses_gen.generate_demo(logradouro,numero,complemento,\n",
        "                bairro,cidade,uf,cep)\n",
        "\n",
        "\n",
        "  for x,target in zip(examples['Generated Text'],examples['Origin Sample']):\n",
        "\n",
        "    prediction = model.generate_example(x,TOK)[0]\n",
        "\n",
        "    results.append(prediction == target)\n",
        "\n",
        "    if verbose:\n",
        "      print(f'Entrada: {x} -- Target: {target} --- Previsto: {prediction} --- {prediction == target}')\n",
        "\n",
        "  if verbose:\n",
        "    print(f'Total accuracy: {np.mean(results)}')\n",
        "\n",
        "  return np.mean(results)"
      ],
      "execution_count": 99,
      "outputs": []
    },
    {
      "cell_type": "code",
      "metadata": {
        "id": "hlmH30k9iBKC",
        "colab_type": "code",
        "colab": {
          "base_uri": "https://localhost:8080/",
          "height": 445
        },
        "outputId": "0f2b6d59-be92-49cd-f304-02a695c300cc"
      },
      "source": [
        "'''\n",
        "  using our faculty address as a sample\n",
        "  Avenida Albert Einstein, 400, Cidade Universitária, Campinas, SP, 13083-852\n",
        "'''\n",
        "evaluate_for_a_same_address('Av. Albert Einstein', '400', '','Cidade Universitária',\n",
        "                         'Campinas', 'SP', '13083852')"
      ],
      "execution_count": 102,
      "outputs": [
        {
          "output_type": "stream",
          "text": [
            "Entrada: 400, Av. Albert Einstein, Cidade Universitária, Campinas, SP, 13083852 -- Target: Av. Albert Einstein, 400, Cidade Universitária, Campinas, SP, 13083852 --- Previsto: Av. Albert Einstein, 400, Cidade Universitária, Campinas, SP, 13083852 --- True\n",
            "Entrada: Av. Albert Einstein, 400, Cidade Universitária, Campinas, SP, 13083852 -- Target: Av. Albert Einstein, 400, Cidade Universitária, Campinas, SP, 13083852 --- Previsto: Av. Albert Einstein, 400, Cidade Universitária, Campinas, SP, 13083852 --- True\n",
            "Entrada: Altura do 400 na Av. Albert Einstein no Cidade Universitária de Campinas -- Target: Av. Albert Einstein, 400, Cidade Universitária, Campinas --- Previsto: Av. Albert Einstein, 400, Cidade Universitária, Campinas --- True\n",
            "Entrada: Av. Albert Einstein, 400, Cidade Universitária, Campinas, São Paulo, 13083852 -- Target: Av. Albert Einstein, 400, Cidade Universitária, Campinas, SP, 13083852 --- Previsto: Av. Albert Einstein, 400, Cidade Universitária, Campinas, SP, 13083852 --- True\n",
            "Entrada: Av. Albert Einstein, 400, Cidade Universitária, Campinas, São Paulo -- Target: Av. Albert Einstein, 400, Cidade Universitária, Campinas, SP --- Previsto: Av. Albert Einstein, 400, Cidade Universitária, Campinas, SP --- True\n",
            "Entrada: Número 400 da Av. Albert Einstein no Cidade Universitária de Campinas -- Target: Av. Albert Einstein, 400, Cidade Universitária, Campinas --- Previsto: Av. Albert Einstein, 400, Cidade Universitária, Campinas --- True\n",
            "Entrada: SP, Campinas, Cidade Universitária, 400, Av. Albert Einstein -- Target: Av. Albert Einstein, 400, Cidade Universitária, Campinas, SP --- Previsto: Av. Albert Einstein, 400, Cidade Universitária, Campinas, SP --- True\n",
            "Entrada: São Paulo, Campinas, Cidade Universitária, 400, Av. Albert Einstein -- Target: Av. Albert Einstein, 400, Cidade Universitária, Campinas, SP --- Previsto: Av. Albert Einstein, 400, Cidade Universitária, Campinas, SP --- True\n",
            "Entrada: Logradouro: Av. Albert Einstein, Número: 400, Bairro: Cidade Universitária, Cidade: Campinas, Estado: SP -- Target: Av. Albert Einstein, 400, Cidade Universitária, Campinas, SP --- Previsto: Av. Albert Einstein, 400, Cidade Universitária, Campinas, SP --- True\n",
            "Entrada: Av. Albert Einstein, Sem número, Cidade Universitária, Campinas, SP -- Target: Av. Albert Einstein, S/N, Cidade Universitária, Campinas, SP --- Previsto: Av. Albert Einstein, S/N, Cidade Universitária, Campinas, SP --- True\n",
            "Entrada: Av. Albert Einstein, Cidade Universitária, Campinas, SP -- Target: Av. Albert Einstein, S/N, Cidade Universitária, Campinas, SP --- Previsto: Av. Albert Einstein, S/N, Cidade Universitária, Campinas, SP --- True\n",
            "Entrada: 400, Av. Albert Einstein, Torre 6 - Sala 192, Cidade Universitária, Campinas, SP, 13083852 -- Target: Av. Albert Einstein, 400, Torre 6 - Sala 192, Cidade Universitária, Campinas, SP, 13083852 --- Previsto: Av. Albert Einstein, 400, Torre 6 - Sala 192, Cidade Universitária, Campinas, SP, 13083852 --- True\n",
            "Entrada: Av. Albert Einstein, 400, Torre 8 - Apartamento 107, Cidade Universitária, Campinas, SP, 13083852 -- Target: Av. Albert Einstein, 400, Torre 8 - Apartamento 107, Cidade Universitária, Campinas, SP, 13083852 --- Previsto: Av. Albert Einstein, 400, Torre 8 - Apartamento 107, Cidade Universitária, Campinas, SP, 13083852 --- True\n",
            "Entrada: Torre 8 - Apartamento 107 na altura do 400 na Av. Albert Einstein no Cidade Universitária de Campinas -- Target: Av. Albert Einstein, 400, Torre 8 - Apartamento 107, Cidade Universitária, Campinas --- Previsto: Av. Albert Einstein, 400, Torre 8 - Apartamento 107, Cidade Universitária, Campinas --- True\n",
            "Entrada: Av. Albert Einstein, 400, Torre 2, Cidade Universitária, Campinas, São Paulo, 13083852 -- Target: Av. Albert Einstein, 400, Torre 2, Cidade Universitária, Campinas, SP, 13083852 --- Previsto: Av. Albert Einstein, 400, Torre 2, Cidade Universitária, Campinas, SP, 13083852 --- True\n",
            "Entrada: Av. Albert Einstein, 400, Hangar 18, Cidade Universitária, Campinas, São Paulo -- Target: Av. Albert Einstein, 400, Hangar 18, Cidade Universitária, Campinas, SP --- Previsto: Av. Albert Einstein, 400, Hangar 18, Cidade Universitária, Campinas, SP --- True\n",
            "Entrada: Torre 8 - Apartamento 107 número 400 da Av. Albert Einstein no Cidade Universitária de Campinas -- Target: Av. Albert Einstein, 400, Torre 8 - Apartamento 107, Cidade Universitária, Campinas --- Previsto: Av. Albert Einstein, 400, Torre 8 - Apartamento 107, Cidade Universitária, Campinas --- True\n",
            "Entrada: SP, Campinas, Cidade Universitária, Av. Albert Einstein, 400, Bloco 9 - Sala 2 -- Target: Av. Albert Einstein, 400, Bloco 9 - Sala 2 ,Cidade Universitária, Campinas, SP --- Previsto: Av. Albert Einstein, 400, Cidade Universitária, Campinas, SP --- False\n",
            "Entrada: São Paulo, Campinas, Cidade Universitária, Av. Albert Einstein, 400, Apartamento 100 -- Target: Av. Albert Einstein, 400, Cidade Universitária, Campinas, SP --- Previsto: Av. Albert Einstein, 400, Cidade Universitária, Campinas, SP --- True\n",
            "Entrada: Logradouro: Av. Albert Einstein, Número: 400, Complemento:Torre 2, Bairro: Cidade Universitária, Cidade: Campinas, Estado: SP -- Target: Av. Albert Einstein, 400, Torre 2, Cidade Universitária, Campinas, SP --- Previsto: Av. Albert Einstein, 400, Torre 2, Cidade Universitária, Campinas, SP --- True\n",
            "Entrada: Av. Albert Einstein, Sem número, Torre 2, Cidade Universitária, Campinas, SP -- Target: Av. Albert Einstein, S/N, Torre 2,Cidade Universitária, Campinas, SP --- Previsto: Av. Albert Einstein, S/N, Torre 2,Cidade Universitária, Campinas, SP --- True\n",
            "Entrada: Av. Albert Einstein, Torre 2,Cidade Universitária, Campinas, SP -- Target: Av. Albert Einstein, S/N, Torre 2,Cidade Universitária, Campinas, SP --- Previsto: Av. Albert Einstein, S/N, Torre 2,Cidade Universitária, Campinas, SP --- True\n",
            "Total accuracy: 0.9545454545454546\n"
          ],
          "name": "stdout"
        },
        {
          "output_type": "execute_result",
          "data": {
            "text/plain": [
              "0.9545454545454546"
            ]
          },
          "metadata": {
            "tags": []
          },
          "execution_count": 102
        }
      ]
    },
    {
      "cell_type": "markdown",
      "metadata": {
        "id": "5bvkIIgMNASY",
        "colab_type": "text"
      },
      "source": [
        "# The End"
      ]
    }
  ]
}