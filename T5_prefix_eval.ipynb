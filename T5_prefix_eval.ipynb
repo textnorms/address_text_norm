{
  "nbformat": 4,
  "nbformat_minor": 0,
  "metadata": {
    "colab": {
      "name": "T5_prefix_eval.ipynb",
      "provenance": [],
      "collapsed_sections": [],
      "include_colab_link": true
    },
    "kernelspec": {
      "name": "python3",
      "display_name": "Python 3"
    },
    "accelerator": "GPU",
    "widgets": {
      "application/vnd.jupyter.widget-state+json": {
        "b83012ad963e42519d6ac62e59dcebfa": {
          "model_module": "@jupyter-widgets/controls",
          "model_name": "HBoxModel",
          "state": {
            "_view_name": "HBoxView",
            "_dom_classes": [],
            "_model_name": "HBoxModel",
            "_view_module": "@jupyter-widgets/controls",
            "_model_module_version": "1.5.0",
            "_view_count": null,
            "_view_module_version": "1.5.0",
            "box_style": "",
            "layout": "IPY_MODEL_5778c848a159486690031e7e7bec7d03",
            "_model_module": "@jupyter-widgets/controls",
            "children": [
              "IPY_MODEL_22bbef2ef35b470ebc03d085cca21a3a",
              "IPY_MODEL_74190b59141943f09725b4d667e5351e"
            ]
          }
        },
        "5778c848a159486690031e7e7bec7d03": {
          "model_module": "@jupyter-widgets/base",
          "model_name": "LayoutModel",
          "state": {
            "_view_name": "LayoutView",
            "grid_template_rows": null,
            "right": null,
            "justify_content": null,
            "_view_module": "@jupyter-widgets/base",
            "overflow": null,
            "_model_module_version": "1.2.0",
            "_view_count": null,
            "flex_flow": null,
            "width": null,
            "min_width": null,
            "border": null,
            "align_items": null,
            "bottom": null,
            "_model_module": "@jupyter-widgets/base",
            "top": null,
            "grid_column": null,
            "overflow_y": null,
            "overflow_x": null,
            "grid_auto_flow": null,
            "grid_area": null,
            "grid_template_columns": null,
            "flex": null,
            "_model_name": "LayoutModel",
            "justify_items": null,
            "grid_row": null,
            "max_height": null,
            "align_content": null,
            "visibility": null,
            "align_self": null,
            "height": null,
            "min_height": null,
            "padding": null,
            "grid_auto_rows": null,
            "grid_gap": null,
            "max_width": null,
            "order": null,
            "_view_module_version": "1.2.0",
            "grid_template_areas": null,
            "object_position": null,
            "object_fit": null,
            "grid_auto_columns": null,
            "margin": null,
            "display": null,
            "left": null
          }
        },
        "22bbef2ef35b470ebc03d085cca21a3a": {
          "model_module": "@jupyter-widgets/controls",
          "model_name": "FloatProgressModel",
          "state": {
            "_view_name": "ProgressView",
            "style": "IPY_MODEL_f311913284ce435696d5afe64776fef0",
            "_dom_classes": [],
            "description": "Downloading: 100%",
            "_model_name": "FloatProgressModel",
            "bar_style": "success",
            "max": 1197,
            "_view_module": "@jupyter-widgets/controls",
            "_model_module_version": "1.5.0",
            "value": 1197,
            "_view_count": null,
            "_view_module_version": "1.5.0",
            "orientation": "horizontal",
            "min": 0,
            "description_tooltip": null,
            "_model_module": "@jupyter-widgets/controls",
            "layout": "IPY_MODEL_03157c8233ce4ad68001318647442b48"
          }
        },
        "74190b59141943f09725b4d667e5351e": {
          "model_module": "@jupyter-widgets/controls",
          "model_name": "HTMLModel",
          "state": {
            "_view_name": "HTMLView",
            "style": "IPY_MODEL_91222a79309a499db1dc7369e1881d27",
            "_dom_classes": [],
            "description": "",
            "_model_name": "HTMLModel",
            "placeholder": "​",
            "_view_module": "@jupyter-widgets/controls",
            "_model_module_version": "1.5.0",
            "value": " 1.20k/1.20k [00:09&lt;00:00, 121B/s]",
            "_view_count": null,
            "_view_module_version": "1.5.0",
            "description_tooltip": null,
            "_model_module": "@jupyter-widgets/controls",
            "layout": "IPY_MODEL_74d6b58265bd48c280c5eb72e8f6a4ed"
          }
        },
        "f311913284ce435696d5afe64776fef0": {
          "model_module": "@jupyter-widgets/controls",
          "model_name": "ProgressStyleModel",
          "state": {
            "_view_name": "StyleView",
            "_model_name": "ProgressStyleModel",
            "description_width": "initial",
            "_view_module": "@jupyter-widgets/base",
            "_model_module_version": "1.5.0",
            "_view_count": null,
            "_view_module_version": "1.2.0",
            "bar_color": null,
            "_model_module": "@jupyter-widgets/controls"
          }
        },
        "03157c8233ce4ad68001318647442b48": {
          "model_module": "@jupyter-widgets/base",
          "model_name": "LayoutModel",
          "state": {
            "_view_name": "LayoutView",
            "grid_template_rows": null,
            "right": null,
            "justify_content": null,
            "_view_module": "@jupyter-widgets/base",
            "overflow": null,
            "_model_module_version": "1.2.0",
            "_view_count": null,
            "flex_flow": null,
            "width": null,
            "min_width": null,
            "border": null,
            "align_items": null,
            "bottom": null,
            "_model_module": "@jupyter-widgets/base",
            "top": null,
            "grid_column": null,
            "overflow_y": null,
            "overflow_x": null,
            "grid_auto_flow": null,
            "grid_area": null,
            "grid_template_columns": null,
            "flex": null,
            "_model_name": "LayoutModel",
            "justify_items": null,
            "grid_row": null,
            "max_height": null,
            "align_content": null,
            "visibility": null,
            "align_self": null,
            "height": null,
            "min_height": null,
            "padding": null,
            "grid_auto_rows": null,
            "grid_gap": null,
            "max_width": null,
            "order": null,
            "_view_module_version": "1.2.0",
            "grid_template_areas": null,
            "object_position": null,
            "object_fit": null,
            "grid_auto_columns": null,
            "margin": null,
            "display": null,
            "left": null
          }
        },
        "91222a79309a499db1dc7369e1881d27": {
          "model_module": "@jupyter-widgets/controls",
          "model_name": "DescriptionStyleModel",
          "state": {
            "_view_name": "StyleView",
            "_model_name": "DescriptionStyleModel",
            "description_width": "",
            "_view_module": "@jupyter-widgets/base",
            "_model_module_version": "1.5.0",
            "_view_count": null,
            "_view_module_version": "1.2.0",
            "_model_module": "@jupyter-widgets/controls"
          }
        },
        "74d6b58265bd48c280c5eb72e8f6a4ed": {
          "model_module": "@jupyter-widgets/base",
          "model_name": "LayoutModel",
          "state": {
            "_view_name": "LayoutView",
            "grid_template_rows": null,
            "right": null,
            "justify_content": null,
            "_view_module": "@jupyter-widgets/base",
            "overflow": null,
            "_model_module_version": "1.2.0",
            "_view_count": null,
            "flex_flow": null,
            "width": null,
            "min_width": null,
            "border": null,
            "align_items": null,
            "bottom": null,
            "_model_module": "@jupyter-widgets/base",
            "top": null,
            "grid_column": null,
            "overflow_y": null,
            "overflow_x": null,
            "grid_auto_flow": null,
            "grid_area": null,
            "grid_template_columns": null,
            "flex": null,
            "_model_name": "LayoutModel",
            "justify_items": null,
            "grid_row": null,
            "max_height": null,
            "align_content": null,
            "visibility": null,
            "align_self": null,
            "height": null,
            "min_height": null,
            "padding": null,
            "grid_auto_rows": null,
            "grid_gap": null,
            "max_width": null,
            "order": null,
            "_view_module_version": "1.2.0",
            "grid_template_areas": null,
            "object_position": null,
            "object_fit": null,
            "grid_auto_columns": null,
            "margin": null,
            "display": null,
            "left": null
          }
        },
        "debfa02017dd4699a91030b17f0b6fe5": {
          "model_module": "@jupyter-widgets/controls",
          "model_name": "HBoxModel",
          "state": {
            "_view_name": "HBoxView",
            "_dom_classes": [],
            "_model_name": "HBoxModel",
            "_view_module": "@jupyter-widgets/controls",
            "_model_module_version": "1.5.0",
            "_view_count": null,
            "_view_module_version": "1.5.0",
            "box_style": "",
            "layout": "IPY_MODEL_1b028f008e9744089df64f16e8fd1eb1",
            "_model_module": "@jupyter-widgets/controls",
            "children": [
              "IPY_MODEL_3b6e51c3bfd2408a9495c3129ee08d6e",
              "IPY_MODEL_c2f15f796bd24f61b188a1976fa742ee"
            ]
          }
        },
        "1b028f008e9744089df64f16e8fd1eb1": {
          "model_module": "@jupyter-widgets/base",
          "model_name": "LayoutModel",
          "state": {
            "_view_name": "LayoutView",
            "grid_template_rows": null,
            "right": null,
            "justify_content": null,
            "_view_module": "@jupyter-widgets/base",
            "overflow": null,
            "_model_module_version": "1.2.0",
            "_view_count": null,
            "flex_flow": null,
            "width": null,
            "min_width": null,
            "border": null,
            "align_items": null,
            "bottom": null,
            "_model_module": "@jupyter-widgets/base",
            "top": null,
            "grid_column": null,
            "overflow_y": null,
            "overflow_x": null,
            "grid_auto_flow": null,
            "grid_area": null,
            "grid_template_columns": null,
            "flex": null,
            "_model_name": "LayoutModel",
            "justify_items": null,
            "grid_row": null,
            "max_height": null,
            "align_content": null,
            "visibility": null,
            "align_self": null,
            "height": null,
            "min_height": null,
            "padding": null,
            "grid_auto_rows": null,
            "grid_gap": null,
            "max_width": null,
            "order": null,
            "_view_module_version": "1.2.0",
            "grid_template_areas": null,
            "object_position": null,
            "object_fit": null,
            "grid_auto_columns": null,
            "margin": null,
            "display": null,
            "left": null
          }
        },
        "3b6e51c3bfd2408a9495c3129ee08d6e": {
          "model_module": "@jupyter-widgets/controls",
          "model_name": "FloatProgressModel",
          "state": {
            "_view_name": "ProgressView",
            "style": "IPY_MODEL_0553403876eb4b69a548e1b716e250be",
            "_dom_classes": [],
            "description": "Downloading: 100%",
            "_model_name": "FloatProgressModel",
            "bar_style": "success",
            "max": 242136741,
            "_view_module": "@jupyter-widgets/controls",
            "_model_module_version": "1.5.0",
            "value": 242136741,
            "_view_count": null,
            "_view_module_version": "1.5.0",
            "orientation": "horizontal",
            "min": 0,
            "description_tooltip": null,
            "_model_module": "@jupyter-widgets/controls",
            "layout": "IPY_MODEL_28c66e4f576e405e9446c1062f338a29"
          }
        },
        "c2f15f796bd24f61b188a1976fa742ee": {
          "model_module": "@jupyter-widgets/controls",
          "model_name": "HTMLModel",
          "state": {
            "_view_name": "HTMLView",
            "style": "IPY_MODEL_fd63067190104610bb83326dd7a67194",
            "_dom_classes": [],
            "description": "",
            "_model_name": "HTMLModel",
            "placeholder": "​",
            "_view_module": "@jupyter-widgets/controls",
            "_model_module_version": "1.5.0",
            "value": " 242M/242M [00:09&lt;00:00, 24.9MB/s]",
            "_view_count": null,
            "_view_module_version": "1.5.0",
            "description_tooltip": null,
            "_model_module": "@jupyter-widgets/controls",
            "layout": "IPY_MODEL_7e1505cacf1c4aabb7cfcba9ffca58f1"
          }
        },
        "0553403876eb4b69a548e1b716e250be": {
          "model_module": "@jupyter-widgets/controls",
          "model_name": "ProgressStyleModel",
          "state": {
            "_view_name": "StyleView",
            "_model_name": "ProgressStyleModel",
            "description_width": "initial",
            "_view_module": "@jupyter-widgets/base",
            "_model_module_version": "1.5.0",
            "_view_count": null,
            "_view_module_version": "1.2.0",
            "bar_color": null,
            "_model_module": "@jupyter-widgets/controls"
          }
        },
        "28c66e4f576e405e9446c1062f338a29": {
          "model_module": "@jupyter-widgets/base",
          "model_name": "LayoutModel",
          "state": {
            "_view_name": "LayoutView",
            "grid_template_rows": null,
            "right": null,
            "justify_content": null,
            "_view_module": "@jupyter-widgets/base",
            "overflow": null,
            "_model_module_version": "1.2.0",
            "_view_count": null,
            "flex_flow": null,
            "width": null,
            "min_width": null,
            "border": null,
            "align_items": null,
            "bottom": null,
            "_model_module": "@jupyter-widgets/base",
            "top": null,
            "grid_column": null,
            "overflow_y": null,
            "overflow_x": null,
            "grid_auto_flow": null,
            "grid_area": null,
            "grid_template_columns": null,
            "flex": null,
            "_model_name": "LayoutModel",
            "justify_items": null,
            "grid_row": null,
            "max_height": null,
            "align_content": null,
            "visibility": null,
            "align_self": null,
            "height": null,
            "min_height": null,
            "padding": null,
            "grid_auto_rows": null,
            "grid_gap": null,
            "max_width": null,
            "order": null,
            "_view_module_version": "1.2.0",
            "grid_template_areas": null,
            "object_position": null,
            "object_fit": null,
            "grid_auto_columns": null,
            "margin": null,
            "display": null,
            "left": null
          }
        },
        "fd63067190104610bb83326dd7a67194": {
          "model_module": "@jupyter-widgets/controls",
          "model_name": "DescriptionStyleModel",
          "state": {
            "_view_name": "StyleView",
            "_model_name": "DescriptionStyleModel",
            "description_width": "",
            "_view_module": "@jupyter-widgets/base",
            "_model_module_version": "1.5.0",
            "_view_count": null,
            "_view_module_version": "1.2.0",
            "_model_module": "@jupyter-widgets/controls"
          }
        },
        "7e1505cacf1c4aabb7cfcba9ffca58f1": {
          "model_module": "@jupyter-widgets/base",
          "model_name": "LayoutModel",
          "state": {
            "_view_name": "LayoutView",
            "grid_template_rows": null,
            "right": null,
            "justify_content": null,
            "_view_module": "@jupyter-widgets/base",
            "overflow": null,
            "_model_module_version": "1.2.0",
            "_view_count": null,
            "flex_flow": null,
            "width": null,
            "min_width": null,
            "border": null,
            "align_items": null,
            "bottom": null,
            "_model_module": "@jupyter-widgets/base",
            "top": null,
            "grid_column": null,
            "overflow_y": null,
            "overflow_x": null,
            "grid_auto_flow": null,
            "grid_area": null,
            "grid_template_columns": null,
            "flex": null,
            "_model_name": "LayoutModel",
            "justify_items": null,
            "grid_row": null,
            "max_height": null,
            "align_content": null,
            "visibility": null,
            "align_self": null,
            "height": null,
            "min_height": null,
            "padding": null,
            "grid_auto_rows": null,
            "grid_gap": null,
            "max_width": null,
            "order": null,
            "_view_module_version": "1.2.0",
            "grid_template_areas": null,
            "object_position": null,
            "object_fit": null,
            "grid_auto_columns": null,
            "margin": null,
            "display": null,
            "left": null
          }
        }
      }
    }
  },
  "cells": [
    {
      "cell_type": "markdown",
      "metadata": {
        "id": "view-in-github",
        "colab_type": "text"
      },
      "source": [
        "<a href=\"https://colab.research.google.com/github/textnorms/address_text_norm/blob/master/T5_prefix_eval.ipynb\" target=\"_parent\"><img src=\"https://colab.research.google.com/assets/colab-badge.svg\" alt=\"Open In Colab\"/></a>"
      ]
    },
    {
      "cell_type": "code",
      "metadata": {
        "id": "PcMfqlK-0HLY",
        "colab_type": "code",
        "colab": {
          "base_uri": "https://localhost:8080/",
          "height": 357
        },
        "outputId": "d45422e0-02a8-4820-9828-412393e6b9a6"
      },
      "source": [
        "! nvidia-smi"
      ],
      "execution_count": 327,
      "outputs": [
        {
          "output_type": "stream",
          "text": [
            "Tue Jun 23 01:33:42 2020       \n",
            "+-----------------------------------------------------------------------------+\n",
            "| NVIDIA-SMI 450.36.06    Driver Version: 418.67       CUDA Version: 10.1     |\n",
            "|-------------------------------+----------------------+----------------------+\n",
            "| GPU  Name        Persistence-M| Bus-Id        Disp.A | Volatile Uncorr. ECC |\n",
            "| Fan  Temp  Perf  Pwr:Usage/Cap|         Memory-Usage | GPU-Util  Compute M. |\n",
            "|                               |                      |               MIG M. |\n",
            "|===============================+======================+======================|\n",
            "|   0  Tesla P100-PCIE...  Off  | 00000000:00:04.0 Off |                    0 |\n",
            "| N/A   39C    P0    27W / 250W |     10MiB / 16280MiB |      0%      Default |\n",
            "|                               |                      |                 ERR! |\n",
            "+-------------------------------+----------------------+----------------------+\n",
            "                                                                               \n",
            "+-----------------------------------------------------------------------------+\n",
            "| Processes:                                                                  |\n",
            "|  GPU   GI   CI        PID   Type   Process name                  GPU Memory |\n",
            "|        ID   ID                                                   Usage      |\n",
            "|=============================================================================|\n",
            "|  No running processes found                                                 |\n",
            "+-----------------------------------------------------------------------------+\n"
          ],
          "name": "stdout"
        }
      ]
    },
    {
      "cell_type": "code",
      "metadata": {
        "id": "c-1Lmkfv6g2j",
        "colab_type": "code",
        "colab": {}
      },
      "source": [
        "! rm -rf *\n",
        "! git clone -q https://github.com/textnorms/address_text_norm.git\n",
        "! git clone -q https://github.com/textnorms/date_text_norm.git\n",
        "\n",
        "! pip install -q num2words transformers"
      ],
      "execution_count": 328,
      "outputs": []
    },
    {
      "cell_type": "code",
      "metadata": {
        "id": "PgAIYdb3BzRz",
        "colab_type": "code",
        "colab": {
          "base_uri": "https://localhost:8080/",
          "height": 34
        },
        "outputId": "d55c27a3-e1e2-46ca-e045-bd568cc778c8"
      },
      "source": [
        "from google.colab import drive\n",
        "drive.mount('/gdrive')"
      ],
      "execution_count": 329,
      "outputs": [
        {
          "output_type": "stream",
          "text": [
            "Drive already mounted at /gdrive; to attempt to forcibly remount, call drive.mount(\"/gdrive\", force_remount=True).\n"
          ],
          "name": "stdout"
        }
      ]
    },
    {
      "cell_type": "code",
      "metadata": {
        "id": "Sb_PnnuSCDqU",
        "colab_type": "code",
        "colab": {}
      },
      "source": [
        "!cp '/gdrive/My Drive/12 Semestre/IA376/IA376 - Atividades/Projeto Final/address_db.csv' ./address_text_norm/syntetic_data/address_csv/br_address_db.csv"
      ],
      "execution_count": 330,
      "outputs": []
    },
    {
      "cell_type": "markdown",
      "metadata": {
        "id": "hAYiZO6Teo-y",
        "colab_type": "text"
      },
      "source": [
        "# Libs"
      ]
    },
    {
      "cell_type": "code",
      "metadata": {
        "id": "Nok2mtt_1021",
        "colab_type": "code",
        "colab": {}
      },
      "source": [
        "# Basics\n",
        "import numpy as np\n",
        "import pandas as pd\n",
        "import random\n",
        "\n",
        "# Synthetic data generator\n",
        "from address_text_norm.syntetic_data import AddressTextGenerator\n",
        "from date_text_norm.syntetic_data import DateTextGenerator\n",
        "from date_text_norm.syntetic_data import RelativeDateTextGenerator\n",
        "\n",
        "# PyTorch\n",
        "import torch \n",
        "import torch.nn.functional as F\n",
        "from torch.utils.data import Dataset, DataLoader\n",
        "\n",
        "# Sklearn\n",
        "from sklearn.model_selection import train_test_split\n",
        "\n",
        "# Transformers\n",
        "from transformers import T5Tokenizer, T5ForConditionalGeneration, AdamW\n",
        "\n",
        "# Matplot lib\n",
        "import matplotlib.pyplot as plt\n",
        "\n",
        "# To deal with text encoding issues\n",
        "import unicodedata"
      ],
      "execution_count": 331,
      "outputs": []
    },
    {
      "cell_type": "markdown",
      "metadata": {
        "id": "HhdTvVgiYBw0",
        "colab_type": "text"
      },
      "source": [
        "### Deterministic experiments"
      ]
    },
    {
      "cell_type": "code",
      "metadata": {
        "id": "zm7tAsiUYMOU",
        "colab_type": "code",
        "colab": {
          "base_uri": "https://localhost:8080/",
          "height": 51
        },
        "outputId": "a3c27cb3-82a6-4bfc-8f30-e14d93bfc5f6"
      },
      "source": [
        "manual_seed = 2357 # only primes, cuz I like\n",
        "def deterministic(rep=True):\n",
        "    if rep:\n",
        "        np.random.seed(manual_seed)\n",
        "        torch.manual_seed(manual_seed)\n",
        "        if torch.cuda.is_available():\n",
        "            torch.cuda.manual_seed(manual_seed)\n",
        "            torch.cuda.manual_seed_all(manual_seed)\n",
        "        torch.backends.cudnn.enabled = False \n",
        "        torch.backends.cudnn.benchmark = False\n",
        "        torch.backends.cudnn.deterministic = True\n",
        "        print(f'Deterministic experiment, seed: {manual_seed}')\n",
        "    else:\n",
        "        print('Random experiment')\n",
        "\n",
        "deterministic()\n",
        "\n",
        "device = torch.device('cuda' if torch.cuda.is_available() else 'cpu')\n",
        "print(f'Using device: {device}')"
      ],
      "execution_count": 332,
      "outputs": [
        {
          "output_type": "stream",
          "text": [
            "Deterministic experiment, seed: 2357\n",
            "Using device: cuda\n"
          ],
          "name": "stdout"
        }
      ]
    },
    {
      "cell_type": "markdown",
      "metadata": {
        "id": "BFHYoyzwOHDO",
        "colab_type": "text"
      },
      "source": [
        "# Config constants"
      ]
    },
    {
      "cell_type": "code",
      "metadata": {
        "id": "8r8O913HOK9F",
        "colab_type": "code",
        "colab": {}
      },
      "source": [
        "# Dataset params - Here the zip codes are formatted in PT-BR\n",
        "LANGUAGE_ADDRESS = 'br'\n",
        "LANGUAGE_DATE = 'pt'\n",
        "\n",
        "# Model params\n",
        "MODEL_SZ = 't5-small' # 't5-base'\n",
        "TOK = T5Tokenizer.from_pretrained(MODEL_SZ)\n",
        "MAX_LEN_SRC  = 150\n",
        "MAX_LEN_TRGT = 150\n",
        "\n",
        "\n",
        "# Train params\n",
        "BATCH_SZ = 16\n",
        "N_EPOCHS = 5\n",
        "WINDOW   = 7\n",
        "NOISE    = 0.1\n",
        "USE_PREFIX = True"
      ],
      "execution_count": 333,
      "outputs": []
    },
    {
      "cell_type": "markdown",
      "metadata": {
        "colab_type": "text",
        "id": "5PCSz3bMZzcn"
      },
      "source": [
        "# Dataset"
      ]
    },
    {
      "cell_type": "code",
      "metadata": {
        "colab_type": "code",
        "id": "nOGHeQlGZzcs",
        "colab": {}
      },
      "source": [
        "pd.set_option('display.max_rows',70)\n",
        "\n",
        "'''\n",
        "  Instantiating addresses dataset generator\n",
        "'''\n",
        "addresses_gen = AddressTextGenerator(occurences_per_sample=10,\n",
        "                                     text_noise_rate=NOISE,\n",
        "                                     max_noise_occurences_per_sample=10,\n",
        "                                     language=LANGUAGE_ADDRESS)\n",
        "\n",
        "'''\n",
        "  Instantiating absolute and incomplete dates dataset generator\n",
        "'''\n",
        "dates = DateTextGenerator(start_date='01/01/1921',\n",
        "                          end_date='31/12/1950',\n",
        "                          text_noise_rate=0.0,\n",
        "                          language=LANGUAGE_DATE)\n",
        "\n",
        "'''\n",
        "  Instantiating relative dates dataset generator\n",
        "'''\n",
        "rel_dates = RelativeDateTextGenerator(text_noise_rate=0.0,\n",
        "                                       max_noise_occurences_per_sample=3,\n",
        "                                       samples_per_method=15,\n",
        "                                       language=LANGUAGE_DATE)\n",
        "\n",
        "'''\n",
        "  Appending all datasets\n",
        "'''\n",
        "df = addresses_gen.generate_address_dataset()\n",
        "df = df.append(rel_dates.generate_date_dataset(),ignore_index=True)\n",
        "df = df.append(dates.generate_date_dataset(),ignore_index=True)"
      ],
      "execution_count": 334,
      "outputs": []
    },
    {
      "cell_type": "code",
      "metadata": {
        "id": "lynziZR-Y2W4",
        "colab_type": "code",
        "colab": {}
      },
      "source": [
        "'''\n",
        "  Fixing the Target Format for address\n",
        "'''\n",
        "\n",
        "df['Target Format'].replace(np.nan,'Address',inplace=True)"
      ],
      "execution_count": 335,
      "outputs": []
    },
    {
      "cell_type": "code",
      "metadata": {
        "id": "l1RmQ6ufZrLA",
        "colab_type": "code",
        "colab": {
          "base_uri": "https://localhost:8080/",
          "height": 298
        },
        "outputId": "674dd0a8-a46a-4fb9-d22c-9dbc0bdb64a5"
      },
      "source": [
        "plot = df['Target Format'].hist()\n",
        "plt.title('Per class value counts with non-unified dates')"
      ],
      "execution_count": 336,
      "outputs": [
        {
          "output_type": "execute_result",
          "data": {
            "text/plain": [
              "Text(0.5, 1.0, 'Per class value counts with non-unified dates')"
            ]
          },
          "metadata": {
            "tags": []
          },
          "execution_count": 336
        },
        {
          "output_type": "display_data",
          "data": {
            "image/png": "[encoded data removed]",
            "text/plain": [
              "<Figure size 432x288 with 1 Axes>"
            ]
          },
          "metadata": {
            "tags": [],
            "needs_background": "light"
          }
        }
      ]
    },
    {
      "cell_type": "code",
      "metadata": {
        "id": "i5SQ__G2dHP_",
        "colab_type": "code",
        "colab": {
          "base_uri": "https://localhost:8080/",
          "height": 85
        },
        "outputId": "f8b20111-e7dc-4727-8521-d560248ffcc9"
      },
      "source": [
        "'''\n",
        "  Reindexing Input Patterns\n",
        "'''\n",
        "unique_target_formats = df['Target Format'].unique()\n",
        "\n",
        "for  i,unique_target_format  in enumerate(unique_target_formats):\n",
        "\n",
        "  if i>len(unique_target_formats)-2:\n",
        "    break\n",
        "\n",
        "  next_unique_target_format = unique_target_formats[i+1]\n",
        "\n",
        "  a = df['Target Format'] == unique_target_format\n",
        "  b = df['Target Format'] == next_unique_target_format\n",
        "  \n",
        "  print(unique_target_format,next_unique_target_format)\n",
        "\n",
        "  max_pattern = df.loc[df['Target Format'] == unique_target_format]['Input Pattern'].max()\n",
        "\n",
        "  df.loc[b,'Input Pattern'] = df.loc[b]['Input Pattern'] + max_pattern"
      ],
      "execution_count": 337,
      "outputs": [
        {
          "output_type": "stream",
          "text": [
            "Address Relative\n",
            "Relative DD/MM/YYYY\n",
            "DD/MM/YYYY DD/MM\n",
            "DD/MM MM/YYYY\n"
          ],
          "name": "stdout"
        }
      ]
    },
    {
      "cell_type": "code",
      "metadata": {
        "id": "wFmOXL0xnvh-",
        "colab_type": "code",
        "colab": {
          "base_uri": "https://localhost:8080/",
          "height": 221
        },
        "outputId": "cf036414-01cc-4b2d-f43e-b5d9b1c4ccb1"
      },
      "source": [
        "# df['New Pattern Index'] = df.loc[df['Target Format'] == 'Address']['Input Pattern']\n",
        "df['Input Pattern'].value_counts()"
      ],
      "execution_count": 338,
      "outputs": [
        {
          "output_type": "execute_result",
          "data": {
            "text/plain": [
              "1      802\n",
              "22     794\n",
              "11     791\n",
              "8      787\n",
              "16     781\n",
              "      ... \n",
              "152     18\n",
              "167     17\n",
              "149     16\n",
              "174     15\n",
              "165     14\n",
              "Name: Input Pattern, Length: 193, dtype: int64"
            ]
          },
          "metadata": {
            "tags": []
          },
          "execution_count": 338
        }
      ]
    },
    {
      "cell_type": "code",
      "metadata": {
        "id": "zzc30jcCbIqJ",
        "colab_type": "code",
        "colab": {}
      },
      "source": [
        "'''\n",
        "  Putting all dates in the same group\n",
        "'''\n",
        "df['Target Format'].replace('DD/MM','Date',inplace=True)\n",
        "df['Target Format'].replace('DD/MM/YYYY','Date',inplace=True)\n",
        "df['Target Format'].replace('MM/YYYY','Date',inplace=True)\n",
        "df['Target Format'].replace('Relative','Date',inplace=True)"
      ],
      "execution_count": 339,
      "outputs": []
    },
    {
      "cell_type": "code",
      "metadata": {
        "id": "_oeG7IDHbs3N",
        "colab_type": "code",
        "colab": {
          "base_uri": "https://localhost:8080/",
          "height": 298
        },
        "outputId": "157d4620-11c6-4886-9a51-bc06d3b71321"
      },
      "source": [
        "plot = df['Target Format'].hist()\n",
        "plt.title('Per class value counts with unified dates')"
      ],
      "execution_count": 340,
      "outputs": [
        {
          "output_type": "execute_result",
          "data": {
            "text/plain": [
              "Text(0.5, 1.0, 'Per class value counts with unified dates')"
            ]
          },
          "metadata": {
            "tags": []
          },
          "execution_count": 340
        },
        {
          "output_type": "display_data",
          "data": {
            "image/png": "[encoded data removed]",
            "text/plain": [
              "<Figure size 432x288 with 1 Axes>"
            ]
          },
          "metadata": {
            "tags": [],
            "needs_background": "light"
          }
        }
      ]
    },
    {
      "cell_type": "code",
      "metadata": {
        "id": "89xn-R3yYtFz",
        "colab_type": "code",
        "colab": {
          "base_uri": "https://localhost:8080/",
          "height": 204
        },
        "outputId": "77424074-e447-4c56-defa-ee198158d80f"
      },
      "source": [
        "df.head()"
      ],
      "execution_count": 341,
      "outputs": [
        {
          "output_type": "execute_result",
          "data": {
            "text/html": [
              "<div>\n",
              "<style scoped>\n",
              "    .dataframe tbody tr th:only-of-type {\n",
              "        vertical-align: middle;\n",
              "    }\n",
              "\n",
              "    .dataframe tbody tr th {\n",
              "        vertical-align: top;\n",
              "    }\n",
              "\n",
              "    .dataframe thead th {\n",
              "        text-align: right;\n",
              "    }\n",
              "</style>\n",
              "<table border=\"1\" class=\"dataframe\">\n",
              "  <thead>\n",
              "    <tr style=\"text-align: right;\">\n",
              "      <th></th>\n",
              "      <th>Input Pattern</th>\n",
              "      <th>Noise Type</th>\n",
              "      <th>Input</th>\n",
              "      <th>Target</th>\n",
              "      <th>Target Format</th>\n",
              "    </tr>\n",
              "  </thead>\n",
              "  <tbody>\n",
              "    <tr>\n",
              "      <th>0</th>\n",
              "      <td>6</td>\n",
              "      <td>N/A</td>\n",
              "      <td>Número 735 da Avenida Rodrigo Otávio 6200 no C...</td>\n",
              "      <td>Avenida Rodrigo Otávio 6200, 735, Coroado, Manaus</td>\n",
              "      <td>Address</td>\n",
              "    </tr>\n",
              "    <tr>\n",
              "      <th>1</th>\n",
              "      <td>11</td>\n",
              "      <td>N/A</td>\n",
              "      <td>Avenida Rodrigo Otávio 6200, Coroado, Manaus, AM</td>\n",
              "      <td>Avenida Rodrigo Otávio 6200, S/N, Coroado, Man...</td>\n",
              "      <td>Address</td>\n",
              "    </tr>\n",
              "    <tr>\n",
              "      <th>2</th>\n",
              "      <td>13</td>\n",
              "      <td>N/A</td>\n",
              "      <td>Avenida Rodrigo Otávio 6200, 735, Sala 191, Co...</td>\n",
              "      <td>Avenida Rodrigo Otávio 6200, 735, Sala 191, Co...</td>\n",
              "      <td>Address</td>\n",
              "    </tr>\n",
              "    <tr>\n",
              "      <th>3</th>\n",
              "      <td>3</td>\n",
              "      <td>N/A</td>\n",
              "      <td>Altura do 735 na Avenida Rodrigo Otávio 6200 n...</td>\n",
              "      <td>Avenida Rodrigo Otávio 6200, 735, Coroado, Manaus</td>\n",
              "      <td>Address</td>\n",
              "    </tr>\n",
              "    <tr>\n",
              "      <th>4</th>\n",
              "      <td>14</td>\n",
              "      <td>N/A</td>\n",
              "      <td>Apartamento 188 na altura do 735 na Avenida Ro...</td>\n",
              "      <td>Avenida Rodrigo Otávio 6200, 735, Apartamento ...</td>\n",
              "      <td>Address</td>\n",
              "    </tr>\n",
              "  </tbody>\n",
              "</table>\n",
              "</div>"
            ],
            "text/plain": [
              "   Input Pattern  ... Target Format\n",
              "0              6  ...       Address\n",
              "1             11  ...       Address\n",
              "2             13  ...       Address\n",
              "3              3  ...       Address\n",
              "4             14  ...       Address\n",
              "\n",
              "[5 rows x 5 columns]"
            ]
          },
          "metadata": {
            "tags": []
          },
          "execution_count": 341
        }
      ]
    },
    {
      "cell_type": "code",
      "metadata": {
        "colab_type": "code",
        "id": "OjOeDC5dZzc-",
        "colab": {
          "base_uri": "https://localhost:8080/",
          "height": 204
        },
        "outputId": "9b34d18b-742a-47f9-dceb-853d4121ee4b"
      },
      "source": [
        "df.tail()"
      ],
      "execution_count": 342,
      "outputs": [
        {
          "output_type": "execute_result",
          "data": {
            "text/html": [
              "<div>\n",
              "<style scoped>\n",
              "    .dataframe tbody tr th:only-of-type {\n",
              "        vertical-align: middle;\n",
              "    }\n",
              "\n",
              "    .dataframe tbody tr th {\n",
              "        vertical-align: top;\n",
              "    }\n",
              "\n",
              "    .dataframe thead th {\n",
              "        text-align: right;\n",
              "    }\n",
              "</style>\n",
              "<table border=\"1\" class=\"dataframe\">\n",
              "  <thead>\n",
              "    <tr style=\"text-align: right;\">\n",
              "      <th></th>\n",
              "      <th>Input Pattern</th>\n",
              "      <th>Noise Type</th>\n",
              "      <th>Input</th>\n",
              "      <th>Target</th>\n",
              "      <th>Target Format</th>\n",
              "    </tr>\n",
              "  </thead>\n",
              "  <tbody>\n",
              "    <tr>\n",
              "      <th>33034</th>\n",
              "      <td>159</td>\n",
              "      <td>N/A</td>\n",
              "      <td>11 - 1950</td>\n",
              "      <td>11/1950</td>\n",
              "      <td>Date</td>\n",
              "    </tr>\n",
              "    <tr>\n",
              "      <th>33035</th>\n",
              "      <td>167</td>\n",
              "      <td>N/A</td>\n",
              "      <td>11 mil, novecentos e cinquenta</td>\n",
              "      <td>11/1950</td>\n",
              "      <td>Date</td>\n",
              "    </tr>\n",
              "    <tr>\n",
              "      <th>33036</th>\n",
              "      <td>186</td>\n",
              "      <td>N/A</td>\n",
              "      <td>12/1950</td>\n",
              "      <td>12/1950</td>\n",
              "      <td>Date</td>\n",
              "    </tr>\n",
              "    <tr>\n",
              "      <th>33037</th>\n",
              "      <td>184</td>\n",
              "      <td>N/A</td>\n",
              "      <td>dez.1950</td>\n",
              "      <td>12/1950</td>\n",
              "      <td>Date</td>\n",
              "    </tr>\n",
              "    <tr>\n",
              "      <th>33038</th>\n",
              "      <td>179</td>\n",
              "      <td>N/A</td>\n",
              "      <td>12 . 1950</td>\n",
              "      <td>12/1950</td>\n",
              "      <td>Date</td>\n",
              "    </tr>\n",
              "  </tbody>\n",
              "</table>\n",
              "</div>"
            ],
            "text/plain": [
              "       Input Pattern Noise Type  ...   Target Target Format\n",
              "33034            159        N/A  ...  11/1950          Date\n",
              "33035            167        N/A  ...  11/1950          Date\n",
              "33036            186        N/A  ...  12/1950          Date\n",
              "33037            184        N/A  ...  12/1950          Date\n",
              "33038            179        N/A  ...  12/1950          Date\n",
              "\n",
              "[5 rows x 5 columns]"
            ]
          },
          "metadata": {
            "tags": []
          },
          "execution_count": 342
        }
      ]
    },
    {
      "cell_type": "code",
      "metadata": {
        "colab_type": "code",
        "id": "NLFG10ioZzdG",
        "colab": {
          "base_uri": "https://localhost:8080/",
          "height": 284
        },
        "outputId": "9e376e85-f3ad-4cf8-b4e8-9284b15938c0"
      },
      "source": [
        "df['Input Pattern'].hist()"
      ],
      "execution_count": 343,
      "outputs": [
        {
          "output_type": "execute_result",
          "data": {
            "text/plain": [
              "<matplotlib.axes._subplots.AxesSubplot at 0x7f600a4b7828>"
            ]
          },
          "metadata": {
            "tags": []
          },
          "execution_count": 343
        },
        {
          "output_type": "display_data",
          "data": {
            "image/png": "[encoded data removed]",
            "text/plain": [
              "<Figure size 432x288 with 1 Axes>"
            ]
          },
          "metadata": {
            "tags": [],
            "needs_background": "light"
          }
        }
      ]
    },
    {
      "cell_type": "code",
      "metadata": {
        "id": "8t6fSj8fyyya",
        "colab_type": "code",
        "colab": {
          "base_uri": "https://localhost:8080/",
          "height": 419
        },
        "outputId": "e2918e6b-75dd-496b-b569-a023ad34413d"
      },
      "source": [
        "# Inspecting the relative dates dataset\n",
        "df"
      ],
      "execution_count": 344,
      "outputs": [
        {
          "output_type": "execute_result",
          "data": {
            "text/html": [
              "<div>\n",
              "<style scoped>\n",
              "    .dataframe tbody tr th:only-of-type {\n",
              "        vertical-align: middle;\n",
              "    }\n",
              "\n",
              "    .dataframe tbody tr th {\n",
              "        vertical-align: top;\n",
              "    }\n",
              "\n",
              "    .dataframe thead th {\n",
              "        text-align: right;\n",
              "    }\n",
              "</style>\n",
              "<table border=\"1\" class=\"dataframe\">\n",
              "  <thead>\n",
              "    <tr style=\"text-align: right;\">\n",
              "      <th></th>\n",
              "      <th>Input Pattern</th>\n",
              "      <th>Noise Type</th>\n",
              "      <th>Input</th>\n",
              "      <th>Target</th>\n",
              "      <th>Target Format</th>\n",
              "    </tr>\n",
              "  </thead>\n",
              "  <tbody>\n",
              "    <tr>\n",
              "      <th>0</th>\n",
              "      <td>6</td>\n",
              "      <td>N/A</td>\n",
              "      <td>Número 735 da Avenida Rodrigo Otávio 6200 no C...</td>\n",
              "      <td>Avenida Rodrigo Otávio 6200, 735, Coroado, Manaus</td>\n",
              "      <td>Address</td>\n",
              "    </tr>\n",
              "    <tr>\n",
              "      <th>1</th>\n",
              "      <td>11</td>\n",
              "      <td>N/A</td>\n",
              "      <td>Avenida Rodrigo Otávio 6200, Coroado, Manaus, AM</td>\n",
              "      <td>Avenida Rodrigo Otávio 6200, S/N, Coroado, Man...</td>\n",
              "      <td>Address</td>\n",
              "    </tr>\n",
              "    <tr>\n",
              "      <th>2</th>\n",
              "      <td>13</td>\n",
              "      <td>N/A</td>\n",
              "      <td>Avenida Rodrigo Otávio 6200, 735, Sala 191, Co...</td>\n",
              "      <td>Avenida Rodrigo Otávio 6200, 735, Sala 191, Co...</td>\n",
              "      <td>Address</td>\n",
              "    </tr>\n",
              "    <tr>\n",
              "      <th>3</th>\n",
              "      <td>3</td>\n",
              "      <td>N/A</td>\n",
              "      <td>Altura do 735 na Avenida Rodrigo Otávio 6200 n...</td>\n",
              "      <td>Avenida Rodrigo Otávio 6200, 735, Coroado, Manaus</td>\n",
              "      <td>Address</td>\n",
              "    </tr>\n",
              "    <tr>\n",
              "      <th>4</th>\n",
              "      <td>14</td>\n",
              "      <td>N/A</td>\n",
              "      <td>Apartamento 188 na altura do 735 na Avenida Ro...</td>\n",
              "      <td>Avenida Rodrigo Otávio 6200, 735, Apartamento ...</td>\n",
              "      <td>Address</td>\n",
              "    </tr>\n",
              "    <tr>\n",
              "      <th>...</th>\n",
              "      <td>...</td>\n",
              "      <td>...</td>\n",
              "      <td>...</td>\n",
              "      <td>...</td>\n",
              "      <td>...</td>\n",
              "    </tr>\n",
              "    <tr>\n",
              "      <th>33034</th>\n",
              "      <td>159</td>\n",
              "      <td>N/A</td>\n",
              "      <td>11 - 1950</td>\n",
              "      <td>11/1950</td>\n",
              "      <td>Date</td>\n",
              "    </tr>\n",
              "    <tr>\n",
              "      <th>33035</th>\n",
              "      <td>167</td>\n",
              "      <td>N/A</td>\n",
              "      <td>11 mil, novecentos e cinquenta</td>\n",
              "      <td>11/1950</td>\n",
              "      <td>Date</td>\n",
              "    </tr>\n",
              "    <tr>\n",
              "      <th>33036</th>\n",
              "      <td>186</td>\n",
              "      <td>N/A</td>\n",
              "      <td>12/1950</td>\n",
              "      <td>12/1950</td>\n",
              "      <td>Date</td>\n",
              "    </tr>\n",
              "    <tr>\n",
              "      <th>33037</th>\n",
              "      <td>184</td>\n",
              "      <td>N/A</td>\n",
              "      <td>dez.1950</td>\n",
              "      <td>12/1950</td>\n",
              "      <td>Date</td>\n",
              "    </tr>\n",
              "    <tr>\n",
              "      <th>33038</th>\n",
              "      <td>179</td>\n",
              "      <td>N/A</td>\n",
              "      <td>12 . 1950</td>\n",
              "      <td>12/1950</td>\n",
              "      <td>Date</td>\n",
              "    </tr>\n",
              "  </tbody>\n",
              "</table>\n",
              "<p>33039 rows × 5 columns</p>\n",
              "</div>"
            ],
            "text/plain": [
              "       Input Pattern  ... Target Format\n",
              "0                  6  ...       Address\n",
              "1                 11  ...       Address\n",
              "2                 13  ...       Address\n",
              "3                  3  ...       Address\n",
              "4                 14  ...       Address\n",
              "...              ...  ...           ...\n",
              "33034            159  ...          Date\n",
              "33035            167  ...          Date\n",
              "33036            186  ...          Date\n",
              "33037            184  ...          Date\n",
              "33038            179  ...          Date\n",
              "\n",
              "[33039 rows x 5 columns]"
            ]
          },
          "metadata": {
            "tags": []
          },
          "execution_count": 344
        }
      ]
    },
    {
      "cell_type": "markdown",
      "metadata": {
        "colab_type": "text",
        "id": "8rm65Ob5Zzdc"
      },
      "source": [
        "## Function to split the dataset"
      ]
    },
    {
      "cell_type": "code",
      "metadata": {
        "colab_type": "code",
        "id": "x0vA5VORZzdc",
        "colab": {
          "base_uri": "https://localhost:8080/",
          "height": 139
        },
        "outputId": "2d912ae1-79b9-4835-ac40-16fd8b741dd5"
      },
      "source": [
        "def split_data(df, test_size=0.2, verbose=True):\n",
        "    l = list(set(df['Input Pattern'].values))\n",
        "    num_test = int(len(l)*test_size)\n",
        "    test_methods = [random.randint(1, len(l)) for _ in range(num_test)]\n",
        "    print(test_methods)\n",
        "    df_test = df[df['Input Pattern'].isin(test_methods)]\n",
        "    print(df_test.shape)\n",
        "    x_test = df_test.Input.values\n",
        "    y_test = df_test.Target.values\n",
        "    prefix_test = df_test['Target Format']\n",
        "\n",
        "    df_train = df[~df['Input Pattern'].isin(test_methods)]\n",
        "\n",
        "    x_train, x_val, y_train, y_val,prefix_train,prefix_val = train_test_split(\n",
        "        df_train.Input.values,\n",
        "        df_train.Target.values,\n",
        "        df_train['Target Format'].values,\n",
        "        shuffle=True, \n",
        "        test_size=test_size,\n",
        "        random_state=manual_seed\n",
        "        )\n",
        "    if verbose:\n",
        "        print(f'Address types of test set: {test_methods} with len: {len(test_methods)}')\n",
        "        print(f'x_train: {len(x_train)}  --  y_train: {len(y_train)}\\n\\\n",
        "x_val:   {len(x_val)}  --  y_val:   {len(y_val)}\\n\\\n",
        "x_test:  {len(x_test)}  --  y_test:  {len(y_test)}')\n",
        "\n",
        "    return x_train, prefix_train, y_train, x_val, prefix_val, y_val, x_test, prefix_test, y_test\n",
        "\n",
        "# creating sets\n",
        "x_train, prefix_train, y_train, x_val, prefix_val, y_val, x_test, prefix_test, y_test = split_data(df, \n",
        "                                                                                                test_size=0.25, \n",
        "                                                                                                verbose=True)"
      ],
      "execution_count": 345,
      "outputs": [
        {
          "output_type": "stream",
          "text": [
            "[99, 96, 77, 188, 1, 29, 93, 71, 35, 82, 139, 89, 151, 16, 64, 188, 157, 86, 186, 12, 162, 24, 140, 152, 25, 15, 86, 143, 137, 13, 87, 130, 53, 69, 39, 167, 165, 164, 166, 148, 70, 1, 121, 122, 189, 13, 148, 79]\n",
            "(7959, 5)\n",
            "Address types of test set: [99, 96, 77, 188, 1, 29, 93, 71, 35, 82, 139, 89, 151, 16, 64, 188, 157, 86, 186, 12, 162, 24, 140, 152, 25, 15, 86, 143, 137, 13, 87, 130, 53, 69, 39, 167, 165, 164, 166, 148, 70, 1, 121, 122, 189, 13, 148, 79] with len: 48\n",
            "x_train: 18810  --  y_train: 18810\n",
            "x_val:   6270  --  y_val:   6270\n",
            "x_test:  7959  --  y_test:  7959\n"
          ],
          "name": "stdout"
        }
      ]
    },
    {
      "cell_type": "code",
      "metadata": {
        "colab_type": "code",
        "id": "4tnqxS3aZzdf",
        "colab": {}
      },
      "source": [
        "class AddressDataset(Dataset):\n",
        "    def __init__(self, data, prefix, label, tokenizer, source_max_length, target_max_length):\n",
        "        self.tokenizer = tokenizer\n",
        "        self.data = data\n",
        "        self.label = label\n",
        "        self.prefix = prefix\n",
        "        self.source_max_length = source_max_length\n",
        "        self.target_max_length = target_max_length\n",
        "        \n",
        "    def __len__(self):\n",
        "        return len(self.data)\n",
        "    \n",
        "    def __getitem__(self, idx):\n",
        "        source = self.data[idx]\n",
        "        target = self.label[idx]\n",
        "        prefix = self.prefix[idx]\n",
        "\n",
        "        source = unicodedata.normalize('NFD', source).encode('latin-1', 'xmlcharrefreplace').decode('latin-1')\n",
        "        target = unicodedata.normalize('NFD', target).encode('latin-1', 'xmlcharrefreplace').decode('latin-1')\n",
        "\n",
        "\n",
        "        if USE_PREFIX:\n",
        "          source_str = f'{prefix}: {source} {self.tokenizer.eos_token}'\n",
        "        else:\n",
        "          source_str  = f'{source} {self.tokenizer.eos_token}'\n",
        "        \n",
        "        source_tokenized = self.tokenizer.encode_plus(\n",
        "            source_str,\n",
        "            max_length=self.source_max_length,\n",
        "            pad_to_max_length=True,\n",
        "            return_tensors='pt')\n",
        "\n",
        "        target_tokenized = self.tokenizer.encode_plus(\n",
        "            f'{target} {self.tokenizer.eos_token}',\n",
        "            max_length=self.target_max_length,\n",
        "            pad_to_max_length=True,\n",
        "            return_tensors='pt')\n",
        "\n",
        "        source_token_ids = source_tokenized['input_ids'].squeeze()\n",
        "        source_mask = source_tokenized['attention_mask'].squeeze()\n",
        "        target_token_ids = target_tokenized['input_ids'].squeeze()\n",
        "        \n",
        "        return source_token_ids, source_mask, target_token_ids"
      ],
      "execution_count": 346,
      "outputs": []
    },
    {
      "cell_type": "markdown",
      "metadata": {
        "colab_type": "text",
        "id": "dc1nEnWqZzdh"
      },
      "source": [
        "## Checking the AddressDataset class"
      ]
    },
    {
      "cell_type": "code",
      "metadata": {
        "colab_type": "code",
        "id": "Cjt5RmALZzdi",
        "colab": {
          "base_uri": "https://localhost:8080/",
          "height": 663
        },
        "outputId": "748a0f2f-2bee-4fc1-fd6e-2c5b44031861"
      },
      "source": [
        "dataset_debug = AddressDataset(\n",
        "    x_train,\n",
        "    prefix_train, \n",
        "    y_train,\n",
        "    TOK,\n",
        "    MAX_LEN_SRC,\n",
        "    MAX_LEN_TRGT,\n",
        "    )\n",
        "\n",
        "dataloader_checking = DataLoader(\n",
        "    dataset_debug, \n",
        "    batch_size=1, \n",
        "    shuffle=True, \n",
        "    num_workers=0\n",
        "    )\n",
        "\n",
        "source_token_ids, source_mask, target_token_ids = next(iter(dataloader_checking))\n",
        "print(f'source_token_ids:\\n {source_token_ids} --- shape:{source_token_ids.shape}')\n",
        "print(f'source_mask:\\n {source_mask} --- shape:{source_mask.shape}')\n",
        "print(f'target_token_ids:\\n {target_token_ids} --- shape:{target_token_ids.shape}')"
      ],
      "execution_count": 347,
      "outputs": [
        {
          "output_type": "stream",
          "text": [
            "source_token_ids:\n",
            " tensor([[7678,   10, 2208,   18,   26, 2187,   51, 5702, 4481, 2884,    1,    0,\n",
            "            0,    0,    0,    0,    0,    0,    0,    0,    0,    0,    0,    0,\n",
            "            0,    0,    0,    0,    0,    0,    0,    0,    0,    0,    0,    0,\n",
            "            0,    0,    0,    0,    0,    0,    0,    0,    0,    0,    0,    0,\n",
            "            0,    0,    0,    0,    0,    0,    0,    0,    0,    0,    0,    0,\n",
            "            0,    0,    0,    0,    0,    0,    0,    0,    0,    0,    0,    0,\n",
            "            0,    0,    0,    0,    0,    0,    0,    0,    0,    0,    0,    0,\n",
            "            0,    0,    0,    0,    0,    0,    0,    0,    0,    0,    0,    0,\n",
            "            0,    0,    0,    0,    0,    0,    0,    0,    0,    0,    0,    0,\n",
            "            0,    0,    0,    0,    0,    0,    0,    0,    0,    0,    0,    0,\n",
            "            0,    0,    0,    0,    0,    0,    0,    0,    0,    0,    0,    0,\n",
            "            0,    0,    0,    0,    0,    0,    0,    0,    0,    0,    0,    0,\n",
            "            0,    0,    0,    0,    0,    0]]) --- shape:torch.Size([1, 150])\n",
            "source_mask:\n",
            " tensor([[1, 1, 1, 1, 1, 1, 1, 1, 1, 1, 1, 0, 0, 0, 0, 0, 0, 0, 0, 0, 0, 0, 0, 0,\n",
            "         0, 0, 0, 0, 0, 0, 0, 0, 0, 0, 0, 0, 0, 0, 0, 0, 0, 0, 0, 0, 0, 0, 0, 0,\n",
            "         0, 0, 0, 0, 0, 0, 0, 0, 0, 0, 0, 0, 0, 0, 0, 0, 0, 0, 0, 0, 0, 0, 0, 0,\n",
            "         0, 0, 0, 0, 0, 0, 0, 0, 0, 0, 0, 0, 0, 0, 0, 0, 0, 0, 0, 0, 0, 0, 0, 0,\n",
            "         0, 0, 0, 0, 0, 0, 0, 0, 0, 0, 0, 0, 0, 0, 0, 0, 0, 0, 0, 0, 0, 0, 0, 0,\n",
            "         0, 0, 0, 0, 0, 0, 0, 0, 0, 0, 0, 0, 0, 0, 0, 0, 0, 0, 0, 0, 0, 0, 0, 0,\n",
            "         0, 0, 0, 0, 0, 0]]) --- shape:torch.Size([1, 150])\n",
            "target_token_ids:\n",
            " tensor([[ 2208, 18009, 13523,  2884,     1,     0,     0,     0,     0,     0,\n",
            "             0,     0,     0,     0,     0,     0,     0,     0,     0,     0,\n",
            "             0,     0,     0,     0,     0,     0,     0,     0,     0,     0,\n",
            "             0,     0,     0,     0,     0,     0,     0,     0,     0,     0,\n",
            "             0,     0,     0,     0,     0,     0,     0,     0,     0,     0,\n",
            "             0,     0,     0,     0,     0,     0,     0,     0,     0,     0,\n",
            "             0,     0,     0,     0,     0,     0,     0,     0,     0,     0,\n",
            "             0,     0,     0,     0,     0,     0,     0,     0,     0,     0,\n",
            "             0,     0,     0,     0,     0,     0,     0,     0,     0,     0,\n",
            "             0,     0,     0,     0,     0,     0,     0,     0,     0,     0,\n",
            "             0,     0,     0,     0,     0,     0,     0,     0,     0,     0,\n",
            "             0,     0,     0,     0,     0,     0,     0,     0,     0,     0,\n",
            "             0,     0,     0,     0,     0,     0,     0,     0,     0,     0,\n",
            "             0,     0,     0,     0,     0,     0,     0,     0,     0,     0,\n",
            "             0,     0,     0,     0,     0,     0,     0,     0,     0,     0]]) --- shape:torch.Size([1, 150])\n"
          ],
          "name": "stdout"
        }
      ]
    },
    {
      "cell_type": "markdown",
      "metadata": {
        "colab_type": "text",
        "id": "Td3PsULnZzdl"
      },
      "source": [
        "## Datasets e Dataloaders"
      ]
    },
    {
      "cell_type": "code",
      "metadata": {
        "colab_type": "code",
        "id": "CEsPIIRAZzdl",
        "colab": {
          "base_uri": "https://localhost:8080/",
          "height": 153
        },
        "outputId": "af9165b9-6fee-434c-b383-d07f0068d34c"
      },
      "source": [
        "# datasets\n",
        "ds_debug = AddressDataset(x_train[:BATCH_SZ], prefix_train[:BATCH_SZ],y_train[:BATCH_SZ], TOK, MAX_LEN_SRC, MAX_LEN_TRGT)\n",
        "ds_train = AddressDataset(x_train, prefix_train, y_train, TOK, MAX_LEN_SRC, MAX_LEN_TRGT)\n",
        "ds_valid = AddressDataset(x_val, prefix_val, y_val, TOK, MAX_LEN_SRC, MAX_LEN_TRGT)\n",
        "ds_test  = AddressDataset(x_test, prefix_test, y_test, TOK, MAX_LEN_SRC, MAX_LEN_TRGT)\n",
        "\n",
        "print('Datasets len:')\n",
        "print(f'len ds_debug: {len(ds_debug)}')\n",
        "print(f'len ds_train: {len(ds_train)}')\n",
        "print(f'len ds_valid: {len(ds_valid)}')\n",
        "print(f'len ds_test:  {len(ds_test)}')\n",
        "\n",
        "# dataloaders\n",
        "dataloaders = {\n",
        "    'debug': DataLoader(\n",
        "         ds_debug,\n",
        "         batch_size=BATCH_SZ,\n",
        "         shuffle=True,\n",
        "         num_workers=2,\n",
        "         pin_memory=True),\n",
        "    'train': DataLoader(\n",
        "         ds_train,\n",
        "         batch_size=BATCH_SZ,\n",
        "         shuffle=True,\n",
        "         num_workers=2,\n",
        "         pin_memory=True),\n",
        "    'valid': DataLoader(\n",
        "         ds_valid,\n",
        "         batch_size=BATCH_SZ,\n",
        "         shuffle=False,\n",
        "         num_workers=2,\n",
        "         pin_memory=True),\n",
        "    'test': DataLoader(\n",
        "         ds_test,\n",
        "         batch_size=BATCH_SZ,\n",
        "         shuffle=False,\n",
        "         num_workers=2,\n",
        "         pin_memory=True),\n",
        "               }\n",
        "# sanity check\n",
        "print('\\nDataloaders len (in batch):')\n",
        "dl_sizes = {x: len(dataloaders[x]) for x in dataloaders.keys()}; dl_sizes"
      ],
      "execution_count": 348,
      "outputs": [
        {
          "output_type": "stream",
          "text": [
            "Datasets len:\n",
            "len ds_debug: 16\n",
            "len ds_train: 18810\n",
            "len ds_valid: 6270\n",
            "len ds_test:  7959\n",
            "\n",
            "Dataloaders len (in batch):\n"
          ],
          "name": "stdout"
        },
        {
          "output_type": "execute_result",
          "data": {
            "text/plain": [
              "{'debug': 1, 'test': 498, 'train': 1176, 'valid': 392}"
            ]
          },
          "metadata": {
            "tags": []
          },
          "execution_count": 348
        }
      ]
    },
    {
      "cell_type": "code",
      "metadata": {
        "colab_type": "code",
        "id": "mEvROK8GZzdp",
        "colab": {}
      },
      "source": [
        "# testando o dataloader \n",
        "source_token_ids, source_mask, target_token_ids = next(iter(dataloaders['debug']))"
      ],
      "execution_count": 349,
      "outputs": []
    },
    {
      "cell_type": "code",
      "metadata": {
        "colab_type": "code",
        "id": "rctzy_PpZzdr",
        "colab": {}
      },
      "source": [
        "class Net(torch.nn.Module):\n",
        "    def __init__(self):\n",
        "        super(Net, self).__init__()\n",
        "        self.model = T5ForConditionalGeneration.from_pretrained(MODEL_SZ)\n",
        "    \n",
        "    def forward(self, token_ids, att_mask, labels):\n",
        "        outputs = self.model.forward(\n",
        "            input_ids=token_ids, \n",
        "            attention_mask=att_mask,\n",
        "            lm_labels=labels\n",
        "            )\n",
        "        return outputs[0] # loss\n",
        "    \n",
        "    @torch.no_grad()    \n",
        "    def generate(self, token_ids, att_mask, max_len_target):\n",
        "        predict = self.model.generate(\n",
        "            input_ids=token_ids, \n",
        "            attention_mask=att_mask,\n",
        "            max_length=max_len_target\n",
        "            )\n",
        "        return predict\n",
        "    \n",
        "    @torch.no_grad()  \n",
        "    def generate_example(self, text_input, tokenizer, max_len_source=MAX_LEN_SRC):\n",
        "\n",
        "        self.model.eval()\n",
        "        \n",
        "        example_tokenized = tokenizer.encode_plus(\n",
        "            f'{text_input} {tokenizer.eos_token}',\n",
        "            max_length=max_len_source,\n",
        "            pad_to_max_length=True,\n",
        "            return_tensors='pt')\n",
        "            \n",
        "        example_token_ids = example_tokenized['input_ids']\n",
        "        example_mask = example_tokenized['attention_mask']\n",
        "\n",
        "        predicted_example = self.model.generate(\n",
        "            input_ids=example_token_ids.to(device), \n",
        "            attention_mask=example_mask.to(device),\n",
        "            max_length=MAX_LEN_TRGT\n",
        "            )\n",
        "\n",
        "        self.model.train()\n",
        "\n",
        "        out_text = [tokenizer.decode(text) for text in predicted_example]\n",
        "        \n",
        "        return out_text"
      ],
      "execution_count": 350,
      "outputs": []
    },
    {
      "cell_type": "markdown",
      "metadata": {
        "colab_type": "text",
        "id": "UDxVhVf6Zzdu"
      },
      "source": [
        "## Train and evaluation functions"
      ]
    },
    {
      "cell_type": "code",
      "metadata": {
        "colab_type": "code",
        "id": "c2gYbLX8Zzdu",
        "colab": {}
      },
      "source": [
        "# acc metric for text inputs\n",
        "def acc_in_text(trues, preds): \n",
        "    acc = []\n",
        "    for d in zip(trues, preds):\n",
        "        if d[0] == d[1]:\n",
        "            acc.append(1)\n",
        "        else:\n",
        "            acc.append(0)\n",
        "    return acc # bool\n",
        "\n",
        "def train(model, device, train_loader, optimizer):\n",
        "    loss_train = []\n",
        "    model.train()\n",
        "    for source_token_ids, source_mask, target_token_ids in train_loader:\n",
        "        optimizer.zero_grad()\n",
        "        loss = model(\n",
        "            source_token_ids.to(device), \n",
        "            source_mask.to(device), \n",
        "            target_token_ids.to(device)\n",
        "            )\n",
        "        \n",
        "        loss_train.append(loss.item())\n",
        "        loss.backward()\n",
        "        optimizer.step()\n",
        "    \n",
        "    train_losses = sum(loss_train) / len(loss_train)\n",
        "  \n",
        "    return train_losses\n",
        "\n",
        "def evaluate_fn(model, device, val_loader, max_len=MAX_LEN_TRGT):\n",
        "    loss_val, all_acc, all_preds, all_trues = [], [], [], []\n",
        "    model.eval()\n",
        "    for source_token_ids, source_mask, target_token_ids in val_loader:\n",
        "        predicted_ids = model.generate(\n",
        "            source_token_ids.to(device), \n",
        "            source_mask.to(device),\n",
        "            max_len\n",
        "            )\n",
        "        \n",
        "        preds = [TOK.decode(t) for t in predicted_ids]\n",
        "        trues = [TOK.decode(t) for t in target_token_ids]\n",
        "        acc = acc_in_text(trues, preds)\n",
        "        all_acc.extend(acc)\n",
        "        all_trues.extend(trues)\n",
        "        all_preds.extend(preds)\n",
        "        \n",
        "        # val loss   \n",
        "        loss = model(\n",
        "        source_token_ids.to(device), \n",
        "        source_mask.to(device), \n",
        "        target_token_ids.to(device)\n",
        "        )\n",
        "        loss_val.append(loss.item())\n",
        "    \n",
        "    val_losses = sum(loss_val) / len(loss_val)\n",
        "    \n",
        "    return val_losses, np.array(all_acc).mean(), all_trues, all_preds"
      ],
      "execution_count": 351,
      "outputs": []
    },
    {
      "cell_type": "markdown",
      "metadata": {
        "colab_type": "text",
        "id": "tk7ggKPKZzdw"
      },
      "source": [
        "# Overfit in one batch \n",
        "- dataloader debug"
      ]
    },
    {
      "cell_type": "code",
      "metadata": {
        "colab_type": "code",
        "id": "xUOJOmyFZzdx",
        "colab": {
          "base_uri": "https://localhost:8080/",
          "height": 696,
          "referenced_widgets": [
            "b83012ad963e42519d6ac62e59dcebfa",
            "5778c848a159486690031e7e7bec7d03",
            "22bbef2ef35b470ebc03d085cca21a3a",
            "74190b59141943f09725b4d667e5351e",
            "f311913284ce435696d5afe64776fef0",
            "03157c8233ce4ad68001318647442b48",
            "91222a79309a499db1dc7369e1881d27",
            "74d6b58265bd48c280c5eb72e8f6a4ed",
            "debfa02017dd4699a91030b17f0b6fe5",
            "1b028f008e9744089df64f16e8fd1eb1",
            "3b6e51c3bfd2408a9495c3129ee08d6e",
            "c2f15f796bd24f61b188a1976fa742ee",
            "0553403876eb4b69a548e1b716e250be",
            "28c66e4f576e405e9446c1062f338a29",
            "fd63067190104610bb83326dd7a67194",
            "7e1505cacf1c4aabb7cfcba9ffca58f1"
          ]
        },
        "outputId": "6e936881-490e-485b-9cf0-e5004f0e8e78"
      },
      "source": [
        "overfit = True\n",
        "\n",
        "if overfit:\n",
        "\n",
        "    start = torch.cuda.Event(enable_timing=True)\n",
        "    end = torch.cuda.Event(enable_timing=True)\n",
        "    deterministic() \n",
        "\n",
        "    model = Net().to(device)\n",
        "    optimizer = torch.optim.AdamW(model.parameters(), lr=5e-5)\n",
        "    \n",
        "    # -----------------------------------------------------------------------------\n",
        "    start.record()\n",
        "    for step in range(1, 1001):\n",
        "        samp = random.randint(0, BATCH_SZ-WINDOW) # to show random trues and preds\n",
        "        loss_t = train(model, device, dataloaders['debug'], optimizer)\n",
        "        loss,acc, trues, preds = evaluate_fn(model, device, dataloaders['debug'])\n",
        "        if step == 1:\n",
        "            print(f'[Epoch: {step}/{1000}] |', end=' ')\n",
        "            print(f'Train Loss: {loss_t:.3f} -- Acc: {acc:.3f}')\n",
        "        if step % 100 == 0:\n",
        "            print(f'[Epoch: {step}/{1000}] |', end=' ')\n",
        "            print(f'Train Loss: {loss_t:.3f} -- Acc: {acc:.3f}')\n",
        "            print(f'  Trues: {trues[samp:samp+WINDOW]}\\n  Preds: {preds[samp:samp+WINDOW]}')\n",
        "        if acc>= 0.99:\n",
        "          print('The model has overfitted! Breaking the loop :)')\n",
        "          break\n",
        "    end.record()\n",
        "    torch.cuda.synchronize()    \n",
        "    # -----------------------------------------------------------------------------\n",
        "\n",
        "    print(f'Training time: {start.elapsed_time(end)/1000/60 :.3f} min.')\n",
        "    del model"
      ],
      "execution_count": 352,
      "outputs": [
        {
          "output_type": "stream",
          "text": [
            "Deterministic experiment, seed: 2357\n"
          ],
          "name": "stdout"
        },
        {
          "output_type": "display_data",
          "data": {
            "application/vnd.jupyter.widget-view+json": {
              "model_id": "b83012ad963e42519d6ac62e59dcebfa",
              "version_minor": 0,
              "version_major": 2
            },
            "text/plain": [
              "HBox(children=(FloatProgress(value=0.0, description='Downloading', max=1197.0, style=ProgressStyle(description…"
            ]
          },
          "metadata": {
            "tags": []
          }
        },
        {
          "output_type": "stream",
          "text": [
            "\n"
          ],
          "name": "stdout"
        },
        {
          "output_type": "display_data",
          "data": {
            "application/vnd.jupyter.widget-view+json": {
              "model_id": "debfa02017dd4699a91030b17f0b6fe5",
              "version_minor": 0,
              "version_major": 2
            },
            "text/plain": [
              "HBox(children=(FloatProgress(value=0.0, description='Downloading', max=242136741.0, style=ProgressStyle(descri…"
            ]
          },
          "metadata": {
            "tags": []
          }
        },
        {
          "output_type": "stream",
          "text": [
            "\n",
            "[Epoch: 1/1000] | Train Loss: 10.708 -- Acc: 0.062\n",
            "[Epoch: 100/1000] | Train Loss: 0.574 -- Acc: 0.000\n",
            "  Trues: ['07/10/1927', 'Rua Sa&#771;o Rufino, 2141, Pajuc&#807;ara, Natal, RN', 'Avenida Segunda Radial, 9178, Torre 3 - Apartamento 142, Vila Redenc&#807;a&#771;o, Goia&#770;nia', 'Rua Sebastia&#771;o Gomes de Azevedo, 3417, Sala 191, Santo Andre&#769;, Divino&#769;polis', '49y', 'Rua Glorinha, 9932, Torre 10 - Sala 3, Casa Amarela, Recife, PE', '22/12/1939']\n",
            "  Preds: ['', '', '', '', '', '', '']\n",
            "[Epoch: 200/1000] | Train Loss: 0.267 -- Acc: 0.000\n",
            "  Trues: ['06/08', 'Rua Sa&#771;o Jero&#770;nimo da Serra, S/N, Box 81,Santa Ca&#770;ndida, Curitiba, PR', 'Rua Raimundo de Paiva Gadelha, 1605, Hangar 20, Centro, Sousa', 'Rua Sebastia&#771;o Gomes de Azevedo, 3417, Sala 191, Santo Andre&#769;, Divino&#769;polis', '22/12/1939', 'Quadra ACSU SO 100 Avenida Joaquim Teotonio Segurado, 1428, Plano Diretor Sul, Palmas, TO', 'Rua Sa&#771;o Rufino, 2141, Pajuc&#807;ara, Natal, RN']\n",
            "  Preds: ['', '', '', '', '', '', '']\n",
            "[Epoch: 300/1000] | Train Loss: 0.196 -- Acc: 0.000\n",
            "  Trues: ['22/12/1939', '07/10/1927', 'Rua Sebastia&#771;o Gomes de Azevedo, 3417, Sala 191, Santo Andre&#769;, Divino&#769;polis', 'Rua Sa&#771;o Rufino, 2141, Pajuc&#807;ara, Natal, RN', 'Alameda Edna, S/N, Guanabara, Ananindeua, PA', '06/08', '18/12/1935']\n",
            "  Preds: ['', '', '', '', '', '', '']\n",
            "[Epoch: 400/1000] | Train Loss: 0.129 -- Acc: 0.000\n",
            "  Trues: ['Rua Sebastia&#771;o Gomes de Azevedo, 3417, Sala 191, Santo Andre&#769;, Divino&#769;polis', 'Rua Sa&#771;o Jero&#770;nimo da Serra, S/N, Box 81,Santa Ca&#770;ndida, Curitiba, PR', 'Rua Raimundo de Paiva Gadelha, 1605, Hangar 20, Centro, Sousa', '06/08', '22/12/1939', 'Quadra ACSU SO 100 Avenida Joaquim Teotonio Segurado, 1428, Plano Diretor Sul, Palmas, TO', 'Rua Acre, S/N, Vila Augusta, Sorocaba, SP']\n",
            "  Preds: ['', '', '', '', '', '', '']\n",
            "[Epoch: 500/1000] | Train Loss: 0.090 -- Acc: 0.125\n",
            "  Trues: ['03/08/1934', 'Alameda Edna, S/N, Guanabara, Ananindeua, PA', 'Rua Raimundo de Paiva Gadelha, 1605, Hangar 20, Centro, Sousa', 'Avenida Segunda Radial, 9178, Torre 3 - Apartamento 142, Vila Redenc&#807;a&#771;o, Goia&#770;nia', 'Rua Glorinha, 9932, Torre 10 - Sala 3, Casa Amarela, Recife, PE', 'Rua Sa&#771;o Rufino, 2141, Pajuc&#807;ara, Natal, RN', 'Rua Sebastia&#771;o Gomes de Azevedo, 3417, Sala 191, Santo Andre&#769;, Divino&#769;polis']\n",
            "  Preds: ['', '', '', '', '', '', '']\n",
            "[Epoch: 600/1000] | Train Loss: 0.066 -- Acc: 0.188\n",
            "  Trues: ['Alameda Edna, S/N, Guanabara, Ananindeua, PA', '18/12/1935', 'Rua Glorinha, 9932, Torre 10 - Sala 3, Casa Amarela, Recife, PE', '03/08/1934', 'Quadra ACSU SO 100 Avenida Joaquim Teotonio Segurado, 1428, Plano Diretor Sul, Palmas, TO', 'Rua Acre, S/N, Vila Augusta, Sorocaba, SP', 'Rua Sebastia&#771;o Gomes de Azevedo, 3417, Sala 191, Santo Andre&#769;, Divino&#769;polis']\n",
            "  Preds: ['Alameda Edna, PA', '', 'Rua Glorinha, 9932, Torre 10 - Sala 3, Casa Amarela, Recife, PE', '', '', 'Rua Acre, Vila Augusta, Sorocaba, SP', '']\n",
            "[Epoch: 700/1000] | Train Loss: 0.036 -- Acc: 0.625\n",
            "  Trues: ['Quadra ACSU SO 100 Avenida Joaquim Teotonio Segurado, 1428, Plano Diretor Sul, Palmas, TO', 'Alameda Edna, S/N, Guanabara, Ananindeua, PA', 'Rua F46, 6044, Setor Faic&#807;alville, Goia&#770;nia, GO, 74350390', 'Rua Sa&#771;o Rufino, 2141, Pajuc&#807;ara, Natal, RN', 'Rua Glorinha, 9932, Torre 10 - Sala 3, Casa Amarela, Recife, PE', 'Rua Sebastia&#771;o Gomes de Azevedo, 3417, Sala 191, Santo Andre&#769;, Divino&#769;polis', 'Rua Sa&#771;o Jero&#770;nimo da Serra, S/N, Box 81,Santa Ca&#770;ndida, Curitiba, PR']\n",
            "  Preds: ['', 'Alameda Edna, PA', 'Rua F46, 6044, Setor Faic&#807;alville, Goia&#770;nia, GO, 74350390', 'Rua Sa&#771;o Rufino, 2141, Pajuc&#807;ara, Natal, RN', 'Rua Glorinha, 9932, Torre 10 - Sala 3, Casa Amarela, Recife, PE', 'Rua Sebastia&#771;o Gomes de Azevedo, 3417, Sala 191, Santo Andre&#769;, Divino&#769;polis', 'Rua Sa&#771;o Jero&#770;nimo da Serra, S/N, Box 81,Santa Ca&#770;ndida, Curitiba, PR']\n",
            "[Epoch: 800/1000] | Train Loss: 0.028 -- Acc: 0.750\n",
            "  Trues: ['03/08/1934', 'Rua Sa&#771;o Rufino, 2141, Pajuc&#807;ara, Natal, RN', '18/12/1935', '06/08', 'Rua Raimundo de Paiva Gadelha, 1605, Hangar 20, Centro, Sousa', 'Rua Sebastia&#771;o Gomes de Azevedo, 3417, Sala 191, Santo Andre&#769;, Divino&#769;polis', 'Quadra ACSU SO 100 Avenida Joaquim Teotonio Segurado, 1428, Plano Diretor Sul, Palmas, TO']\n",
            "  Preds: ['03/08/1934', 'Rua Sa&#771;o Rufino, 2141, Pajuc&#807;ara, Natal, RN', '18.12.1935', '06/08', 'Rua Raimundo de Paiva Gadelha, 1605, Hangar 20, Centro, Sousa', 'Rua Sebastia&#771;o Gomes de Azevedo, 3417, Sala 191, Santo Andre&#769;, Divino&#769;polis', 'Tocantins, Palmas, Plano Diretor Sul, Quadra ACSU SO 100 Avenida Joaquim Teotonio Segurado, 1428, Plano Diretor Sul, Palmas, TO']\n",
            "[Epoch: 900/1000] | Train Loss: 0.017 -- Acc: 0.875\n",
            "  Trues: ['Avenida Segunda Radial, 9178, Torre 3 - Apartamento 142, Vila Redenc&#807;a&#771;o, Goia&#770;nia', 'Quadra ACSU SO 100 Avenida Joaquim Teotonio Segurado, 1428, Plano Diretor Sul, Palmas, TO', '49y', '03/08/1934', 'Rua Raimundo de Paiva Gadelha, 1605, Hangar 20, Centro, Sousa', 'Rua Glorinha, 9932, Torre 10 - Sala 3, Casa Amarela, Recife, PE', 'Rua Sa&#771;o Rufino, 2141, Pajuc&#807;ara, Natal, RN']\n",
            "  Preds: ['Avenida Segunda Radial, 9178, Torre 3 - Apartamento 142, Vila Redenc&#807;a&#771;o, Goia&#770;nia', 'Quadra ACSU SO 100 Avenida Joaquim Teotonio Segurado, 1428, Plano Diretor Sul, Palmas, TO', 'quadrage&#769;simo nono ano', '03/08/1934', 'Rua Raimundo de Paiva Gadelha, 1605, Hangar 20, Centro, Sousa', 'Rua Glorinha, 9932, Torre 10 - Sala 3, Casa Amarela, Recife, PE', 'Rua Sa&#771;o Rufino, 2141, Pajuc&#807;ara, Natal, RN']\n",
            "[Epoch: 1000/1000] | Train Loss: 0.017 -- Acc: 0.875\n",
            "  Trues: ['06/08', 'Rua Glorinha, 9932, Torre 10 - Sala 3, Casa Amarela, Recife, PE', 'Rua Raimundo de Paiva Gadelha, 1605, Hangar 20, Centro, Sousa', '22/12/1939', 'Rua Sa&#771;o Rufino, 2141, Pajuc&#807;ara, Natal, RN', 'Avenida Segunda Radial, 9178, Torre 3 - Apartamento 142, Vila Redenc&#807;a&#771;o, Goia&#770;nia', 'Rua Acre, S/N, Vila Augusta, Sorocaba, SP']\n",
            "  Preds: ['06/08', 'Rua Glorinha, 9932, Torre 10 - Sala 3, Casa Amarela, Recife, PE', 'Rua Raimundo de Paiva Gadelha, 1605, Hangar 20, Centro, Sousa', '22/12/1939', 'Rua Sa&#771;o Rufino, 2141, Pajuc&#807;ara, Natal, RN', 'Avenida Segunda Radial, 9178, Torre 3 - Apartamento 142, Vila Redenc&#807;a&#771;o, Goia&#770;nia', 'Rua Acre, S/N, Vila Augusta, Sorocaba, SP']\n",
            "Training time: 31.266 min.\n"
          ],
          "name": "stdout"
        }
      ]
    },
    {
      "cell_type": "markdown",
      "metadata": {
        "colab_type": "text",
        "id": "KVZ9sPKlZzdz"
      },
      "source": [
        "# Training "
      ]
    },
    {
      "cell_type": "code",
      "metadata": {
        "colab_type": "code",
        "id": "jP4cqi0QZzdz",
        "colab": {
          "base_uri": "https://localhost:8080/",
          "height": 598
        },
        "outputId": "a5bf135a-8e89-42f6-f90d-abe28b411e38"
      },
      "source": [
        "try:\n",
        "  del model\n",
        "except:\n",
        "  print('Model already erased, starting a new one!')\n",
        "  \n",
        "start = torch.cuda.Event(enable_timing=True)\n",
        "end = torch.cuda.Event(enable_timing=True)\n",
        "deterministic() \n",
        "\n",
        "model = Net().to(device)\n",
        "optimizer = torch.optim.AdamW(model.parameters(), lr=7e-5)\n",
        "\n",
        "N_EPOCHS = 10\n",
        "\n",
        "# ---------------------------------------------------------------------------------\n",
        "start.record()\n",
        "for step in range(1, N_EPOCHS+1):\n",
        "    samp = random.randint(0, BATCH_SZ-WINDOW) # to show random trues and preds\n",
        "    loss_t = train(model, device, dataloaders['train'], optimizer)\n",
        "    loss_v, acc, trues, preds = evaluate_fn(model, device, dataloaders['valid'])\n",
        "    print(f'[Epoch: {step}/{N_EPOCHS}] |', end=' ')\n",
        "    print(f'Train Loss: {loss_t:.3f} -- Valid Loss: {loss_v:.3f} -- Acc: {acc:.3f}')\n",
        "    print(f'  Trues: {trues[samp:samp+WINDOW]}\\n  Preds: {preds[samp:samp+WINDOW]}')\n",
        "\n",
        "end.record()\n",
        "torch.cuda.synchronize()    \n",
        "# ---------------------------------------------------------------------------------\n",
        "\n",
        "print(f'Training time: {start.elapsed_time(end)/1000/60 :.3f} min.')"
      ],
      "execution_count": 353,
      "outputs": [
        {
          "output_type": "stream",
          "text": [
            "Model already erased, starting a new one!\n",
            "Deterministic experiment, seed: 2357\n",
            "[Epoch: 1/10] | Train Loss: 0.293 -- Valid Loss: 0.043 -- Acc: 0.380\n",
            "  Trues: ['Travessa Lauro Sodre&#769; 130, 6674, Centro, Mocajuba', 'Rua Abrolhos, 1624, Santa Mo&#770;nica, Guarapari', 'Rua Planaltina, 5401, Marambaia (Manilha), Itaborai&#769;, RJ, 24859380', 'Rua D, S/N, Piranema, Serope&#769;dica, RJ', '16/02', 'Rua Pioneiro Benedito de Oliveira Franco, 5173, Jardim Paulista III, Maringa&#769;, PR', '25/10/1925']\n",
            "  Preds: ['Altura do 6674 na Travessa Lauro Sodre&#769; 130, Centro, Mocajuba', 'Rua Abrolhos, 1624, Santa Mo&#770;nica, Guarapari', 'Rua Planaltina, 5401, Marambaia (Manilha), Itaborai&#769;, RJ, 24859380', 'Rua D, S/N, Piranema, Serope&#769;dica, RJ', '16/02', 'Rua Pioneiro Benedito de Oliveira Franco, 5173, Jardim Paulista III, Maringa&#769;, PR', '25/02/1925']\n",
            "[Epoch: 2/10] | Train Loss: 0.048 -- Valid Loss: 0.028 -- Acc: 0.584\n",
            "  Trues: ['Travessa Lauro Sodre&#769; 130, 6674, Centro, Mocajuba', 'Rua Abrolhos, 1624, Santa Mo&#770;nica, Guarapari', 'Rua Planaltina, 5401, Marambaia (Manilha), Itaborai&#769;, RJ, 24859380', 'Rua D, S/N, Piranema, Serope&#769;dica, RJ', '16/02', 'Rua Pioneiro Benedito de Oliveira Franco, 5173, Jardim Paulista III, Maringa&#769;, PR', '25/10/1925']\n",
            "  Preds: ['Travessa Lauro Sodre&#769; 130, 6674, Centro, Mocajuba', 'Rua Abrolhos, 1624, Santa Mo&#770;nica, Guarapari', 'Rua Planaltina, 5401, Marambaia (Manilha), Itaborai&#769;, RJ, 24859380', 'Rua D, S/N, Piranema, Serope&#769;dica, RJ', '16/02', 'Rua Pioneiro Benedito de Oliveira Franco, 5173, Jardim Paulista III, Maringa&#769;, PR', '25/10/1925']\n",
            "[Epoch: 3/10] | Train Loss: 0.034 -- Valid Loss: 0.020 -- Acc: 0.727\n",
            "  Trues: ['19/07/1929', 'Rua Florisvaldo Nunes, 7349, Setor Bahia Sul, Teixeira de Freitas', 'Rua Doutor Ma&#769;rio Rodolfo Arau&#769;jo Filho, S/N, Torre 4, Va&#769;rzea, Recife, PE', '24/04/1927', 'Conjunto da Cosama, 9591, Adriano&#769;polis, Manaus, AM', '20/08/1939', 'Travessa Lauro Sodre&#769; 130, 6674, Centro, Mocajuba']\n",
            "  Preds: ['09/07/1929', 'Rua Florisvaldo Nunes, 7349, Setor Bahia Sul, Teixeira, Freitas', 'Rua Doutor Ma&#769;rio Rodolfo Arau&#769;jo Filho, S/N, Torre 4,Va&#769;rzea, Recife, PE', '24/04/1927', 'Conjunto da Cosama, 9591, Adriano&#769;polis, Manaus, AM', '27/08/1939', 'Travessa Lauro Sodre&#769; 130, 6674, Centro, Mocajuba']\n",
            "[Epoch: 4/10] | Train Loss: 0.026 -- Valid Loss: 0.016 -- Acc: 0.808\n",
            "  Trues: ['19/07/1929', 'Rua Florisvaldo Nunes, 7349, Setor Bahia Sul, Teixeira de Freitas', 'Rua Doutor Ma&#769;rio Rodolfo Arau&#769;jo Filho, S/N, Torre 4, Va&#769;rzea, Recife, PE', '24/04/1927', 'Conjunto da Cosama, 9591, Adriano&#769;polis, Manaus, AM', '20/08/1939', 'Travessa Lauro Sodre&#769; 130, 6674, Centro, Mocajuba']\n",
            "  Preds: ['17/07/1929', 'Rua Florisvaldo Nunes, 7349, Setor Bahia Sul, Teixeira, Freitas', 'Rua Doutor Ma&#769;rio Rodolfo Arau&#769;jo Filho, S/N, Torre 4, Via&#769;rzea, Recife, PE', '24/04/1927', 'Conjunto da Cosama, 9591, Adriano&#769;polis, Manaus, AM', '25/08/1939', 'Travessa Lauro Sodre&#769; 130, 6674, Centro, Mocajuba']\n",
            "[Epoch: 5/10] | Train Loss: 0.020 -- Valid Loss: 0.013 -- Acc: 0.851\n",
            "  Trues: ['Rua Florisvaldo Nunes, 7349, Setor Bahia Sul, Teixeira de Freitas', 'Rua Doutor Ma&#769;rio Rodolfo Arau&#769;jo Filho, S/N, Torre 4, Va&#769;rzea, Recife, PE', '24/04/1927', 'Conjunto da Cosama, 9591, Adriano&#769;polis, Manaus, AM', '20/08/1939', 'Travessa Lauro Sodre&#769; 130, 6674, Centro, Mocajuba', 'Rua Abrolhos, 1624, Santa Mo&#770;nica, Guarapari']\n",
            "  Preds: ['Rua Florisvaldo Nunes, 7349, Setor Bahia Sul, Teixeira de Freitas', 'Rua Doutor Ma&#769;rio Rodolfo Arau&#769;jo Filho, S/N, Torre 4, Villa&#769;rzea, Recife, PE', '24/04/1927', 'Conjunto da Cosama, 9591, Adriano&#769;polis, Manaus, AM', '25/08/1939', 'Travessa Lauro Sodre&#769; 130, 6674, Centro, Mocajuba', 'Rua Abrolhos, 1624, Santa Mo&#770;nica, Guarapari']\n",
            "[Epoch: 6/10] | Train Loss: 0.017 -- Valid Loss: 0.012 -- Acc: 0.891\n",
            "  Trues: ['19/07/1929', 'Rua Florisvaldo Nunes, 7349, Setor Bahia Sul, Teixeira de Freitas', 'Rua Doutor Ma&#769;rio Rodolfo Arau&#769;jo Filho, S/N, Torre 4, Va&#769;rzea, Recife, PE', '24/04/1927', 'Conjunto da Cosama, 9591, Adriano&#769;polis, Manaus, AM', '20/08/1939', 'Travessa Lauro Sodre&#769; 130, 6674, Centro, Mocajuba']\n",
            "  Preds: ['17/07/1929', 'Rua Florisvaldo Nunes, 7349, Setor Bahia Sul, Teixeira de Freitas', 'Rua Doutor Ma&#769;rio Rodolfo Arau&#769;jo Filho, S/N, Torre 4, Va&#769;rzea, Recife, PE', '24/04/1927', 'Conjunto da Cosama, 9591, Adriano&#769;polis, Manaus, AM', '25/08/1939', 'Travessa Lauro Sodre&#769; 130, 6674, Centro, Mocajuba']\n",
            "[Epoch: 7/10] | Train Loss: 0.014 -- Valid Loss: 0.011 -- Acc: 0.914\n",
            "  Trues: ['24/04/1927', 'Conjunto da Cosama, 9591, Adriano&#769;polis, Manaus, AM', '20/08/1939', 'Travessa Lauro Sodre&#769; 130, 6674, Centro, Mocajuba', 'Rua Abrolhos, 1624, Santa Mo&#770;nica, Guarapari', 'Rua Planaltina, 5401, Marambaia (Manilha), Itaborai&#769;, RJ, 24859380', 'Rua D, S/N, Piranema, Serope&#769;dica, RJ']\n",
            "  Preds: ['24/04/1927', 'Conjunto da Cosama, 9591, Adriano&#769;polis, Manaus, AM', '25/08/1939', 'Travessa Lauro Sodre&#769; 130, 6674, Centro, Mocajuba', 'Rua Abrolhos, 1624, Santa Mo&#770;nica, Guarapari', 'Rua Planaltina, 5401, Marambaia (Manilha), Itaborai&#769;, RJ, 24859380', 'Rua D, S/N, Piranema, Serope&#769;dica, RJ']\n",
            "[Epoch: 8/10] | Train Loss: 0.012 -- Valid Loss: 0.009 -- Acc: 0.927\n",
            "  Trues: ['19/07/1929', 'Rua Florisvaldo Nunes, 7349, Setor Bahia Sul, Teixeira de Freitas', 'Rua Doutor Ma&#769;rio Rodolfo Arau&#769;jo Filho, S/N, Torre 4, Va&#769;rzea, Recife, PE', '24/04/1927', 'Conjunto da Cosama, 9591, Adriano&#769;polis, Manaus, AM', '20/08/1939', 'Travessa Lauro Sodre&#769; 130, 6674, Centro, Mocajuba']\n",
            "  Preds: ['19/07/1929', 'Rua Florisvaldo Nunes, 7349, Setor Bahia Sul, Teixeira de Freitas', 'Rua Doutor Ma&#769;rio Rodolfo Arau&#769;jo Filho, S/N, Torre 4, Vasa&#769;rzea, Recife, PE', '24/04/1927', 'Conjunto da Cosama, 9591, Adriano&#769;polis, Manaus, AM', '20/08/1939', 'Travessa Lauro Sodre&#769; 130, 6674, Centro, Mocajuba']\n",
            "[Epoch: 9/10] | Train Loss: 0.011 -- Valid Loss: 0.009 -- Acc: 0.934\n",
            "  Trues: ['Conjunto da Cosama, 9591, Adriano&#769;polis, Manaus, AM', '20/08/1939', 'Travessa Lauro Sodre&#769; 130, 6674, Centro, Mocajuba', 'Rua Abrolhos, 1624, Santa Mo&#770;nica, Guarapari', 'Rua Planaltina, 5401, Marambaia (Manilha), Itaborai&#769;, RJ, 24859380', 'Rua D, S/N, Piranema, Serope&#769;dica, RJ', '16/02']\n",
            "  Preds: ['Conjunto da Cosama, 9591, Adriano&#769;polis, Manaus, AM', '20/08/1939', 'Travessa Lauro Sodre&#769; 130, 6674, Centro, Mocajuba', 'Rua Abrolhos, 1624, Santa Mo&#770;nica, Guarapari', 'Rua Planaltina, 5401, Marambaia (Manilha), Itaborai&#769;, RJ, 24859380', 'Rua D, S/N, Piranema, Serope&#769;dica, RJ', '16/02']\n",
            "[Epoch: 10/10] | Train Loss: 0.010 -- Valid Loss: 0.009 -- Acc: 0.941\n",
            "  Trues: ['20/08/1939', 'Travessa Lauro Sodre&#769; 130, 6674, Centro, Mocajuba', 'Rua Abrolhos, 1624, Santa Mo&#770;nica, Guarapari', 'Rua Planaltina, 5401, Marambaia (Manilha), Itaborai&#769;, RJ, 24859380', 'Rua D, S/N, Piranema, Serope&#769;dica, RJ', '16/02', 'Rua Pioneiro Benedito de Oliveira Franco, 5173, Jardim Paulista III, Maringa&#769;, PR']\n",
            "  Preds: ['20/08/1939', 'Travessa Lauro Sodre&#769; 130, 6674, Centro, Mocajuba', 'Rua Abrolhos, 1624, Santa Mo&#770;nica, Guarapari', 'Rua Planaltina, 5401, Marambaia (Manilha), Itaborai&#769;, RJ, 24859380', 'Rua D, S/N, Piranema, Serope&#769;dica, RJ', '16/02', 'Rua Pioneiro Benedito de Oliveira Franco, 5173, Jardim Paulista III, Maringa&#769;, PR']\n",
            "Training time: 77.448 min.\n"
          ],
          "name": "stdout"
        }
      ]
    },
    {
      "cell_type": "markdown",
      "metadata": {
        "colab_type": "text",
        "id": "h-YQ8OKPZzd2"
      },
      "source": [
        "# Test"
      ]
    },
    {
      "cell_type": "code",
      "metadata": {
        "colab_type": "code",
        "id": "EaZERxo7Zzd3",
        "colab": {
          "base_uri": "https://localhost:8080/",
          "height": 663
        },
        "outputId": "b42800c2-500e-41a0-e411-cc40b5ea98fa"
      },
      "source": [
        "# ---------------------------------------------------------------------------------\n",
        "start.record()\n",
        "\n",
        "samp = random.randint(0, BATCH_SZ-WINDOW) # to show random trues and preds\n",
        "loss, acc, trues, preds = evaluate_fn(model, device, dataloaders['test'])\n",
        "print(f'Loss: {loss:.3f} -- Acc: {acc:.3f}')\n",
        "print(f' Trues: {trues[samp:samp+WINDOW]}\\n  Preds: {preds[samp:samp+WINDOW]}')\n",
        "\n",
        "end.record()\n",
        "torch.cuda.synchronize()    \n",
        "# ---------------------------------------------------------------------------------\n",
        "\n",
        "print(f'Test time: {start.elapsed_time(end)/1000/60 :.3f} min.')"
      ],
      "execution_count": 354,
      "outputs": [
        {
          "output_type": "error",
          "ename": "KeyError",
          "evalue": "ignored",
          "traceback": [
            "\u001b[0;31m---------------------------------------------------------------------------\u001b[0m",
            "\u001b[0;31mKeyError\u001b[0m                                  Traceback (most recent call last)",
            "\u001b[0;32m<ipython-input-354-3a8fcc70e2d8>\u001b[0m in \u001b[0;36m<module>\u001b[0;34m()\u001b[0m\n\u001b[1;32m      3\u001b[0m \u001b[0;34m\u001b[0m\u001b[0m\n\u001b[1;32m      4\u001b[0m \u001b[0msamp\u001b[0m \u001b[0;34m=\u001b[0m \u001b[0mrandom\u001b[0m\u001b[0;34m.\u001b[0m\u001b[0mrandint\u001b[0m\u001b[0;34m(\u001b[0m\u001b[0;36m0\u001b[0m\u001b[0;34m,\u001b[0m \u001b[0mBATCH_SZ\u001b[0m\u001b[0;34m-\u001b[0m\u001b[0mWINDOW\u001b[0m\u001b[0;34m)\u001b[0m \u001b[0;31m# to show random trues and preds\u001b[0m\u001b[0;34m\u001b[0m\u001b[0;34m\u001b[0m\u001b[0m\n\u001b[0;32m----> 5\u001b[0;31m \u001b[0mloss\u001b[0m\u001b[0;34m,\u001b[0m \u001b[0macc\u001b[0m\u001b[0;34m,\u001b[0m \u001b[0mtrues\u001b[0m\u001b[0;34m,\u001b[0m \u001b[0mpreds\u001b[0m \u001b[0;34m=\u001b[0m \u001b[0mevaluate_fn\u001b[0m\u001b[0;34m(\u001b[0m\u001b[0mmodel\u001b[0m\u001b[0;34m,\u001b[0m \u001b[0mdevice\u001b[0m\u001b[0;34m,\u001b[0m \u001b[0mdataloaders\u001b[0m\u001b[0;34m[\u001b[0m\u001b[0;34m'test'\u001b[0m\u001b[0;34m]\u001b[0m\u001b[0;34m)\u001b[0m\u001b[0;34m\u001b[0m\u001b[0;34m\u001b[0m\u001b[0m\n\u001b[0m\u001b[1;32m      6\u001b[0m \u001b[0mprint\u001b[0m\u001b[0;34m(\u001b[0m\u001b[0;34mf'Loss: {loss:.3f} -- Acc: {acc:.3f}'\u001b[0m\u001b[0;34m)\u001b[0m\u001b[0;34m\u001b[0m\u001b[0;34m\u001b[0m\u001b[0m\n\u001b[1;32m      7\u001b[0m \u001b[0mprint\u001b[0m\u001b[0;34m(\u001b[0m\u001b[0;34mf' Trues: {trues[samp:samp+WINDOW]}\\n  Preds: {preds[samp:samp+WINDOW]}'\u001b[0m\u001b[0;34m)\u001b[0m\u001b[0;34m\u001b[0m\u001b[0;34m\u001b[0m\u001b[0m\n",
            "\u001b[0;32m<ipython-input-351-73f3c6588680>\u001b[0m in \u001b[0;36mevaluate_fn\u001b[0;34m(model, device, val_loader, max_len)\u001b[0m\n\u001b[1;32m     31\u001b[0m     \u001b[0mloss_val\u001b[0m\u001b[0;34m,\u001b[0m \u001b[0mall_acc\u001b[0m\u001b[0;34m,\u001b[0m \u001b[0mall_preds\u001b[0m\u001b[0;34m,\u001b[0m \u001b[0mall_trues\u001b[0m \u001b[0;34m=\u001b[0m \u001b[0;34m[\u001b[0m\u001b[0;34m]\u001b[0m\u001b[0;34m,\u001b[0m \u001b[0;34m[\u001b[0m\u001b[0;34m]\u001b[0m\u001b[0;34m,\u001b[0m \u001b[0;34m[\u001b[0m\u001b[0;34m]\u001b[0m\u001b[0;34m,\u001b[0m \u001b[0;34m[\u001b[0m\u001b[0;34m]\u001b[0m\u001b[0;34m\u001b[0m\u001b[0;34m\u001b[0m\u001b[0m\n\u001b[1;32m     32\u001b[0m     \u001b[0mmodel\u001b[0m\u001b[0;34m.\u001b[0m\u001b[0meval\u001b[0m\u001b[0;34m(\u001b[0m\u001b[0;34m)\u001b[0m\u001b[0;34m\u001b[0m\u001b[0;34m\u001b[0m\u001b[0m\n\u001b[0;32m---> 33\u001b[0;31m     \u001b[0;32mfor\u001b[0m \u001b[0msource_token_ids\u001b[0m\u001b[0;34m,\u001b[0m \u001b[0msource_mask\u001b[0m\u001b[0;34m,\u001b[0m \u001b[0mtarget_token_ids\u001b[0m \u001b[0;32min\u001b[0m \u001b[0mval_loader\u001b[0m\u001b[0;34m:\u001b[0m\u001b[0;34m\u001b[0m\u001b[0;34m\u001b[0m\u001b[0m\n\u001b[0m\u001b[1;32m     34\u001b[0m         predicted_ids = model.generate(\n\u001b[1;32m     35\u001b[0m             \u001b[0msource_token_ids\u001b[0m\u001b[0;34m.\u001b[0m\u001b[0mto\u001b[0m\u001b[0;34m(\u001b[0m\u001b[0mdevice\u001b[0m\u001b[0;34m)\u001b[0m\u001b[0;34m,\u001b[0m\u001b[0;34m\u001b[0m\u001b[0;34m\u001b[0m\u001b[0m\n",
            "\u001b[0;32m/usr/local/lib/python3.6/dist-packages/torch/utils/data/dataloader.py\u001b[0m in \u001b[0;36m__next__\u001b[0;34m(self)\u001b[0m\n\u001b[1;32m    343\u001b[0m \u001b[0;34m\u001b[0m\u001b[0m\n\u001b[1;32m    344\u001b[0m     \u001b[0;32mdef\u001b[0m \u001b[0m__next__\u001b[0m\u001b[0;34m(\u001b[0m\u001b[0mself\u001b[0m\u001b[0;34m)\u001b[0m\u001b[0;34m:\u001b[0m\u001b[0;34m\u001b[0m\u001b[0;34m\u001b[0m\u001b[0m\n\u001b[0;32m--> 345\u001b[0;31m         \u001b[0mdata\u001b[0m \u001b[0;34m=\u001b[0m \u001b[0mself\u001b[0m\u001b[0;34m.\u001b[0m\u001b[0m_next_data\u001b[0m\u001b[0;34m(\u001b[0m\u001b[0;34m)\u001b[0m\u001b[0;34m\u001b[0m\u001b[0;34m\u001b[0m\u001b[0m\n\u001b[0m\u001b[1;32m    346\u001b[0m         \u001b[0mself\u001b[0m\u001b[0;34m.\u001b[0m\u001b[0m_num_yielded\u001b[0m \u001b[0;34m+=\u001b[0m \u001b[0;36m1\u001b[0m\u001b[0;34m\u001b[0m\u001b[0;34m\u001b[0m\u001b[0m\n\u001b[1;32m    347\u001b[0m         \u001b[0;32mif\u001b[0m \u001b[0mself\u001b[0m\u001b[0;34m.\u001b[0m\u001b[0m_dataset_kind\u001b[0m \u001b[0;34m==\u001b[0m \u001b[0m_DatasetKind\u001b[0m\u001b[0;34m.\u001b[0m\u001b[0mIterable\u001b[0m \u001b[0;32mand\u001b[0m\u001b[0;31m \u001b[0m\u001b[0;31m\\\u001b[0m\u001b[0;34m\u001b[0m\u001b[0;34m\u001b[0m\u001b[0m\n",
            "\u001b[0;32m/usr/local/lib/python3.6/dist-packages/torch/utils/data/dataloader.py\u001b[0m in \u001b[0;36m_next_data\u001b[0;34m(self)\u001b[0m\n\u001b[1;32m    854\u001b[0m             \u001b[0;32melse\u001b[0m\u001b[0;34m:\u001b[0m\u001b[0;34m\u001b[0m\u001b[0;34m\u001b[0m\u001b[0m\n\u001b[1;32m    855\u001b[0m                 \u001b[0;32mdel\u001b[0m \u001b[0mself\u001b[0m\u001b[0;34m.\u001b[0m\u001b[0m_task_info\u001b[0m\u001b[0;34m[\u001b[0m\u001b[0midx\u001b[0m\u001b[0;34m]\u001b[0m\u001b[0;34m\u001b[0m\u001b[0;34m\u001b[0m\u001b[0m\n\u001b[0;32m--> 856\u001b[0;31m                 \u001b[0;32mreturn\u001b[0m \u001b[0mself\u001b[0m\u001b[0;34m.\u001b[0m\u001b[0m_process_data\u001b[0m\u001b[0;34m(\u001b[0m\u001b[0mdata\u001b[0m\u001b[0;34m)\u001b[0m\u001b[0;34m\u001b[0m\u001b[0;34m\u001b[0m\u001b[0m\n\u001b[0m\u001b[1;32m    857\u001b[0m \u001b[0;34m\u001b[0m\u001b[0m\n\u001b[1;32m    858\u001b[0m     \u001b[0;32mdef\u001b[0m \u001b[0m_try_put_index\u001b[0m\u001b[0;34m(\u001b[0m\u001b[0mself\u001b[0m\u001b[0;34m)\u001b[0m\u001b[0;34m:\u001b[0m\u001b[0;34m\u001b[0m\u001b[0;34m\u001b[0m\u001b[0m\n",
            "\u001b[0;32m/usr/local/lib/python3.6/dist-packages/torch/utils/data/dataloader.py\u001b[0m in \u001b[0;36m_process_data\u001b[0;34m(self, data)\u001b[0m\n\u001b[1;32m    879\u001b[0m         \u001b[0mself\u001b[0m\u001b[0;34m.\u001b[0m\u001b[0m_try_put_index\u001b[0m\u001b[0;34m(\u001b[0m\u001b[0;34m)\u001b[0m\u001b[0;34m\u001b[0m\u001b[0;34m\u001b[0m\u001b[0m\n\u001b[1;32m    880\u001b[0m         \u001b[0;32mif\u001b[0m \u001b[0misinstance\u001b[0m\u001b[0;34m(\u001b[0m\u001b[0mdata\u001b[0m\u001b[0;34m,\u001b[0m \u001b[0mExceptionWrapper\u001b[0m\u001b[0;34m)\u001b[0m\u001b[0;34m:\u001b[0m\u001b[0;34m\u001b[0m\u001b[0;34m\u001b[0m\u001b[0m\n\u001b[0;32m--> 881\u001b[0;31m             \u001b[0mdata\u001b[0m\u001b[0;34m.\u001b[0m\u001b[0mreraise\u001b[0m\u001b[0;34m(\u001b[0m\u001b[0;34m)\u001b[0m\u001b[0;34m\u001b[0m\u001b[0;34m\u001b[0m\u001b[0m\n\u001b[0m\u001b[1;32m    882\u001b[0m         \u001b[0;32mreturn\u001b[0m \u001b[0mdata\u001b[0m\u001b[0;34m\u001b[0m\u001b[0;34m\u001b[0m\u001b[0m\n\u001b[1;32m    883\u001b[0m \u001b[0;34m\u001b[0m\u001b[0m\n",
            "\u001b[0;32m/usr/local/lib/python3.6/dist-packages/torch/_utils.py\u001b[0m in \u001b[0;36mreraise\u001b[0;34m(self)\u001b[0m\n\u001b[1;32m    393\u001b[0m             \u001b[0;31m# (https://bugs.python.org/issue2651), so we work around it.\u001b[0m\u001b[0;34m\u001b[0m\u001b[0;34m\u001b[0m\u001b[0;34m\u001b[0m\u001b[0m\n\u001b[1;32m    394\u001b[0m             \u001b[0mmsg\u001b[0m \u001b[0;34m=\u001b[0m \u001b[0mKeyErrorMessage\u001b[0m\u001b[0;34m(\u001b[0m\u001b[0mmsg\u001b[0m\u001b[0;34m)\u001b[0m\u001b[0;34m\u001b[0m\u001b[0;34m\u001b[0m\u001b[0m\n\u001b[0;32m--> 395\u001b[0;31m         \u001b[0;32mraise\u001b[0m \u001b[0mself\u001b[0m\u001b[0;34m.\u001b[0m\u001b[0mexc_type\u001b[0m\u001b[0;34m(\u001b[0m\u001b[0mmsg\u001b[0m\u001b[0;34m)\u001b[0m\u001b[0;34m\u001b[0m\u001b[0;34m\u001b[0m\u001b[0m\n\u001b[0m",
            "\u001b[0;31mKeyError\u001b[0m: Caught KeyError in DataLoader worker process 0.\nOriginal Traceback (most recent call last):\n  File \"/usr/local/lib/python3.6/dist-packages/torch/utils/data/_utils/worker.py\", line 178, in _worker_loop\n    data = fetcher.fetch(index)\n  File \"/usr/local/lib/python3.6/dist-packages/torch/utils/data/_utils/fetch.py\", line 44, in fetch\n    data = [self.dataset[idx] for idx in possibly_batched_index]\n  File \"/usr/local/lib/python3.6/dist-packages/torch/utils/data/_utils/fetch.py\", line 44, in <listcomp>\n    data = [self.dataset[idx] for idx in possibly_batched_index]\n  File \"<ipython-input-346-ca75fbf4f27a>\", line 16, in __getitem__\n    prefix = self.prefix[idx]\n  File \"/usr/local/lib/python3.6/dist-packages/pandas/core/series.py\", line 871, in __getitem__\n    result = self.index.get_value(self, key)\n  File \"/usr/local/lib/python3.6/dist-packages/pandas/core/indexes/base.py\", line 4405, in get_value\n    return self._engine.get_value(s, k, tz=getattr(series.dtype, \"tz\", None))\n  File \"pandas/_libs/index.pyx\", line 80, in pandas._libs.index.IndexEngine.get_value\n  File \"pandas/_libs/index.pyx\", line 90, in pandas._libs.index.IndexEngine.get_value\n  File \"pandas/_libs/index.pyx\", line 138, in pandas._libs.index.IndexEngine.get_loc\n  File \"pandas/_libs/hashtable_class_helper.pxi\", line 998, in pandas._libs.hashtable.Int64HashTable.get_item\n  File \"pandas/_libs/hashtable_class_helper.pxi\", line 1005, in pandas._libs.hashtable.Int64HashTable.get_item\nKeyError: 0\n"
          ]
        }
      ]
    },
    {
      "cell_type": "markdown",
      "metadata": {
        "id": "CzVjYAkNGVxJ",
        "colab_type": "text"
      },
      "source": [
        "# Evaluating types for a same address\n",
        "\n",
        "Given a sample address, this section evaluates wich is the accuracy considering all the formats.\n",
        "\n",
        "\n"
      ]
    },
    {
      "cell_type": "code",
      "metadata": {
        "id": "DixMx530hPg5",
        "colab_type": "code",
        "colab": {}
      },
      "source": [
        "def evaluate_for_a_same_address(logradouro,numero,complemento,\n",
        "                bairro,cidade,uf,cep, model=model,tokenizer=TOK,\n",
        "                verbose=True):\n",
        "  '''\n",
        "    Given a specific address, returns the accuracy in all evaluated types.\n",
        "    Also prints results per sample.\n",
        "  '''\n",
        "\n",
        "  results = []\n",
        "  \n",
        "  examples = addresses_gen.generate_demo(logradouro,numero,complemento,\n",
        "                bairro,cidade,uf,cep)\n",
        "\n",
        "\n",
        "  for x,target in zip(examples['Generated Text'],examples['Origin Sample']):\n",
        "\n",
        "    prediction = model.generate_example(x,TOK)[0]\n",
        "\n",
        "    results.append(prediction == target)\n",
        "\n",
        "    if verbose:\n",
        "      print(f'Entrada: {x} -- Target: {target} --- Previsto: {prediction} --- {prediction == target}')\n",
        "\n",
        "  if verbose:\n",
        "    print(f'Total accuracy: {np.mean(results)}')\n",
        "\n",
        "  return np.mean(results)"
      ],
      "execution_count": 355,
      "outputs": []
    },
    {
      "cell_type": "code",
      "metadata": {
        "id": "hlmH30k9iBKC",
        "colab_type": "code",
        "colab": {
          "base_uri": "https://localhost:8080/",
          "height": 445
        },
        "outputId": "a6388365-3809-4c76-e9ba-97eb3d709903"
      },
      "source": [
        "'''\n",
        "  Using our faculty address as a sample\n",
        "  Avenida Albert Einstein, 400, Cidade Universitária, Campinas, SP, 13083852\n",
        "'''\n",
        "evaluate_for_a_same_address('Avenida Albert Einstein', '400', '','Cidade Universitária',\n",
        "                         'Campinas', 'SP', '13083852')"
      ],
      "execution_count": 356,
      "outputs": [
        {
          "output_type": "stream",
          "text": [
            "Entrada: 400, Avenida Albert Einstein, Cidade Universitária, Campinas, SP, 13083852 -- Target: Avenida Albert Einstein, 400, Cidade Universitária, Campinas, SP, 13083852 --- Previsto: Avenida Albert Einstein, 400, Cidade Universitária, Campinas, SP, 13083852 --- True\n",
            "Entrada: Avenida Albert Einstein, 400, Cidade Universitária, Campinas, SP, 13083852 -- Target: Avenida Albert Einstein, 400, Cidade Universitária, Campinas, SP, 13083852 --- Previsto: Avenida Albert Einstein, 400, Cidade Universitária, Campinas, SP, 13083852 --- True\n",
            "Entrada: Altura do 400 na Avenida Albert Einstein no Cidade Universitária de Campinas -- Target: Avenida Albert Einstein, 400, Cidade Universitária, Campinas --- Previsto: Avenida Albert Einstein, 400, Cidade Universitária, Campinas --- True\n",
            "Entrada: Avenida Albert Einstein, 400, Cidade Universitária, Campinas, São Paulo, 13083852 -- Target: Avenida Albert Einstein, 400, Cidade Universitária, Campinas, SP, 13083852 --- Previsto: Avenida Albert Einstein, 400, Cidade Universitária, Campinas, SP, 13083852 --- True\n",
            "Entrada: Avenida Albert Einstein, 400, Cidade Universitária, Campinas, São Paulo -- Target: Avenida Albert Einstein, 400, Cidade Universitária, Campinas, SP --- Previsto: Avenida Albert Einstein, 400, Cidade Universitária, Campinas, SP --- True\n",
            "Entrada: Número 400 da Avenida Albert Einstein no Cidade Universitária de Campinas -- Target: Avenida Albert Einstein, 400, Cidade Universitária, Campinas --- Previsto: Avenida Albert Einstein, 400, Cidade Universitária, Campinas --- True\n",
            "Entrada: SP, Campinas, Cidade Universitária, 400, Avenida Albert Einstein -- Target: Avenida Albert Einstein, 400, Cidade Universitária, Campinas, SP --- Previsto: Avenida Albert Einstein, 400, Cidade Universitária, Campinas, SP --- True\n",
            "Entrada: São Paulo, Campinas, Cidade Universitária, 400, Avenida Albert Einstein -- Target: Avenida Albert Einstein, 400, Cidade Universitária, Campinas, SP --- Previsto: Avenida Albert Einstein, 400, Cidade Universitária, Campinas, SP --- True\n",
            "Entrada: Logradouro: Avenida Albert Einstein, Número: 400, Bairro: Cidade Universitária, Cidade: Campinas, Estado: SP -- Target: Avenida Albert Einstein, 400, Cidade Universitária, Campinas, SP --- Previsto: Avenida Albert Einstein, 400, Cidade Universitária, Campinas, SP --- True\n",
            "Entrada: Avenida Albert Einstein, Sem número, Cidade Universitária, Campinas, SP -- Target: Avenida Albert Einstein, S/N, Cidade Universitária, Campinas, SP --- Previsto: Avenida Albert Einstein, S/N, Cidade Universitária, Campinas, SP --- True\n",
            "Entrada: Avenida Albert Einstein, Cidade Universitária, Campinas, SP -- Target: Avenida Albert Einstein, S/N, Cidade Universitária, Campinas, SP --- Previsto: Avenida Albert Einstein, S/N, Cidade Universitária, Campinas, SP --- True\n",
            "Entrada: 400, Avenida Albert Einstein, Torre 4, Cidade Universitária, Campinas, SP, 13083852 -- Target: Avenida Albert Einstein, 400, Torre 4, Cidade Universitária, Campinas, SP, 13083852 --- Previsto: Avenida Albert Einstein, 400, Torre 4, Cidade Universitária, Campinas, SP, 13083852 --- True\n",
            "Entrada: Avenida Albert Einstein, 400, Loja 48, Cidade Universitária, Campinas, SP, 13083852 -- Target: Avenida Albert Einstein, 400, Loja 48, Cidade Universitária, Campinas, SP, 13083852 --- Previsto: Avenida Albert Einstein, 400, Loja 48, Cidade Universitária, Campinas, SP, 13083852 --- True\n",
            "Entrada: Loja 48 na altura do 400 na Avenida Albert Einstein no Cidade Universitária de Campinas -- Target: Avenida Albert Einstein, 400, Loja 48, Cidade Universitária, Campinas --- Previsto: Avenida Albert Einstein, 400, Loja 48, Cidade Universitária, Campinas --- True\n",
            "Entrada: Avenida Albert Einstein, 400, Torre 4, Cidade Universitária, Campinas, São Paulo, 13083852 -- Target: Avenida Albert Einstein, 400, Torre 4, Cidade Universitária, Campinas, SP, 13083852 --- Previsto: Avenida Albert Einstein, 400, Torre 4, Cidade Universitária, Campinas, SP, 13083852 --- True\n",
            "Entrada: Avenida Albert Einstein, 400, Torre 10 - Sala 3, Cidade Universitária, Campinas, São Paulo -- Target: Avenida Albert Einstein, 400, Torre 10 - Sala 3, Cidade Universitária, Campinas, SP --- Previsto: Avenida Albert Einstein, 400, Torre 10 - Sala 3, Cidade Universitária, Campinas, SP --- True\n",
            "Entrada: Loja 48 número 400 da Avenida Albert Einstein no Cidade Universitária de Campinas -- Target: Avenida Albert Einstein, 400, Loja 48, Cidade Universitária, Campinas --- Previsto: Avenida Albert Einstein, 400, Loja 48, Cidade Universitária, Campinas --- True\n",
            "Entrada: SP, Campinas, Cidade Universitária, Avenida Albert Einstein, 400, Loja 48 -- Target: Avenida Albert Einstein, 400, Loja 48, Cidade Universitária, Campinas, SP --- Previsto: Avenida Albert Einstein, 400, Loja 48, Cidade Universitária, Campinas, SP --- True\n",
            "Entrada: São Paulo, Campinas, Cidade Universitária, Avenida Albert Einstein, 400, Box 81 -- Target: Avenida Albert Einstein, 400, Cidade Universitária, Campinas, SP --- Previsto: Avenida Albert Einstein, 400, Cidade Universitária, Campinas, SP --- True\n",
            "Entrada: Logradouro: Avenida Albert Einstein, Número: 400, Complemento:Bloco 18 - Sala 43, Bairro: Cidade Universitária, Cidade: Campinas, Estado: SP -- Target: Avenida Albert Einstein, 400, Bloco 18 - Sala 43, Cidade Universitária, Campinas, SP --- Previsto: Avenida Albert Einstein, 400, Bloco 18 - Sala 43, Cidade Universitária, Campinas, SP --- True\n",
            "Entrada: Avenida Albert Einstein, Sem número, Torre 3 - Apartamento 142, Cidade Universitária, Campinas, SP -- Target: Avenida Albert Einstein, S/N, Torre 3 - Apartamento 142,Cidade Universitária, Campinas, SP --- Previsto: Avenida Albert Einstein, S/N, Torre 3 - Apartamento 142,Cidade Universitária, Campinas, SP --- True\n",
            "Entrada: Avenida Albert Einstein, Torre 4,Cidade Universitária, Campinas, SP -- Target: Avenida Albert Einstein, S/N, Torre 4, Cidade Universitária, Campinas, SP --- Previsto: Avenida Albert Einstein, S/N, Torre 4, Cidade Universitária, Campinas, SP --- True\n",
            "Total accuracy: 1.0\n"
          ],
          "name": "stdout"
        },
        {
          "output_type": "execute_result",
          "data": {
            "text/plain": [
              "1.0"
            ]
          },
          "metadata": {
            "tags": []
          },
          "execution_count": 356
        }
      ]
    },
    {
      "cell_type": "markdown",
      "metadata": {
        "id": "5bvkIIgMNASY",
        "colab_type": "text"
      },
      "source": [
        "# The End"
      ]
    }
  ]
}